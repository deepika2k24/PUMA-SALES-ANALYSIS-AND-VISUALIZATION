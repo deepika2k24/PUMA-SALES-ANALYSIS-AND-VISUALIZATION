{
  "cells": [
    {
      "cell_type": "markdown",
      "metadata": {
        "id": "cWvrbqPbQyne"
      },
      "source": [
        "# ***PUMA SALES ANALYSIS AND VISUALIZATION***"
      ]
    },
    {
      "cell_type": "markdown",
      "metadata": {
        "id": "xzUhJcEnoopH"
      },
      "source": [
        "Exploratory Data Analysis on Puma Sales Data\n",
        "The exploratory data analysis (EDA) of Puma sales data aims to uncover underlying patterns, trends, and relationships within the dataset to better understand the business’s performance across products, regions, and time. The dataset includes key metrics such as units sold, total sales, operating profit, and geographic details like region, state, and city.\n",
        "\n",
        "The analysis begins by summarizing overall sales and profitability, identifying the best-selling products and most profitable cities. Visualizations such as bar charts and pie charts highlight product and regional sales distribution, while heatmaps reveal detailed performance comparisons across states and products.\n",
        "\n",
        "Temporal trends are examined through line charts to observe how sales and profits evolve monthly or daily, enabling identification of seasonality or growth periods. The relationship between sales and profitability is further explored using scatter plots and regression analysis to determine how volume impacts financial outcomes.\n",
        "\n",
        "Hierarchical data is visualized using treemaps, showcasing sales and profits across different geographic levels, providing actionable insights into which markets drive revenue. Lastly, correlation analysis and scatter matrix plots reveal interdependencies between key numerical metrics, helping to identify factors influencing sales performance.\n",
        "\n",
        "Overall, this EDA provides a comprehensive view of Puma’s sales dynamics, supporting data-driven decision-making for inventory management, marketing strategies, and expansion plans.\n",
        "\n"
      ]
    },
    {
      "cell_type": "markdown",
      "metadata": {
        "id": "rT1EHVuxQ7qk"
      },
      "source": [
        "# ***Step 1: Import Libraries and Set Style***\n",
        "\n"
      ]
    },
    {
      "cell_type": "code",
      "execution_count": 3,
      "metadata": {
        "id": "aolLYNVSxctC"
      },
      "outputs": [],
      "source": [
        "# Step 1: Import essential libraries\n",
        "import matplotlib.pyplot as plt\n",
        "import seaborn as sns\n",
        "import pandas as pd\n",
        "\n",
        "# Set style for all plots\n",
        "sns.set(style=\"whitegrid\")\n",
        "plt.rcParams['figure.figsize'] = (12, 6)\n",
        "\n"
      ]
    },
    {
      "cell_type": "markdown",
      "metadata": {
        "id": "QnRGUyJgim-a"
      },
      "source": [
        "\n",
        "\n",
        "# ***Step 2: Load the Excel File***"
      ]
    },
    {
      "cell_type": "code",
      "execution_count": 4,
      "metadata": {
        "colab": {
          "base_uri": "https://localhost:8080/"
        },
        "id": "nzPZFKPS1qOX",
        "outputId": "19d5601e-7500-4f54-98b3-cd4afb795fd2"
      },
      "outputs": [
        {
          "name": "stdout",
          "output_type": "stream",
          "text": [
            "<class 'pandas.core.frame.DataFrame'>\n",
            "RangeIndex: 9648 entries, 0 to 9647\n",
            "Data columns (total 14 columns):\n",
            " #   Column            Non-Null Count  Dtype         \n",
            "---  ------            --------------  -----         \n",
            " 0   Unnamed: 0        0 non-null      float64       \n",
            " 1   Retailer          9648 non-null   object        \n",
            " 2   Retailer ID       9648 non-null   int64         \n",
            " 3   Invoice Date      9648 non-null   datetime64[ns]\n",
            " 4   Region            9648 non-null   object        \n",
            " 5   State             9648 non-null   object        \n",
            " 6   City              9648 non-null   object        \n",
            " 7   Product           9648 non-null   object        \n",
            " 8   Price per Unit    9648 non-null   float64       \n",
            " 9   Units Sold        9648 non-null   int64         \n",
            " 10  Total Sales       9648 non-null   float64       \n",
            " 11  Operating Profit  9648 non-null   float64       \n",
            " 12  Operating Margin  9648 non-null   float64       \n",
            " 13  Sales Method      9648 non-null   object        \n",
            "dtypes: datetime64[ns](1), float64(5), int64(2), object(6)\n",
            "memory usage: 1.0+ MB\n"
          ]
        }
      ],
      "source": [
        "# Load the uploaded Excel file directly (no ZIP this time)\n",
        "excel_file_path = r\"C:\\Users\\deepl\\Downloads\\Deepika NMIT\\PUMA ANALYSIS AND VISUALIZATION\\Puma-Dashboard-START.xlsx\"\n",
        "\n",
        "# Read the \"Data\" sheet, skipping the top 4 rows to get clean headers\n",
        "df = pd.read_excel(excel_file_path, sheet_name='Data', skiprows=4)\n",
        "\n",
        "# Show data structure\n",
        "df.info()\n"
      ]
    },
    {
      "cell_type": "markdown",
      "metadata": {
        "id": "d0tqxwVTi7UR"
      },
      "source": [
        "***Step 3: Data Cleaning – Handle Missing Values and Data Types***\n",
        "\n",
        " This step ensures the dataset is consistent and ready for accurate analysis."
      ]
    },
    {
      "cell_type": "code",
      "execution_count": 5,
      "metadata": {
        "colab": {
          "base_uri": "https://localhost:8080/",
          "height": 570
        },
        "id": "9DQAga-31zAZ",
        "outputId": "05cbfa83-d756-4ed3-8600-2791a26a62bd"
      },
      "outputs": [
        {
          "name": "stdout",
          "output_type": "stream",
          "text": [
            "📊 Summary Statistics:\n",
            "           Retailer   Retailer ID                   Invoice Date Region  \\\n",
            "count          9648  9.648000e+03                           9648   9648   \n",
            "unique            6           NaN                            NaN      5   \n",
            "top     Foot Locker           NaN                            NaN   West   \n",
            "freq           2637           NaN                            NaN   2448   \n",
            "mean            NaN  1.173850e+06  2021-05-10 15:20:44.776119296    NaN   \n",
            "min             NaN  1.128299e+06            2020-01-01 00:00:00    NaN   \n",
            "25%             NaN  1.185732e+06            2021-02-17 00:00:00    NaN   \n",
            "50%             NaN  1.185732e+06            2021-06-04 00:00:00    NaN   \n",
            "75%             NaN  1.185732e+06            2021-09-16 00:00:00    NaN   \n",
            "max             NaN  1.197831e+06            2021-12-31 00:00:00    NaN   \n",
            "std             NaN  2.636038e+04                            NaN    NaN   \n",
            "\n",
            "        State      City                Product  Price per Unit   Units Sold  \\\n",
            "count    9648      9648                   9648     9648.000000  9648.000000   \n",
            "unique     50        52                      6             NaN          NaN   \n",
            "top     Texas  Portland  Men's Street Footwear             NaN          NaN   \n",
            "freq      432       360                   1610             NaN          NaN   \n",
            "mean      NaN       NaN                    NaN       45.216625   256.930037   \n",
            "min       NaN       NaN                    NaN        7.000000     0.000000   \n",
            "25%       NaN       NaN                    NaN       35.000000   106.000000   \n",
            "50%       NaN       NaN                    NaN       45.000000   176.000000   \n",
            "75%       NaN       NaN                    NaN       55.000000   350.000000   \n",
            "max       NaN       NaN                    NaN      110.000000  1275.000000   \n",
            "std       NaN       NaN                    NaN       14.705397   214.252030   \n",
            "\n",
            "          Total Sales  Operating Profit  Operating Margin Sales Method  \n",
            "count     9648.000000       9648.000000       9648.000000         9648  \n",
            "unique            NaN               NaN               NaN            3  \n",
            "top               NaN               NaN               NaN       Online  \n",
            "freq              NaN               NaN               NaN         4889  \n",
            "mean     93273.437500      34425.244761          0.422991          NaN  \n",
            "min          0.000000          0.000000          0.100000          NaN  \n",
            "25%       4254.500000       1921.752500          0.350000          NaN  \n",
            "50%       9576.000000       4371.420000          0.410000          NaN  \n",
            "75%     150000.000000      52062.500000          0.490000          NaN  \n",
            "max     825000.000000     390000.000000          0.800000          NaN  \n",
            "std     141916.016727      54193.113713          0.097197          NaN  \n"
          ]
        }
      ],
      "source": [
        "\n",
        "# Step 1: Load your Excel file\n",
        "excel_file_path = r\"C:\\Users\\deepl\\Downloads\\Deepika NMIT\\PUMA ANALYSIS AND VISUALIZATION\\Puma-Dashboard-START.xlsx\"\n",
        "df = pd.read_excel(excel_file_path, sheet_name='Data', skiprows=4)\n",
        "\n",
        "# Step 2: Drop unnamed columns if they exist\n",
        "df = df.loc[:, ~df.columns.str.contains('^Unnamed')]\n",
        "\n",
        "# Step 3: Basic statistical summary of the dataset\n",
        "summary_stats = df.describe(include='all')\n",
        "\n",
        "# Step 4: Display summary\n",
        "print(\"📊 Summary Statistics:\")\n",
        "print(summary_stats)\n"
      ]
    },
    {
      "cell_type": "markdown",
      "metadata": {
        "id": "xe4pcZskjNx_"
      },
      "source": [
        "# ***Step 4: Feature Engineering (Create New Derived Columns)***\n",
        "\n",
        "This step extracts additional information to enable richer insights. For this dataset, the Invoice Date is key for time-based analysis."
      ]
    },
    {
      "cell_type": "code",
      "execution_count": 6,
      "metadata": {
        "colab": {
          "base_uri": "https://localhost:8080/",
          "height": 417
        },
        "id": "vIHoLWeG146g",
        "outputId": "46d7dcc4-a804-466c-b899-5a74883d8ba9"
      },
      "outputs": [
        {
          "data": {
            "text/html": [
              "<div>\n",
              "<style scoped>\n",
              "    .dataframe tbody tr th:only-of-type {\n",
              "        vertical-align: middle;\n",
              "    }\n",
              "\n",
              "    .dataframe tbody tr th {\n",
              "        vertical-align: top;\n",
              "    }\n",
              "\n",
              "    .dataframe thead th {\n",
              "        text-align: right;\n",
              "    }\n",
              "</style>\n",
              "<table border=\"1\" class=\"dataframe\">\n",
              "  <thead>\n",
              "    <tr style=\"text-align: right;\">\n",
              "      <th></th>\n",
              "      <th>Retailer</th>\n",
              "      <th>Retailer ID</th>\n",
              "      <th>Invoice Date</th>\n",
              "      <th>Region</th>\n",
              "      <th>State</th>\n",
              "      <th>City</th>\n",
              "      <th>Product</th>\n",
              "      <th>Price per Unit</th>\n",
              "      <th>Units Sold</th>\n",
              "      <th>Total Sales</th>\n",
              "      <th>Operating Profit</th>\n",
              "      <th>Operating Margin</th>\n",
              "      <th>Sales Method</th>\n",
              "    </tr>\n",
              "  </thead>\n",
              "  <tbody>\n",
              "    <tr>\n",
              "      <th>0</th>\n",
              "      <td>Foot Locker</td>\n",
              "      <td>1185732</td>\n",
              "      <td>2020-01-01</td>\n",
              "      <td>Northeast</td>\n",
              "      <td>New York</td>\n",
              "      <td>New York</td>\n",
              "      <td>Men's Street Footwear</td>\n",
              "      <td>50.0</td>\n",
              "      <td>1200</td>\n",
              "      <td>600000.0</td>\n",
              "      <td>300000.0</td>\n",
              "      <td>0.50</td>\n",
              "      <td>In-store</td>\n",
              "    </tr>\n",
              "    <tr>\n",
              "      <th>1</th>\n",
              "      <td>Foot Locker</td>\n",
              "      <td>1185732</td>\n",
              "      <td>2020-01-02</td>\n",
              "      <td>Northeast</td>\n",
              "      <td>New York</td>\n",
              "      <td>New York</td>\n",
              "      <td>Men's Athletic Footwear</td>\n",
              "      <td>50.0</td>\n",
              "      <td>1000</td>\n",
              "      <td>500000.0</td>\n",
              "      <td>150000.0</td>\n",
              "      <td>0.30</td>\n",
              "      <td>In-store</td>\n",
              "    </tr>\n",
              "    <tr>\n",
              "      <th>2</th>\n",
              "      <td>Foot Locker</td>\n",
              "      <td>1185732</td>\n",
              "      <td>2020-01-03</td>\n",
              "      <td>Northeast</td>\n",
              "      <td>New York</td>\n",
              "      <td>New York</td>\n",
              "      <td>Women's Street Footwear</td>\n",
              "      <td>40.0</td>\n",
              "      <td>1000</td>\n",
              "      <td>400000.0</td>\n",
              "      <td>140000.0</td>\n",
              "      <td>0.35</td>\n",
              "      <td>In-store</td>\n",
              "    </tr>\n",
              "    <tr>\n",
              "      <th>3</th>\n",
              "      <td>Foot Locker</td>\n",
              "      <td>1185732</td>\n",
              "      <td>2020-01-04</td>\n",
              "      <td>Northeast</td>\n",
              "      <td>New York</td>\n",
              "      <td>New York</td>\n",
              "      <td>Women's Athletic Footwear</td>\n",
              "      <td>45.0</td>\n",
              "      <td>850</td>\n",
              "      <td>382500.0</td>\n",
              "      <td>133875.0</td>\n",
              "      <td>0.35</td>\n",
              "      <td>In-store</td>\n",
              "    </tr>\n",
              "    <tr>\n",
              "      <th>4</th>\n",
              "      <td>Foot Locker</td>\n",
              "      <td>1185732</td>\n",
              "      <td>2020-01-05</td>\n",
              "      <td>Northeast</td>\n",
              "      <td>New York</td>\n",
              "      <td>New York</td>\n",
              "      <td>Men's Apparel</td>\n",
              "      <td>60.0</td>\n",
              "      <td>900</td>\n",
              "      <td>540000.0</td>\n",
              "      <td>162000.0</td>\n",
              "      <td>0.30</td>\n",
              "      <td>In-store</td>\n",
              "    </tr>\n",
              "  </tbody>\n",
              "</table>\n",
              "</div>"
            ],
            "text/plain": [
              "      Retailer  Retailer ID Invoice Date     Region     State      City  \\\n",
              "0  Foot Locker      1185732   2020-01-01  Northeast  New York  New York   \n",
              "1  Foot Locker      1185732   2020-01-02  Northeast  New York  New York   \n",
              "2  Foot Locker      1185732   2020-01-03  Northeast  New York  New York   \n",
              "3  Foot Locker      1185732   2020-01-04  Northeast  New York  New York   \n",
              "4  Foot Locker      1185732   2020-01-05  Northeast  New York  New York   \n",
              "\n",
              "                     Product  Price per Unit  Units Sold  Total Sales  \\\n",
              "0      Men's Street Footwear            50.0        1200     600000.0   \n",
              "1    Men's Athletic Footwear            50.0        1000     500000.0   \n",
              "2    Women's Street Footwear            40.0        1000     400000.0   \n",
              "3  Women's Athletic Footwear            45.0         850     382500.0   \n",
              "4              Men's Apparel            60.0         900     540000.0   \n",
              "\n",
              "   Operating Profit  Operating Margin Sales Method  \n",
              "0          300000.0              0.50     In-store  \n",
              "1          150000.0              0.30     In-store  \n",
              "2          140000.0              0.35     In-store  \n",
              "3          133875.0              0.35     In-store  \n",
              "4          162000.0              0.30     In-store  "
            ]
          },
          "execution_count": 6,
          "metadata": {},
          "output_type": "execute_result"
        }
      ],
      "source": [
        "import pandas as pd\n",
        "\n",
        "# Upload the Excel file first using the Colab file upload option\n",
        "df = pd.read_excel(\"Puma-Dashboard-START.xlsx\", sheet_name='Data', skiprows=4)\n",
        "\n",
        "# Drop the unwanted column with NaN values\n",
        "df.drop(columns=['Unnamed: 0'], inplace=True)\n",
        "\n",
        "# View the first few rows\n",
        "df.head()\n"
      ]
    },
    {
      "cell_type": "markdown",
      "metadata": {
        "id": "NcVjHC8sjR3O"
      },
      "source": [
        "# ***Step 5: Univariate and Bivariate Analysis***\n",
        "In this step, we analyze individual variables (univariate) and the relationship between two variables (bivariate). This gives us insights into distribution, central tendency, spread, and relationships between features such as sales, profit, region, and product."
      ]
    },
    {
      "cell_type": "code",
      "execution_count": 7,
      "metadata": {
        "colab": {
          "base_uri": "https://localhost:8080/",
          "height": 682
        },
        "id": "uXYIgCeH2Bh-",
        "outputId": "3eabf8ef-a354-4d7d-fc78-40759967369a"
      },
      "outputs": [
        {
          "name": "stdout",
          "output_type": "stream",
          "text": [
            "<class 'pandas.core.frame.DataFrame'>\n",
            "RangeIndex: 9648 entries, 0 to 9647\n",
            "Data columns (total 13 columns):\n",
            " #   Column            Non-Null Count  Dtype         \n",
            "---  ------            --------------  -----         \n",
            " 0   Retailer          9648 non-null   object        \n",
            " 1   Retailer ID       9648 non-null   int64         \n",
            " 2   Invoice Date      9648 non-null   datetime64[ns]\n",
            " 3   Region            9648 non-null   object        \n",
            " 4   State             9648 non-null   object        \n",
            " 5   City              9648 non-null   object        \n",
            " 6   Product           9648 non-null   object        \n",
            " 7   Price per Unit    9648 non-null   float64       \n",
            " 8   Units Sold        9648 non-null   int64         \n",
            " 9   Total Sales       9648 non-null   float64       \n",
            " 10  Operating Profit  9648 non-null   float64       \n",
            " 11  Operating Margin  9648 non-null   float64       \n",
            " 12  Sales Method      9648 non-null   object        \n",
            "dtypes: datetime64[ns](1), float64(4), int64(2), object(6)\n",
            "memory usage: 980.0+ KB\n"
          ]
        },
        {
          "data": {
            "text/html": [
              "<div>\n",
              "<style scoped>\n",
              "    .dataframe tbody tr th:only-of-type {\n",
              "        vertical-align: middle;\n",
              "    }\n",
              "\n",
              "    .dataframe tbody tr th {\n",
              "        vertical-align: top;\n",
              "    }\n",
              "\n",
              "    .dataframe thead th {\n",
              "        text-align: right;\n",
              "    }\n",
              "</style>\n",
              "<table border=\"1\" class=\"dataframe\">\n",
              "  <thead>\n",
              "    <tr style=\"text-align: right;\">\n",
              "      <th></th>\n",
              "      <th>Retailer ID</th>\n",
              "      <th>Invoice Date</th>\n",
              "      <th>Price per Unit</th>\n",
              "      <th>Units Sold</th>\n",
              "      <th>Total Sales</th>\n",
              "      <th>Operating Profit</th>\n",
              "      <th>Operating Margin</th>\n",
              "    </tr>\n",
              "  </thead>\n",
              "  <tbody>\n",
              "    <tr>\n",
              "      <th>count</th>\n",
              "      <td>9.648000e+03</td>\n",
              "      <td>9648</td>\n",
              "      <td>9648.000000</td>\n",
              "      <td>9648.000000</td>\n",
              "      <td>9648.000000</td>\n",
              "      <td>9648.000000</td>\n",
              "      <td>9648.000000</td>\n",
              "    </tr>\n",
              "    <tr>\n",
              "      <th>mean</th>\n",
              "      <td>1.173850e+06</td>\n",
              "      <td>2021-05-10 15:20:44.776119296</td>\n",
              "      <td>45.216625</td>\n",
              "      <td>256.930037</td>\n",
              "      <td>93273.437500</td>\n",
              "      <td>34425.244761</td>\n",
              "      <td>0.422991</td>\n",
              "    </tr>\n",
              "    <tr>\n",
              "      <th>min</th>\n",
              "      <td>1.128299e+06</td>\n",
              "      <td>2020-01-01 00:00:00</td>\n",
              "      <td>7.000000</td>\n",
              "      <td>0.000000</td>\n",
              "      <td>0.000000</td>\n",
              "      <td>0.000000</td>\n",
              "      <td>0.100000</td>\n",
              "    </tr>\n",
              "    <tr>\n",
              "      <th>25%</th>\n",
              "      <td>1.185732e+06</td>\n",
              "      <td>2021-02-17 00:00:00</td>\n",
              "      <td>35.000000</td>\n",
              "      <td>106.000000</td>\n",
              "      <td>4254.500000</td>\n",
              "      <td>1921.752500</td>\n",
              "      <td>0.350000</td>\n",
              "    </tr>\n",
              "    <tr>\n",
              "      <th>50%</th>\n",
              "      <td>1.185732e+06</td>\n",
              "      <td>2021-06-04 00:00:00</td>\n",
              "      <td>45.000000</td>\n",
              "      <td>176.000000</td>\n",
              "      <td>9576.000000</td>\n",
              "      <td>4371.420000</td>\n",
              "      <td>0.410000</td>\n",
              "    </tr>\n",
              "    <tr>\n",
              "      <th>75%</th>\n",
              "      <td>1.185732e+06</td>\n",
              "      <td>2021-09-16 00:00:00</td>\n",
              "      <td>55.000000</td>\n",
              "      <td>350.000000</td>\n",
              "      <td>150000.000000</td>\n",
              "      <td>52062.500000</td>\n",
              "      <td>0.490000</td>\n",
              "    </tr>\n",
              "    <tr>\n",
              "      <th>max</th>\n",
              "      <td>1.197831e+06</td>\n",
              "      <td>2021-12-31 00:00:00</td>\n",
              "      <td>110.000000</td>\n",
              "      <td>1275.000000</td>\n",
              "      <td>825000.000000</td>\n",
              "      <td>390000.000000</td>\n",
              "      <td>0.800000</td>\n",
              "    </tr>\n",
              "    <tr>\n",
              "      <th>std</th>\n",
              "      <td>2.636038e+04</td>\n",
              "      <td>NaN</td>\n",
              "      <td>14.705397</td>\n",
              "      <td>214.252030</td>\n",
              "      <td>141916.016727</td>\n",
              "      <td>54193.113713</td>\n",
              "      <td>0.097197</td>\n",
              "    </tr>\n",
              "  </tbody>\n",
              "</table>\n",
              "</div>"
            ],
            "text/plain": [
              "        Retailer ID                   Invoice Date  Price per Unit  \\\n",
              "count  9.648000e+03                           9648     9648.000000   \n",
              "mean   1.173850e+06  2021-05-10 15:20:44.776119296       45.216625   \n",
              "min    1.128299e+06            2020-01-01 00:00:00        7.000000   \n",
              "25%    1.185732e+06            2021-02-17 00:00:00       35.000000   \n",
              "50%    1.185732e+06            2021-06-04 00:00:00       45.000000   \n",
              "75%    1.185732e+06            2021-09-16 00:00:00       55.000000   \n",
              "max    1.197831e+06            2021-12-31 00:00:00      110.000000   \n",
              "std    2.636038e+04                            NaN       14.705397   \n",
              "\n",
              "        Units Sold    Total Sales  Operating Profit  Operating Margin  \n",
              "count  9648.000000    9648.000000       9648.000000       9648.000000  \n",
              "mean    256.930037   93273.437500      34425.244761          0.422991  \n",
              "min       0.000000       0.000000          0.000000          0.100000  \n",
              "25%     106.000000    4254.500000       1921.752500          0.350000  \n",
              "50%     176.000000    9576.000000       4371.420000          0.410000  \n",
              "75%     350.000000  150000.000000      52062.500000          0.490000  \n",
              "max    1275.000000  825000.000000     390000.000000          0.800000  \n",
              "std     214.252030  141916.016727      54193.113713          0.097197  "
            ]
          },
          "execution_count": 7,
          "metadata": {},
          "output_type": "execute_result"
        }
      ],
      "source": [
        "# Get basic info about the dataset\n",
        "df.info()\n",
        "\n",
        "# Get statistical overview of numerical columns\n",
        "df.describe()\n"
      ]
    },
    {
      "cell_type": "markdown",
      "metadata": {
        "id": "pBZpAwudjuWC"
      },
      "source": [
        "# ***Step 6: Handle Missing Values (Data Cleaning)***\n",
        "Now that you've checked for missing values, the next step is to handle them properly to ensure your analysis and visualizations are accurate and reliable."
      ]
    },
    {
      "cell_type": "code",
      "execution_count": 8,
      "metadata": {
        "colab": {
          "base_uri": "https://localhost:8080/",
          "height": 84
        },
        "id": "wbcWaQnR2DLC",
        "outputId": "3fb12582-aadc-44ab-96b9-98b0b2fa786f"
      },
      "outputs": [
        {
          "data": {
            "text/plain": [
              "Series([], dtype: int64)"
            ]
          },
          "execution_count": 8,
          "metadata": {},
          "output_type": "execute_result"
        }
      ],
      "source": [
        "# Check for missing values\n",
        "missing_data = df.isnull().sum()\n",
        "\n",
        "# Show only columns with missing values\n",
        "missing_data[missing_data > 0]\n"
      ]
    },
    {
      "cell_type": "code",
      "execution_count": 9,
      "metadata": {
        "colab": {
          "base_uri": "https://localhost:8080/",
          "height": 491
        },
        "id": "v3gHGgzK2Nm4",
        "outputId": "c5583199-5c82-4502-9490-ff80c735aeb2"
      },
      "outputs": [
        {
          "data": {
            "text/plain": [
              "Retailer            0\n",
              "Retailer ID         0\n",
              "Invoice Date        0\n",
              "Region              0\n",
              "State               0\n",
              "City                0\n",
              "Product             0\n",
              "Price per Unit      0\n",
              "Units Sold          0\n",
              "Total Sales         0\n",
              "Operating Profit    0\n",
              "Operating Margin    0\n",
              "Sales Method        0\n",
              "dtype: int64"
            ]
          },
          "execution_count": 9,
          "metadata": {},
          "output_type": "execute_result"
        }
      ],
      "source": [
        "# Example: Drop rows with missing values\n",
        "df_cleaned = df.dropna()\n",
        "\n",
        "# Or fill missing numeric values with 0 (not always recommended)\n",
        "# df['Operating Profit'].fillna(0, inplace=True)\n",
        "\n",
        "# Check again\n",
        "df_cleaned.isnull().sum()\n"
      ]
    },
    {
      "cell_type": "markdown",
      "metadata": {
        "id": "zs1iCs0VRWgp"
      },
      "source": [
        "# ***HORIZANTAL BAR GRAPH***\n",
        "This code generates a horizontal bar chart using Plotly Express to visualize the top 10 best-selling products based on the total units sold. The data is first grouped by product, summing up the units sold for each, then sorted to select the top 10 products with the highest sales. The chart displays product names along the vertical axis and the corresponding units sold along the horizontal axis. The bars are colored using a red gradient, where deeper reds indicate higher sales volumes, adding a visual emphasis on the best-performing products. The y-axis is reversed so that the product with the highest sales appears at the top, making it easier to identify the leading products at a glance. Interactive hover tooltips provide detailed sales numbers formatted with commas for readability. Overall, this graph effectively highlights the most popular products in a visually appealing and easy-to-interpret way.\n",
        "\n",
        "\n",
        "\n",
        "\n",
        "\n",
        "\n"
      ]
    },
    {
      "cell_type": "code",
      "execution_count": 10,
      "metadata": {
        "colab": {
          "base_uri": "https://localhost:8080/",
          "height": 517
        },
        "id": "TM3Q337H2dUM",
        "outputId": "c6eca6d3-41eb-43d6-8bf5-2f62cd63aefd"
      },
      "outputs": [
        {
          "data": {
            "application/vnd.plotly.v1+json": {
              "config": {
                "plotlyServerURL": "https://plot.ly"
              },
              "data": [
                {
                  "hovertemplate": "Operating Profit=%{marker.color:,.2f}<br>City=%{y}<extra></extra>",
                  "legendgroup": "",
                  "marker": {
                    "color": {
                      "bdata": "uR6Fw7LEbUFSuB6lGINqQbkehWO1NWdBPQrX60uGZEEfhesx749jQR+F66Eyx2JBPgrX2+CbYkFSuB5da/xhQXsUri9C9mFBSOF6rJdyYUE=",
                      "dtype": "f8"
                    },
                    "coloraxis": "coloraxis",
                    "pattern": {
                      "shape": ""
                    }
                  },
                  "name": "",
                  "orientation": "h",
                  "showlegend": false,
                  "textposition": "auto",
                  "type": "bar",
                  "x": {
                    "bdata": "uR6Fw7LEbUFSuB6lGINqQbkehWO1NWdBPQrX60uGZEEfhesx749jQR+F66Eyx2JBPgrX2+CbYkFSuB5da/xhQXsUri9C9mFBSOF6rJdyYUE=",
                    "dtype": "f8"
                  },
                  "xaxis": "x",
                  "y": [
                    "Charleston",
                    "New York",
                    "Miami",
                    "Portland",
                    "San Francisco",
                    "Houston",
                    "Charlotte",
                    "Albany",
                    "New Orleans",
                    "Birmingham"
                  ],
                  "yaxis": "y"
                }
              ],
              "layout": {
                "barmode": "relative",
                "coloraxis": {
                  "colorbar": {
                    "title": {
                      "text": "Operating Profit"
                    }
                  },
                  "colorscale": [
                    [
                      0,
                      "#440154"
                    ],
                    [
                      0.1111111111111111,
                      "#482878"
                    ],
                    [
                      0.2222222222222222,
                      "#3e4989"
                    ],
                    [
                      0.3333333333333333,
                      "#31688e"
                    ],
                    [
                      0.4444444444444444,
                      "#26828e"
                    ],
                    [
                      0.5555555555555556,
                      "#1f9e89"
                    ],
                    [
                      0.6666666666666666,
                      "#35b779"
                    ],
                    [
                      0.7777777777777778,
                      "#6ece58"
                    ],
                    [
                      0.8888888888888888,
                      "#b5de2b"
                    ],
                    [
                      1,
                      "#fde725"
                    ]
                  ]
                },
                "height": 500,
                "legend": {
                  "tracegroupgap": 0
                },
                "template": {
                  "data": {
                    "bar": [
                      {
                        "error_x": {
                          "color": "#2a3f5f"
                        },
                        "error_y": {
                          "color": "#2a3f5f"
                        },
                        "marker": {
                          "line": {
                            "color": "#E5ECF6",
                            "width": 0.5
                          },
                          "pattern": {
                            "fillmode": "overlay",
                            "size": 10,
                            "solidity": 0.2
                          }
                        },
                        "type": "bar"
                      }
                    ],
                    "barpolar": [
                      {
                        "marker": {
                          "line": {
                            "color": "#E5ECF6",
                            "width": 0.5
                          },
                          "pattern": {
                            "fillmode": "overlay",
                            "size": 10,
                            "solidity": 0.2
                          }
                        },
                        "type": "barpolar"
                      }
                    ],
                    "carpet": [
                      {
                        "aaxis": {
                          "endlinecolor": "#2a3f5f",
                          "gridcolor": "white",
                          "linecolor": "white",
                          "minorgridcolor": "white",
                          "startlinecolor": "#2a3f5f"
                        },
                        "baxis": {
                          "endlinecolor": "#2a3f5f",
                          "gridcolor": "white",
                          "linecolor": "white",
                          "minorgridcolor": "white",
                          "startlinecolor": "#2a3f5f"
                        },
                        "type": "carpet"
                      }
                    ],
                    "choropleth": [
                      {
                        "colorbar": {
                          "outlinewidth": 0,
                          "ticks": ""
                        },
                        "type": "choropleth"
                      }
                    ],
                    "contour": [
                      {
                        "colorbar": {
                          "outlinewidth": 0,
                          "ticks": ""
                        },
                        "colorscale": [
                          [
                            0,
                            "#0d0887"
                          ],
                          [
                            0.1111111111111111,
                            "#46039f"
                          ],
                          [
                            0.2222222222222222,
                            "#7201a8"
                          ],
                          [
                            0.3333333333333333,
                            "#9c179e"
                          ],
                          [
                            0.4444444444444444,
                            "#bd3786"
                          ],
                          [
                            0.5555555555555556,
                            "#d8576b"
                          ],
                          [
                            0.6666666666666666,
                            "#ed7953"
                          ],
                          [
                            0.7777777777777778,
                            "#fb9f3a"
                          ],
                          [
                            0.8888888888888888,
                            "#fdca26"
                          ],
                          [
                            1,
                            "#f0f921"
                          ]
                        ],
                        "type": "contour"
                      }
                    ],
                    "contourcarpet": [
                      {
                        "colorbar": {
                          "outlinewidth": 0,
                          "ticks": ""
                        },
                        "type": "contourcarpet"
                      }
                    ],
                    "heatmap": [
                      {
                        "colorbar": {
                          "outlinewidth": 0,
                          "ticks": ""
                        },
                        "colorscale": [
                          [
                            0,
                            "#0d0887"
                          ],
                          [
                            0.1111111111111111,
                            "#46039f"
                          ],
                          [
                            0.2222222222222222,
                            "#7201a8"
                          ],
                          [
                            0.3333333333333333,
                            "#9c179e"
                          ],
                          [
                            0.4444444444444444,
                            "#bd3786"
                          ],
                          [
                            0.5555555555555556,
                            "#d8576b"
                          ],
                          [
                            0.6666666666666666,
                            "#ed7953"
                          ],
                          [
                            0.7777777777777778,
                            "#fb9f3a"
                          ],
                          [
                            0.8888888888888888,
                            "#fdca26"
                          ],
                          [
                            1,
                            "#f0f921"
                          ]
                        ],
                        "type": "heatmap"
                      }
                    ],
                    "histogram": [
                      {
                        "marker": {
                          "pattern": {
                            "fillmode": "overlay",
                            "size": 10,
                            "solidity": 0.2
                          }
                        },
                        "type": "histogram"
                      }
                    ],
                    "histogram2d": [
                      {
                        "colorbar": {
                          "outlinewidth": 0,
                          "ticks": ""
                        },
                        "colorscale": [
                          [
                            0,
                            "#0d0887"
                          ],
                          [
                            0.1111111111111111,
                            "#46039f"
                          ],
                          [
                            0.2222222222222222,
                            "#7201a8"
                          ],
                          [
                            0.3333333333333333,
                            "#9c179e"
                          ],
                          [
                            0.4444444444444444,
                            "#bd3786"
                          ],
                          [
                            0.5555555555555556,
                            "#d8576b"
                          ],
                          [
                            0.6666666666666666,
                            "#ed7953"
                          ],
                          [
                            0.7777777777777778,
                            "#fb9f3a"
                          ],
                          [
                            0.8888888888888888,
                            "#fdca26"
                          ],
                          [
                            1,
                            "#f0f921"
                          ]
                        ],
                        "type": "histogram2d"
                      }
                    ],
                    "histogram2dcontour": [
                      {
                        "colorbar": {
                          "outlinewidth": 0,
                          "ticks": ""
                        },
                        "colorscale": [
                          [
                            0,
                            "#0d0887"
                          ],
                          [
                            0.1111111111111111,
                            "#46039f"
                          ],
                          [
                            0.2222222222222222,
                            "#7201a8"
                          ],
                          [
                            0.3333333333333333,
                            "#9c179e"
                          ],
                          [
                            0.4444444444444444,
                            "#bd3786"
                          ],
                          [
                            0.5555555555555556,
                            "#d8576b"
                          ],
                          [
                            0.6666666666666666,
                            "#ed7953"
                          ],
                          [
                            0.7777777777777778,
                            "#fb9f3a"
                          ],
                          [
                            0.8888888888888888,
                            "#fdca26"
                          ],
                          [
                            1,
                            "#f0f921"
                          ]
                        ],
                        "type": "histogram2dcontour"
                      }
                    ],
                    "mesh3d": [
                      {
                        "colorbar": {
                          "outlinewidth": 0,
                          "ticks": ""
                        },
                        "type": "mesh3d"
                      }
                    ],
                    "parcoords": [
                      {
                        "line": {
                          "colorbar": {
                            "outlinewidth": 0,
                            "ticks": ""
                          }
                        },
                        "type": "parcoords"
                      }
                    ],
                    "pie": [
                      {
                        "automargin": true,
                        "type": "pie"
                      }
                    ],
                    "scatter": [
                      {
                        "fillpattern": {
                          "fillmode": "overlay",
                          "size": 10,
                          "solidity": 0.2
                        },
                        "type": "scatter"
                      }
                    ],
                    "scatter3d": [
                      {
                        "line": {
                          "colorbar": {
                            "outlinewidth": 0,
                            "ticks": ""
                          }
                        },
                        "marker": {
                          "colorbar": {
                            "outlinewidth": 0,
                            "ticks": ""
                          }
                        },
                        "type": "scatter3d"
                      }
                    ],
                    "scattercarpet": [
                      {
                        "marker": {
                          "colorbar": {
                            "outlinewidth": 0,
                            "ticks": ""
                          }
                        },
                        "type": "scattercarpet"
                      }
                    ],
                    "scattergeo": [
                      {
                        "marker": {
                          "colorbar": {
                            "outlinewidth": 0,
                            "ticks": ""
                          }
                        },
                        "type": "scattergeo"
                      }
                    ],
                    "scattergl": [
                      {
                        "marker": {
                          "colorbar": {
                            "outlinewidth": 0,
                            "ticks": ""
                          }
                        },
                        "type": "scattergl"
                      }
                    ],
                    "scattermap": [
                      {
                        "marker": {
                          "colorbar": {
                            "outlinewidth": 0,
                            "ticks": ""
                          }
                        },
                        "type": "scattermap"
                      }
                    ],
                    "scattermapbox": [
                      {
                        "marker": {
                          "colorbar": {
                            "outlinewidth": 0,
                            "ticks": ""
                          }
                        },
                        "type": "scattermapbox"
                      }
                    ],
                    "scatterpolar": [
                      {
                        "marker": {
                          "colorbar": {
                            "outlinewidth": 0,
                            "ticks": ""
                          }
                        },
                        "type": "scatterpolar"
                      }
                    ],
                    "scatterpolargl": [
                      {
                        "marker": {
                          "colorbar": {
                            "outlinewidth": 0,
                            "ticks": ""
                          }
                        },
                        "type": "scatterpolargl"
                      }
                    ],
                    "scatterternary": [
                      {
                        "marker": {
                          "colorbar": {
                            "outlinewidth": 0,
                            "ticks": ""
                          }
                        },
                        "type": "scatterternary"
                      }
                    ],
                    "surface": [
                      {
                        "colorbar": {
                          "outlinewidth": 0,
                          "ticks": ""
                        },
                        "colorscale": [
                          [
                            0,
                            "#0d0887"
                          ],
                          [
                            0.1111111111111111,
                            "#46039f"
                          ],
                          [
                            0.2222222222222222,
                            "#7201a8"
                          ],
                          [
                            0.3333333333333333,
                            "#9c179e"
                          ],
                          [
                            0.4444444444444444,
                            "#bd3786"
                          ],
                          [
                            0.5555555555555556,
                            "#d8576b"
                          ],
                          [
                            0.6666666666666666,
                            "#ed7953"
                          ],
                          [
                            0.7777777777777778,
                            "#fb9f3a"
                          ],
                          [
                            0.8888888888888888,
                            "#fdca26"
                          ],
                          [
                            1,
                            "#f0f921"
                          ]
                        ],
                        "type": "surface"
                      }
                    ],
                    "table": [
                      {
                        "cells": {
                          "fill": {
                            "color": "#EBF0F8"
                          },
                          "line": {
                            "color": "white"
                          }
                        },
                        "header": {
                          "fill": {
                            "color": "#C8D4E3"
                          },
                          "line": {
                            "color": "white"
                          }
                        },
                        "type": "table"
                      }
                    ]
                  },
                  "layout": {
                    "annotationdefaults": {
                      "arrowcolor": "#2a3f5f",
                      "arrowhead": 0,
                      "arrowwidth": 1
                    },
                    "autotypenumbers": "strict",
                    "coloraxis": {
                      "colorbar": {
                        "outlinewidth": 0,
                        "ticks": ""
                      }
                    },
                    "colorscale": {
                      "diverging": [
                        [
                          0,
                          "#8e0152"
                        ],
                        [
                          0.1,
                          "#c51b7d"
                        ],
                        [
                          0.2,
                          "#de77ae"
                        ],
                        [
                          0.3,
                          "#f1b6da"
                        ],
                        [
                          0.4,
                          "#fde0ef"
                        ],
                        [
                          0.5,
                          "#f7f7f7"
                        ],
                        [
                          0.6,
                          "#e6f5d0"
                        ],
                        [
                          0.7,
                          "#b8e186"
                        ],
                        [
                          0.8,
                          "#7fbc41"
                        ],
                        [
                          0.9,
                          "#4d9221"
                        ],
                        [
                          1,
                          "#276419"
                        ]
                      ],
                      "sequential": [
                        [
                          0,
                          "#0d0887"
                        ],
                        [
                          0.1111111111111111,
                          "#46039f"
                        ],
                        [
                          0.2222222222222222,
                          "#7201a8"
                        ],
                        [
                          0.3333333333333333,
                          "#9c179e"
                        ],
                        [
                          0.4444444444444444,
                          "#bd3786"
                        ],
                        [
                          0.5555555555555556,
                          "#d8576b"
                        ],
                        [
                          0.6666666666666666,
                          "#ed7953"
                        ],
                        [
                          0.7777777777777778,
                          "#fb9f3a"
                        ],
                        [
                          0.8888888888888888,
                          "#fdca26"
                        ],
                        [
                          1,
                          "#f0f921"
                        ]
                      ],
                      "sequentialminus": [
                        [
                          0,
                          "#0d0887"
                        ],
                        [
                          0.1111111111111111,
                          "#46039f"
                        ],
                        [
                          0.2222222222222222,
                          "#7201a8"
                        ],
                        [
                          0.3333333333333333,
                          "#9c179e"
                        ],
                        [
                          0.4444444444444444,
                          "#bd3786"
                        ],
                        [
                          0.5555555555555556,
                          "#d8576b"
                        ],
                        [
                          0.6666666666666666,
                          "#ed7953"
                        ],
                        [
                          0.7777777777777778,
                          "#fb9f3a"
                        ],
                        [
                          0.8888888888888888,
                          "#fdca26"
                        ],
                        [
                          1,
                          "#f0f921"
                        ]
                      ]
                    },
                    "colorway": [
                      "#636efa",
                      "#EF553B",
                      "#00cc96",
                      "#ab63fa",
                      "#FFA15A",
                      "#19d3f3",
                      "#FF6692",
                      "#B6E880",
                      "#FF97FF",
                      "#FECB52"
                    ],
                    "font": {
                      "color": "#2a3f5f"
                    },
                    "geo": {
                      "bgcolor": "white",
                      "lakecolor": "white",
                      "landcolor": "#E5ECF6",
                      "showlakes": true,
                      "showland": true,
                      "subunitcolor": "white"
                    },
                    "hoverlabel": {
                      "align": "left"
                    },
                    "hovermode": "closest",
                    "mapbox": {
                      "style": "light"
                    },
                    "paper_bgcolor": "white",
                    "plot_bgcolor": "#E5ECF6",
                    "polar": {
                      "angularaxis": {
                        "gridcolor": "white",
                        "linecolor": "white",
                        "ticks": ""
                      },
                      "bgcolor": "#E5ECF6",
                      "radialaxis": {
                        "gridcolor": "white",
                        "linecolor": "white",
                        "ticks": ""
                      }
                    },
                    "scene": {
                      "xaxis": {
                        "backgroundcolor": "#E5ECF6",
                        "gridcolor": "white",
                        "gridwidth": 2,
                        "linecolor": "white",
                        "showbackground": true,
                        "ticks": "",
                        "zerolinecolor": "white"
                      },
                      "yaxis": {
                        "backgroundcolor": "#E5ECF6",
                        "gridcolor": "white",
                        "gridwidth": 2,
                        "linecolor": "white",
                        "showbackground": true,
                        "ticks": "",
                        "zerolinecolor": "white"
                      },
                      "zaxis": {
                        "backgroundcolor": "#E5ECF6",
                        "gridcolor": "white",
                        "gridwidth": 2,
                        "linecolor": "white",
                        "showbackground": true,
                        "ticks": "",
                        "zerolinecolor": "white"
                      }
                    },
                    "shapedefaults": {
                      "line": {
                        "color": "#2a3f5f"
                      }
                    },
                    "ternary": {
                      "aaxis": {
                        "gridcolor": "white",
                        "linecolor": "white",
                        "ticks": ""
                      },
                      "baxis": {
                        "gridcolor": "white",
                        "linecolor": "white",
                        "ticks": ""
                      },
                      "bgcolor": "#E5ECF6",
                      "caxis": {
                        "gridcolor": "white",
                        "linecolor": "white",
                        "ticks": ""
                      }
                    },
                    "title": {
                      "x": 0.05
                    },
                    "xaxis": {
                      "automargin": true,
                      "gridcolor": "white",
                      "linecolor": "white",
                      "ticks": "",
                      "title": {
                        "standoff": 15
                      },
                      "zerolinecolor": "white",
                      "zerolinewidth": 2
                    },
                    "yaxis": {
                      "automargin": true,
                      "gridcolor": "white",
                      "linecolor": "white",
                      "ticks": "",
                      "title": {
                        "standoff": 15
                      },
                      "zerolinecolor": "white",
                      "zerolinewidth": 2
                    }
                  }
                },
                "title": {
                  "text": "Top 10 Cities by Operating Profit"
                },
                "xaxis": {
                  "anchor": "y",
                  "domain": [
                    0,
                    1
                  ],
                  "title": {
                    "text": "Operating Profit"
                  }
                },
                "yaxis": {
                  "anchor": "x",
                  "categoryorder": "total ascending",
                  "domain": [
                    0,
                    1
                  ],
                  "title": {
                    "text": "City"
                  }
                }
              }
            }
          },
          "metadata": {},
          "output_type": "display_data"
        }
      ],
      "source": [
        "#HORIZANTAL BAR GRAPH\n",
        "import plotly.express as px\n",
        "# Group data\n",
        "top_cities = df.groupby(\"City\")[\"Operating Profit\"].sum().reset_index().sort_values(by=\"Operating Profit\", ascending=False).head(10)\n",
        "# Plot interactive bar chart with hover\n",
        "fig = px.bar(\n",
        "    top_cities,\n",
        "    x=\"Operating Profit\",\n",
        "    y=\"City\",\n",
        "    orientation='h',\n",
        "    color=\"Operating Profit\",\n",
        "    color_continuous_scale=\"Viridis\",\n",
        "    title=\"Top 10 Cities by Operating Profit\",\n",
        "    hover_data={\"Operating Profit\":\":,.2f\", \"City\":True}\n",
        ")\n",
        "fig.update_layout(yaxis={'categoryorder':'total ascending'},  # sort bars descending by value\n",
        "                  xaxis_title=\"Operating Profit\",\n",
        "                  yaxis_title=\"City\",\n",
        "                  height=500)\n",
        "fig.show()\n"
      ]
    },
    {
      "cell_type": "markdown",
      "metadata": {
        "id": "97GL0SOvRkhw"
      },
      "source": [
        "# ***GROUPED BAR GRAPH***\n",
        "This code creates a grouped bar chart using Plotly Graph Objects to compare total sales and operating profit across different sales methods. The data is aggregated by the \"Sales Method\" category, summing the total sales and operating profit for each method. The chart displays two sets of bars side by side for each sales method: coral-colored bars represent total sales, and seagreen bars represent operating profit. Interactive hover tooltips show the exact dollar values formatted with commas and two decimal places, helping users easily understand the financial contribution of each sales method. The grouped bar layout allows straightforward comparison between sales and profit within each category, providing a clear overview of how different sales approaches perform financially.\n"
      ]
    },
    {
      "cell_type": "code",
      "execution_count": 11,
      "metadata": {
        "colab": {
          "base_uri": "https://localhost:8080/",
          "height": 517
        },
        "id": "wwd1KgXo2ziW",
        "outputId": "2b64fa3f-c87f-495e-f711-e64ecaef5d4c"
      },
      "outputs": [
        {
          "data": {
            "application/vnd.plotly.v1+json": {
              "config": {
                "plotlyServerURL": "https://plot.ly"
              },
              "data": [
                {
                  "hovertemplate": "Sales Method: %{x}<br>Total Sales: %{y:$,.2f}<extra></extra>",
                  "marker": {
                    "color": "coral"
                  },
                  "name": "Total Sales",
                  "type": "bar",
                  "x": [
                    "In-store",
                    "Online",
                    "Outlet"
                  ],
                  "y": {
                    "bdata": "AAAApvNBtUEBAABkYIatQQAAANVGnrFB",
                    "dtype": "f8"
                  }
                },
                {
                  "hovertemplate": "Sales Method: %{x}<br>Operating Profit: %{y:$,.2f}<extra></extra>",
                  "marker": {
                    "color": "seagreen"
                  },
                  "name": "Operating Profit",
                  "type": "bar",
                  "x": [
                    "In-store",
                    "Online",
                    "Outlet"
                  ],
                  "y": {
                    "bdata": "AAAA3o1rnkGuR+GhQgWXQR+F6yUVv5lB",
                    "dtype": "f8"
                  }
                }
              ],
              "layout": {
                "barmode": "group",
                "height": 500,
                "template": {
                  "data": {
                    "bar": [
                      {
                        "error_x": {
                          "color": "#2a3f5f"
                        },
                        "error_y": {
                          "color": "#2a3f5f"
                        },
                        "marker": {
                          "line": {
                            "color": "#E5ECF6",
                            "width": 0.5
                          },
                          "pattern": {
                            "fillmode": "overlay",
                            "size": 10,
                            "solidity": 0.2
                          }
                        },
                        "type": "bar"
                      }
                    ],
                    "barpolar": [
                      {
                        "marker": {
                          "line": {
                            "color": "#E5ECF6",
                            "width": 0.5
                          },
                          "pattern": {
                            "fillmode": "overlay",
                            "size": 10,
                            "solidity": 0.2
                          }
                        },
                        "type": "barpolar"
                      }
                    ],
                    "carpet": [
                      {
                        "aaxis": {
                          "endlinecolor": "#2a3f5f",
                          "gridcolor": "white",
                          "linecolor": "white",
                          "minorgridcolor": "white",
                          "startlinecolor": "#2a3f5f"
                        },
                        "baxis": {
                          "endlinecolor": "#2a3f5f",
                          "gridcolor": "white",
                          "linecolor": "white",
                          "minorgridcolor": "white",
                          "startlinecolor": "#2a3f5f"
                        },
                        "type": "carpet"
                      }
                    ],
                    "choropleth": [
                      {
                        "colorbar": {
                          "outlinewidth": 0,
                          "ticks": ""
                        },
                        "type": "choropleth"
                      }
                    ],
                    "contour": [
                      {
                        "colorbar": {
                          "outlinewidth": 0,
                          "ticks": ""
                        },
                        "colorscale": [
                          [
                            0,
                            "#0d0887"
                          ],
                          [
                            0.1111111111111111,
                            "#46039f"
                          ],
                          [
                            0.2222222222222222,
                            "#7201a8"
                          ],
                          [
                            0.3333333333333333,
                            "#9c179e"
                          ],
                          [
                            0.4444444444444444,
                            "#bd3786"
                          ],
                          [
                            0.5555555555555556,
                            "#d8576b"
                          ],
                          [
                            0.6666666666666666,
                            "#ed7953"
                          ],
                          [
                            0.7777777777777778,
                            "#fb9f3a"
                          ],
                          [
                            0.8888888888888888,
                            "#fdca26"
                          ],
                          [
                            1,
                            "#f0f921"
                          ]
                        ],
                        "type": "contour"
                      }
                    ],
                    "contourcarpet": [
                      {
                        "colorbar": {
                          "outlinewidth": 0,
                          "ticks": ""
                        },
                        "type": "contourcarpet"
                      }
                    ],
                    "heatmap": [
                      {
                        "colorbar": {
                          "outlinewidth": 0,
                          "ticks": ""
                        },
                        "colorscale": [
                          [
                            0,
                            "#0d0887"
                          ],
                          [
                            0.1111111111111111,
                            "#46039f"
                          ],
                          [
                            0.2222222222222222,
                            "#7201a8"
                          ],
                          [
                            0.3333333333333333,
                            "#9c179e"
                          ],
                          [
                            0.4444444444444444,
                            "#bd3786"
                          ],
                          [
                            0.5555555555555556,
                            "#d8576b"
                          ],
                          [
                            0.6666666666666666,
                            "#ed7953"
                          ],
                          [
                            0.7777777777777778,
                            "#fb9f3a"
                          ],
                          [
                            0.8888888888888888,
                            "#fdca26"
                          ],
                          [
                            1,
                            "#f0f921"
                          ]
                        ],
                        "type": "heatmap"
                      }
                    ],
                    "histogram": [
                      {
                        "marker": {
                          "pattern": {
                            "fillmode": "overlay",
                            "size": 10,
                            "solidity": 0.2
                          }
                        },
                        "type": "histogram"
                      }
                    ],
                    "histogram2d": [
                      {
                        "colorbar": {
                          "outlinewidth": 0,
                          "ticks": ""
                        },
                        "colorscale": [
                          [
                            0,
                            "#0d0887"
                          ],
                          [
                            0.1111111111111111,
                            "#46039f"
                          ],
                          [
                            0.2222222222222222,
                            "#7201a8"
                          ],
                          [
                            0.3333333333333333,
                            "#9c179e"
                          ],
                          [
                            0.4444444444444444,
                            "#bd3786"
                          ],
                          [
                            0.5555555555555556,
                            "#d8576b"
                          ],
                          [
                            0.6666666666666666,
                            "#ed7953"
                          ],
                          [
                            0.7777777777777778,
                            "#fb9f3a"
                          ],
                          [
                            0.8888888888888888,
                            "#fdca26"
                          ],
                          [
                            1,
                            "#f0f921"
                          ]
                        ],
                        "type": "histogram2d"
                      }
                    ],
                    "histogram2dcontour": [
                      {
                        "colorbar": {
                          "outlinewidth": 0,
                          "ticks": ""
                        },
                        "colorscale": [
                          [
                            0,
                            "#0d0887"
                          ],
                          [
                            0.1111111111111111,
                            "#46039f"
                          ],
                          [
                            0.2222222222222222,
                            "#7201a8"
                          ],
                          [
                            0.3333333333333333,
                            "#9c179e"
                          ],
                          [
                            0.4444444444444444,
                            "#bd3786"
                          ],
                          [
                            0.5555555555555556,
                            "#d8576b"
                          ],
                          [
                            0.6666666666666666,
                            "#ed7953"
                          ],
                          [
                            0.7777777777777778,
                            "#fb9f3a"
                          ],
                          [
                            0.8888888888888888,
                            "#fdca26"
                          ],
                          [
                            1,
                            "#f0f921"
                          ]
                        ],
                        "type": "histogram2dcontour"
                      }
                    ],
                    "mesh3d": [
                      {
                        "colorbar": {
                          "outlinewidth": 0,
                          "ticks": ""
                        },
                        "type": "mesh3d"
                      }
                    ],
                    "parcoords": [
                      {
                        "line": {
                          "colorbar": {
                            "outlinewidth": 0,
                            "ticks": ""
                          }
                        },
                        "type": "parcoords"
                      }
                    ],
                    "pie": [
                      {
                        "automargin": true,
                        "type": "pie"
                      }
                    ],
                    "scatter": [
                      {
                        "fillpattern": {
                          "fillmode": "overlay",
                          "size": 10,
                          "solidity": 0.2
                        },
                        "type": "scatter"
                      }
                    ],
                    "scatter3d": [
                      {
                        "line": {
                          "colorbar": {
                            "outlinewidth": 0,
                            "ticks": ""
                          }
                        },
                        "marker": {
                          "colorbar": {
                            "outlinewidth": 0,
                            "ticks": ""
                          }
                        },
                        "type": "scatter3d"
                      }
                    ],
                    "scattercarpet": [
                      {
                        "marker": {
                          "colorbar": {
                            "outlinewidth": 0,
                            "ticks": ""
                          }
                        },
                        "type": "scattercarpet"
                      }
                    ],
                    "scattergeo": [
                      {
                        "marker": {
                          "colorbar": {
                            "outlinewidth": 0,
                            "ticks": ""
                          }
                        },
                        "type": "scattergeo"
                      }
                    ],
                    "scattergl": [
                      {
                        "marker": {
                          "colorbar": {
                            "outlinewidth": 0,
                            "ticks": ""
                          }
                        },
                        "type": "scattergl"
                      }
                    ],
                    "scattermap": [
                      {
                        "marker": {
                          "colorbar": {
                            "outlinewidth": 0,
                            "ticks": ""
                          }
                        },
                        "type": "scattermap"
                      }
                    ],
                    "scattermapbox": [
                      {
                        "marker": {
                          "colorbar": {
                            "outlinewidth": 0,
                            "ticks": ""
                          }
                        },
                        "type": "scattermapbox"
                      }
                    ],
                    "scatterpolar": [
                      {
                        "marker": {
                          "colorbar": {
                            "outlinewidth": 0,
                            "ticks": ""
                          }
                        },
                        "type": "scatterpolar"
                      }
                    ],
                    "scatterpolargl": [
                      {
                        "marker": {
                          "colorbar": {
                            "outlinewidth": 0,
                            "ticks": ""
                          }
                        },
                        "type": "scatterpolargl"
                      }
                    ],
                    "scatterternary": [
                      {
                        "marker": {
                          "colorbar": {
                            "outlinewidth": 0,
                            "ticks": ""
                          }
                        },
                        "type": "scatterternary"
                      }
                    ],
                    "surface": [
                      {
                        "colorbar": {
                          "outlinewidth": 0,
                          "ticks": ""
                        },
                        "colorscale": [
                          [
                            0,
                            "#0d0887"
                          ],
                          [
                            0.1111111111111111,
                            "#46039f"
                          ],
                          [
                            0.2222222222222222,
                            "#7201a8"
                          ],
                          [
                            0.3333333333333333,
                            "#9c179e"
                          ],
                          [
                            0.4444444444444444,
                            "#bd3786"
                          ],
                          [
                            0.5555555555555556,
                            "#d8576b"
                          ],
                          [
                            0.6666666666666666,
                            "#ed7953"
                          ],
                          [
                            0.7777777777777778,
                            "#fb9f3a"
                          ],
                          [
                            0.8888888888888888,
                            "#fdca26"
                          ],
                          [
                            1,
                            "#f0f921"
                          ]
                        ],
                        "type": "surface"
                      }
                    ],
                    "table": [
                      {
                        "cells": {
                          "fill": {
                            "color": "#EBF0F8"
                          },
                          "line": {
                            "color": "white"
                          }
                        },
                        "header": {
                          "fill": {
                            "color": "#C8D4E3"
                          },
                          "line": {
                            "color": "white"
                          }
                        },
                        "type": "table"
                      }
                    ]
                  },
                  "layout": {
                    "annotationdefaults": {
                      "arrowcolor": "#2a3f5f",
                      "arrowhead": 0,
                      "arrowwidth": 1
                    },
                    "autotypenumbers": "strict",
                    "coloraxis": {
                      "colorbar": {
                        "outlinewidth": 0,
                        "ticks": ""
                      }
                    },
                    "colorscale": {
                      "diverging": [
                        [
                          0,
                          "#8e0152"
                        ],
                        [
                          0.1,
                          "#c51b7d"
                        ],
                        [
                          0.2,
                          "#de77ae"
                        ],
                        [
                          0.3,
                          "#f1b6da"
                        ],
                        [
                          0.4,
                          "#fde0ef"
                        ],
                        [
                          0.5,
                          "#f7f7f7"
                        ],
                        [
                          0.6,
                          "#e6f5d0"
                        ],
                        [
                          0.7,
                          "#b8e186"
                        ],
                        [
                          0.8,
                          "#7fbc41"
                        ],
                        [
                          0.9,
                          "#4d9221"
                        ],
                        [
                          1,
                          "#276419"
                        ]
                      ],
                      "sequential": [
                        [
                          0,
                          "#0d0887"
                        ],
                        [
                          0.1111111111111111,
                          "#46039f"
                        ],
                        [
                          0.2222222222222222,
                          "#7201a8"
                        ],
                        [
                          0.3333333333333333,
                          "#9c179e"
                        ],
                        [
                          0.4444444444444444,
                          "#bd3786"
                        ],
                        [
                          0.5555555555555556,
                          "#d8576b"
                        ],
                        [
                          0.6666666666666666,
                          "#ed7953"
                        ],
                        [
                          0.7777777777777778,
                          "#fb9f3a"
                        ],
                        [
                          0.8888888888888888,
                          "#fdca26"
                        ],
                        [
                          1,
                          "#f0f921"
                        ]
                      ],
                      "sequentialminus": [
                        [
                          0,
                          "#0d0887"
                        ],
                        [
                          0.1111111111111111,
                          "#46039f"
                        ],
                        [
                          0.2222222222222222,
                          "#7201a8"
                        ],
                        [
                          0.3333333333333333,
                          "#9c179e"
                        ],
                        [
                          0.4444444444444444,
                          "#bd3786"
                        ],
                        [
                          0.5555555555555556,
                          "#d8576b"
                        ],
                        [
                          0.6666666666666666,
                          "#ed7953"
                        ],
                        [
                          0.7777777777777778,
                          "#fb9f3a"
                        ],
                        [
                          0.8888888888888888,
                          "#fdca26"
                        ],
                        [
                          1,
                          "#f0f921"
                        ]
                      ]
                    },
                    "colorway": [
                      "#636efa",
                      "#EF553B",
                      "#00cc96",
                      "#ab63fa",
                      "#FFA15A",
                      "#19d3f3",
                      "#FF6692",
                      "#B6E880",
                      "#FF97FF",
                      "#FECB52"
                    ],
                    "font": {
                      "color": "#2a3f5f"
                    },
                    "geo": {
                      "bgcolor": "white",
                      "lakecolor": "white",
                      "landcolor": "#E5ECF6",
                      "showlakes": true,
                      "showland": true,
                      "subunitcolor": "white"
                    },
                    "hoverlabel": {
                      "align": "left"
                    },
                    "hovermode": "closest",
                    "mapbox": {
                      "style": "light"
                    },
                    "paper_bgcolor": "white",
                    "plot_bgcolor": "#E5ECF6",
                    "polar": {
                      "angularaxis": {
                        "gridcolor": "white",
                        "linecolor": "white",
                        "ticks": ""
                      },
                      "bgcolor": "#E5ECF6",
                      "radialaxis": {
                        "gridcolor": "white",
                        "linecolor": "white",
                        "ticks": ""
                      }
                    },
                    "scene": {
                      "xaxis": {
                        "backgroundcolor": "#E5ECF6",
                        "gridcolor": "white",
                        "gridwidth": 2,
                        "linecolor": "white",
                        "showbackground": true,
                        "ticks": "",
                        "zerolinecolor": "white"
                      },
                      "yaxis": {
                        "backgroundcolor": "#E5ECF6",
                        "gridcolor": "white",
                        "gridwidth": 2,
                        "linecolor": "white",
                        "showbackground": true,
                        "ticks": "",
                        "zerolinecolor": "white"
                      },
                      "zaxis": {
                        "backgroundcolor": "#E5ECF6",
                        "gridcolor": "white",
                        "gridwidth": 2,
                        "linecolor": "white",
                        "showbackground": true,
                        "ticks": "",
                        "zerolinecolor": "white"
                      }
                    },
                    "shapedefaults": {
                      "line": {
                        "color": "#2a3f5f"
                      }
                    },
                    "ternary": {
                      "aaxis": {
                        "gridcolor": "white",
                        "linecolor": "white",
                        "ticks": ""
                      },
                      "baxis": {
                        "gridcolor": "white",
                        "linecolor": "white",
                        "ticks": ""
                      },
                      "bgcolor": "#E5ECF6",
                      "caxis": {
                        "gridcolor": "white",
                        "linecolor": "white",
                        "ticks": ""
                      }
                    },
                    "title": {
                      "x": 0.05
                    },
                    "xaxis": {
                      "automargin": true,
                      "gridcolor": "white",
                      "linecolor": "white",
                      "ticks": "",
                      "title": {
                        "standoff": 15
                      },
                      "zerolinecolor": "white",
                      "zerolinewidth": 2
                    },
                    "yaxis": {
                      "automargin": true,
                      "gridcolor": "white",
                      "linecolor": "white",
                      "ticks": "",
                      "title": {
                        "standoff": 15
                      },
                      "zerolinecolor": "white",
                      "zerolinewidth": 2
                    }
                  }
                },
                "title": {
                  "text": "Total Sales and Profit by Sales Method"
                },
                "xaxis": {
                  "title": {
                    "text": "Sales Method"
                  }
                },
                "yaxis": {
                  "title": {
                    "text": "Amount"
                  }
                }
              }
            }
          },
          "metadata": {},
          "output_type": "display_data"
        }
      ],
      "source": [
        "#GROUPED BAR GRAPH\n",
        "import plotly.graph_objects as go\n",
        "# Aggregate data by Sales Method\n",
        "method_sales = df.groupby('Sales Method')[['Total Sales', 'Operating Profit']].sum().reset_index()\n",
        "fig = go.Figure()\n",
        "# Add Total Sales bars\n",
        "fig.add_trace(go.Bar(\n",
        "    x=method_sales['Sales Method'],\n",
        "    y=method_sales['Total Sales'],\n",
        "    name='Total Sales',\n",
        "    marker_color='coral',\n",
        "    hovertemplate='Sales Method: %{x}<br>Total Sales: %{y:$,.2f}<extra></extra>'\n",
        "))\n",
        "# Add Operating Profit bars\n",
        "fig.add_trace(go.Bar(\n",
        "    x=method_sales['Sales Method'],\n",
        "    y=method_sales['Operating Profit'],\n",
        "    name='Operating Profit',\n",
        "    marker_color='seagreen',\n",
        "    hovertemplate='Sales Method: %{x}<br>Operating Profit: %{y:$,.2f}<extra></extra>'\n",
        "))\n",
        "# Update layout\n",
        "fig.update_layout(\n",
        "    barmode='group',\n",
        "    title='Total Sales and Profit by Sales Method',\n",
        "    xaxis_title='Sales Method',\n",
        "    yaxis_title='Amount',\n",
        "    height=500\n",
        ")\n",
        "fig.show()"
      ]
    },
    {
      "cell_type": "markdown",
      "metadata": {
        "id": "tckNWIWoBRpa"
      },
      "source": []
    },
    {
      "cell_type": "markdown",
      "metadata": {
        "id": "N30ZRsxnRn8B"
      },
      "source": [
        "# ***LINE CHART***\n",
        "This code generates an interactive line chart using Plotly Graph Objects to show monthly trends in total sales and operating profit. The data is grouped by month, summing total sales and operating profit for each period. The chart features two distinct lines: a blue line with circular markers for total sales, and a green line with square markers for operating profit. Each point represents the aggregated value for a month. The x-axis is formatted to display month and year clearly, while the y-axis shows the dollar amounts. Hover tooltips provide detailed, formatted monetary values for each month. The unified hover mode allows users to see sales and profit figures simultaneously when hovering over a specific month, making it easy to compare their trends over time. This visualization effectively captures the financial performance and seasonality on a monthly scale.\n",
        "\n",
        "\n",
        "\n",
        "\n",
        "\n",
        "\n",
        "\n"
      ]
    },
    {
      "cell_type": "code",
      "execution_count": 12,
      "metadata": {
        "colab": {
          "base_uri": "https://localhost:8080/",
          "height": 517
        },
        "id": "W8fGFaOO86ws",
        "outputId": "3d558061-2f11-4261-e51a-39e0f310d6b9"
      },
      "outputs": [
        {
          "data": {
            "application/vnd.plotly.v1+json": {
              "config": {
                "plotlyServerURL": "https://plot.ly"
              },
              "data": [
                {
                  "hovertemplate": "Month: %{x|%b %Y}<br>Total Sales: %{y:$,.2f}<extra></extra>",
                  "line": {
                    "color": "blue",
                    "shape": "linear"
                  },
                  "marker": {
                    "symbol": "circle"
                  },
                  "mode": "lines+markers",
                  "name": "Total Sales",
                  "type": "scatter",
                  "x": [
                    "2020-01-01T00:00:00.000000000",
                    "2020-02-01T00:00:00.000000000",
                    "2020-03-01T00:00:00.000000000",
                    "2020-04-01T00:00:00.000000000",
                    "2020-05-01T00:00:00.000000000",
                    "2020-06-01T00:00:00.000000000",
                    "2020-07-01T00:00:00.000000000",
                    "2020-08-01T00:00:00.000000000",
                    "2020-09-01T00:00:00.000000000",
                    "2020-10-01T00:00:00.000000000",
                    "2020-11-01T00:00:00.000000000",
                    "2020-12-01T00:00:00.000000000",
                    "2021-01-01T00:00:00.000000000",
                    "2021-02-01T00:00:00.000000000",
                    "2021-03-01T00:00:00.000000000",
                    "2021-04-01T00:00:00.000000000",
                    "2021-05-01T00:00:00.000000000",
                    "2021-06-01T00:00:00.000000000",
                    "2021-07-01T00:00:00.000000000",
                    "2021-08-01T00:00:00.000000000",
                    "2021-09-01T00:00:00.000000000",
                    "2021-10-01T00:00:00.000000000",
                    "2021-11-01T00:00:00.000000000",
                    "2021-12-01T00:00:00.000000000"
                  ],
                  "y": {
                    "bdata": "AAAAQGYAb0EAAACAPJtsQQAAABCq13BBAAAA4JF3d0EAAADgXyJwQQAAAGBv12BBAAAA0AlacEEAAADABfVyQQAAAEDbdHFBAQAAoCWrZEEAAACAG3JgQQAAAMBnnl5BAAAAoGFVikEAAACotPuFQQAAAKDfqoJBAAAAIMfChkEAAACIaVKOQQAAAIiTbo9BAAAAZCutkkEAAAB0HzyRQQEAAPi6TYxBAQAAYNpOiUEBAAAA1z6MQQAAABh6jZJB",
                    "dtype": "f8"
                  }
                },
                {
                  "hovertemplate": "Month: %{x|%b %Y}<br>Operating Profit: %{y:$,.2f}<extra></extra>",
                  "line": {
                    "color": "green",
                    "shape": "linear"
                  },
                  "marker": {
                    "symbol": "square"
                  },
                  "mode": "lines+markers",
                  "name": "Operating Profit",
                  "type": "scatter",
                  "x": [
                    "2020-01-01T00:00:00.000000000",
                    "2020-02-01T00:00:00.000000000",
                    "2020-03-01T00:00:00.000000000",
                    "2020-04-01T00:00:00.000000000",
                    "2020-05-01T00:00:00.000000000",
                    "2020-06-01T00:00:00.000000000",
                    "2020-07-01T00:00:00.000000000",
                    "2020-08-01T00:00:00.000000000",
                    "2020-09-01T00:00:00.000000000",
                    "2020-10-01T00:00:00.000000000",
                    "2020-11-01T00:00:00.000000000",
                    "2020-12-01T00:00:00.000000000",
                    "2021-01-01T00:00:00.000000000",
                    "2021-02-01T00:00:00.000000000",
                    "2021-03-01T00:00:00.000000000",
                    "2021-04-01T00:00:00.000000000",
                    "2021-05-01T00:00:00.000000000",
                    "2021-06-01T00:00:00.000000000",
                    "2021-07-01T00:00:00.000000000",
                    "2021-08-01T00:00:00.000000000",
                    "2021-09-01T00:00:00.000000000",
                    "2021-10-01T00:00:00.000000000",
                    "2021-11-01T00:00:00.000000000",
                    "2021-12-01T00:00:00.000000000"
                  ],
                  "y": {
                    "bdata": "pHA9Wl09VkHD9SicTt1TQQvXo5CdXFZBrkfhqqW9YUHOzMx8PmVWQUjherT7fUFBcT0KR2jCUkEpXI8i6/5bQcP1KJzVKFtBr0fhmuaUT0HsUbgeejxFQdejcB1CsURBmpmZkdNqckGF61HIBN9uQXsUrrcOzmtBuB6Ff4FpcUHhehRWyfV2QcP1KEhmSndBexSuF5XJe0HD9Sg8RNt5QQvXo8R9yHZBpHA99g34c0FxPQrTRPR0Qc3MzFxLintB",
                    "dtype": "f8"
                  }
                }
              ],
              "layout": {
                "height": 500,
                "hovermode": "x unified",
                "template": {
                  "data": {
                    "bar": [
                      {
                        "error_x": {
                          "color": "#2a3f5f"
                        },
                        "error_y": {
                          "color": "#2a3f5f"
                        },
                        "marker": {
                          "line": {
                            "color": "#E5ECF6",
                            "width": 0.5
                          },
                          "pattern": {
                            "fillmode": "overlay",
                            "size": 10,
                            "solidity": 0.2
                          }
                        },
                        "type": "bar"
                      }
                    ],
                    "barpolar": [
                      {
                        "marker": {
                          "line": {
                            "color": "#E5ECF6",
                            "width": 0.5
                          },
                          "pattern": {
                            "fillmode": "overlay",
                            "size": 10,
                            "solidity": 0.2
                          }
                        },
                        "type": "barpolar"
                      }
                    ],
                    "carpet": [
                      {
                        "aaxis": {
                          "endlinecolor": "#2a3f5f",
                          "gridcolor": "white",
                          "linecolor": "white",
                          "minorgridcolor": "white",
                          "startlinecolor": "#2a3f5f"
                        },
                        "baxis": {
                          "endlinecolor": "#2a3f5f",
                          "gridcolor": "white",
                          "linecolor": "white",
                          "minorgridcolor": "white",
                          "startlinecolor": "#2a3f5f"
                        },
                        "type": "carpet"
                      }
                    ],
                    "choropleth": [
                      {
                        "colorbar": {
                          "outlinewidth": 0,
                          "ticks": ""
                        },
                        "type": "choropleth"
                      }
                    ],
                    "contour": [
                      {
                        "colorbar": {
                          "outlinewidth": 0,
                          "ticks": ""
                        },
                        "colorscale": [
                          [
                            0,
                            "#0d0887"
                          ],
                          [
                            0.1111111111111111,
                            "#46039f"
                          ],
                          [
                            0.2222222222222222,
                            "#7201a8"
                          ],
                          [
                            0.3333333333333333,
                            "#9c179e"
                          ],
                          [
                            0.4444444444444444,
                            "#bd3786"
                          ],
                          [
                            0.5555555555555556,
                            "#d8576b"
                          ],
                          [
                            0.6666666666666666,
                            "#ed7953"
                          ],
                          [
                            0.7777777777777778,
                            "#fb9f3a"
                          ],
                          [
                            0.8888888888888888,
                            "#fdca26"
                          ],
                          [
                            1,
                            "#f0f921"
                          ]
                        ],
                        "type": "contour"
                      }
                    ],
                    "contourcarpet": [
                      {
                        "colorbar": {
                          "outlinewidth": 0,
                          "ticks": ""
                        },
                        "type": "contourcarpet"
                      }
                    ],
                    "heatmap": [
                      {
                        "colorbar": {
                          "outlinewidth": 0,
                          "ticks": ""
                        },
                        "colorscale": [
                          [
                            0,
                            "#0d0887"
                          ],
                          [
                            0.1111111111111111,
                            "#46039f"
                          ],
                          [
                            0.2222222222222222,
                            "#7201a8"
                          ],
                          [
                            0.3333333333333333,
                            "#9c179e"
                          ],
                          [
                            0.4444444444444444,
                            "#bd3786"
                          ],
                          [
                            0.5555555555555556,
                            "#d8576b"
                          ],
                          [
                            0.6666666666666666,
                            "#ed7953"
                          ],
                          [
                            0.7777777777777778,
                            "#fb9f3a"
                          ],
                          [
                            0.8888888888888888,
                            "#fdca26"
                          ],
                          [
                            1,
                            "#f0f921"
                          ]
                        ],
                        "type": "heatmap"
                      }
                    ],
                    "histogram": [
                      {
                        "marker": {
                          "pattern": {
                            "fillmode": "overlay",
                            "size": 10,
                            "solidity": 0.2
                          }
                        },
                        "type": "histogram"
                      }
                    ],
                    "histogram2d": [
                      {
                        "colorbar": {
                          "outlinewidth": 0,
                          "ticks": ""
                        },
                        "colorscale": [
                          [
                            0,
                            "#0d0887"
                          ],
                          [
                            0.1111111111111111,
                            "#46039f"
                          ],
                          [
                            0.2222222222222222,
                            "#7201a8"
                          ],
                          [
                            0.3333333333333333,
                            "#9c179e"
                          ],
                          [
                            0.4444444444444444,
                            "#bd3786"
                          ],
                          [
                            0.5555555555555556,
                            "#d8576b"
                          ],
                          [
                            0.6666666666666666,
                            "#ed7953"
                          ],
                          [
                            0.7777777777777778,
                            "#fb9f3a"
                          ],
                          [
                            0.8888888888888888,
                            "#fdca26"
                          ],
                          [
                            1,
                            "#f0f921"
                          ]
                        ],
                        "type": "histogram2d"
                      }
                    ],
                    "histogram2dcontour": [
                      {
                        "colorbar": {
                          "outlinewidth": 0,
                          "ticks": ""
                        },
                        "colorscale": [
                          [
                            0,
                            "#0d0887"
                          ],
                          [
                            0.1111111111111111,
                            "#46039f"
                          ],
                          [
                            0.2222222222222222,
                            "#7201a8"
                          ],
                          [
                            0.3333333333333333,
                            "#9c179e"
                          ],
                          [
                            0.4444444444444444,
                            "#bd3786"
                          ],
                          [
                            0.5555555555555556,
                            "#d8576b"
                          ],
                          [
                            0.6666666666666666,
                            "#ed7953"
                          ],
                          [
                            0.7777777777777778,
                            "#fb9f3a"
                          ],
                          [
                            0.8888888888888888,
                            "#fdca26"
                          ],
                          [
                            1,
                            "#f0f921"
                          ]
                        ],
                        "type": "histogram2dcontour"
                      }
                    ],
                    "mesh3d": [
                      {
                        "colorbar": {
                          "outlinewidth": 0,
                          "ticks": ""
                        },
                        "type": "mesh3d"
                      }
                    ],
                    "parcoords": [
                      {
                        "line": {
                          "colorbar": {
                            "outlinewidth": 0,
                            "ticks": ""
                          }
                        },
                        "type": "parcoords"
                      }
                    ],
                    "pie": [
                      {
                        "automargin": true,
                        "type": "pie"
                      }
                    ],
                    "scatter": [
                      {
                        "fillpattern": {
                          "fillmode": "overlay",
                          "size": 10,
                          "solidity": 0.2
                        },
                        "type": "scatter"
                      }
                    ],
                    "scatter3d": [
                      {
                        "line": {
                          "colorbar": {
                            "outlinewidth": 0,
                            "ticks": ""
                          }
                        },
                        "marker": {
                          "colorbar": {
                            "outlinewidth": 0,
                            "ticks": ""
                          }
                        },
                        "type": "scatter3d"
                      }
                    ],
                    "scattercarpet": [
                      {
                        "marker": {
                          "colorbar": {
                            "outlinewidth": 0,
                            "ticks": ""
                          }
                        },
                        "type": "scattercarpet"
                      }
                    ],
                    "scattergeo": [
                      {
                        "marker": {
                          "colorbar": {
                            "outlinewidth": 0,
                            "ticks": ""
                          }
                        },
                        "type": "scattergeo"
                      }
                    ],
                    "scattergl": [
                      {
                        "marker": {
                          "colorbar": {
                            "outlinewidth": 0,
                            "ticks": ""
                          }
                        },
                        "type": "scattergl"
                      }
                    ],
                    "scattermap": [
                      {
                        "marker": {
                          "colorbar": {
                            "outlinewidth": 0,
                            "ticks": ""
                          }
                        },
                        "type": "scattermap"
                      }
                    ],
                    "scattermapbox": [
                      {
                        "marker": {
                          "colorbar": {
                            "outlinewidth": 0,
                            "ticks": ""
                          }
                        },
                        "type": "scattermapbox"
                      }
                    ],
                    "scatterpolar": [
                      {
                        "marker": {
                          "colorbar": {
                            "outlinewidth": 0,
                            "ticks": ""
                          }
                        },
                        "type": "scatterpolar"
                      }
                    ],
                    "scatterpolargl": [
                      {
                        "marker": {
                          "colorbar": {
                            "outlinewidth": 0,
                            "ticks": ""
                          }
                        },
                        "type": "scatterpolargl"
                      }
                    ],
                    "scatterternary": [
                      {
                        "marker": {
                          "colorbar": {
                            "outlinewidth": 0,
                            "ticks": ""
                          }
                        },
                        "type": "scatterternary"
                      }
                    ],
                    "surface": [
                      {
                        "colorbar": {
                          "outlinewidth": 0,
                          "ticks": ""
                        },
                        "colorscale": [
                          [
                            0,
                            "#0d0887"
                          ],
                          [
                            0.1111111111111111,
                            "#46039f"
                          ],
                          [
                            0.2222222222222222,
                            "#7201a8"
                          ],
                          [
                            0.3333333333333333,
                            "#9c179e"
                          ],
                          [
                            0.4444444444444444,
                            "#bd3786"
                          ],
                          [
                            0.5555555555555556,
                            "#d8576b"
                          ],
                          [
                            0.6666666666666666,
                            "#ed7953"
                          ],
                          [
                            0.7777777777777778,
                            "#fb9f3a"
                          ],
                          [
                            0.8888888888888888,
                            "#fdca26"
                          ],
                          [
                            1,
                            "#f0f921"
                          ]
                        ],
                        "type": "surface"
                      }
                    ],
                    "table": [
                      {
                        "cells": {
                          "fill": {
                            "color": "#EBF0F8"
                          },
                          "line": {
                            "color": "white"
                          }
                        },
                        "header": {
                          "fill": {
                            "color": "#C8D4E3"
                          },
                          "line": {
                            "color": "white"
                          }
                        },
                        "type": "table"
                      }
                    ]
                  },
                  "layout": {
                    "annotationdefaults": {
                      "arrowcolor": "#2a3f5f",
                      "arrowhead": 0,
                      "arrowwidth": 1
                    },
                    "autotypenumbers": "strict",
                    "coloraxis": {
                      "colorbar": {
                        "outlinewidth": 0,
                        "ticks": ""
                      }
                    },
                    "colorscale": {
                      "diverging": [
                        [
                          0,
                          "#8e0152"
                        ],
                        [
                          0.1,
                          "#c51b7d"
                        ],
                        [
                          0.2,
                          "#de77ae"
                        ],
                        [
                          0.3,
                          "#f1b6da"
                        ],
                        [
                          0.4,
                          "#fde0ef"
                        ],
                        [
                          0.5,
                          "#f7f7f7"
                        ],
                        [
                          0.6,
                          "#e6f5d0"
                        ],
                        [
                          0.7,
                          "#b8e186"
                        ],
                        [
                          0.8,
                          "#7fbc41"
                        ],
                        [
                          0.9,
                          "#4d9221"
                        ],
                        [
                          1,
                          "#276419"
                        ]
                      ],
                      "sequential": [
                        [
                          0,
                          "#0d0887"
                        ],
                        [
                          0.1111111111111111,
                          "#46039f"
                        ],
                        [
                          0.2222222222222222,
                          "#7201a8"
                        ],
                        [
                          0.3333333333333333,
                          "#9c179e"
                        ],
                        [
                          0.4444444444444444,
                          "#bd3786"
                        ],
                        [
                          0.5555555555555556,
                          "#d8576b"
                        ],
                        [
                          0.6666666666666666,
                          "#ed7953"
                        ],
                        [
                          0.7777777777777778,
                          "#fb9f3a"
                        ],
                        [
                          0.8888888888888888,
                          "#fdca26"
                        ],
                        [
                          1,
                          "#f0f921"
                        ]
                      ],
                      "sequentialminus": [
                        [
                          0,
                          "#0d0887"
                        ],
                        [
                          0.1111111111111111,
                          "#46039f"
                        ],
                        [
                          0.2222222222222222,
                          "#7201a8"
                        ],
                        [
                          0.3333333333333333,
                          "#9c179e"
                        ],
                        [
                          0.4444444444444444,
                          "#bd3786"
                        ],
                        [
                          0.5555555555555556,
                          "#d8576b"
                        ],
                        [
                          0.6666666666666666,
                          "#ed7953"
                        ],
                        [
                          0.7777777777777778,
                          "#fb9f3a"
                        ],
                        [
                          0.8888888888888888,
                          "#fdca26"
                        ],
                        [
                          1,
                          "#f0f921"
                        ]
                      ]
                    },
                    "colorway": [
                      "#636efa",
                      "#EF553B",
                      "#00cc96",
                      "#ab63fa",
                      "#FFA15A",
                      "#19d3f3",
                      "#FF6692",
                      "#B6E880",
                      "#FF97FF",
                      "#FECB52"
                    ],
                    "font": {
                      "color": "#2a3f5f"
                    },
                    "geo": {
                      "bgcolor": "white",
                      "lakecolor": "white",
                      "landcolor": "#E5ECF6",
                      "showlakes": true,
                      "showland": true,
                      "subunitcolor": "white"
                    },
                    "hoverlabel": {
                      "align": "left"
                    },
                    "hovermode": "closest",
                    "mapbox": {
                      "style": "light"
                    },
                    "paper_bgcolor": "white",
                    "plot_bgcolor": "#E5ECF6",
                    "polar": {
                      "angularaxis": {
                        "gridcolor": "white",
                        "linecolor": "white",
                        "ticks": ""
                      },
                      "bgcolor": "#E5ECF6",
                      "radialaxis": {
                        "gridcolor": "white",
                        "linecolor": "white",
                        "ticks": ""
                      }
                    },
                    "scene": {
                      "xaxis": {
                        "backgroundcolor": "#E5ECF6",
                        "gridcolor": "white",
                        "gridwidth": 2,
                        "linecolor": "white",
                        "showbackground": true,
                        "ticks": "",
                        "zerolinecolor": "white"
                      },
                      "yaxis": {
                        "backgroundcolor": "#E5ECF6",
                        "gridcolor": "white",
                        "gridwidth": 2,
                        "linecolor": "white",
                        "showbackground": true,
                        "ticks": "",
                        "zerolinecolor": "white"
                      },
                      "zaxis": {
                        "backgroundcolor": "#E5ECF6",
                        "gridcolor": "white",
                        "gridwidth": 2,
                        "linecolor": "white",
                        "showbackground": true,
                        "ticks": "",
                        "zerolinecolor": "white"
                      }
                    },
                    "shapedefaults": {
                      "line": {
                        "color": "#2a3f5f"
                      }
                    },
                    "ternary": {
                      "aaxis": {
                        "gridcolor": "white",
                        "linecolor": "white",
                        "ticks": ""
                      },
                      "baxis": {
                        "gridcolor": "white",
                        "linecolor": "white",
                        "ticks": ""
                      },
                      "bgcolor": "#E5ECF6",
                      "caxis": {
                        "gridcolor": "white",
                        "linecolor": "white",
                        "ticks": ""
                      }
                    },
                    "title": {
                      "x": 0.05
                    },
                    "xaxis": {
                      "automargin": true,
                      "gridcolor": "white",
                      "linecolor": "white",
                      "ticks": "",
                      "title": {
                        "standoff": 15
                      },
                      "zerolinecolor": "white",
                      "zerolinewidth": 2
                    },
                    "yaxis": {
                      "automargin": true,
                      "gridcolor": "white",
                      "linecolor": "white",
                      "ticks": "",
                      "title": {
                        "standoff": 15
                      },
                      "zerolinecolor": "white",
                      "zerolinewidth": 2
                    }
                  }
                },
                "title": {
                  "text": "Monthly Trends of Sales and Profit"
                },
                "width": 900,
                "xaxis": {
                  "tickformat": "%b %Y",
                  "title": {
                    "text": "Month"
                  }
                },
                "yaxis": {
                  "title": {
                    "text": "Amount"
                  }
                }
              }
            }
          },
          "metadata": {},
          "output_type": "display_data"
        }
      ],
      "source": [
        "#LINE CHART\n",
        "import plotly.graph_objects as go\n",
        "# Prepare data\n",
        "monthly_trends = df.groupby(df['Invoice Date'].dt.to_period('M'))[['Total Sales', 'Operating Profit']].sum()\n",
        "monthly_trends.index = monthly_trends.index.to_timestamp()\n",
        "fig = go.Figure()\n",
        "# Total Sales line\n",
        "fig.add_trace(go.Scatter(\n",
        "    x=monthly_trends.index,\n",
        "    y=monthly_trends['Total Sales'],\n",
        "    mode='lines+markers',\n",
        "    name='Total Sales',\n",
        "    line=dict(shape='linear', color='blue'),\n",
        "    marker=dict(symbol='circle'),\n",
        "    hovertemplate='Month: %{x|%b %Y}<br>Total Sales: %{y:$,.2f}<extra></extra>'\n",
        "))\n",
        "# Operating Profit line\n",
        "fig.add_trace(go.Scatter(\n",
        "    x=monthly_trends.index,\n",
        "    y=monthly_trends['Operating Profit'],\n",
        "    mode='lines+markers',\n",
        "    name='Operating Profit',\n",
        "    line=dict(shape='linear', color='green'),\n",
        "    marker=dict(symbol='square'),\n",
        "    hovertemplate='Month: %{x|%b %Y}<br>Operating Profit: %{y:$,.2f}<extra></extra>'\n",
        "))\n",
        "fig.update_layout(\n",
        "    title='Monthly Trends of Sales and Profit',\n",
        "    xaxis_title='Month',\n",
        "    yaxis_title='Amount',\n",
        "    xaxis=dict(tickformat='%b %Y'),\n",
        "    hovermode='x unified',\n",
        "    height=500,\n",
        "    width=900,\n",
        ")\n",
        "fig.show()"
      ]
    },
    {
      "cell_type": "markdown",
      "metadata": {
        "id": "HOlv10EJRs47"
      },
      "source": [
        "# ***RACE CHART***\n",
        "This code creates an animated bar chart (also called a race chart) using Plotly Express to visualize how total sales by city change month-to-month. The data is first grouped by both the month (formatted as \"Year-Month\") and city, summing total sales for each combination. The chart displays cities on the x-axis with bars representing their total sales in each month. Different cities are color-coded for easy distinction. The animation cycles through each month chronologically, showing how sales rankings and values evolve over time. The y-axis range is fixed to the maximum total sales to keep the scale consistent throughout the animation. This dynamic visualization helps reveal seasonal trends and competitive shifts in city-level sales performance in a visually engaging way."
      ]
    },
    {
      "cell_type": "code",
      "execution_count": 13,
      "metadata": {
        "colab": {
          "base_uri": "https://localhost:8080/",
          "height": 542
        },
        "id": "c6pH6HxPD0kP",
        "outputId": "da625740-4d34-4cdc-bd42-8728834080da"
      },
      "outputs": [
        {
          "data": {
            "application/vnd.plotly.v1+json": {
              "config": {
                "plotlyServerURL": "https://plot.ly"
              },
              "data": [
                {
                  "hovertemplate": "City=%{x}<br>Year-Month=2020-01<br>Total Sales=%{y}<extra></extra>",
                  "legendgroup": "Las Vegas",
                  "marker": {
                    "color": "#636efa",
                    "pattern": {
                      "shape": ""
                    }
                  },
                  "name": "Las Vegas",
                  "orientation": "v",
                  "showlegend": true,
                  "textposition": "auto",
                  "type": "bar",
                  "x": [
                    "Las Vegas"
                  ],
                  "xaxis": "x",
                  "y": {
                    "bdata": "AAAAwMafVUE=",
                    "dtype": "f8"
                  },
                  "yaxis": "y"
                },
                {
                  "hovertemplate": "City=%{x}<br>Year-Month=2020-01<br>Total Sales=%{y}<extra></extra>",
                  "legendgroup": "New York",
                  "marker": {
                    "color": "#EF553B",
                    "pattern": {
                      "shape": ""
                    }
                  },
                  "name": "New York",
                  "orientation": "v",
                  "showlegend": true,
                  "textposition": "auto",
                  "type": "bar",
                  "x": [
                    "New York"
                  ],
                  "xaxis": "x",
                  "y": {
                    "bdata": "AAAAoGNhYkE=",
                    "dtype": "f8"
                  },
                  "yaxis": "y"
                },
                {
                  "hovertemplate": "City=%{x}<br>Year-Month=2020-01<br>Total Sales=%{y}<extra></extra>",
                  "legendgroup": "Philadelphia",
                  "marker": {
                    "color": "#00cc96",
                    "pattern": {
                      "shape": ""
                    }
                  },
                  "name": "Philadelphia",
                  "orientation": "v",
                  "showlegend": true,
                  "textposition": "auto",
                  "type": "bar",
                  "x": [
                    "Philadelphia"
                  ],
                  "xaxis": "x",
                  "y": {
                    "bdata": "AAAAAPTxLEE=",
                    "dtype": "f8"
                  },
                  "yaxis": "y"
                }
              ],
              "frames": [
                {
                  "data": [
                    {
                      "hovertemplate": "City=%{x}<br>Year-Month=2020-01<br>Total Sales=%{y}<extra></extra>",
                      "legendgroup": "Las Vegas",
                      "marker": {
                        "color": "#636efa",
                        "pattern": {
                          "shape": ""
                        }
                      },
                      "name": "Las Vegas",
                      "orientation": "v",
                      "showlegend": true,
                      "textposition": "auto",
                      "type": "bar",
                      "x": [
                        "Las Vegas"
                      ],
                      "xaxis": "x",
                      "y": {
                        "bdata": "AAAAwMafVUE=",
                        "dtype": "f8"
                      },
                      "yaxis": "y"
                    },
                    {
                      "hovertemplate": "City=%{x}<br>Year-Month=2020-01<br>Total Sales=%{y}<extra></extra>",
                      "legendgroup": "New York",
                      "marker": {
                        "color": "#EF553B",
                        "pattern": {
                          "shape": ""
                        }
                      },
                      "name": "New York",
                      "orientation": "v",
                      "showlegend": true,
                      "textposition": "auto",
                      "type": "bar",
                      "x": [
                        "New York"
                      ],
                      "xaxis": "x",
                      "y": {
                        "bdata": "AAAAoGNhYkE=",
                        "dtype": "f8"
                      },
                      "yaxis": "y"
                    },
                    {
                      "hovertemplate": "City=%{x}<br>Year-Month=2020-01<br>Total Sales=%{y}<extra></extra>",
                      "legendgroup": "Philadelphia",
                      "marker": {
                        "color": "#00cc96",
                        "pattern": {
                          "shape": ""
                        }
                      },
                      "name": "Philadelphia",
                      "orientation": "v",
                      "showlegend": true,
                      "textposition": "auto",
                      "type": "bar",
                      "x": [
                        "Philadelphia"
                      ],
                      "xaxis": "x",
                      "y": {
                        "bdata": "AAAAAPTxLEE=",
                        "dtype": "f8"
                      },
                      "yaxis": "y"
                    }
                  ],
                  "name": "2020-01"
                },
                {
                  "data": [
                    {
                      "hovertemplate": "City=%{x}<br>Year-Month=2020-02<br>Total Sales=%{y}<extra></extra>",
                      "legendgroup": "Las Vegas",
                      "marker": {
                        "color": "#636efa",
                        "pattern": {
                          "shape": ""
                        }
                      },
                      "name": "Las Vegas",
                      "orientation": "v",
                      "showlegend": true,
                      "textposition": "auto",
                      "type": "bar",
                      "x": [
                        "Las Vegas"
                      ],
                      "xaxis": "x",
                      "y": {
                        "bdata": "AAAAgEwEY0E=",
                        "dtype": "f8"
                      },
                      "yaxis": "y"
                    },
                    {
                      "hovertemplate": "City=%{x}<br>Year-Month=2020-02<br>Total Sales=%{y}<extra></extra>",
                      "legendgroup": "New York",
                      "marker": {
                        "color": "#EF553B",
                        "pattern": {
                          "shape": ""
                        }
                      },
                      "name": "New York",
                      "orientation": "v",
                      "showlegend": true,
                      "textposition": "auto",
                      "type": "bar",
                      "x": [
                        "New York"
                      ],
                      "xaxis": "x",
                      "y": {
                        "bdata": "AAAAAOAtU0E=",
                        "dtype": "f8"
                      },
                      "yaxis": "y"
                    }
                  ],
                  "name": "2020-02"
                },
                {
                  "data": [
                    {
                      "hovertemplate": "City=%{x}<br>Year-Month=2020-03<br>Total Sales=%{y}<extra></extra>",
                      "legendgroup": "Las Vegas",
                      "marker": {
                        "color": "#636efa",
                        "pattern": {
                          "shape": ""
                        }
                      },
                      "name": "Las Vegas",
                      "orientation": "v",
                      "showlegend": true,
                      "textposition": "auto",
                      "type": "bar",
                      "x": [
                        "Las Vegas"
                      ],
                      "xaxis": "x",
                      "y": {
                        "bdata": "AQAAgEPpU0E=",
                        "dtype": "f8"
                      },
                      "yaxis": "y"
                    },
                    {
                      "hovertemplate": "City=%{x}<br>Year-Month=2020-03<br>Total Sales=%{y}<extra></extra>",
                      "legendgroup": "New York",
                      "marker": {
                        "color": "#EF553B",
                        "pattern": {
                          "shape": ""
                        }
                      },
                      "name": "New York",
                      "orientation": "v",
                      "showlegend": true,
                      "textposition": "auto",
                      "type": "bar",
                      "x": [
                        "New York"
                      ],
                      "xaxis": "x",
                      "y": {
                        "bdata": "AAAAYOO6Y0E=",
                        "dtype": "f8"
                      },
                      "yaxis": "y"
                    },
                    {
                      "hovertemplate": "City=%{x}<br>Year-Month=2020-03<br>Total Sales=%{y}<extra></extra>",
                      "legendgroup": "Denver",
                      "marker": {
                        "color": "#ab63fa",
                        "pattern": {
                          "shape": ""
                        }
                      },
                      "name": "Denver",
                      "orientation": "v",
                      "showlegend": true,
                      "textposition": "auto",
                      "type": "bar",
                      "x": [
                        "Denver"
                      ],
                      "xaxis": "x",
                      "y": {
                        "bdata": "AAAAAHj+P0E=",
                        "dtype": "f8"
                      },
                      "yaxis": "y"
                    }
                  ],
                  "name": "2020-03"
                },
                {
                  "data": [
                    {
                      "hovertemplate": "City=%{x}<br>Year-Month=2020-04<br>Total Sales=%{y}<extra></extra>",
                      "legendgroup": "New York",
                      "marker": {
                        "color": "#EF553B",
                        "pattern": {
                          "shape": ""
                        }
                      },
                      "name": "New York",
                      "orientation": "v",
                      "showlegend": true,
                      "textposition": "auto",
                      "type": "bar",
                      "x": [
                        "New York"
                      ],
                      "xaxis": "x",
                      "y": {
                        "bdata": "AAAAoAtcYEE=",
                        "dtype": "f8"
                      },
                      "yaxis": "y"
                    },
                    {
                      "hovertemplate": "City=%{x}<br>Year-Month=2020-04<br>Total Sales=%{y}<extra></extra>",
                      "legendgroup": "Denver",
                      "marker": {
                        "color": "#ab63fa",
                        "pattern": {
                          "shape": ""
                        }
                      },
                      "name": "Denver",
                      "orientation": "v",
                      "showlegend": true,
                      "textposition": "auto",
                      "type": "bar",
                      "x": [
                        "Denver"
                      ],
                      "xaxis": "x",
                      "y": {
                        "bdata": "AAAAwBklY0E=",
                        "dtype": "f8"
                      },
                      "yaxis": "y"
                    },
                    {
                      "hovertemplate": "City=%{x}<br>Year-Month=2020-04<br>Total Sales=%{y}<extra></extra>",
                      "legendgroup": "Miami",
                      "marker": {
                        "color": "#FFA15A",
                        "pattern": {
                          "shape": ""
                        }
                      },
                      "name": "Miami",
                      "orientation": "v",
                      "showlegend": true,
                      "textposition": "auto",
                      "type": "bar",
                      "x": [
                        "Miami"
                      ],
                      "xaxis": "x",
                      "y": {
                        "bdata": "AAAAwPzbVkE=",
                        "dtype": "f8"
                      },
                      "yaxis": "y"
                    }
                  ],
                  "name": "2020-04"
                },
                {
                  "data": [
                    {
                      "hovertemplate": "City=%{x}<br>Year-Month=2020-05<br>Total Sales=%{y}<extra></extra>",
                      "legendgroup": "New York",
                      "marker": {
                        "color": "#EF553B",
                        "pattern": {
                          "shape": ""
                        }
                      },
                      "name": "New York",
                      "orientation": "v",
                      "showlegend": true,
                      "textposition": "auto",
                      "type": "bar",
                      "x": [
                        "New York"
                      ],
                      "xaxis": "x",
                      "y": {
                        "bdata": "AAAAAMDHUEE=",
                        "dtype": "f8"
                      },
                      "yaxis": "y"
                    },
                    {
                      "hovertemplate": "City=%{x}<br>Year-Month=2020-05<br>Total Sales=%{y}<extra></extra>",
                      "legendgroup": "Denver",
                      "marker": {
                        "color": "#ab63fa",
                        "pattern": {
                          "shape": ""
                        }
                      },
                      "name": "Denver",
                      "orientation": "v",
                      "showlegend": true,
                      "textposition": "auto",
                      "type": "bar",
                      "x": [
                        "Denver"
                      ],
                      "xaxis": "x",
                      "y": {
                        "bdata": "AQAAQE7nYEE=",
                        "dtype": "f8"
                      },
                      "yaxis": "y"
                    },
                    {
                      "hovertemplate": "City=%{x}<br>Year-Month=2020-05<br>Total Sales=%{y}<extra></extra>",
                      "legendgroup": "Miami",
                      "marker": {
                        "color": "#FFA15A",
                        "pattern": {
                          "shape": ""
                        }
                      },
                      "name": "Miami",
                      "orientation": "v",
                      "showlegend": true,
                      "textposition": "auto",
                      "type": "bar",
                      "x": [
                        "Miami"
                      ],
                      "xaxis": "x",
                      "y": {
                        "bdata": "AAAAgO/eSEE=",
                        "dtype": "f8"
                      },
                      "yaxis": "y"
                    },
                    {
                      "hovertemplate": "City=%{x}<br>Year-Month=2020-05<br>Total Sales=%{y}<extra></extra>",
                      "legendgroup": "Seattle",
                      "marker": {
                        "color": "#19d3f3",
                        "pattern": {
                          "shape": ""
                        }
                      },
                      "name": "Seattle",
                      "orientation": "v",
                      "showlegend": true,
                      "textposition": "auto",
                      "type": "bar",
                      "x": [
                        "Seattle"
                      ],
                      "xaxis": "x",
                      "y": {
                        "bdata": "AAAAALQ6GEE=",
                        "dtype": "f8"
                      },
                      "yaxis": "y"
                    }
                  ],
                  "name": "2020-05"
                },
                {
                  "data": [
                    {
                      "hovertemplate": "City=%{x}<br>Year-Month=2020-06<br>Total Sales=%{y}<extra></extra>",
                      "legendgroup": "Seattle",
                      "marker": {
                        "color": "#19d3f3",
                        "pattern": {
                          "shape": ""
                        }
                      },
                      "name": "Seattle",
                      "orientation": "v",
                      "showlegend": true,
                      "textposition": "auto",
                      "type": "bar",
                      "x": [
                        "Seattle"
                      ],
                      "xaxis": "x",
                      "y": {
                        "bdata": "AAAAYG/XYEE=",
                        "dtype": "f8"
                      },
                      "yaxis": "y"
                    }
                  ],
                  "name": "2020-06"
                },
                {
                  "data": [
                    {
                      "hovertemplate": "City=%{x}<br>Year-Month=2020-07<br>Total Sales=%{y}<extra></extra>",
                      "legendgroup": "New York",
                      "marker": {
                        "color": "#EF553B",
                        "pattern": {
                          "shape": ""
                        }
                      },
                      "name": "New York",
                      "orientation": "v",
                      "showlegend": true,
                      "textposition": "auto",
                      "type": "bar",
                      "x": [
                        "New York"
                      ],
                      "xaxis": "x",
                      "y": {
                        "bdata": "AAAAAH64O0E=",
                        "dtype": "f8"
                      },
                      "yaxis": "y"
                    },
                    {
                      "hovertemplate": "City=%{x}<br>Year-Month=2020-07<br>Total Sales=%{y}<extra></extra>",
                      "legendgroup": "Seattle",
                      "marker": {
                        "color": "#19d3f3",
                        "pattern": {
                          "shape": ""
                        }
                      },
                      "name": "Seattle",
                      "orientation": "v",
                      "showlegend": true,
                      "textposition": "auto",
                      "type": "bar",
                      "x": [
                        "Seattle"
                      ],
                      "xaxis": "x",
                      "y": {
                        "bdata": "AQAAQEj1aEE=",
                        "dtype": "f8"
                      },
                      "yaxis": "y"
                    },
                    {
                      "hovertemplate": "City=%{x}<br>Year-Month=2020-07<br>Total Sales=%{y}<extra></extra>",
                      "legendgroup": "Houston",
                      "marker": {
                        "color": "#FF6692",
                        "pattern": {
                          "shape": ""
                        }
                      },
                      "name": "Houston",
                      "orientation": "v",
                      "showlegend": true,
                      "textposition": "auto",
                      "type": "bar",
                      "x": [
                        "Houston"
                      ],
                      "xaxis": "x",
                      "y": {
                        "bdata": "AAAAgO4eQUE=",
                        "dtype": "f8"
                      },
                      "yaxis": "y"
                    }
                  ],
                  "name": "2020-07"
                },
                {
                  "data": [
                    {
                      "hovertemplate": "City=%{x}<br>Year-Month=2020-08<br>Total Sales=%{y}<extra></extra>",
                      "legendgroup": "Miami",
                      "marker": {
                        "color": "#FFA15A",
                        "pattern": {
                          "shape": ""
                        }
                      },
                      "name": "Miami",
                      "orientation": "v",
                      "showlegend": true,
                      "textposition": "auto",
                      "type": "bar",
                      "x": [
                        "Miami"
                      ],
                      "xaxis": "x",
                      "y": {
                        "bdata": "AAAAADyxU0E=",
                        "dtype": "f8"
                      },
                      "yaxis": "y"
                    },
                    {
                      "hovertemplate": "City=%{x}<br>Year-Month=2020-08<br>Total Sales=%{y}<extra></extra>",
                      "legendgroup": "Seattle",
                      "marker": {
                        "color": "#19d3f3",
                        "pattern": {
                          "shape": ""
                        }
                      },
                      "name": "Seattle",
                      "orientation": "v",
                      "showlegend": true,
                      "textposition": "auto",
                      "type": "bar",
                      "x": [
                        "Seattle"
                      ],
                      "xaxis": "x",
                      "y": {
                        "bdata": "AQAAAPqoTkE=",
                        "dtype": "f8"
                      },
                      "yaxis": "y"
                    },
                    {
                      "hovertemplate": "City=%{x}<br>Year-Month=2020-08<br>Total Sales=%{y}<extra></extra>",
                      "legendgroup": "Houston",
                      "marker": {
                        "color": "#FF6692",
                        "pattern": {
                          "shape": ""
                        }
                      },
                      "name": "Houston",
                      "orientation": "v",
                      "showlegend": true,
                      "textposition": "auto",
                      "type": "bar",
                      "x": [
                        "Houston"
                      ],
                      "xaxis": "x",
                      "y": {
                        "bdata": "AAAAAC9nZEE=",
                        "dtype": "f8"
                      },
                      "yaxis": "y"
                    }
                  ],
                  "name": "2020-08"
                },
                {
                  "data": [
                    {
                      "hovertemplate": "City=%{x}<br>Year-Month=2020-09<br>Total Sales=%{y}<extra></extra>",
                      "legendgroup": "Miami",
                      "marker": {
                        "color": "#FFA15A",
                        "pattern": {
                          "shape": ""
                        }
                      },
                      "name": "Miami",
                      "orientation": "v",
                      "showlegend": true,
                      "textposition": "auto",
                      "type": "bar",
                      "x": [
                        "Miami"
                      ],
                      "xaxis": "x",
                      "y": {
                        "bdata": "AQAAQEhUZ0E=",
                        "dtype": "f8"
                      },
                      "yaxis": "y"
                    },
                    {
                      "hovertemplate": "City=%{x}<br>Year-Month=2020-09<br>Total Sales=%{y}<extra></extra>",
                      "legendgroup": "Houston",
                      "marker": {
                        "color": "#FF6692",
                        "pattern": {
                          "shape": ""
                        }
                      },
                      "name": "Houston",
                      "orientation": "v",
                      "showlegend": true,
                      "textposition": "auto",
                      "type": "bar",
                      "x": [
                        "Houston"
                      ],
                      "xaxis": "x",
                      "y": {
                        "bdata": "AAAAgNwqV0E=",
                        "dtype": "f8"
                      },
                      "yaxis": "y"
                    }
                  ],
                  "name": "2020-09"
                },
                {
                  "data": [
                    {
                      "hovertemplate": "City=%{x}<br>Year-Month=2020-10<br>Total Sales=%{y}<extra></extra>",
                      "legendgroup": "Miami",
                      "marker": {
                        "color": "#FFA15A",
                        "pattern": {
                          "shape": ""
                        }
                      },
                      "name": "Miami",
                      "orientation": "v",
                      "showlegend": true,
                      "textposition": "auto",
                      "type": "bar",
                      "x": [
                        "Miami"
                      ],
                      "xaxis": "x",
                      "y": {
                        "bdata": "AQAAwPbmUkE=",
                        "dtype": "f8"
                      },
                      "yaxis": "y"
                    },
                    {
                      "hovertemplate": "City=%{x}<br>Year-Month=2020-10<br>Total Sales=%{y}<extra></extra>",
                      "legendgroup": "Houston",
                      "marker": {
                        "color": "#FF6692",
                        "pattern": {
                          "shape": ""
                        }
                      },
                      "name": "Houston",
                      "orientation": "v",
                      "showlegend": true,
                      "textposition": "auto",
                      "type": "bar",
                      "x": [
                        "Houston"
                      ],
                      "xaxis": "x",
                      "y": {
                        "bdata": "AAAAgBD8UkE=",
                        "dtype": "f8"
                      },
                      "yaxis": "y"
                    },
                    {
                      "hovertemplate": "City=%{x}<br>Year-Month=2020-10<br>Total Sales=%{y}<extra></extra>",
                      "legendgroup": "Minneapolis",
                      "marker": {
                        "color": "#B6E880",
                        "pattern": {
                          "shape": ""
                        }
                      },
                      "name": "Minneapolis",
                      "orientation": "v",
                      "showlegend": true,
                      "textposition": "auto",
                      "type": "bar",
                      "x": [
                        "Minneapolis"
                      ],
                      "xaxis": "x",
                      "y": {
                        "bdata": "AAAAACCaK0E=",
                        "dtype": "f8"
                      },
                      "yaxis": "y"
                    }
                  ],
                  "name": "2020-10"
                },
                {
                  "data": [
                    {
                      "hovertemplate": "City=%{x}<br>Year-Month=2020-11<br>Total Sales=%{y}<extra></extra>",
                      "legendgroup": "Houston",
                      "marker": {
                        "color": "#FF6692",
                        "pattern": {
                          "shape": ""
                        }
                      },
                      "name": "Houston",
                      "orientation": "v",
                      "showlegend": true,
                      "textposition": "auto",
                      "type": "bar",
                      "x": [
                        "Houston"
                      ],
                      "xaxis": "x",
                      "y": {
                        "bdata": "AAAAAOldNkE=",
                        "dtype": "f8"
                      },
                      "yaxis": "y"
                    },
                    {
                      "hovertemplate": "City=%{x}<br>Year-Month=2020-11<br>Total Sales=%{y}<extra></extra>",
                      "legendgroup": "Minneapolis",
                      "marker": {
                        "color": "#B6E880",
                        "pattern": {
                          "shape": ""
                        }
                      },
                      "name": "Minneapolis",
                      "orientation": "v",
                      "showlegend": true,
                      "textposition": "auto",
                      "type": "bar",
                      "x": [
                        "Minneapolis"
                      ],
                      "xaxis": "x",
                      "y": {
                        "bdata": "AAAAABMWR0E=",
                        "dtype": "f8"
                      },
                      "yaxis": "y"
                    },
                    {
                      "hovertemplate": "City=%{x}<br>Year-Month=2020-11<br>Total Sales=%{y}<extra></extra>",
                      "legendgroup": "San Francisco",
                      "marker": {
                        "color": "#FF97FF",
                        "pattern": {
                          "shape": ""
                        }
                      },
                      "name": "San Francisco",
                      "orientation": "v",
                      "showlegend": true,
                      "textposition": "auto",
                      "type": "bar",
                      "x": [
                        "San Francisco"
                      ],
                      "xaxis": "x",
                      "y": {
                        "bdata": "AAAAgGaDT0E=",
                        "dtype": "f8"
                      },
                      "yaxis": "y"
                    }
                  ],
                  "name": "2020-11"
                },
                {
                  "data": [
                    {
                      "hovertemplate": "City=%{x}<br>Year-Month=2020-12<br>Total Sales=%{y}<extra></extra>",
                      "legendgroup": "Minneapolis",
                      "marker": {
                        "color": "#B6E880",
                        "pattern": {
                          "shape": ""
                        }
                      },
                      "name": "Minneapolis",
                      "orientation": "v",
                      "showlegend": true,
                      "textposition": "auto",
                      "type": "bar",
                      "x": [
                        "Minneapolis"
                      ],
                      "xaxis": "x",
                      "y": {
                        "bdata": "AAAAAK9NSkE=",
                        "dtype": "f8"
                      },
                      "yaxis": "y"
                    },
                    {
                      "hovertemplate": "City=%{x}<br>Year-Month=2020-12<br>Total Sales=%{y}<extra></extra>",
                      "legendgroup": "San Francisco",
                      "marker": {
                        "color": "#FF97FF",
                        "pattern": {
                          "shape": ""
                        }
                      },
                      "name": "San Francisco",
                      "orientation": "v",
                      "showlegend": true,
                      "textposition": "auto",
                      "type": "bar",
                      "x": [
                        "San Francisco"
                      ],
                      "xaxis": "x",
                      "y": {
                        "bdata": "AAAAQJB3UUE=",
                        "dtype": "f8"
                      },
                      "yaxis": "y"
                    }
                  ],
                  "name": "2020-12"
                },
                {
                  "data": [
                    {
                      "hovertemplate": "City=%{x}<br>Year-Month=2021-01<br>Total Sales=%{y}<extra></extra>",
                      "legendgroup": "San Francisco",
                      "marker": {
                        "color": "#FF97FF",
                        "pattern": {
                          "shape": ""
                        }
                      },
                      "name": "San Francisco",
                      "orientation": "v",
                      "showlegend": true,
                      "textposition": "auto",
                      "type": "bar",
                      "x": [
                        "San Francisco"
                      ],
                      "xaxis": "x",
                      "y": {
                        "bdata": "AAAAUHEVcEE=",
                        "dtype": "f8"
                      },
                      "yaxis": "y"
                    },
                    {
                      "hovertemplate": "City=%{x}<br>Year-Month=2021-01<br>Total Sales=%{y}<extra></extra>",
                      "legendgroup": "Albany",
                      "marker": {
                        "color": "#FECB52",
                        "pattern": {
                          "shape": ""
                        }
                      },
                      "name": "Albany",
                      "orientation": "v",
                      "showlegend": true,
                      "textposition": "auto",
                      "type": "bar",
                      "x": [
                        "Albany"
                      ],
                      "xaxis": "x",
                      "y": {
                        "bdata": "AAAAAO+7NUE=",
                        "dtype": "f8"
                      },
                      "yaxis": "y"
                    },
                    {
                      "hovertemplate": "City=%{x}<br>Year-Month=2021-01<br>Total Sales=%{y}<extra></extra>",
                      "legendgroup": "Albuquerque",
                      "marker": {
                        "color": "#636efa",
                        "pattern": {
                          "shape": ""
                        }
                      },
                      "name": "Albuquerque",
                      "orientation": "v",
                      "showlegend": true,
                      "textposition": "auto",
                      "type": "bar",
                      "x": [
                        "Albuquerque"
                      ],
                      "xaxis": "x",
                      "y": {
                        "bdata": "AAAAAEIPLUE=",
                        "dtype": "f8"
                      },
                      "yaxis": "y"
                    },
                    {
                      "hovertemplate": "City=%{x}<br>Year-Month=2021-01<br>Total Sales=%{y}<extra></extra>",
                      "legendgroup": "Anchorage",
                      "marker": {
                        "color": "#EF553B",
                        "pattern": {
                          "shape": ""
                        }
                      },
                      "name": "Anchorage",
                      "orientation": "v",
                      "showlegend": true,
                      "textposition": "auto",
                      "type": "bar",
                      "x": [
                        "Anchorage"
                      ],
                      "xaxis": "x",
                      "y": {
                        "bdata": "AAAAAKrCL0E=",
                        "dtype": "f8"
                      },
                      "yaxis": "y"
                    },
                    {
                      "hovertemplate": "City=%{x}<br>Year-Month=2021-01<br>Total Sales=%{y}<extra></extra>",
                      "legendgroup": "Atlanta",
                      "marker": {
                        "color": "#00cc96",
                        "pattern": {
                          "shape": ""
                        }
                      },
                      "name": "Atlanta",
                      "orientation": "v",
                      "showlegend": true,
                      "textposition": "auto",
                      "type": "bar",
                      "x": [
                        "Atlanta"
                      ],
                      "xaxis": "x",
                      "y": {
                        "bdata": "AAAAALqvPkE=",
                        "dtype": "f8"
                      },
                      "yaxis": "y"
                    },
                    {
                      "hovertemplate": "City=%{x}<br>Year-Month=2021-01<br>Total Sales=%{y}<extra></extra>",
                      "legendgroup": "Baltimore",
                      "marker": {
                        "color": "#ab63fa",
                        "pattern": {
                          "shape": ""
                        }
                      },
                      "name": "Baltimore",
                      "orientation": "v",
                      "showlegend": true,
                      "textposition": "auto",
                      "type": "bar",
                      "x": [
                        "Baltimore"
                      ],
                      "xaxis": "x",
                      "y": {
                        "bdata": "AAAAAFQrJ0E=",
                        "dtype": "f8"
                      },
                      "yaxis": "y"
                    },
                    {
                      "hovertemplate": "City=%{x}<br>Year-Month=2021-01<br>Total Sales=%{y}<extra></extra>",
                      "legendgroup": "Billings",
                      "marker": {
                        "color": "#FFA15A",
                        "pattern": {
                          "shape": ""
                        }
                      },
                      "name": "Billings",
                      "orientation": "v",
                      "showlegend": true,
                      "textposition": "auto",
                      "type": "bar",
                      "x": [
                        "Billings"
                      ],
                      "xaxis": "x",
                      "y": {
                        "bdata": "AAAAQDzGVUE=",
                        "dtype": "f8"
                      },
                      "yaxis": "y"
                    },
                    {
                      "hovertemplate": "City=%{x}<br>Year-Month=2021-01<br>Total Sales=%{y}<extra></extra>",
                      "legendgroup": "Boise",
                      "marker": {
                        "color": "#19d3f3",
                        "pattern": {
                          "shape": ""
                        }
                      },
                      "name": "Boise",
                      "orientation": "v",
                      "showlegend": true,
                      "textposition": "auto",
                      "type": "bar",
                      "x": [
                        "Boise"
                      ],
                      "xaxis": "x",
                      "y": {
                        "bdata": "AAAAAPgqK0E=",
                        "dtype": "f8"
                      },
                      "yaxis": "y"
                    },
                    {
                      "hovertemplate": "City=%{x}<br>Year-Month=2021-01<br>Total Sales=%{y}<extra></extra>",
                      "legendgroup": "Boston",
                      "marker": {
                        "color": "#FF6692",
                        "pattern": {
                          "shape": ""
                        }
                      },
                      "name": "Boston",
                      "orientation": "v",
                      "showlegend": true,
                      "textposition": "auto",
                      "type": "bar",
                      "x": [
                        "Boston"
                      ],
                      "xaxis": "x",
                      "y": {
                        "bdata": "AAAAAPrZKkE=",
                        "dtype": "f8"
                      },
                      "yaxis": "y"
                    },
                    {
                      "hovertemplate": "City=%{x}<br>Year-Month=2021-01<br>Total Sales=%{y}<extra></extra>",
                      "legendgroup": "Burlington",
                      "marker": {
                        "color": "#B6E880",
                        "pattern": {
                          "shape": ""
                        }
                      },
                      "name": "Burlington",
                      "orientation": "v",
                      "showlegend": true,
                      "textposition": "auto",
                      "type": "bar",
                      "x": [
                        "Burlington"
                      ],
                      "xaxis": "x",
                      "y": {
                        "bdata": "AAAAAMDLLUE=",
                        "dtype": "f8"
                      },
                      "yaxis": "y"
                    },
                    {
                      "hovertemplate": "City=%{x}<br>Year-Month=2021-01<br>Total Sales=%{y}<extra></extra>",
                      "legendgroup": "Charleston",
                      "marker": {
                        "color": "#FF97FF",
                        "pattern": {
                          "shape": ""
                        }
                      },
                      "name": "Charleston",
                      "orientation": "v",
                      "showlegend": true,
                      "textposition": "auto",
                      "type": "bar",
                      "x": [
                        "Charleston"
                      ],
                      "xaxis": "x",
                      "y": {
                        "bdata": "AAAAAL3VPUE=",
                        "dtype": "f8"
                      },
                      "yaxis": "y"
                    },
                    {
                      "hovertemplate": "City=%{x}<br>Year-Month=2021-01<br>Total Sales=%{y}<extra></extra>",
                      "legendgroup": "Charlotte",
                      "marker": {
                        "color": "#FECB52",
                        "pattern": {
                          "shape": ""
                        }
                      },
                      "name": "Charlotte",
                      "orientation": "v",
                      "showlegend": true,
                      "textposition": "auto",
                      "type": "bar",
                      "x": [
                        "Charlotte"
                      ],
                      "xaxis": "x",
                      "y": {
                        "bdata": "AAAAACsjMkE=",
                        "dtype": "f8"
                      },
                      "yaxis": "y"
                    },
                    {
                      "hovertemplate": "City=%{x}<br>Year-Month=2021-01<br>Total Sales=%{y}<extra></extra>",
                      "legendgroup": "Cheyenne",
                      "marker": {
                        "color": "#636efa",
                        "pattern": {
                          "shape": ""
                        }
                      },
                      "name": "Cheyenne",
                      "orientation": "v",
                      "showlegend": true,
                      "textposition": "auto",
                      "type": "bar",
                      "x": [
                        "Cheyenne"
                      ],
                      "xaxis": "x",
                      "y": {
                        "bdata": "AAAAAESxJUE=",
                        "dtype": "f8"
                      },
                      "yaxis": "y"
                    },
                    {
                      "hovertemplate": "City=%{x}<br>Year-Month=2021-01<br>Total Sales=%{y}<extra></extra>",
                      "legendgroup": "Columbus",
                      "marker": {
                        "color": "#EF553B",
                        "pattern": {
                          "shape": ""
                        }
                      },
                      "name": "Columbus",
                      "orientation": "v",
                      "showlegend": true,
                      "textposition": "auto",
                      "type": "bar",
                      "x": [
                        "Columbus"
                      ],
                      "xaxis": "x",
                      "y": {
                        "bdata": "AAAAAOBXJUE=",
                        "dtype": "f8"
                      },
                      "yaxis": "y"
                    },
                    {
                      "hovertemplate": "City=%{x}<br>Year-Month=2021-01<br>Total Sales=%{y}<extra></extra>",
                      "legendgroup": "Des Moines",
                      "marker": {
                        "color": "#00cc96",
                        "pattern": {
                          "shape": ""
                        }
                      },
                      "name": "Des Moines",
                      "orientation": "v",
                      "showlegend": true,
                      "textposition": "auto",
                      "type": "bar",
                      "x": [
                        "Des Moines"
                      ],
                      "xaxis": "x",
                      "y": {
                        "bdata": "AgAAALRQGkE=",
                        "dtype": "f8"
                      },
                      "yaxis": "y"
                    },
                    {
                      "hovertemplate": "City=%{x}<br>Year-Month=2021-01<br>Total Sales=%{y}<extra></extra>",
                      "legendgroup": "Detroit",
                      "marker": {
                        "color": "#ab63fa",
                        "pattern": {
                          "shape": ""
                        }
                      },
                      "name": "Detroit",
                      "orientation": "v",
                      "showlegend": true,
                      "textposition": "auto",
                      "type": "bar",
                      "x": [
                        "Detroit"
                      ],
                      "xaxis": "x",
                      "y": {
                        "bdata": "AAAAAAbBJkE=",
                        "dtype": "f8"
                      },
                      "yaxis": "y"
                    },
                    {
                      "hovertemplate": "City=%{x}<br>Year-Month=2021-01<br>Total Sales=%{y}<extra></extra>",
                      "legendgroup": "Fargo",
                      "marker": {
                        "color": "#FFA15A",
                        "pattern": {
                          "shape": ""
                        }
                      },
                      "name": "Fargo",
                      "orientation": "v",
                      "showlegend": true,
                      "textposition": "auto",
                      "type": "bar",
                      "x": [
                        "Fargo"
                      ],
                      "xaxis": "x",
                      "y": {
                        "bdata": "AgAAAJRJGkE=",
                        "dtype": "f8"
                      },
                      "yaxis": "y"
                    },
                    {
                      "hovertemplate": "City=%{x}<br>Year-Month=2021-01<br>Total Sales=%{y}<extra></extra>",
                      "legendgroup": "Hartford",
                      "marker": {
                        "color": "#19d3f3",
                        "pattern": {
                          "shape": ""
                        }
                      },
                      "name": "Hartford",
                      "orientation": "v",
                      "showlegend": true,
                      "textposition": "auto",
                      "type": "bar",
                      "x": [
                        "Hartford"
                      ],
                      "xaxis": "x",
                      "y": {
                        "bdata": "AAAAABBQHEE=",
                        "dtype": "f8"
                      },
                      "yaxis": "y"
                    },
                    {
                      "hovertemplate": "City=%{x}<br>Year-Month=2021-01<br>Total Sales=%{y}<extra></extra>",
                      "legendgroup": "Honolulu",
                      "marker": {
                        "color": "#FF6692",
                        "pattern": {
                          "shape": ""
                        }
                      },
                      "name": "Honolulu",
                      "orientation": "v",
                      "showlegend": true,
                      "textposition": "auto",
                      "type": "bar",
                      "x": [
                        "Honolulu"
                      ],
                      "xaxis": "x",
                      "y": {
                        "bdata": "AAAAAG4iMUE=",
                        "dtype": "f8"
                      },
                      "yaxis": "y"
                    },
                    {
                      "hovertemplate": "City=%{x}<br>Year-Month=2021-01<br>Total Sales=%{y}<extra></extra>",
                      "legendgroup": "Indianapolis",
                      "marker": {
                        "color": "#B6E880",
                        "pattern": {
                          "shape": ""
                        }
                      },
                      "name": "Indianapolis",
                      "orientation": "v",
                      "showlegend": true,
                      "textposition": "auto",
                      "type": "bar",
                      "x": [
                        "Indianapolis"
                      ],
                      "xaxis": "x",
                      "y": {
                        "bdata": "AAAAANiaIkE=",
                        "dtype": "f8"
                      },
                      "yaxis": "y"
                    },
                    {
                      "hovertemplate": "City=%{x}<br>Year-Month=2021-01<br>Total Sales=%{y}<extra></extra>",
                      "legendgroup": "Jackson",
                      "marker": {
                        "color": "#FF97FF",
                        "pattern": {
                          "shape": ""
                        }
                      },
                      "name": "Jackson",
                      "orientation": "v",
                      "showlegend": true,
                      "textposition": "auto",
                      "type": "bar",
                      "x": [
                        "Jackson"
                      ],
                      "xaxis": "x",
                      "y": {
                        "bdata": "AQAAALhrJEE=",
                        "dtype": "f8"
                      },
                      "yaxis": "y"
                    },
                    {
                      "hovertemplate": "City=%{x}<br>Year-Month=2021-01<br>Total Sales=%{y}<extra></extra>",
                      "legendgroup": "Little Rock",
                      "marker": {
                        "color": "#FECB52",
                        "pattern": {
                          "shape": ""
                        }
                      },
                      "name": "Little Rock",
                      "orientation": "v",
                      "showlegend": true,
                      "textposition": "auto",
                      "type": "bar",
                      "x": [
                        "Little Rock"
                      ],
                      "xaxis": "x",
                      "y": {
                        "bdata": "AQAAAHrvIEE=",
                        "dtype": "f8"
                      },
                      "yaxis": "y"
                    },
                    {
                      "hovertemplate": "City=%{x}<br>Year-Month=2021-01<br>Total Sales=%{y}<extra></extra>",
                      "legendgroup": "Louisville",
                      "marker": {
                        "color": "#636efa",
                        "pattern": {
                          "shape": ""
                        }
                      },
                      "name": "Louisville",
                      "orientation": "v",
                      "showlegend": true,
                      "textposition": "auto",
                      "type": "bar",
                      "x": [
                        "Louisville"
                      ],
                      "xaxis": "x",
                      "y": {
                        "bdata": "AQAAAFA6LEE=",
                        "dtype": "f8"
                      },
                      "yaxis": "y"
                    },
                    {
                      "hovertemplate": "City=%{x}<br>Year-Month=2021-01<br>Total Sales=%{y}<extra></extra>",
                      "legendgroup": "Manchester",
                      "marker": {
                        "color": "#EF553B",
                        "pattern": {
                          "shape": ""
                        }
                      },
                      "name": "Manchester",
                      "orientation": "v",
                      "showlegend": true,
                      "textposition": "auto",
                      "type": "bar",
                      "x": [
                        "Manchester"
                      ],
                      "xaxis": "x",
                      "y": {
                        "bdata": "AQAAAAhGLkE=",
                        "dtype": "f8"
                      },
                      "yaxis": "y"
                    },
                    {
                      "hovertemplate": "City=%{x}<br>Year-Month=2021-01<br>Total Sales=%{y}<extra></extra>",
                      "legendgroup": "Milwaukee",
                      "marker": {
                        "color": "#00cc96",
                        "pattern": {
                          "shape": ""
                        }
                      },
                      "name": "Milwaukee",
                      "orientation": "v",
                      "showlegend": true,
                      "textposition": "auto",
                      "type": "bar",
                      "x": [
                        "Milwaukee"
                      ],
                      "xaxis": "x",
                      "y": {
                        "bdata": "AAAAAHSgIkE=",
                        "dtype": "f8"
                      },
                      "yaxis": "y"
                    },
                    {
                      "hovertemplate": "City=%{x}<br>Year-Month=2021-01<br>Total Sales=%{y}<extra></extra>",
                      "legendgroup": "New Orleans",
                      "marker": {
                        "color": "#ab63fa",
                        "pattern": {
                          "shape": ""
                        }
                      },
                      "name": "New Orleans",
                      "orientation": "v",
                      "showlegend": true,
                      "textposition": "auto",
                      "type": "bar",
                      "x": [
                        "New Orleans"
                      ],
                      "xaxis": "x",
                      "y": {
                        "bdata": "AAAAAGwrLkE=",
                        "dtype": "f8"
                      },
                      "yaxis": "y"
                    },
                    {
                      "hovertemplate": "City=%{x}<br>Year-Month=2021-01<br>Total Sales=%{y}<extra></extra>",
                      "legendgroup": "Newark",
                      "marker": {
                        "color": "#FFA15A",
                        "pattern": {
                          "shape": ""
                        }
                      },
                      "name": "Newark",
                      "orientation": "v",
                      "showlegend": true,
                      "textposition": "auto",
                      "type": "bar",
                      "x": [
                        "Newark"
                      ],
                      "xaxis": "x",
                      "y": {
                        "bdata": "AAAAADBfJUE=",
                        "dtype": "f8"
                      },
                      "yaxis": "y"
                    },
                    {
                      "hovertemplate": "City=%{x}<br>Year-Month=2021-01<br>Total Sales=%{y}<extra></extra>",
                      "legendgroup": "Oklahoma City",
                      "marker": {
                        "color": "#19d3f3",
                        "pattern": {
                          "shape": ""
                        }
                      },
                      "name": "Oklahoma City",
                      "orientation": "v",
                      "showlegend": true,
                      "textposition": "auto",
                      "type": "bar",
                      "x": [
                        "Oklahoma City"
                      ],
                      "xaxis": "x",
                      "y": {
                        "bdata": "AgAAAPiFH0E=",
                        "dtype": "f8"
                      },
                      "yaxis": "y"
                    },
                    {
                      "hovertemplate": "City=%{x}<br>Year-Month=2021-01<br>Total Sales=%{y}<extra></extra>",
                      "legendgroup": "Orlando",
                      "marker": {
                        "color": "#FF6692",
                        "pattern": {
                          "shape": ""
                        }
                      },
                      "name": "Orlando",
                      "orientation": "v",
                      "showlegend": true,
                      "textposition": "auto",
                      "type": "bar",
                      "x": [
                        "Orlando"
                      ],
                      "xaxis": "x",
                      "y": {
                        "bdata": "AAAAACI6O0E=",
                        "dtype": "f8"
                      },
                      "yaxis": "y"
                    },
                    {
                      "hovertemplate": "City=%{x}<br>Year-Month=2021-01<br>Total Sales=%{y}<extra></extra>",
                      "legendgroup": "Phoenix",
                      "marker": {
                        "color": "#B6E880",
                        "pattern": {
                          "shape": ""
                        }
                      },
                      "name": "Phoenix",
                      "orientation": "v",
                      "showlegend": true,
                      "textposition": "auto",
                      "type": "bar",
                      "x": [
                        "Phoenix"
                      ],
                      "xaxis": "x",
                      "y": {
                        "bdata": "AAAAAKR6MUE=",
                        "dtype": "f8"
                      },
                      "yaxis": "y"
                    },
                    {
                      "hovertemplate": "City=%{x}<br>Year-Month=2021-01<br>Total Sales=%{y}<extra></extra>",
                      "legendgroup": "Portland",
                      "marker": {
                        "color": "#FF97FF",
                        "pattern": {
                          "shape": ""
                        }
                      },
                      "name": "Portland",
                      "orientation": "v",
                      "showlegend": true,
                      "textposition": "auto",
                      "type": "bar",
                      "x": [
                        "Portland"
                      ],
                      "xaxis": "x",
                      "y": {
                        "bdata": "AAAAABGNN0E=",
                        "dtype": "f8"
                      },
                      "yaxis": "y"
                    },
                    {
                      "hovertemplate": "City=%{x}<br>Year-Month=2021-01<br>Total Sales=%{y}<extra></extra>",
                      "legendgroup": "Providence",
                      "marker": {
                        "color": "#FECB52",
                        "pattern": {
                          "shape": ""
                        }
                      },
                      "name": "Providence",
                      "orientation": "v",
                      "showlegend": true,
                      "textposition": "auto",
                      "type": "bar",
                      "x": [
                        "Providence"
                      ],
                      "xaxis": "x",
                      "y": {
                        "bdata": "AAAAAIIWIkE=",
                        "dtype": "f8"
                      },
                      "yaxis": "y"
                    },
                    {
                      "hovertemplate": "City=%{x}<br>Year-Month=2021-01<br>Total Sales=%{y}<extra></extra>",
                      "legendgroup": "Richmond",
                      "marker": {
                        "color": "#636efa",
                        "pattern": {
                          "shape": ""
                        }
                      },
                      "name": "Richmond",
                      "orientation": "v",
                      "showlegend": true,
                      "textposition": "auto",
                      "type": "bar",
                      "x": [
                        "Richmond"
                      ],
                      "xaxis": "x",
                      "y": {
                        "bdata": "AAAAAJG6MUE=",
                        "dtype": "f8"
                      },
                      "yaxis": "y"
                    },
                    {
                      "hovertemplate": "City=%{x}<br>Year-Month=2021-01<br>Total Sales=%{y}<extra></extra>",
                      "legendgroup": "Salt Lake City",
                      "marker": {
                        "color": "#EF553B",
                        "pattern": {
                          "shape": ""
                        }
                      },
                      "name": "Salt Lake City",
                      "orientation": "v",
                      "showlegend": true,
                      "textposition": "auto",
                      "type": "bar",
                      "x": [
                        "Salt Lake City"
                      ],
                      "xaxis": "x",
                      "y": {
                        "bdata": "AAAAAN48JkE=",
                        "dtype": "f8"
                      },
                      "yaxis": "y"
                    },
                    {
                      "hovertemplate": "City=%{x}<br>Year-Month=2021-01<br>Total Sales=%{y}<extra></extra>",
                      "legendgroup": "Sioux Falls",
                      "marker": {
                        "color": "#00cc96",
                        "pattern": {
                          "shape": ""
                        }
                      },
                      "name": "Sioux Falls",
                      "orientation": "v",
                      "showlegend": true,
                      "textposition": "auto",
                      "type": "bar",
                      "x": [
                        "Sioux Falls"
                      ],
                      "xaxis": "x",
                      "y": {
                        "bdata": "AAAAAD4EIUE=",
                        "dtype": "f8"
                      },
                      "yaxis": "y"
                    },
                    {
                      "hovertemplate": "City=%{x}<br>Year-Month=2021-01<br>Total Sales=%{y}<extra></extra>",
                      "legendgroup": "St. Louis",
                      "marker": {
                        "color": "#ab63fa",
                        "pattern": {
                          "shape": ""
                        }
                      },
                      "name": "St. Louis",
                      "orientation": "v",
                      "showlegend": true,
                      "textposition": "auto",
                      "type": "bar",
                      "x": [
                        "St. Louis"
                      ],
                      "xaxis": "x",
                      "y": {
                        "bdata": "AAAAAPIZJUE=",
                        "dtype": "f8"
                      },
                      "yaxis": "y"
                    },
                    {
                      "hovertemplate": "City=%{x}<br>Year-Month=2021-01<br>Total Sales=%{y}<extra></extra>",
                      "legendgroup": "Wichita",
                      "marker": {
                        "color": "#FFA15A",
                        "pattern": {
                          "shape": ""
                        }
                      },
                      "name": "Wichita",
                      "orientation": "v",
                      "showlegend": true,
                      "textposition": "auto",
                      "type": "bar",
                      "x": [
                        "Wichita"
                      ],
                      "xaxis": "x",
                      "y": {
                        "bdata": "AAAAAIaJI0E=",
                        "dtype": "f8"
                      },
                      "yaxis": "y"
                    },
                    {
                      "hovertemplate": "City=%{x}<br>Year-Month=2021-01<br>Total Sales=%{y}<extra></extra>",
                      "legendgroup": "Wilmington",
                      "marker": {
                        "color": "#19d3f3",
                        "pattern": {
                          "shape": ""
                        }
                      },
                      "name": "Wilmington",
                      "orientation": "v",
                      "showlegend": true,
                      "textposition": "auto",
                      "type": "bar",
                      "x": [
                        "Wilmington"
                      ],
                      "xaxis": "x",
                      "y": {
                        "bdata": "AAAAAMIEIUE=",
                        "dtype": "f8"
                      },
                      "yaxis": "y"
                    }
                  ],
                  "name": "2021-01"
                },
                {
                  "data": [
                    {
                      "hovertemplate": "City=%{x}<br>Year-Month=2021-02<br>Total Sales=%{y}<extra></extra>",
                      "legendgroup": "San Francisco",
                      "marker": {
                        "color": "#FF97FF",
                        "pattern": {
                          "shape": ""
                        }
                      },
                      "name": "San Francisco",
                      "orientation": "v",
                      "showlegend": true,
                      "textposition": "auto",
                      "type": "bar",
                      "x": [
                        "San Francisco"
                      ],
                      "xaxis": "x",
                      "y": {
                        "bdata": "AQAAgOPxX0E=",
                        "dtype": "f8"
                      },
                      "yaxis": "y"
                    },
                    {
                      "hovertemplate": "City=%{x}<br>Year-Month=2021-02<br>Total Sales=%{y}<extra></extra>",
                      "legendgroup": "Albany",
                      "marker": {
                        "color": "#FECB52",
                        "pattern": {
                          "shape": ""
                        }
                      },
                      "name": "Albany",
                      "orientation": "v",
                      "showlegend": true,
                      "textposition": "auto",
                      "type": "bar",
                      "x": [
                        "Albany"
                      ],
                      "xaxis": "x",
                      "y": {
                        "bdata": "AAAAAAdTN0E=",
                        "dtype": "f8"
                      },
                      "yaxis": "y"
                    },
                    {
                      "hovertemplate": "City=%{x}<br>Year-Month=2021-02<br>Total Sales=%{y}<extra></extra>",
                      "legendgroup": "Albuquerque",
                      "marker": {
                        "color": "#636efa",
                        "pattern": {
                          "shape": ""
                        }
                      },
                      "name": "Albuquerque",
                      "orientation": "v",
                      "showlegend": true,
                      "textposition": "auto",
                      "type": "bar",
                      "x": [
                        "Albuquerque"
                      ],
                      "xaxis": "x",
                      "y": {
                        "bdata": "AAAAAFjxK0E=",
                        "dtype": "f8"
                      },
                      "yaxis": "y"
                    },
                    {
                      "hovertemplate": "City=%{x}<br>Year-Month=2021-02<br>Total Sales=%{y}<extra></extra>",
                      "legendgroup": "Anchorage",
                      "marker": {
                        "color": "#EF553B",
                        "pattern": {
                          "shape": ""
                        }
                      },
                      "name": "Anchorage",
                      "orientation": "v",
                      "showlegend": true,
                      "textposition": "auto",
                      "type": "bar",
                      "x": [
                        "Anchorage"
                      ],
                      "xaxis": "x",
                      "y": {
                        "bdata": "AAAAABCpN0E=",
                        "dtype": "f8"
                      },
                      "yaxis": "y"
                    },
                    {
                      "hovertemplate": "City=%{x}<br>Year-Month=2021-02<br>Total Sales=%{y}<extra></extra>",
                      "legendgroup": "Atlanta",
                      "marker": {
                        "color": "#00cc96",
                        "pattern": {
                          "shape": ""
                        }
                      },
                      "name": "Atlanta",
                      "orientation": "v",
                      "showlegend": true,
                      "textposition": "auto",
                      "type": "bar",
                      "x": [
                        "Atlanta"
                      ],
                      "xaxis": "x",
                      "y": {
                        "bdata": "AAAAAMePNEE=",
                        "dtype": "f8"
                      },
                      "yaxis": "y"
                    },
                    {
                      "hovertemplate": "City=%{x}<br>Year-Month=2021-02<br>Total Sales=%{y}<extra></extra>",
                      "legendgroup": "Baltimore",
                      "marker": {
                        "color": "#ab63fa",
                        "pattern": {
                          "shape": ""
                        }
                      },
                      "name": "Baltimore",
                      "orientation": "v",
                      "showlegend": true,
                      "textposition": "auto",
                      "type": "bar",
                      "x": [
                        "Baltimore"
                      ],
                      "xaxis": "x",
                      "y": {
                        "bdata": "AAAAADJGIUE=",
                        "dtype": "f8"
                      },
                      "yaxis": "y"
                    },
                    {
                      "hovertemplate": "City=%{x}<br>Year-Month=2021-02<br>Total Sales=%{y}<extra></extra>",
                      "legendgroup": "Billings",
                      "marker": {
                        "color": "#FFA15A",
                        "pattern": {
                          "shape": ""
                        }
                      },
                      "name": "Billings",
                      "orientation": "v",
                      "showlegend": true,
                      "textposition": "auto",
                      "type": "bar",
                      "x": [
                        "Billings"
                      ],
                      "xaxis": "x",
                      "y": {
                        "bdata": "AAAAgI61WkE=",
                        "dtype": "f8"
                      },
                      "yaxis": "y"
                    },
                    {
                      "hovertemplate": "City=%{x}<br>Year-Month=2021-02<br>Total Sales=%{y}<extra></extra>",
                      "legendgroup": "Boise",
                      "marker": {
                        "color": "#19d3f3",
                        "pattern": {
                          "shape": ""
                        }
                      },
                      "name": "Boise",
                      "orientation": "v",
                      "showlegend": true,
                      "textposition": "auto",
                      "type": "bar",
                      "x": [
                        "Boise"
                      ],
                      "xaxis": "x",
                      "y": {
                        "bdata": "AAAAAIqtKkE=",
                        "dtype": "f8"
                      },
                      "yaxis": "y"
                    },
                    {
                      "hovertemplate": "City=%{x}<br>Year-Month=2021-02<br>Total Sales=%{y}<extra></extra>",
                      "legendgroup": "Boston",
                      "marker": {
                        "color": "#FF6692",
                        "pattern": {
                          "shape": ""
                        }
                      },
                      "name": "Boston",
                      "orientation": "v",
                      "showlegend": true,
                      "textposition": "auto",
                      "type": "bar",
                      "x": [
                        "Boston"
                      ],
                      "xaxis": "x",
                      "y": {
                        "bdata": "AAAAAH4HJ0E=",
                        "dtype": "f8"
                      },
                      "yaxis": "y"
                    },
                    {
                      "hovertemplate": "City=%{x}<br>Year-Month=2021-02<br>Total Sales=%{y}<extra></extra>",
                      "legendgroup": "Burlington",
                      "marker": {
                        "color": "#B6E880",
                        "pattern": {
                          "shape": ""
                        }
                      },
                      "name": "Burlington",
                      "orientation": "v",
                      "showlegend": true,
                      "textposition": "auto",
                      "type": "bar",
                      "x": [
                        "Burlington"
                      ],
                      "xaxis": "x",
                      "y": {
                        "bdata": "AAAAAEgPLEE=",
                        "dtype": "f8"
                      },
                      "yaxis": "y"
                    },
                    {
                      "hovertemplate": "City=%{x}<br>Year-Month=2021-02<br>Total Sales=%{y}<extra></extra>",
                      "legendgroup": "Charleston",
                      "marker": {
                        "color": "#FF97FF",
                        "pattern": {
                          "shape": ""
                        }
                      },
                      "name": "Charleston",
                      "orientation": "v",
                      "showlegend": true,
                      "textposition": "auto",
                      "type": "bar",
                      "x": [
                        "Charleston"
                      ],
                      "xaxis": "x",
                      "y": {
                        "bdata": "AAAAgMR7QEE=",
                        "dtype": "f8"
                      },
                      "yaxis": "y"
                    },
                    {
                      "hovertemplate": "City=%{x}<br>Year-Month=2021-02<br>Total Sales=%{y}<extra></extra>",
                      "legendgroup": "Charlotte",
                      "marker": {
                        "color": "#FECB52",
                        "pattern": {
                          "shape": ""
                        }
                      },
                      "name": "Charlotte",
                      "orientation": "v",
                      "showlegend": true,
                      "textposition": "auto",
                      "type": "bar",
                      "x": [
                        "Charlotte"
                      ],
                      "xaxis": "x",
                      "y": {
                        "bdata": "AAAAAMwvM0E=",
                        "dtype": "f8"
                      },
                      "yaxis": "y"
                    },
                    {
                      "hovertemplate": "City=%{x}<br>Year-Month=2021-02<br>Total Sales=%{y}<extra></extra>",
                      "legendgroup": "Cheyenne",
                      "marker": {
                        "color": "#636efa",
                        "pattern": {
                          "shape": ""
                        }
                      },
                      "name": "Cheyenne",
                      "orientation": "v",
                      "showlegend": true,
                      "textposition": "auto",
                      "type": "bar",
                      "x": [
                        "Cheyenne"
                      ],
                      "xaxis": "x",
                      "y": {
                        "bdata": "AAAAACCAMEE=",
                        "dtype": "f8"
                      },
                      "yaxis": "y"
                    },
                    {
                      "hovertemplate": "City=%{x}<br>Year-Month=2021-02<br>Total Sales=%{y}<extra></extra>",
                      "legendgroup": "Columbus",
                      "marker": {
                        "color": "#EF553B",
                        "pattern": {
                          "shape": ""
                        }
                      },
                      "name": "Columbus",
                      "orientation": "v",
                      "showlegend": true,
                      "textposition": "auto",
                      "type": "bar",
                      "x": [
                        "Columbus"
                      ],
                      "xaxis": "x",
                      "y": {
                        "bdata": "AAAAAIK+KkE=",
                        "dtype": "f8"
                      },
                      "yaxis": "y"
                    },
                    {
                      "hovertemplate": "City=%{x}<br>Year-Month=2021-02<br>Total Sales=%{y}<extra></extra>",
                      "legendgroup": "Des Moines",
                      "marker": {
                        "color": "#00cc96",
                        "pattern": {
                          "shape": ""
                        }
                      },
                      "name": "Des Moines",
                      "orientation": "v",
                      "showlegend": true,
                      "textposition": "auto",
                      "type": "bar",
                      "x": [
                        "Des Moines"
                      ],
                      "xaxis": "x",
                      "y": {
                        "bdata": "AQAAAJACFkE=",
                        "dtype": "f8"
                      },
                      "yaxis": "y"
                    },
                    {
                      "hovertemplate": "City=%{x}<br>Year-Month=2021-02<br>Total Sales=%{y}<extra></extra>",
                      "legendgroup": "Detroit",
                      "marker": {
                        "color": "#ab63fa",
                        "pattern": {
                          "shape": ""
                        }
                      },
                      "name": "Detroit",
                      "orientation": "v",
                      "showlegend": true,
                      "textposition": "auto",
                      "type": "bar",
                      "x": [
                        "Detroit"
                      ],
                      "xaxis": "x",
                      "y": {
                        "bdata": "AAAAAOKgK0E=",
                        "dtype": "f8"
                      },
                      "yaxis": "y"
                    },
                    {
                      "hovertemplate": "City=%{x}<br>Year-Month=2021-02<br>Total Sales=%{y}<extra></extra>",
                      "legendgroup": "Fargo",
                      "marker": {
                        "color": "#FFA15A",
                        "pattern": {
                          "shape": ""
                        }
                      },
                      "name": "Fargo",
                      "orientation": "v",
                      "showlegend": true,
                      "textposition": "auto",
                      "type": "bar",
                      "x": [
                        "Fargo"
                      ],
                      "xaxis": "x",
                      "y": {
                        "bdata": "AAAAAOzYGUE=",
                        "dtype": "f8"
                      },
                      "yaxis": "y"
                    },
                    {
                      "hovertemplate": "City=%{x}<br>Year-Month=2021-02<br>Total Sales=%{y}<extra></extra>",
                      "legendgroup": "Hartford",
                      "marker": {
                        "color": "#19d3f3",
                        "pattern": {
                          "shape": ""
                        }
                      },
                      "name": "Hartford",
                      "orientation": "v",
                      "showlegend": true,
                      "textposition": "auto",
                      "type": "bar",
                      "x": [
                        "Hartford"
                      ],
                      "xaxis": "x",
                      "y": {
                        "bdata": "AAAAAFSXIEE=",
                        "dtype": "f8"
                      },
                      "yaxis": "y"
                    },
                    {
                      "hovertemplate": "City=%{x}<br>Year-Month=2021-02<br>Total Sales=%{y}<extra></extra>",
                      "legendgroup": "Honolulu",
                      "marker": {
                        "color": "#FF6692",
                        "pattern": {
                          "shape": ""
                        }
                      },
                      "name": "Honolulu",
                      "orientation": "v",
                      "showlegend": true,
                      "textposition": "auto",
                      "type": "bar",
                      "x": [
                        "Honolulu"
                      ],
                      "xaxis": "x",
                      "y": {
                        "bdata": "AAAAANROLkE=",
                        "dtype": "f8"
                      },
                      "yaxis": "y"
                    },
                    {
                      "hovertemplate": "City=%{x}<br>Year-Month=2021-02<br>Total Sales=%{y}<extra></extra>",
                      "legendgroup": "Indianapolis",
                      "marker": {
                        "color": "#B6E880",
                        "pattern": {
                          "shape": ""
                        }
                      },
                      "name": "Indianapolis",
                      "orientation": "v",
                      "showlegend": true,
                      "textposition": "auto",
                      "type": "bar",
                      "x": [
                        "Indianapolis"
                      ],
                      "xaxis": "x",
                      "y": {
                        "bdata": "AAAAANIzIUE=",
                        "dtype": "f8"
                      },
                      "yaxis": "y"
                    },
                    {
                      "hovertemplate": "City=%{x}<br>Year-Month=2021-02<br>Total Sales=%{y}<extra></extra>",
                      "legendgroup": "Jackson",
                      "marker": {
                        "color": "#FF97FF",
                        "pattern": {
                          "shape": ""
                        }
                      },
                      "name": "Jackson",
                      "orientation": "v",
                      "showlegend": true,
                      "textposition": "auto",
                      "type": "bar",
                      "x": [
                        "Jackson"
                      ],
                      "xaxis": "x",
                      "y": {
                        "bdata": "AQAAANoMJkE=",
                        "dtype": "f8"
                      },
                      "yaxis": "y"
                    },
                    {
                      "hovertemplate": "City=%{x}<br>Year-Month=2021-02<br>Total Sales=%{y}<extra></extra>",
                      "legendgroup": "Little Rock",
                      "marker": {
                        "color": "#FECB52",
                        "pattern": {
                          "shape": ""
                        }
                      },
                      "name": "Little Rock",
                      "orientation": "v",
                      "showlegend": true,
                      "textposition": "auto",
                      "type": "bar",
                      "x": [
                        "Little Rock"
                      ],
                      "xaxis": "x",
                      "y": {
                        "bdata": "AQAAABjAIEE=",
                        "dtype": "f8"
                      },
                      "yaxis": "y"
                    },
                    {
                      "hovertemplate": "City=%{x}<br>Year-Month=2021-02<br>Total Sales=%{y}<extra></extra>",
                      "legendgroup": "Louisville",
                      "marker": {
                        "color": "#636efa",
                        "pattern": {
                          "shape": ""
                        }
                      },
                      "name": "Louisville",
                      "orientation": "v",
                      "showlegend": true,
                      "textposition": "auto",
                      "type": "bar",
                      "x": [
                        "Louisville"
                      ],
                      "xaxis": "x",
                      "y": {
                        "bdata": "AAAAAEx9JkE=",
                        "dtype": "f8"
                      },
                      "yaxis": "y"
                    },
                    {
                      "hovertemplate": "City=%{x}<br>Year-Month=2021-02<br>Total Sales=%{y}<extra></extra>",
                      "legendgroup": "Manchester",
                      "marker": {
                        "color": "#EF553B",
                        "pattern": {
                          "shape": ""
                        }
                      },
                      "name": "Manchester",
                      "orientation": "v",
                      "showlegend": true,
                      "textposition": "auto",
                      "type": "bar",
                      "x": [
                        "Manchester"
                      ],
                      "xaxis": "x",
                      "y": {
                        "bdata": "AQAAAKUgMEE=",
                        "dtype": "f8"
                      },
                      "yaxis": "y"
                    },
                    {
                      "hovertemplate": "City=%{x}<br>Year-Month=2021-02<br>Total Sales=%{y}<extra></extra>",
                      "legendgroup": "Milwaukee",
                      "marker": {
                        "color": "#00cc96",
                        "pattern": {
                          "shape": ""
                        }
                      },
                      "name": "Milwaukee",
                      "orientation": "v",
                      "showlegend": true,
                      "textposition": "auto",
                      "type": "bar",
                      "x": [
                        "Milwaukee"
                      ],
                      "xaxis": "x",
                      "y": {
                        "bdata": "AAAAAICmG0E=",
                        "dtype": "f8"
                      },
                      "yaxis": "y"
                    },
                    {
                      "hovertemplate": "City=%{x}<br>Year-Month=2021-02<br>Total Sales=%{y}<extra></extra>",
                      "legendgroup": "New Orleans",
                      "marker": {
                        "color": "#ab63fa",
                        "pattern": {
                          "shape": ""
                        }
                      },
                      "name": "New Orleans",
                      "orientation": "v",
                      "showlegend": true,
                      "textposition": "auto",
                      "type": "bar",
                      "x": [
                        "New Orleans"
                      ],
                      "xaxis": "x",
                      "y": {
                        "bdata": "AAAAAKZULEE=",
                        "dtype": "f8"
                      },
                      "yaxis": "y"
                    },
                    {
                      "hovertemplate": "City=%{x}<br>Year-Month=2021-02<br>Total Sales=%{y}<extra></extra>",
                      "legendgroup": "Newark",
                      "marker": {
                        "color": "#FFA15A",
                        "pattern": {
                          "shape": ""
                        }
                      },
                      "name": "Newark",
                      "orientation": "v",
                      "showlegend": true,
                      "textposition": "auto",
                      "type": "bar",
                      "x": [
                        "Newark"
                      ],
                      "xaxis": "x",
                      "y": {
                        "bdata": "AAAAAFYnIkE=",
                        "dtype": "f8"
                      },
                      "yaxis": "y"
                    },
                    {
                      "hovertemplate": "City=%{x}<br>Year-Month=2021-02<br>Total Sales=%{y}<extra></extra>",
                      "legendgroup": "Oklahoma City",
                      "marker": {
                        "color": "#19d3f3",
                        "pattern": {
                          "shape": ""
                        }
                      },
                      "name": "Oklahoma City",
                      "orientation": "v",
                      "showlegend": true,
                      "textposition": "auto",
                      "type": "bar",
                      "x": [
                        "Oklahoma City"
                      ],
                      "xaxis": "x",
                      "y": {
                        "bdata": "AQAAAOzNHEE=",
                        "dtype": "f8"
                      },
                      "yaxis": "y"
                    },
                    {
                      "hovertemplate": "City=%{x}<br>Year-Month=2021-02<br>Total Sales=%{y}<extra></extra>",
                      "legendgroup": "Orlando",
                      "marker": {
                        "color": "#FF6692",
                        "pattern": {
                          "shape": ""
                        }
                      },
                      "name": "Orlando",
                      "orientation": "v",
                      "showlegend": true,
                      "textposition": "auto",
                      "type": "bar",
                      "x": [
                        "Orlando"
                      ],
                      "xaxis": "x",
                      "y": {
                        "bdata": "AAAAACv2NEE=",
                        "dtype": "f8"
                      },
                      "yaxis": "y"
                    },
                    {
                      "hovertemplate": "City=%{x}<br>Year-Month=2021-02<br>Total Sales=%{y}<extra></extra>",
                      "legendgroup": "Phoenix",
                      "marker": {
                        "color": "#B6E880",
                        "pattern": {
                          "shape": ""
                        }
                      },
                      "name": "Phoenix",
                      "orientation": "v",
                      "showlegend": true,
                      "textposition": "auto",
                      "type": "bar",
                      "x": [
                        "Phoenix"
                      ],
                      "xaxis": "x",
                      "y": {
                        "bdata": "AAAAAEqsK0E=",
                        "dtype": "f8"
                      },
                      "yaxis": "y"
                    },
                    {
                      "hovertemplate": "City=%{x}<br>Year-Month=2021-02<br>Total Sales=%{y}<extra></extra>",
                      "legendgroup": "Portland",
                      "marker": {
                        "color": "#FF97FF",
                        "pattern": {
                          "shape": ""
                        }
                      },
                      "name": "Portland",
                      "orientation": "v",
                      "showlegend": true,
                      "textposition": "auto",
                      "type": "bar",
                      "x": [
                        "Portland"
                      ],
                      "xaxis": "x",
                      "y": {
                        "bdata": "AAAAAMKqKUE=",
                        "dtype": "f8"
                      },
                      "yaxis": "y"
                    },
                    {
                      "hovertemplate": "City=%{x}<br>Year-Month=2021-02<br>Total Sales=%{y}<extra></extra>",
                      "legendgroup": "Providence",
                      "marker": {
                        "color": "#FECB52",
                        "pattern": {
                          "shape": ""
                        }
                      },
                      "name": "Providence",
                      "orientation": "v",
                      "showlegend": true,
                      "textposition": "auto",
                      "type": "bar",
                      "x": [
                        "Providence"
                      ],
                      "xaxis": "x",
                      "y": {
                        "bdata": "AAAAAHwdHkE=",
                        "dtype": "f8"
                      },
                      "yaxis": "y"
                    },
                    {
                      "hovertemplate": "City=%{x}<br>Year-Month=2021-02<br>Total Sales=%{y}<extra></extra>",
                      "legendgroup": "Richmond",
                      "marker": {
                        "color": "#636efa",
                        "pattern": {
                          "shape": ""
                        }
                      },
                      "name": "Richmond",
                      "orientation": "v",
                      "showlegend": true,
                      "textposition": "auto",
                      "type": "bar",
                      "x": [
                        "Richmond"
                      ],
                      "xaxis": "x",
                      "y": {
                        "bdata": "AAAAAFqJKkE=",
                        "dtype": "f8"
                      },
                      "yaxis": "y"
                    },
                    {
                      "hovertemplate": "City=%{x}<br>Year-Month=2021-02<br>Total Sales=%{y}<extra></extra>",
                      "legendgroup": "Salt Lake City",
                      "marker": {
                        "color": "#EF553B",
                        "pattern": {
                          "shape": ""
                        }
                      },
                      "name": "Salt Lake City",
                      "orientation": "v",
                      "showlegend": true,
                      "textposition": "auto",
                      "type": "bar",
                      "x": [
                        "Salt Lake City"
                      ],
                      "xaxis": "x",
                      "y": {
                        "bdata": "AAAAANgIJ0E=",
                        "dtype": "f8"
                      },
                      "yaxis": "y"
                    },
                    {
                      "hovertemplate": "City=%{x}<br>Year-Month=2021-02<br>Total Sales=%{y}<extra></extra>",
                      "legendgroup": "Sioux Falls",
                      "marker": {
                        "color": "#00cc96",
                        "pattern": {
                          "shape": ""
                        }
                      },
                      "name": "Sioux Falls",
                      "orientation": "v",
                      "showlegend": true,
                      "textposition": "auto",
                      "type": "bar",
                      "x": [
                        "Sioux Falls"
                      ],
                      "xaxis": "x",
                      "y": {
                        "bdata": "AAAAAN5MIEE=",
                        "dtype": "f8"
                      },
                      "yaxis": "y"
                    },
                    {
                      "hovertemplate": "City=%{x}<br>Year-Month=2021-02<br>Total Sales=%{y}<extra></extra>",
                      "legendgroup": "St. Louis",
                      "marker": {
                        "color": "#ab63fa",
                        "pattern": {
                          "shape": ""
                        }
                      },
                      "name": "St. Louis",
                      "orientation": "v",
                      "showlegend": true,
                      "textposition": "auto",
                      "type": "bar",
                      "x": [
                        "St. Louis"
                      ],
                      "xaxis": "x",
                      "y": {
                        "bdata": "AAAAAHxrJEE=",
                        "dtype": "f8"
                      },
                      "yaxis": "y"
                    },
                    {
                      "hovertemplate": "City=%{x}<br>Year-Month=2021-02<br>Total Sales=%{y}<extra></extra>",
                      "legendgroup": "Wichita",
                      "marker": {
                        "color": "#FFA15A",
                        "pattern": {
                          "shape": ""
                        }
                      },
                      "name": "Wichita",
                      "orientation": "v",
                      "showlegend": true,
                      "textposition": "auto",
                      "type": "bar",
                      "x": [
                        "Wichita"
                      ],
                      "xaxis": "x",
                      "y": {
                        "bdata": "AAAAAPhWIEE=",
                        "dtype": "f8"
                      },
                      "yaxis": "y"
                    },
                    {
                      "hovertemplate": "City=%{x}<br>Year-Month=2021-02<br>Total Sales=%{y}<extra></extra>",
                      "legendgroup": "Wilmington",
                      "marker": {
                        "color": "#19d3f3",
                        "pattern": {
                          "shape": ""
                        }
                      },
                      "name": "Wilmington",
                      "orientation": "v",
                      "showlegend": true,
                      "textposition": "auto",
                      "type": "bar",
                      "x": [
                        "Wilmington"
                      ],
                      "xaxis": "x",
                      "y": {
                        "bdata": "AAAAAKCyIkE=",
                        "dtype": "f8"
                      },
                      "yaxis": "y"
                    }
                  ],
                  "name": "2021-02"
                },
                {
                  "data": [
                    {
                      "hovertemplate": "City=%{x}<br>Year-Month=2021-03<br>Total Sales=%{y}<extra></extra>",
                      "legendgroup": "San Francisco",
                      "marker": {
                        "color": "#FF97FF",
                        "pattern": {
                          "shape": ""
                        }
                      },
                      "name": "San Francisco",
                      "orientation": "v",
                      "showlegend": true,
                      "textposition": "auto",
                      "type": "bar",
                      "x": [
                        "San Francisco"
                      ],
                      "xaxis": "x",
                      "y": {
                        "bdata": "AAAAAEYGIkE=",
                        "dtype": "f8"
                      },
                      "yaxis": "y"
                    },
                    {
                      "hovertemplate": "City=%{x}<br>Year-Month=2021-03<br>Total Sales=%{y}<extra></extra>",
                      "legendgroup": "Albany",
                      "marker": {
                        "color": "#FECB52",
                        "pattern": {
                          "shape": ""
                        }
                      },
                      "name": "Albany",
                      "orientation": "v",
                      "showlegend": true,
                      "textposition": "auto",
                      "type": "bar",
                      "x": [
                        "Albany"
                      ],
                      "xaxis": "x",
                      "y": {
                        "bdata": "AAAAAKf7N0E=",
                        "dtype": "f8"
                      },
                      "yaxis": "y"
                    },
                    {
                      "hovertemplate": "City=%{x}<br>Year-Month=2021-03<br>Total Sales=%{y}<extra></extra>",
                      "legendgroup": "Albuquerque",
                      "marker": {
                        "color": "#636efa",
                        "pattern": {
                          "shape": ""
                        }
                      },
                      "name": "Albuquerque",
                      "orientation": "v",
                      "showlegend": true,
                      "textposition": "auto",
                      "type": "bar",
                      "x": [
                        "Albuquerque"
                      ],
                      "xaxis": "x",
                      "y": {
                        "bdata": "AAAAAGxuMkE=",
                        "dtype": "f8"
                      },
                      "yaxis": "y"
                    },
                    {
                      "hovertemplate": "City=%{x}<br>Year-Month=2021-03<br>Total Sales=%{y}<extra></extra>",
                      "legendgroup": "Anchorage",
                      "marker": {
                        "color": "#EF553B",
                        "pattern": {
                          "shape": ""
                        }
                      },
                      "name": "Anchorage",
                      "orientation": "v",
                      "showlegend": true,
                      "textposition": "auto",
                      "type": "bar",
                      "x": [
                        "Anchorage"
                      ],
                      "xaxis": "x",
                      "y": {
                        "bdata": "AQAAAFzTK0E=",
                        "dtype": "f8"
                      },
                      "yaxis": "y"
                    },
                    {
                      "hovertemplate": "City=%{x}<br>Year-Month=2021-03<br>Total Sales=%{y}<extra></extra>",
                      "legendgroup": "Atlanta",
                      "marker": {
                        "color": "#00cc96",
                        "pattern": {
                          "shape": ""
                        }
                      },
                      "name": "Atlanta",
                      "orientation": "v",
                      "showlegend": true,
                      "textposition": "auto",
                      "type": "bar",
                      "x": [
                        "Atlanta"
                      ],
                      "xaxis": "x",
                      "y": {
                        "bdata": "AAAAAPAAL0E=",
                        "dtype": "f8"
                      },
                      "yaxis": "y"
                    },
                    {
                      "hovertemplate": "City=%{x}<br>Year-Month=2021-03<br>Total Sales=%{y}<extra></extra>",
                      "legendgroup": "Baltimore",
                      "marker": {
                        "color": "#ab63fa",
                        "pattern": {
                          "shape": ""
                        }
                      },
                      "name": "Baltimore",
                      "orientation": "v",
                      "showlegend": true,
                      "textposition": "auto",
                      "type": "bar",
                      "x": [
                        "Baltimore"
                      ],
                      "xaxis": "x",
                      "y": {
                        "bdata": "AAAAAGA1FkE=",
                        "dtype": "f8"
                      },
                      "yaxis": "y"
                    },
                    {
                      "hovertemplate": "City=%{x}<br>Year-Month=2021-03<br>Total Sales=%{y}<extra></extra>",
                      "legendgroup": "Billings",
                      "marker": {
                        "color": "#FFA15A",
                        "pattern": {
                          "shape": ""
                        }
                      },
                      "name": "Billings",
                      "orientation": "v",
                      "showlegend": true,
                      "textposition": "auto",
                      "type": "bar",
                      "x": [
                        "Billings"
                      ],
                      "xaxis": "x",
                      "y": {
                        "bdata": "AAAAgL3lRkE=",
                        "dtype": "f8"
                      },
                      "yaxis": "y"
                    },
                    {
                      "hovertemplate": "City=%{x}<br>Year-Month=2021-03<br>Total Sales=%{y}<extra></extra>",
                      "legendgroup": "Boise",
                      "marker": {
                        "color": "#19d3f3",
                        "pattern": {
                          "shape": ""
                        }
                      },
                      "name": "Boise",
                      "orientation": "v",
                      "showlegend": true,
                      "textposition": "auto",
                      "type": "bar",
                      "x": [
                        "Boise"
                      ],
                      "xaxis": "x",
                      "y": {
                        "bdata": "AAAAAEDkLUE=",
                        "dtype": "f8"
                      },
                      "yaxis": "y"
                    },
                    {
                      "hovertemplate": "City=%{x}<br>Year-Month=2021-03<br>Total Sales=%{y}<extra></extra>",
                      "legendgroup": "Boston",
                      "marker": {
                        "color": "#FF6692",
                        "pattern": {
                          "shape": ""
                        }
                      },
                      "name": "Boston",
                      "orientation": "v",
                      "showlegend": true,
                      "textposition": "auto",
                      "type": "bar",
                      "x": [
                        "Boston"
                      ],
                      "xaxis": "x",
                      "y": {
                        "bdata": "AAAAALS3IUE=",
                        "dtype": "f8"
                      },
                      "yaxis": "y"
                    },
                    {
                      "hovertemplate": "City=%{x}<br>Year-Month=2021-03<br>Total Sales=%{y}<extra></extra>",
                      "legendgroup": "Burlington",
                      "marker": {
                        "color": "#B6E880",
                        "pattern": {
                          "shape": ""
                        }
                      },
                      "name": "Burlington",
                      "orientation": "v",
                      "showlegend": true,
                      "textposition": "auto",
                      "type": "bar",
                      "x": [
                        "Burlington"
                      ],
                      "xaxis": "x",
                      "y": {
                        "bdata": "AAAAAIYyJ0E=",
                        "dtype": "f8"
                      },
                      "yaxis": "y"
                    },
                    {
                      "hovertemplate": "City=%{x}<br>Year-Month=2021-03<br>Total Sales=%{y}<extra></extra>",
                      "legendgroup": "Charleston",
                      "marker": {
                        "color": "#FF97FF",
                        "pattern": {
                          "shape": ""
                        }
                      },
                      "name": "Charleston",
                      "orientation": "v",
                      "showlegend": true,
                      "textposition": "auto",
                      "type": "bar",
                      "x": [
                        "Charleston"
                      ],
                      "xaxis": "x",
                      "y": {
                        "bdata": "AAAAABHqP0E=",
                        "dtype": "f8"
                      },
                      "yaxis": "y"
                    },
                    {
                      "hovertemplate": "City=%{x}<br>Year-Month=2021-03<br>Total Sales=%{y}<extra></extra>",
                      "legendgroup": "Charlotte",
                      "marker": {
                        "color": "#FECB52",
                        "pattern": {
                          "shape": ""
                        }
                      },
                      "name": "Charlotte",
                      "orientation": "v",
                      "showlegend": true,
                      "textposition": "auto",
                      "type": "bar",
                      "x": [
                        "Charlotte"
                      ],
                      "xaxis": "x",
                      "y": {
                        "bdata": "AAAAAIQvMUE=",
                        "dtype": "f8"
                      },
                      "yaxis": "y"
                    },
                    {
                      "hovertemplate": "City=%{x}<br>Year-Month=2021-03<br>Total Sales=%{y}<extra></extra>",
                      "legendgroup": "Cheyenne",
                      "marker": {
                        "color": "#636efa",
                        "pattern": {
                          "shape": ""
                        }
                      },
                      "name": "Cheyenne",
                      "orientation": "v",
                      "showlegend": true,
                      "textposition": "auto",
                      "type": "bar",
                      "x": [
                        "Cheyenne"
                      ],
                      "xaxis": "x",
                      "y": {
                        "bdata": "AAAAANUrNEE=",
                        "dtype": "f8"
                      },
                      "yaxis": "y"
                    },
                    {
                      "hovertemplate": "City=%{x}<br>Year-Month=2021-03<br>Total Sales=%{y}<extra></extra>",
                      "legendgroup": "Columbus",
                      "marker": {
                        "color": "#EF553B",
                        "pattern": {
                          "shape": ""
                        }
                      },
                      "name": "Columbus",
                      "orientation": "v",
                      "showlegend": true,
                      "textposition": "auto",
                      "type": "bar",
                      "x": [
                        "Columbus"
                      ],
                      "xaxis": "x",
                      "y": {
                        "bdata": "AAAAADQnKkE=",
                        "dtype": "f8"
                      },
                      "yaxis": "y"
                    },
                    {
                      "hovertemplate": "City=%{x}<br>Year-Month=2021-03<br>Total Sales=%{y}<extra></extra>",
                      "legendgroup": "Des Moines",
                      "marker": {
                        "color": "#00cc96",
                        "pattern": {
                          "shape": ""
                        }
                      },
                      "name": "Des Moines",
                      "orientation": "v",
                      "showlegend": true,
                      "textposition": "auto",
                      "type": "bar",
                      "x": [
                        "Des Moines"
                      ],
                      "xaxis": "x",
                      "y": {
                        "bdata": "AQAAANhhEEE=",
                        "dtype": "f8"
                      },
                      "yaxis": "y"
                    },
                    {
                      "hovertemplate": "City=%{x}<br>Year-Month=2021-03<br>Total Sales=%{y}<extra></extra>",
                      "legendgroup": "Detroit",
                      "marker": {
                        "color": "#ab63fa",
                        "pattern": {
                          "shape": ""
                        }
                      },
                      "name": "Detroit",
                      "orientation": "v",
                      "showlegend": true,
                      "textposition": "auto",
                      "type": "bar",
                      "x": [
                        "Detroit"
                      ],
                      "xaxis": "x",
                      "y": {
                        "bdata": "AAAAALykLkE=",
                        "dtype": "f8"
                      },
                      "yaxis": "y"
                    },
                    {
                      "hovertemplate": "City=%{x}<br>Year-Month=2021-03<br>Total Sales=%{y}<extra></extra>",
                      "legendgroup": "Fargo",
                      "marker": {
                        "color": "#FFA15A",
                        "pattern": {
                          "shape": ""
                        }
                      },
                      "name": "Fargo",
                      "orientation": "v",
                      "showlegend": true,
                      "textposition": "auto",
                      "type": "bar",
                      "x": [
                        "Fargo"
                      ],
                      "xaxis": "x",
                      "y": {
                        "bdata": "AQAAABBoGEE=",
                        "dtype": "f8"
                      },
                      "yaxis": "y"
                    },
                    {
                      "hovertemplate": "City=%{x}<br>Year-Month=2021-03<br>Total Sales=%{y}<extra></extra>",
                      "legendgroup": "Hartford",
                      "marker": {
                        "color": "#19d3f3",
                        "pattern": {
                          "shape": ""
                        }
                      },
                      "name": "Hartford",
                      "orientation": "v",
                      "showlegend": true,
                      "textposition": "auto",
                      "type": "bar",
                      "x": [
                        "Hartford"
                      ],
                      "xaxis": "x",
                      "y": {
                        "bdata": "AAAAACasIkE=",
                        "dtype": "f8"
                      },
                      "yaxis": "y"
                    },
                    {
                      "hovertemplate": "City=%{x}<br>Year-Month=2021-03<br>Total Sales=%{y}<extra></extra>",
                      "legendgroup": "Honolulu",
                      "marker": {
                        "color": "#FF6692",
                        "pattern": {
                          "shape": ""
                        }
                      },
                      "name": "Honolulu",
                      "orientation": "v",
                      "showlegend": true,
                      "textposition": "auto",
                      "type": "bar",
                      "x": [
                        "Honolulu"
                      ],
                      "xaxis": "x",
                      "y": {
                        "bdata": "/////whjMEE=",
                        "dtype": "f8"
                      },
                      "yaxis": "y"
                    },
                    {
                      "hovertemplate": "City=%{x}<br>Year-Month=2021-03<br>Total Sales=%{y}<extra></extra>",
                      "legendgroup": "Indianapolis",
                      "marker": {
                        "color": "#B6E880",
                        "pattern": {
                          "shape": ""
                        }
                      },
                      "name": "Indianapolis",
                      "orientation": "v",
                      "showlegend": true,
                      "textposition": "auto",
                      "type": "bar",
                      "x": [
                        "Indianapolis"
                      ],
                      "xaxis": "x",
                      "y": {
                        "bdata": "AQAAAHTvF0E=",
                        "dtype": "f8"
                      },
                      "yaxis": "y"
                    },
                    {
                      "hovertemplate": "City=%{x}<br>Year-Month=2021-03<br>Total Sales=%{y}<extra></extra>",
                      "legendgroup": "Jackson",
                      "marker": {
                        "color": "#FF97FF",
                        "pattern": {
                          "shape": ""
                        }
                      },
                      "name": "Jackson",
                      "orientation": "v",
                      "showlegend": true,
                      "textposition": "auto",
                      "type": "bar",
                      "x": [
                        "Jackson"
                      ],
                      "xaxis": "x",
                      "y": {
                        "bdata": "AAAAAGTOI0E=",
                        "dtype": "f8"
                      },
                      "yaxis": "y"
                    },
                    {
                      "hovertemplate": "City=%{x}<br>Year-Month=2021-03<br>Total Sales=%{y}<extra></extra>",
                      "legendgroup": "Little Rock",
                      "marker": {
                        "color": "#FECB52",
                        "pattern": {
                          "shape": ""
                        }
                      },
                      "name": "Little Rock",
                      "orientation": "v",
                      "showlegend": true,
                      "textposition": "auto",
                      "type": "bar",
                      "x": [
                        "Little Rock"
                      ],
                      "xaxis": "x",
                      "y": {
                        "bdata": "AAAAAHB7HEE=",
                        "dtype": "f8"
                      },
                      "yaxis": "y"
                    },
                    {
                      "hovertemplate": "City=%{x}<br>Year-Month=2021-03<br>Total Sales=%{y}<extra></extra>",
                      "legendgroup": "Louisville",
                      "marker": {
                        "color": "#636efa",
                        "pattern": {
                          "shape": ""
                        }
                      },
                      "name": "Louisville",
                      "orientation": "v",
                      "showlegend": true,
                      "textposition": "auto",
                      "type": "bar",
                      "x": [
                        "Louisville"
                      ],
                      "xaxis": "x",
                      "y": {
                        "bdata": "AAAAALqZJEE=",
                        "dtype": "f8"
                      },
                      "yaxis": "y"
                    },
                    {
                      "hovertemplate": "City=%{x}<br>Year-Month=2021-03<br>Total Sales=%{y}<extra></extra>",
                      "legendgroup": "Manchester",
                      "marker": {
                        "color": "#EF553B",
                        "pattern": {
                          "shape": ""
                        }
                      },
                      "name": "Manchester",
                      "orientation": "v",
                      "showlegend": true,
                      "textposition": "auto",
                      "type": "bar",
                      "x": [
                        "Manchester"
                      ],
                      "xaxis": "x",
                      "y": {
                        "bdata": "AAAAADg3LEE=",
                        "dtype": "f8"
                      },
                      "yaxis": "y"
                    },
                    {
                      "hovertemplate": "City=%{x}<br>Year-Month=2021-03<br>Total Sales=%{y}<extra></extra>",
                      "legendgroup": "Milwaukee",
                      "marker": {
                        "color": "#00cc96",
                        "pattern": {
                          "shape": ""
                        }
                      },
                      "name": "Milwaukee",
                      "orientation": "v",
                      "showlegend": true,
                      "textposition": "auto",
                      "type": "bar",
                      "x": [
                        "Milwaukee"
                      ],
                      "xaxis": "x",
                      "y": {
                        "bdata": "AgAAAIC5DkE=",
                        "dtype": "f8"
                      },
                      "yaxis": "y"
                    },
                    {
                      "hovertemplate": "City=%{x}<br>Year-Month=2021-03<br>Total Sales=%{y}<extra></extra>",
                      "legendgroup": "New Orleans",
                      "marker": {
                        "color": "#ab63fa",
                        "pattern": {
                          "shape": ""
                        }
                      },
                      "name": "New Orleans",
                      "orientation": "v",
                      "showlegend": true,
                      "textposition": "auto",
                      "type": "bar",
                      "x": [
                        "New Orleans"
                      ],
                      "xaxis": "x",
                      "y": {
                        "bdata": "AAAAAOqAMUE=",
                        "dtype": "f8"
                      },
                      "yaxis": "y"
                    },
                    {
                      "hovertemplate": "City=%{x}<br>Year-Month=2021-03<br>Total Sales=%{y}<extra></extra>",
                      "legendgroup": "Newark",
                      "marker": {
                        "color": "#FFA15A",
                        "pattern": {
                          "shape": ""
                        }
                      },
                      "name": "Newark",
                      "orientation": "v",
                      "showlegend": true,
                      "textposition": "auto",
                      "type": "bar",
                      "x": [
                        "Newark"
                      ],
                      "xaxis": "x",
                      "y": {
                        "bdata": "AAAAAGCeHEE=",
                        "dtype": "f8"
                      },
                      "yaxis": "y"
                    },
                    {
                      "hovertemplate": "City=%{x}<br>Year-Month=2021-03<br>Total Sales=%{y}<extra></extra>",
                      "legendgroup": "Oklahoma City",
                      "marker": {
                        "color": "#19d3f3",
                        "pattern": {
                          "shape": ""
                        }
                      },
                      "name": "Oklahoma City",
                      "orientation": "v",
                      "showlegend": true,
                      "textposition": "auto",
                      "type": "bar",
                      "x": [
                        "Oklahoma City"
                      ],
                      "xaxis": "x",
                      "y": {
                        "bdata": "AAAAAJwwFkE=",
                        "dtype": "f8"
                      },
                      "yaxis": "y"
                    },
                    {
                      "hovertemplate": "City=%{x}<br>Year-Month=2021-03<br>Total Sales=%{y}<extra></extra>",
                      "legendgroup": "Orlando",
                      "marker": {
                        "color": "#FF6692",
                        "pattern": {
                          "shape": ""
                        }
                      },
                      "name": "Orlando",
                      "orientation": "v",
                      "showlegend": true,
                      "textposition": "auto",
                      "type": "bar",
                      "x": [
                        "Orlando"
                      ],
                      "xaxis": "x",
                      "y": {
                        "bdata": "AAAAALk3NUE=",
                        "dtype": "f8"
                      },
                      "yaxis": "y"
                    },
                    {
                      "hovertemplate": "City=%{x}<br>Year-Month=2021-03<br>Total Sales=%{y}<extra></extra>",
                      "legendgroup": "Phoenix",
                      "marker": {
                        "color": "#B6E880",
                        "pattern": {
                          "shape": ""
                        }
                      },
                      "name": "Phoenix",
                      "orientation": "v",
                      "showlegend": true,
                      "textposition": "auto",
                      "type": "bar",
                      "x": [
                        "Phoenix"
                      ],
                      "xaxis": "x",
                      "y": {
                        "bdata": "AAAAANqlLEE=",
                        "dtype": "f8"
                      },
                      "yaxis": "y"
                    },
                    {
                      "hovertemplate": "City=%{x}<br>Year-Month=2021-03<br>Total Sales=%{y}<extra></extra>",
                      "legendgroup": "Portland",
                      "marker": {
                        "color": "#FF97FF",
                        "pattern": {
                          "shape": ""
                        }
                      },
                      "name": "Portland",
                      "orientation": "v",
                      "showlegend": true,
                      "textposition": "auto",
                      "type": "bar",
                      "x": [
                        "Portland"
                      ],
                      "xaxis": "x",
                      "y": {
                        "bdata": "AAAAAPAALEE=",
                        "dtype": "f8"
                      },
                      "yaxis": "y"
                    },
                    {
                      "hovertemplate": "City=%{x}<br>Year-Month=2021-03<br>Total Sales=%{y}<extra></extra>",
                      "legendgroup": "Providence",
                      "marker": {
                        "color": "#FECB52",
                        "pattern": {
                          "shape": ""
                        }
                      },
                      "name": "Providence",
                      "orientation": "v",
                      "showlegend": true,
                      "textposition": "auto",
                      "type": "bar",
                      "x": [
                        "Providence"
                      ],
                      "xaxis": "x",
                      "y": {
                        "bdata": "AAAAAOS5FkE=",
                        "dtype": "f8"
                      },
                      "yaxis": "y"
                    },
                    {
                      "hovertemplate": "City=%{x}<br>Year-Month=2021-03<br>Total Sales=%{y}<extra></extra>",
                      "legendgroup": "Richmond",
                      "marker": {
                        "color": "#636efa",
                        "pattern": {
                          "shape": ""
                        }
                      },
                      "name": "Richmond",
                      "orientation": "v",
                      "showlegend": true,
                      "textposition": "auto",
                      "type": "bar",
                      "x": [
                        "Richmond"
                      ],
                      "xaxis": "x",
                      "y": {
                        "bdata": "AAAAAPQHLEE=",
                        "dtype": "f8"
                      },
                      "yaxis": "y"
                    },
                    {
                      "hovertemplate": "City=%{x}<br>Year-Month=2021-03<br>Total Sales=%{y}<extra></extra>",
                      "legendgroup": "Salt Lake City",
                      "marker": {
                        "color": "#EF553B",
                        "pattern": {
                          "shape": ""
                        }
                      },
                      "name": "Salt Lake City",
                      "orientation": "v",
                      "showlegend": true,
                      "textposition": "auto",
                      "type": "bar",
                      "x": [
                        "Salt Lake City"
                      ],
                      "xaxis": "x",
                      "y": {
                        "bdata": "AQAAAJ4GJkE=",
                        "dtype": "f8"
                      },
                      "yaxis": "y"
                    },
                    {
                      "hovertemplate": "City=%{x}<br>Year-Month=2021-03<br>Total Sales=%{y}<extra></extra>",
                      "legendgroup": "Sioux Falls",
                      "marker": {
                        "color": "#00cc96",
                        "pattern": {
                          "shape": ""
                        }
                      },
                      "name": "Sioux Falls",
                      "orientation": "v",
                      "showlegend": true,
                      "textposition": "auto",
                      "type": "bar",
                      "x": [
                        "Sioux Falls"
                      ],
                      "xaxis": "x",
                      "y": {
                        "bdata": "AAAAAMBiIEE=",
                        "dtype": "f8"
                      },
                      "yaxis": "y"
                    },
                    {
                      "hovertemplate": "City=%{x}<br>Year-Month=2021-03<br>Total Sales=%{y}<extra></extra>",
                      "legendgroup": "St. Louis",
                      "marker": {
                        "color": "#ab63fa",
                        "pattern": {
                          "shape": ""
                        }
                      },
                      "name": "St. Louis",
                      "orientation": "v",
                      "showlegend": true,
                      "textposition": "auto",
                      "type": "bar",
                      "x": [
                        "St. Louis"
                      ],
                      "xaxis": "x",
                      "y": {
                        "bdata": "AAAAAGwYJkE=",
                        "dtype": "f8"
                      },
                      "yaxis": "y"
                    },
                    {
                      "hovertemplate": "City=%{x}<br>Year-Month=2021-03<br>Total Sales=%{y}<extra></extra>",
                      "legendgroup": "Wichita",
                      "marker": {
                        "color": "#FFA15A",
                        "pattern": {
                          "shape": ""
                        }
                      },
                      "name": "Wichita",
                      "orientation": "v",
                      "showlegend": true,
                      "textposition": "auto",
                      "type": "bar",
                      "x": [
                        "Wichita"
                      ],
                      "xaxis": "x",
                      "y": {
                        "bdata": "AAAAAByqE0E=",
                        "dtype": "f8"
                      },
                      "yaxis": "y"
                    },
                    {
                      "hovertemplate": "City=%{x}<br>Year-Month=2021-03<br>Total Sales=%{y}<extra></extra>",
                      "legendgroup": "Wilmington",
                      "marker": {
                        "color": "#19d3f3",
                        "pattern": {
                          "shape": ""
                        }
                      },
                      "name": "Wilmington",
                      "orientation": "v",
                      "showlegend": true,
                      "textposition": "auto",
                      "type": "bar",
                      "x": [
                        "Wilmington"
                      ],
                      "xaxis": "x",
                      "y": {
                        "bdata": "AAAAAMIVJEE=",
                        "dtype": "f8"
                      },
                      "yaxis": "y"
                    },
                    {
                      "hovertemplate": "City=%{x}<br>Year-Month=2021-03<br>Total Sales=%{y}<extra></extra>",
                      "legendgroup": "Knoxville",
                      "marker": {
                        "color": "#FF6692",
                        "pattern": {
                          "shape": ""
                        }
                      },
                      "name": "Knoxville",
                      "orientation": "v",
                      "showlegend": true,
                      "textposition": "auto",
                      "type": "bar",
                      "x": [
                        "Knoxville"
                      ],
                      "xaxis": "x",
                      "y": {
                        "bdata": "AAAAAKAWRkE=",
                        "dtype": "f8"
                      },
                      "yaxis": "y"
                    },
                    {
                      "hovertemplate": "City=%{x}<br>Year-Month=2021-03<br>Total Sales=%{y}<extra></extra>",
                      "legendgroup": "Los Angeles",
                      "marker": {
                        "color": "#B6E880",
                        "pattern": {
                          "shape": ""
                        }
                      },
                      "name": "Los Angeles",
                      "orientation": "v",
                      "showlegend": true,
                      "textposition": "auto",
                      "type": "bar",
                      "x": [
                        "Los Angeles"
                      ],
                      "xaxis": "x",
                      "y": {
                        "bdata": "AAAAgBoLTEE=",
                        "dtype": "f8"
                      },
                      "yaxis": "y"
                    }
                  ],
                  "name": "2021-03"
                },
                {
                  "data": [
                    {
                      "hovertemplate": "City=%{x}<br>Year-Month=2021-04<br>Total Sales=%{y}<extra></extra>",
                      "legendgroup": "Albany",
                      "marker": {
                        "color": "#FECB52",
                        "pattern": {
                          "shape": ""
                        }
                      },
                      "name": "Albany",
                      "orientation": "v",
                      "showlegend": true,
                      "textposition": "auto",
                      "type": "bar",
                      "x": [
                        "Albany"
                      ],
                      "xaxis": "x",
                      "y": {
                        "bdata": "AAAAAGyHN0E=",
                        "dtype": "f8"
                      },
                      "yaxis": "y"
                    },
                    {
                      "hovertemplate": "City=%{x}<br>Year-Month=2021-04<br>Total Sales=%{y}<extra></extra>",
                      "legendgroup": "Albuquerque",
                      "marker": {
                        "color": "#636efa",
                        "pattern": {
                          "shape": ""
                        }
                      },
                      "name": "Albuquerque",
                      "orientation": "v",
                      "showlegend": true,
                      "textposition": "auto",
                      "type": "bar",
                      "x": [
                        "Albuquerque"
                      ],
                      "xaxis": "x",
                      "y": {
                        "bdata": "AQAAAKUeNUE=",
                        "dtype": "f8"
                      },
                      "yaxis": "y"
                    },
                    {
                      "hovertemplate": "City=%{x}<br>Year-Month=2021-04<br>Total Sales=%{y}<extra></extra>",
                      "legendgroup": "Anchorage",
                      "marker": {
                        "color": "#EF553B",
                        "pattern": {
                          "shape": ""
                        }
                      },
                      "name": "Anchorage",
                      "orientation": "v",
                      "showlegend": true,
                      "textposition": "auto",
                      "type": "bar",
                      "x": [
                        "Anchorage"
                      ],
                      "xaxis": "x",
                      "y": {
                        "bdata": "AAAAAOzwKUE=",
                        "dtype": "f8"
                      },
                      "yaxis": "y"
                    },
                    {
                      "hovertemplate": "City=%{x}<br>Year-Month=2021-04<br>Total Sales=%{y}<extra></extra>",
                      "legendgroup": "Atlanta",
                      "marker": {
                        "color": "#00cc96",
                        "pattern": {
                          "shape": ""
                        }
                      },
                      "name": "Atlanta",
                      "orientation": "v",
                      "showlegend": true,
                      "textposition": "auto",
                      "type": "bar",
                      "x": [
                        "Atlanta"
                      ],
                      "xaxis": "x",
                      "y": {
                        "bdata": "AAAAALoIMkE=",
                        "dtype": "f8"
                      },
                      "yaxis": "y"
                    },
                    {
                      "hovertemplate": "City=%{x}<br>Year-Month=2021-04<br>Total Sales=%{y}<extra></extra>",
                      "legendgroup": "Baltimore",
                      "marker": {
                        "color": "#ab63fa",
                        "pattern": {
                          "shape": ""
                        }
                      },
                      "name": "Baltimore",
                      "orientation": "v",
                      "showlegend": true,
                      "textposition": "auto",
                      "type": "bar",
                      "x": [
                        "Baltimore"
                      ],
                      "xaxis": "x",
                      "y": {
                        "bdata": "AAAAAMC+FEE=",
                        "dtype": "f8"
                      },
                      "yaxis": "y"
                    },
                    {
                      "hovertemplate": "City=%{x}<br>Year-Month=2021-04<br>Total Sales=%{y}<extra></extra>",
                      "legendgroup": "Boise",
                      "marker": {
                        "color": "#19d3f3",
                        "pattern": {
                          "shape": ""
                        }
                      },
                      "name": "Boise",
                      "orientation": "v",
                      "showlegend": true,
                      "textposition": "auto",
                      "type": "bar",
                      "x": [
                        "Boise"
                      ],
                      "xaxis": "x",
                      "y": {
                        "bdata": "AAAAABg6KkE=",
                        "dtype": "f8"
                      },
                      "yaxis": "y"
                    },
                    {
                      "hovertemplate": "City=%{x}<br>Year-Month=2021-04<br>Total Sales=%{y}<extra></extra>",
                      "legendgroup": "Boston",
                      "marker": {
                        "color": "#FF6692",
                        "pattern": {
                          "shape": ""
                        }
                      },
                      "name": "Boston",
                      "orientation": "v",
                      "showlegend": true,
                      "textposition": "auto",
                      "type": "bar",
                      "x": [
                        "Boston"
                      ],
                      "xaxis": "x",
                      "y": {
                        "bdata": "AAAAAJ4QIEE=",
                        "dtype": "f8"
                      },
                      "yaxis": "y"
                    },
                    {
                      "hovertemplate": "City=%{x}<br>Year-Month=2021-04<br>Total Sales=%{y}<extra></extra>",
                      "legendgroup": "Burlington",
                      "marker": {
                        "color": "#B6E880",
                        "pattern": {
                          "shape": ""
                        }
                      },
                      "name": "Burlington",
                      "orientation": "v",
                      "showlegend": true,
                      "textposition": "auto",
                      "type": "bar",
                      "x": [
                        "Burlington"
                      ],
                      "xaxis": "x",
                      "y": {
                        "bdata": "AAAAAMAzJkE=",
                        "dtype": "f8"
                      },
                      "yaxis": "y"
                    },
                    {
                      "hovertemplate": "City=%{x}<br>Year-Month=2021-04<br>Total Sales=%{y}<extra></extra>",
                      "legendgroup": "Charleston",
                      "marker": {
                        "color": "#FF97FF",
                        "pattern": {
                          "shape": ""
                        }
                      },
                      "name": "Charleston",
                      "orientation": "v",
                      "showlegend": true,
                      "textposition": "auto",
                      "type": "bar",
                      "x": [
                        "Charleston"
                      ],
                      "xaxis": "x",
                      "y": {
                        "bdata": "AAAAADoJQUE=",
                        "dtype": "f8"
                      },
                      "yaxis": "y"
                    },
                    {
                      "hovertemplate": "City=%{x}<br>Year-Month=2021-04<br>Total Sales=%{y}<extra></extra>",
                      "legendgroup": "Charlotte",
                      "marker": {
                        "color": "#FECB52",
                        "pattern": {
                          "shape": ""
                        }
                      },
                      "name": "Charlotte",
                      "orientation": "v",
                      "showlegend": true,
                      "textposition": "auto",
                      "type": "bar",
                      "x": [
                        "Charlotte"
                      ],
                      "xaxis": "x",
                      "y": {
                        "bdata": "AAAAAJv0MUE=",
                        "dtype": "f8"
                      },
                      "yaxis": "y"
                    },
                    {
                      "hovertemplate": "City=%{x}<br>Year-Month=2021-04<br>Total Sales=%{y}<extra></extra>",
                      "legendgroup": "Cheyenne",
                      "marker": {
                        "color": "#636efa",
                        "pattern": {
                          "shape": ""
                        }
                      },
                      "name": "Cheyenne",
                      "orientation": "v",
                      "showlegend": true,
                      "textposition": "auto",
                      "type": "bar",
                      "x": [
                        "Cheyenne"
                      ],
                      "xaxis": "x",
                      "y": {
                        "bdata": "AAAAAFOUM0E=",
                        "dtype": "f8"
                      },
                      "yaxis": "y"
                    },
                    {
                      "hovertemplate": "City=%{x}<br>Year-Month=2021-04<br>Total Sales=%{y}<extra></extra>",
                      "legendgroup": "Columbus",
                      "marker": {
                        "color": "#EF553B",
                        "pattern": {
                          "shape": ""
                        }
                      },
                      "name": "Columbus",
                      "orientation": "v",
                      "showlegend": true,
                      "textposition": "auto",
                      "type": "bar",
                      "x": [
                        "Columbus"
                      ],
                      "xaxis": "x",
                      "y": {
                        "bdata": "AAAAADw9K0E=",
                        "dtype": "f8"
                      },
                      "yaxis": "y"
                    },
                    {
                      "hovertemplate": "City=%{x}<br>Year-Month=2021-04<br>Total Sales=%{y}<extra></extra>",
                      "legendgroup": "Des Moines",
                      "marker": {
                        "color": "#00cc96",
                        "pattern": {
                          "shape": ""
                        }
                      },
                      "name": "Des Moines",
                      "orientation": "v",
                      "showlegend": true,
                      "textposition": "auto",
                      "type": "bar",
                      "x": [
                        "Des Moines"
                      ],
                      "xaxis": "x",
                      "y": {
                        "bdata": "AAAAAPCtFkE=",
                        "dtype": "f8"
                      },
                      "yaxis": "y"
                    },
                    {
                      "hovertemplate": "City=%{x}<br>Year-Month=2021-04<br>Total Sales=%{y}<extra></extra>",
                      "legendgroup": "Detroit",
                      "marker": {
                        "color": "#ab63fa",
                        "pattern": {
                          "shape": ""
                        }
                      },
                      "name": "Detroit",
                      "orientation": "v",
                      "showlegend": true,
                      "textposition": "auto",
                      "type": "bar",
                      "x": [
                        "Detroit"
                      ],
                      "xaxis": "x",
                      "y": {
                        "bdata": "AAAAAOc2MUE=",
                        "dtype": "f8"
                      },
                      "yaxis": "y"
                    },
                    {
                      "hovertemplate": "City=%{x}<br>Year-Month=2021-04<br>Total Sales=%{y}<extra></extra>",
                      "legendgroup": "Fargo",
                      "marker": {
                        "color": "#FFA15A",
                        "pattern": {
                          "shape": ""
                        }
                      },
                      "name": "Fargo",
                      "orientation": "v",
                      "showlegend": true,
                      "textposition": "auto",
                      "type": "bar",
                      "x": [
                        "Fargo"
                      ],
                      "xaxis": "x",
                      "y": {
                        "bdata": "AAAAAOQlGUE=",
                        "dtype": "f8"
                      },
                      "yaxis": "y"
                    },
                    {
                      "hovertemplate": "City=%{x}<br>Year-Month=2021-04<br>Total Sales=%{y}<extra></extra>",
                      "legendgroup": "Hartford",
                      "marker": {
                        "color": "#19d3f3",
                        "pattern": {
                          "shape": ""
                        }
                      },
                      "name": "Hartford",
                      "orientation": "v",
                      "showlegend": true,
                      "textposition": "auto",
                      "type": "bar",
                      "x": [
                        "Hartford"
                      ],
                      "xaxis": "x",
                      "y": {
                        "bdata": "AAAAACzNIUE=",
                        "dtype": "f8"
                      },
                      "yaxis": "y"
                    },
                    {
                      "hovertemplate": "City=%{x}<br>Year-Month=2021-04<br>Total Sales=%{y}<extra></extra>",
                      "legendgroup": "Honolulu",
                      "marker": {
                        "color": "#FF6692",
                        "pattern": {
                          "shape": ""
                        }
                      },
                      "name": "Honolulu",
                      "orientation": "v",
                      "showlegend": true,
                      "textposition": "auto",
                      "type": "bar",
                      "x": [
                        "Honolulu"
                      ],
                      "xaxis": "x",
                      "y": {
                        "bdata": "AAAAAIceMkE=",
                        "dtype": "f8"
                      },
                      "yaxis": "y"
                    },
                    {
                      "hovertemplate": "City=%{x}<br>Year-Month=2021-04<br>Total Sales=%{y}<extra></extra>",
                      "legendgroup": "Indianapolis",
                      "marker": {
                        "color": "#B6E880",
                        "pattern": {
                          "shape": ""
                        }
                      },
                      "name": "Indianapolis",
                      "orientation": "v",
                      "showlegend": true,
                      "textposition": "auto",
                      "type": "bar",
                      "x": [
                        "Indianapolis"
                      ],
                      "xaxis": "x",
                      "y": {
                        "bdata": "AQAAAMgXHUE=",
                        "dtype": "f8"
                      },
                      "yaxis": "y"
                    },
                    {
                      "hovertemplate": "City=%{x}<br>Year-Month=2021-04<br>Total Sales=%{y}<extra></extra>",
                      "legendgroup": "Jackson",
                      "marker": {
                        "color": "#FF97FF",
                        "pattern": {
                          "shape": ""
                        }
                      },
                      "name": "Jackson",
                      "orientation": "v",
                      "showlegend": true,
                      "textposition": "auto",
                      "type": "bar",
                      "x": [
                        "Jackson"
                      ],
                      "xaxis": "x",
                      "y": {
                        "bdata": "AAAAAFDVJEE=",
                        "dtype": "f8"
                      },
                      "yaxis": "y"
                    },
                    {
                      "hovertemplate": "City=%{x}<br>Year-Month=2021-04<br>Total Sales=%{y}<extra></extra>",
                      "legendgroup": "Little Rock",
                      "marker": {
                        "color": "#FECB52",
                        "pattern": {
                          "shape": ""
                        }
                      },
                      "name": "Little Rock",
                      "orientation": "v",
                      "showlegend": true,
                      "textposition": "auto",
                      "type": "bar",
                      "x": [
                        "Little Rock"
                      ],
                      "xaxis": "x",
                      "y": {
                        "bdata": "AAAAAJ4pIUE=",
                        "dtype": "f8"
                      },
                      "yaxis": "y"
                    },
                    {
                      "hovertemplate": "City=%{x}<br>Year-Month=2021-04<br>Total Sales=%{y}<extra></extra>",
                      "legendgroup": "Louisville",
                      "marker": {
                        "color": "#636efa",
                        "pattern": {
                          "shape": ""
                        }
                      },
                      "name": "Louisville",
                      "orientation": "v",
                      "showlegend": true,
                      "textposition": "auto",
                      "type": "bar",
                      "x": [
                        "Louisville"
                      ],
                      "xaxis": "x",
                      "y": {
                        "bdata": "AAAAAPLUIUE=",
                        "dtype": "f8"
                      },
                      "yaxis": "y"
                    },
                    {
                      "hovertemplate": "City=%{x}<br>Year-Month=2021-04<br>Total Sales=%{y}<extra></extra>",
                      "legendgroup": "Manchester",
                      "marker": {
                        "color": "#EF553B",
                        "pattern": {
                          "shape": ""
                        }
                      },
                      "name": "Manchester",
                      "orientation": "v",
                      "showlegend": true,
                      "textposition": "auto",
                      "type": "bar",
                      "x": [
                        "Manchester"
                      ],
                      "xaxis": "x",
                      "y": {
                        "bdata": "AAAAALwdK0E=",
                        "dtype": "f8"
                      },
                      "yaxis": "y"
                    },
                    {
                      "hovertemplate": "City=%{x}<br>Year-Month=2021-04<br>Total Sales=%{y}<extra></extra>",
                      "legendgroup": "Milwaukee",
                      "marker": {
                        "color": "#00cc96",
                        "pattern": {
                          "shape": ""
                        }
                      },
                      "name": "Milwaukee",
                      "orientation": "v",
                      "showlegend": true,
                      "textposition": "auto",
                      "type": "bar",
                      "x": [
                        "Milwaukee"
                      ],
                      "xaxis": "x",
                      "y": {
                        "bdata": "AAAAAPDyE0E=",
                        "dtype": "f8"
                      },
                      "yaxis": "y"
                    },
                    {
                      "hovertemplate": "City=%{x}<br>Year-Month=2021-04<br>Total Sales=%{y}<extra></extra>",
                      "legendgroup": "New Orleans",
                      "marker": {
                        "color": "#ab63fa",
                        "pattern": {
                          "shape": ""
                        }
                      },
                      "name": "New Orleans",
                      "orientation": "v",
                      "showlegend": true,
                      "textposition": "auto",
                      "type": "bar",
                      "x": [
                        "New Orleans"
                      ],
                      "xaxis": "x",
                      "y": {
                        "bdata": "AAAAAPzBMEE=",
                        "dtype": "f8"
                      },
                      "yaxis": "y"
                    },
                    {
                      "hovertemplate": "City=%{x}<br>Year-Month=2021-04<br>Total Sales=%{y}<extra></extra>",
                      "legendgroup": "Newark",
                      "marker": {
                        "color": "#FFA15A",
                        "pattern": {
                          "shape": ""
                        }
                      },
                      "name": "Newark",
                      "orientation": "v",
                      "showlegend": true,
                      "textposition": "auto",
                      "type": "bar",
                      "x": [
                        "Newark"
                      ],
                      "xaxis": "x",
                      "y": {
                        "bdata": "AAAAAHAuG0E=",
                        "dtype": "f8"
                      },
                      "yaxis": "y"
                    },
                    {
                      "hovertemplate": "City=%{x}<br>Year-Month=2021-04<br>Total Sales=%{y}<extra></extra>",
                      "legendgroup": "Oklahoma City",
                      "marker": {
                        "color": "#19d3f3",
                        "pattern": {
                          "shape": ""
                        }
                      },
                      "name": "Oklahoma City",
                      "orientation": "v",
                      "showlegend": true,
                      "textposition": "auto",
                      "type": "bar",
                      "x": [
                        "Oklahoma City"
                      ],
                      "xaxis": "x",
                      "y": {
                        "bdata": "AAAAABDmGkE=",
                        "dtype": "f8"
                      },
                      "yaxis": "y"
                    },
                    {
                      "hovertemplate": "City=%{x}<br>Year-Month=2021-04<br>Total Sales=%{y}<extra></extra>",
                      "legendgroup": "Orlando",
                      "marker": {
                        "color": "#FF6692",
                        "pattern": {
                          "shape": ""
                        }
                      },
                      "name": "Orlando",
                      "orientation": "v",
                      "showlegend": true,
                      "textposition": "auto",
                      "type": "bar",
                      "x": [
                        "Orlando"
                      ],
                      "xaxis": "x",
                      "y": {
                        "bdata": "AAAAAA8yN0E=",
                        "dtype": "f8"
                      },
                      "yaxis": "y"
                    },
                    {
                      "hovertemplate": "City=%{x}<br>Year-Month=2021-04<br>Total Sales=%{y}<extra></extra>",
                      "legendgroup": "Phoenix",
                      "marker": {
                        "color": "#B6E880",
                        "pattern": {
                          "shape": ""
                        }
                      },
                      "name": "Phoenix",
                      "orientation": "v",
                      "showlegend": true,
                      "textposition": "auto",
                      "type": "bar",
                      "x": [
                        "Phoenix"
                      ],
                      "xaxis": "x",
                      "y": {
                        "bdata": "AAAAAMC6MEE=",
                        "dtype": "f8"
                      },
                      "yaxis": "y"
                    },
                    {
                      "hovertemplate": "City=%{x}<br>Year-Month=2021-04<br>Total Sales=%{y}<extra></extra>",
                      "legendgroup": "Portland",
                      "marker": {
                        "color": "#FF97FF",
                        "pattern": {
                          "shape": ""
                        }
                      },
                      "name": "Portland",
                      "orientation": "v",
                      "showlegend": true,
                      "textposition": "auto",
                      "type": "bar",
                      "x": [
                        "Portland"
                      ],
                      "xaxis": "x",
                      "y": {
                        "bdata": "AQAAAFhnL0E=",
                        "dtype": "f8"
                      },
                      "yaxis": "y"
                    },
                    {
                      "hovertemplate": "City=%{x}<br>Year-Month=2021-04<br>Total Sales=%{y}<extra></extra>",
                      "legendgroup": "Providence",
                      "marker": {
                        "color": "#FECB52",
                        "pattern": {
                          "shape": ""
                        }
                      },
                      "name": "Providence",
                      "orientation": "v",
                      "showlegend": true,
                      "textposition": "auto",
                      "type": "bar",
                      "x": [
                        "Providence"
                      ],
                      "xaxis": "x",
                      "y": {
                        "bdata": "AAAAABQwFUE=",
                        "dtype": "f8"
                      },
                      "yaxis": "y"
                    },
                    {
                      "hovertemplate": "City=%{x}<br>Year-Month=2021-04<br>Total Sales=%{y}<extra></extra>",
                      "legendgroup": "Richmond",
                      "marker": {
                        "color": "#636efa",
                        "pattern": {
                          "shape": ""
                        }
                      },
                      "name": "Richmond",
                      "orientation": "v",
                      "showlegend": true,
                      "textposition": "auto",
                      "type": "bar",
                      "x": [
                        "Richmond"
                      ],
                      "xaxis": "x",
                      "y": {
                        "bdata": "AQAAAPpSL0E=",
                        "dtype": "f8"
                      },
                      "yaxis": "y"
                    },
                    {
                      "hovertemplate": "City=%{x}<br>Year-Month=2021-04<br>Total Sales=%{y}<extra></extra>",
                      "legendgroup": "Salt Lake City",
                      "marker": {
                        "color": "#EF553B",
                        "pattern": {
                          "shape": ""
                        }
                      },
                      "name": "Salt Lake City",
                      "orientation": "v",
                      "showlegend": true,
                      "textposition": "auto",
                      "type": "bar",
                      "x": [
                        "Salt Lake City"
                      ],
                      "xaxis": "x",
                      "y": {
                        "bdata": "AQAAAHIPIkE=",
                        "dtype": "f8"
                      },
                      "yaxis": "y"
                    },
                    {
                      "hovertemplate": "City=%{x}<br>Year-Month=2021-04<br>Total Sales=%{y}<extra></extra>",
                      "legendgroup": "Sioux Falls",
                      "marker": {
                        "color": "#00cc96",
                        "pattern": {
                          "shape": ""
                        }
                      },
                      "name": "Sioux Falls",
                      "orientation": "v",
                      "showlegend": true,
                      "textposition": "auto",
                      "type": "bar",
                      "x": [
                        "Sioux Falls"
                      ],
                      "xaxis": "x",
                      "y": {
                        "bdata": "AAAAAGxJHkE=",
                        "dtype": "f8"
                      },
                      "yaxis": "y"
                    },
                    {
                      "hovertemplate": "City=%{x}<br>Year-Month=2021-04<br>Total Sales=%{y}<extra></extra>",
                      "legendgroup": "St. Louis",
                      "marker": {
                        "color": "#ab63fa",
                        "pattern": {
                          "shape": ""
                        }
                      },
                      "name": "St. Louis",
                      "orientation": "v",
                      "showlegend": true,
                      "textposition": "auto",
                      "type": "bar",
                      "x": [
                        "St. Louis"
                      ],
                      "xaxis": "x",
                      "y": {
                        "bdata": "AAAAACBDIkE=",
                        "dtype": "f8"
                      },
                      "yaxis": "y"
                    },
                    {
                      "hovertemplate": "City=%{x}<br>Year-Month=2021-04<br>Total Sales=%{y}<extra></extra>",
                      "legendgroup": "Wichita",
                      "marker": {
                        "color": "#FFA15A",
                        "pattern": {
                          "shape": ""
                        }
                      },
                      "name": "Wichita",
                      "orientation": "v",
                      "showlegend": true,
                      "textposition": "auto",
                      "type": "bar",
                      "x": [
                        "Wichita"
                      ],
                      "xaxis": "x",
                      "y": {
                        "bdata": "AAAAAMjTF0E=",
                        "dtype": "f8"
                      },
                      "yaxis": "y"
                    },
                    {
                      "hovertemplate": "City=%{x}<br>Year-Month=2021-04<br>Total Sales=%{y}<extra></extra>",
                      "legendgroup": "Wilmington",
                      "marker": {
                        "color": "#19d3f3",
                        "pattern": {
                          "shape": ""
                        }
                      },
                      "name": "Wilmington",
                      "orientation": "v",
                      "showlegend": true,
                      "textposition": "auto",
                      "type": "bar",
                      "x": [
                        "Wilmington"
                      ],
                      "xaxis": "x",
                      "y": {
                        "bdata": "AAAAAMQ6I0E=",
                        "dtype": "f8"
                      },
                      "yaxis": "y"
                    },
                    {
                      "hovertemplate": "City=%{x}<br>Year-Month=2021-04<br>Total Sales=%{y}<extra></extra>",
                      "legendgroup": "Knoxville",
                      "marker": {
                        "color": "#FF6692",
                        "pattern": {
                          "shape": ""
                        }
                      },
                      "name": "Knoxville",
                      "orientation": "v",
                      "showlegend": true,
                      "textposition": "auto",
                      "type": "bar",
                      "x": [
                        "Knoxville"
                      ],
                      "xaxis": "x",
                      "y": {
                        "bdata": "AAAAIN0AYUE=",
                        "dtype": "f8"
                      },
                      "yaxis": "y"
                    },
                    {
                      "hovertemplate": "City=%{x}<br>Year-Month=2021-04<br>Total Sales=%{y}<extra></extra>",
                      "legendgroup": "Los Angeles",
                      "marker": {
                        "color": "#B6E880",
                        "pattern": {
                          "shape": ""
                        }
                      },
                      "name": "Los Angeles",
                      "orientation": "v",
                      "showlegend": true,
                      "textposition": "auto",
                      "type": "bar",
                      "x": [
                        "Los Angeles"
                      ],
                      "xaxis": "x",
                      "y": {
                        "bdata": "AAAAIEn9YEE=",
                        "dtype": "f8"
                      },
                      "yaxis": "y"
                    }
                  ],
                  "name": "2021-04"
                },
                {
                  "data": [
                    {
                      "hovertemplate": "City=%{x}<br>Year-Month=2021-05<br>Total Sales=%{y}<extra></extra>",
                      "legendgroup": "Albany",
                      "marker": {
                        "color": "#FECB52",
                        "pattern": {
                          "shape": ""
                        }
                      },
                      "name": "Albany",
                      "orientation": "v",
                      "showlegend": true,
                      "textposition": "auto",
                      "type": "bar",
                      "x": [
                        "Albany"
                      ],
                      "xaxis": "x",
                      "y": {
                        "bdata": "AAAAAGD0P0E=",
                        "dtype": "f8"
                      },
                      "yaxis": "y"
                    },
                    {
                      "hovertemplate": "City=%{x}<br>Year-Month=2021-05<br>Total Sales=%{y}<extra></extra>",
                      "legendgroup": "Albuquerque",
                      "marker": {
                        "color": "#636efa",
                        "pattern": {
                          "shape": ""
                        }
                      },
                      "name": "Albuquerque",
                      "orientation": "v",
                      "showlegend": true,
                      "textposition": "auto",
                      "type": "bar",
                      "x": [
                        "Albuquerque"
                      ],
                      "xaxis": "x",
                      "y": {
                        "bdata": "AQAAAJMLOEE=",
                        "dtype": "f8"
                      },
                      "yaxis": "y"
                    },
                    {
                      "hovertemplate": "City=%{x}<br>Year-Month=2021-05<br>Total Sales=%{y}<extra></extra>",
                      "legendgroup": "Anchorage",
                      "marker": {
                        "color": "#EF553B",
                        "pattern": {
                          "shape": ""
                        }
                      },
                      "name": "Anchorage",
                      "orientation": "v",
                      "showlegend": true,
                      "textposition": "auto",
                      "type": "bar",
                      "x": [
                        "Anchorage"
                      ],
                      "xaxis": "x",
                      "y": {
                        "bdata": "AAAAAOFGNEE=",
                        "dtype": "f8"
                      },
                      "yaxis": "y"
                    },
                    {
                      "hovertemplate": "City=%{x}<br>Year-Month=2021-05<br>Total Sales=%{y}<extra></extra>",
                      "legendgroup": "Atlanta",
                      "marker": {
                        "color": "#00cc96",
                        "pattern": {
                          "shape": ""
                        }
                      },
                      "name": "Atlanta",
                      "orientation": "v",
                      "showlegend": true,
                      "textposition": "auto",
                      "type": "bar",
                      "x": [
                        "Atlanta"
                      ],
                      "xaxis": "x",
                      "y": {
                        "bdata": "AAAAAG7BNEE=",
                        "dtype": "f8"
                      },
                      "yaxis": "y"
                    },
                    {
                      "hovertemplate": "City=%{x}<br>Year-Month=2021-05<br>Total Sales=%{y}<extra></extra>",
                      "legendgroup": "Baltimore",
                      "marker": {
                        "color": "#ab63fa",
                        "pattern": {
                          "shape": ""
                        }
                      },
                      "name": "Baltimore",
                      "orientation": "v",
                      "showlegend": true,
                      "textposition": "auto",
                      "type": "bar",
                      "x": [
                        "Baltimore"
                      ],
                      "xaxis": "x",
                      "y": {
                        "bdata": "AAAAAEAyI0E=",
                        "dtype": "f8"
                      },
                      "yaxis": "y"
                    },
                    {
                      "hovertemplate": "City=%{x}<br>Year-Month=2021-05<br>Total Sales=%{y}<extra></extra>",
                      "legendgroup": "Boise",
                      "marker": {
                        "color": "#19d3f3",
                        "pattern": {
                          "shape": ""
                        }
                      },
                      "name": "Boise",
                      "orientation": "v",
                      "showlegend": true,
                      "textposition": "auto",
                      "type": "bar",
                      "x": [
                        "Boise"
                      ],
                      "xaxis": "x",
                      "y": {
                        "bdata": "AAAAAIltM0E=",
                        "dtype": "f8"
                      },
                      "yaxis": "y"
                    },
                    {
                      "hovertemplate": "City=%{x}<br>Year-Month=2021-05<br>Total Sales=%{y}<extra></extra>",
                      "legendgroup": "Boston",
                      "marker": {
                        "color": "#FF6692",
                        "pattern": {
                          "shape": ""
                        }
                      },
                      "name": "Boston",
                      "orientation": "v",
                      "showlegend": true,
                      "textposition": "auto",
                      "type": "bar",
                      "x": [
                        "Boston"
                      ],
                      "xaxis": "x",
                      "y": {
                        "bdata": "AAAAAKRrK0E=",
                        "dtype": "f8"
                      },
                      "yaxis": "y"
                    },
                    {
                      "hovertemplate": "City=%{x}<br>Year-Month=2021-05<br>Total Sales=%{y}<extra></extra>",
                      "legendgroup": "Burlington",
                      "marker": {
                        "color": "#B6E880",
                        "pattern": {
                          "shape": ""
                        }
                      },
                      "name": "Burlington",
                      "orientation": "v",
                      "showlegend": true,
                      "textposition": "auto",
                      "type": "bar",
                      "x": [
                        "Burlington"
                      ],
                      "xaxis": "x",
                      "y": {
                        "bdata": "AAAAADEeM0E=",
                        "dtype": "f8"
                      },
                      "yaxis": "y"
                    },
                    {
                      "hovertemplate": "City=%{x}<br>Year-Month=2021-05<br>Total Sales=%{y}<extra></extra>",
                      "legendgroup": "Charleston",
                      "marker": {
                        "color": "#FF97FF",
                        "pattern": {
                          "shape": ""
                        }
                      },
                      "name": "Charleston",
                      "orientation": "v",
                      "showlegend": true,
                      "textposition": "auto",
                      "type": "bar",
                      "x": [
                        "Charleston"
                      ],
                      "xaxis": "x",
                      "y": {
                        "bdata": "AAAAgCcPSkE=",
                        "dtype": "f8"
                      },
                      "yaxis": "y"
                    },
                    {
                      "hovertemplate": "City=%{x}<br>Year-Month=2021-05<br>Total Sales=%{y}<extra></extra>",
                      "legendgroup": "Charlotte",
                      "marker": {
                        "color": "#FECB52",
                        "pattern": {
                          "shape": ""
                        }
                      },
                      "name": "Charlotte",
                      "orientation": "v",
                      "showlegend": true,
                      "textposition": "auto",
                      "type": "bar",
                      "x": [
                        "Charlotte"
                      ],
                      "xaxis": "x",
                      "y": {
                        "bdata": "AAAAANZxPUE=",
                        "dtype": "f8"
                      },
                      "yaxis": "y"
                    },
                    {
                      "hovertemplate": "City=%{x}<br>Year-Month=2021-05<br>Total Sales=%{y}<extra></extra>",
                      "legendgroup": "Cheyenne",
                      "marker": {
                        "color": "#636efa",
                        "pattern": {
                          "shape": ""
                        }
                      },
                      "name": "Cheyenne",
                      "orientation": "v",
                      "showlegend": true,
                      "textposition": "auto",
                      "type": "bar",
                      "x": [
                        "Cheyenne"
                      ],
                      "xaxis": "x",
                      "y": {
                        "bdata": "AAAAAEn2OEE=",
                        "dtype": "f8"
                      },
                      "yaxis": "y"
                    },
                    {
                      "hovertemplate": "City=%{x}<br>Year-Month=2021-05<br>Total Sales=%{y}<extra></extra>",
                      "legendgroup": "Columbus",
                      "marker": {
                        "color": "#EF553B",
                        "pattern": {
                          "shape": ""
                        }
                      },
                      "name": "Columbus",
                      "orientation": "v",
                      "showlegend": true,
                      "textposition": "auto",
                      "type": "bar",
                      "x": [
                        "Columbus"
                      ],
                      "xaxis": "x",
                      "y": {
                        "bdata": "AAAAABgGN0E=",
                        "dtype": "f8"
                      },
                      "yaxis": "y"
                    },
                    {
                      "hovertemplate": "City=%{x}<br>Year-Month=2021-05<br>Total Sales=%{y}<extra></extra>",
                      "legendgroup": "Des Moines",
                      "marker": {
                        "color": "#00cc96",
                        "pattern": {
                          "shape": ""
                        }
                      },
                      "name": "Des Moines",
                      "orientation": "v",
                      "showlegend": true,
                      "textposition": "auto",
                      "type": "bar",
                      "x": [
                        "Des Moines"
                      ],
                      "xaxis": "x",
                      "y": {
                        "bdata": "AAAAAK6PJkE=",
                        "dtype": "f8"
                      },
                      "yaxis": "y"
                    },
                    {
                      "hovertemplate": "City=%{x}<br>Year-Month=2021-05<br>Total Sales=%{y}<extra></extra>",
                      "legendgroup": "Detroit",
                      "marker": {
                        "color": "#ab63fa",
                        "pattern": {
                          "shape": ""
                        }
                      },
                      "name": "Detroit",
                      "orientation": "v",
                      "showlegend": true,
                      "textposition": "auto",
                      "type": "bar",
                      "x": [
                        "Detroit"
                      ],
                      "xaxis": "x",
                      "y": {
                        "bdata": "AAAAALwiOkE=",
                        "dtype": "f8"
                      },
                      "yaxis": "y"
                    },
                    {
                      "hovertemplate": "City=%{x}<br>Year-Month=2021-05<br>Total Sales=%{y}<extra></extra>",
                      "legendgroup": "Fargo",
                      "marker": {
                        "color": "#FFA15A",
                        "pattern": {
                          "shape": ""
                        }
                      },
                      "name": "Fargo",
                      "orientation": "v",
                      "showlegend": true,
                      "textposition": "auto",
                      "type": "bar",
                      "x": [
                        "Fargo"
                      ],
                      "xaxis": "x",
                      "y": {
                        "bdata": "AAAAALTNJUE=",
                        "dtype": "f8"
                      },
                      "yaxis": "y"
                    },
                    {
                      "hovertemplate": "City=%{x}<br>Year-Month=2021-05<br>Total Sales=%{y}<extra></extra>",
                      "legendgroup": "Hartford",
                      "marker": {
                        "color": "#19d3f3",
                        "pattern": {
                          "shape": ""
                        }
                      },
                      "name": "Hartford",
                      "orientation": "v",
                      "showlegend": true,
                      "textposition": "auto",
                      "type": "bar",
                      "x": [
                        "Hartford"
                      ],
                      "xaxis": "x",
                      "y": {
                        "bdata": "AAAAAEM4MEE=",
                        "dtype": "f8"
                      },
                      "yaxis": "y"
                    },
                    {
                      "hovertemplate": "City=%{x}<br>Year-Month=2021-05<br>Total Sales=%{y}<extra></extra>",
                      "legendgroup": "Honolulu",
                      "marker": {
                        "color": "#FF6692",
                        "pattern": {
                          "shape": ""
                        }
                      },
                      "name": "Honolulu",
                      "orientation": "v",
                      "showlegend": true,
                      "textposition": "auto",
                      "type": "bar",
                      "x": [
                        "Honolulu"
                      ],
                      "xaxis": "x",
                      "y": {
                        "bdata": "AAAAAB0qNUE=",
                        "dtype": "f8"
                      },
                      "yaxis": "y"
                    },
                    {
                      "hovertemplate": "City=%{x}<br>Year-Month=2021-05<br>Total Sales=%{y}<extra></extra>",
                      "legendgroup": "Indianapolis",
                      "marker": {
                        "color": "#B6E880",
                        "pattern": {
                          "shape": ""
                        }
                      },
                      "name": "Indianapolis",
                      "orientation": "v",
                      "showlegend": true,
                      "textposition": "auto",
                      "type": "bar",
                      "x": [
                        "Indianapolis"
                      ],
                      "xaxis": "x",
                      "y": {
                        "bdata": "AAAAABgxKkE=",
                        "dtype": "f8"
                      },
                      "yaxis": "y"
                    },
                    {
                      "hovertemplate": "City=%{x}<br>Year-Month=2021-05<br>Total Sales=%{y}<extra></extra>",
                      "legendgroup": "Jackson",
                      "marker": {
                        "color": "#FF97FF",
                        "pattern": {
                          "shape": ""
                        }
                      },
                      "name": "Jackson",
                      "orientation": "v",
                      "showlegend": true,
                      "textposition": "auto",
                      "type": "bar",
                      "x": [
                        "Jackson"
                      ],
                      "xaxis": "x",
                      "y": {
                        "bdata": "AAAAAOUAM0E=",
                        "dtype": "f8"
                      },
                      "yaxis": "y"
                    },
                    {
                      "hovertemplate": "City=%{x}<br>Year-Month=2021-05<br>Total Sales=%{y}<extra></extra>",
                      "legendgroup": "Little Rock",
                      "marker": {
                        "color": "#FECB52",
                        "pattern": {
                          "shape": ""
                        }
                      },
                      "name": "Little Rock",
                      "orientation": "v",
                      "showlegend": true,
                      "textposition": "auto",
                      "type": "bar",
                      "x": [
                        "Little Rock"
                      ],
                      "xaxis": "x",
                      "y": {
                        "bdata": "AAAAAB56L0E=",
                        "dtype": "f8"
                      },
                      "yaxis": "y"
                    },
                    {
                      "hovertemplate": "City=%{x}<br>Year-Month=2021-05<br>Total Sales=%{y}<extra></extra>",
                      "legendgroup": "Louisville",
                      "marker": {
                        "color": "#636efa",
                        "pattern": {
                          "shape": ""
                        }
                      },
                      "name": "Louisville",
                      "orientation": "v",
                      "showlegend": true,
                      "textposition": "auto",
                      "type": "bar",
                      "x": [
                        "Louisville"
                      ],
                      "xaxis": "x",
                      "y": {
                        "bdata": "AAAAACqEJkE=",
                        "dtype": "f8"
                      },
                      "yaxis": "y"
                    },
                    {
                      "hovertemplate": "City=%{x}<br>Year-Month=2021-05<br>Total Sales=%{y}<extra></extra>",
                      "legendgroup": "Manchester",
                      "marker": {
                        "color": "#EF553B",
                        "pattern": {
                          "shape": ""
                        }
                      },
                      "name": "Manchester",
                      "orientation": "v",
                      "showlegend": true,
                      "textposition": "auto",
                      "type": "bar",
                      "x": [
                        "Manchester"
                      ],
                      "xaxis": "x",
                      "y": {
                        "bdata": "AAAAAKBBNkE=",
                        "dtype": "f8"
                      },
                      "yaxis": "y"
                    },
                    {
                      "hovertemplate": "City=%{x}<br>Year-Month=2021-05<br>Total Sales=%{y}<extra></extra>",
                      "legendgroup": "Milwaukee",
                      "marker": {
                        "color": "#00cc96",
                        "pattern": {
                          "shape": ""
                        }
                      },
                      "name": "Milwaukee",
                      "orientation": "v",
                      "showlegend": true,
                      "textposition": "auto",
                      "type": "bar",
                      "x": [
                        "Milwaukee"
                      ],
                      "xaxis": "x",
                      "y": {
                        "bdata": "AAAAAHKKJkE=",
                        "dtype": "f8"
                      },
                      "yaxis": "y"
                    },
                    {
                      "hovertemplate": "City=%{x}<br>Year-Month=2021-05<br>Total Sales=%{y}<extra></extra>",
                      "legendgroup": "New Orleans",
                      "marker": {
                        "color": "#ab63fa",
                        "pattern": {
                          "shape": ""
                        }
                      },
                      "name": "New Orleans",
                      "orientation": "v",
                      "showlegend": true,
                      "textposition": "auto",
                      "type": "bar",
                      "x": [
                        "New Orleans"
                      ],
                      "xaxis": "x",
                      "y": {
                        "bdata": "AAAAAE4lNEE=",
                        "dtype": "f8"
                      },
                      "yaxis": "y"
                    },
                    {
                      "hovertemplate": "City=%{x}<br>Year-Month=2021-05<br>Total Sales=%{y}<extra></extra>",
                      "legendgroup": "Newark",
                      "marker": {
                        "color": "#FFA15A",
                        "pattern": {
                          "shape": ""
                        }
                      },
                      "name": "Newark",
                      "orientation": "v",
                      "showlegend": true,
                      "textposition": "auto",
                      "type": "bar",
                      "x": [
                        "Newark"
                      ],
                      "xaxis": "x",
                      "y": {
                        "bdata": "AAAAAFyCKkE=",
                        "dtype": "f8"
                      },
                      "yaxis": "y"
                    },
                    {
                      "hovertemplate": "City=%{x}<br>Year-Month=2021-05<br>Total Sales=%{y}<extra></extra>",
                      "legendgroup": "Oklahoma City",
                      "marker": {
                        "color": "#19d3f3",
                        "pattern": {
                          "shape": ""
                        }
                      },
                      "name": "Oklahoma City",
                      "orientation": "v",
                      "showlegend": true,
                      "textposition": "auto",
                      "type": "bar",
                      "x": [
                        "Oklahoma City"
                      ],
                      "xaxis": "x",
                      "y": {
                        "bdata": "AAAAAGq3KUE=",
                        "dtype": "f8"
                      },
                      "yaxis": "y"
                    },
                    {
                      "hovertemplate": "City=%{x}<br>Year-Month=2021-05<br>Total Sales=%{y}<extra></extra>",
                      "legendgroup": "Orlando",
                      "marker": {
                        "color": "#FF6692",
                        "pattern": {
                          "shape": ""
                        }
                      },
                      "name": "Orlando",
                      "orientation": "v",
                      "showlegend": true,
                      "textposition": "auto",
                      "type": "bar",
                      "x": [
                        "Orlando"
                      ],
                      "xaxis": "x",
                      "y": {
                        "bdata": "AAAAAAntOUE=",
                        "dtype": "f8"
                      },
                      "yaxis": "y"
                    },
                    {
                      "hovertemplate": "City=%{x}<br>Year-Month=2021-05<br>Total Sales=%{y}<extra></extra>",
                      "legendgroup": "Phoenix",
                      "marker": {
                        "color": "#B6E880",
                        "pattern": {
                          "shape": ""
                        }
                      },
                      "name": "Phoenix",
                      "orientation": "v",
                      "showlegend": true,
                      "textposition": "auto",
                      "type": "bar",
                      "x": [
                        "Phoenix"
                      ],
                      "xaxis": "x",
                      "y": {
                        "bdata": "AAAAAJlsM0E=",
                        "dtype": "f8"
                      },
                      "yaxis": "y"
                    },
                    {
                      "hovertemplate": "City=%{x}<br>Year-Month=2021-05<br>Total Sales=%{y}<extra></extra>",
                      "legendgroup": "Portland",
                      "marker": {
                        "color": "#FF97FF",
                        "pattern": {
                          "shape": ""
                        }
                      },
                      "name": "Portland",
                      "orientation": "v",
                      "showlegend": true,
                      "textposition": "auto",
                      "type": "bar",
                      "x": [
                        "Portland"
                      ],
                      "xaxis": "x",
                      "y": {
                        "bdata": "AAAAAO2xMkE=",
                        "dtype": "f8"
                      },
                      "yaxis": "y"
                    },
                    {
                      "hovertemplate": "City=%{x}<br>Year-Month=2021-05<br>Total Sales=%{y}<extra></extra>",
                      "legendgroup": "Providence",
                      "marker": {
                        "color": "#FECB52",
                        "pattern": {
                          "shape": ""
                        }
                      },
                      "name": "Providence",
                      "orientation": "v",
                      "showlegend": true,
                      "textposition": "auto",
                      "type": "bar",
                      "x": [
                        "Providence"
                      ],
                      "xaxis": "x",
                      "y": {
                        "bdata": "AAAAAPCfJkE=",
                        "dtype": "f8"
                      },
                      "yaxis": "y"
                    },
                    {
                      "hovertemplate": "City=%{x}<br>Year-Month=2021-05<br>Total Sales=%{y}<extra></extra>",
                      "legendgroup": "Richmond",
                      "marker": {
                        "color": "#636efa",
                        "pattern": {
                          "shape": ""
                        }
                      },
                      "name": "Richmond",
                      "orientation": "v",
                      "showlegend": true,
                      "textposition": "auto",
                      "type": "bar",
                      "x": [
                        "Richmond"
                      ],
                      "xaxis": "x",
                      "y": {
                        "bdata": "AAAAAACnMkE=",
                        "dtype": "f8"
                      },
                      "yaxis": "y"
                    },
                    {
                      "hovertemplate": "City=%{x}<br>Year-Month=2021-05<br>Total Sales=%{y}<extra></extra>",
                      "legendgroup": "Salt Lake City",
                      "marker": {
                        "color": "#EF553B",
                        "pattern": {
                          "shape": ""
                        }
                      },
                      "name": "Salt Lake City",
                      "orientation": "v",
                      "showlegend": true,
                      "textposition": "auto",
                      "type": "bar",
                      "x": [
                        "Salt Lake City"
                      ],
                      "xaxis": "x",
                      "y": {
                        "bdata": "AAAAAJK+KUE=",
                        "dtype": "f8"
                      },
                      "yaxis": "y"
                    },
                    {
                      "hovertemplate": "City=%{x}<br>Year-Month=2021-05<br>Total Sales=%{y}<extra></extra>",
                      "legendgroup": "Sioux Falls",
                      "marker": {
                        "color": "#00cc96",
                        "pattern": {
                          "shape": ""
                        }
                      },
                      "name": "Sioux Falls",
                      "orientation": "v",
                      "showlegend": true,
                      "textposition": "auto",
                      "type": "bar",
                      "x": [
                        "Sioux Falls"
                      ],
                      "xaxis": "x",
                      "y": {
                        "bdata": "AAAAAJArJ0E=",
                        "dtype": "f8"
                      },
                      "yaxis": "y"
                    },
                    {
                      "hovertemplate": "City=%{x}<br>Year-Month=2021-05<br>Total Sales=%{y}<extra></extra>",
                      "legendgroup": "St. Louis",
                      "marker": {
                        "color": "#ab63fa",
                        "pattern": {
                          "shape": ""
                        }
                      },
                      "name": "St. Louis",
                      "orientation": "v",
                      "showlegend": true,
                      "textposition": "auto",
                      "type": "bar",
                      "x": [
                        "St. Louis"
                      ],
                      "xaxis": "x",
                      "y": {
                        "bdata": "AAAAAF5MKUE=",
                        "dtype": "f8"
                      },
                      "yaxis": "y"
                    },
                    {
                      "hovertemplate": "City=%{x}<br>Year-Month=2021-05<br>Total Sales=%{y}<extra></extra>",
                      "legendgroup": "Wichita",
                      "marker": {
                        "color": "#FFA15A",
                        "pattern": {
                          "shape": ""
                        }
                      },
                      "name": "Wichita",
                      "orientation": "v",
                      "showlegend": true,
                      "textposition": "auto",
                      "type": "bar",
                      "x": [
                        "Wichita"
                      ],
                      "xaxis": "x",
                      "y": {
                        "bdata": "AAAAAMY8J0E=",
                        "dtype": "f8"
                      },
                      "yaxis": "y"
                    },
                    {
                      "hovertemplate": "City=%{x}<br>Year-Month=2021-05<br>Total Sales=%{y}<extra></extra>",
                      "legendgroup": "Wilmington",
                      "marker": {
                        "color": "#19d3f3",
                        "pattern": {
                          "shape": ""
                        }
                      },
                      "name": "Wilmington",
                      "orientation": "v",
                      "showlegend": true,
                      "textposition": "auto",
                      "type": "bar",
                      "x": [
                        "Wilmington"
                      ],
                      "xaxis": "x",
                      "y": {
                        "bdata": "AAAAACcJMUE=",
                        "dtype": "f8"
                      },
                      "yaxis": "y"
                    },
                    {
                      "hovertemplate": "City=%{x}<br>Year-Month=2021-05<br>Total Sales=%{y}<extra></extra>",
                      "legendgroup": "Knoxville",
                      "marker": {
                        "color": "#FF6692",
                        "pattern": {
                          "shape": ""
                        }
                      },
                      "name": "Knoxville",
                      "orientation": "v",
                      "showlegend": true,
                      "textposition": "auto",
                      "type": "bar",
                      "x": [
                        "Knoxville"
                      ],
                      "xaxis": "x",
                      "y": {
                        "bdata": "AAAAwPHeV0E=",
                        "dtype": "f8"
                      },
                      "yaxis": "y"
                    },
                    {
                      "hovertemplate": "City=%{x}<br>Year-Month=2021-05<br>Total Sales=%{y}<extra></extra>",
                      "legendgroup": "Los Angeles",
                      "marker": {
                        "color": "#B6E880",
                        "pattern": {
                          "shape": ""
                        }
                      },
                      "name": "Los Angeles",
                      "orientation": "v",
                      "showlegend": true,
                      "textposition": "auto",
                      "type": "bar",
                      "x": [
                        "Los Angeles"
                      ],
                      "xaxis": "x",
                      "y": {
                        "bdata": "AAAAgK1aaEE=",
                        "dtype": "f8"
                      },
                      "yaxis": "y"
                    },
                    {
                      "hovertemplate": "City=%{x}<br>Year-Month=2021-05<br>Total Sales=%{y}<extra></extra>",
                      "legendgroup": "Omaha",
                      "marker": {
                        "color": "#FF97FF",
                        "pattern": {
                          "shape": ""
                        }
                      },
                      "name": "Omaha",
                      "orientation": "v",
                      "showlegend": true,
                      "textposition": "auto",
                      "type": "bar",
                      "x": [
                        "Omaha"
                      ],
                      "xaxis": "x",
                      "y": {
                        "bdata": "AAAAADTHHEE=",
                        "dtype": "f8"
                      },
                      "yaxis": "y"
                    }
                  ],
                  "name": "2021-05"
                },
                {
                  "data": [
                    {
                      "hovertemplate": "City=%{x}<br>Year-Month=2021-06<br>Total Sales=%{y}<extra></extra>",
                      "legendgroup": "Albany",
                      "marker": {
                        "color": "#FECB52",
                        "pattern": {
                          "shape": ""
                        }
                      },
                      "name": "Albany",
                      "orientation": "v",
                      "showlegend": true,
                      "textposition": "auto",
                      "type": "bar",
                      "x": [
                        "Albany"
                      ],
                      "xaxis": "x",
                      "y": {
                        "bdata": "AAAAAJhMQkE=",
                        "dtype": "f8"
                      },
                      "yaxis": "y"
                    },
                    {
                      "hovertemplate": "City=%{x}<br>Year-Month=2021-06<br>Total Sales=%{y}<extra></extra>",
                      "legendgroup": "Albuquerque",
                      "marker": {
                        "color": "#636efa",
                        "pattern": {
                          "shape": ""
                        }
                      },
                      "name": "Albuquerque",
                      "orientation": "v",
                      "showlegend": true,
                      "textposition": "auto",
                      "type": "bar",
                      "x": [
                        "Albuquerque"
                      ],
                      "xaxis": "x",
                      "y": {
                        "bdata": "AQAAAAaLPkE=",
                        "dtype": "f8"
                      },
                      "yaxis": "y"
                    },
                    {
                      "hovertemplate": "City=%{x}<br>Year-Month=2021-06<br>Total Sales=%{y}<extra></extra>",
                      "legendgroup": "Anchorage",
                      "marker": {
                        "color": "#EF553B",
                        "pattern": {
                          "shape": ""
                        }
                      },
                      "name": "Anchorage",
                      "orientation": "v",
                      "showlegend": true,
                      "textposition": "auto",
                      "type": "bar",
                      "x": [
                        "Anchorage"
                      ],
                      "xaxis": "x",
                      "y": {
                        "bdata": "AAAAAIq+N0E=",
                        "dtype": "f8"
                      },
                      "yaxis": "y"
                    },
                    {
                      "hovertemplate": "City=%{x}<br>Year-Month=2021-06<br>Total Sales=%{y}<extra></extra>",
                      "legendgroup": "Atlanta",
                      "marker": {
                        "color": "#00cc96",
                        "pattern": {
                          "shape": ""
                        }
                      },
                      "name": "Atlanta",
                      "orientation": "v",
                      "showlegend": true,
                      "textposition": "auto",
                      "type": "bar",
                      "x": [
                        "Atlanta"
                      ],
                      "xaxis": "x",
                      "y": {
                        "bdata": "AAAAAE60OkE=",
                        "dtype": "f8"
                      },
                      "yaxis": "y"
                    },
                    {
                      "hovertemplate": "City=%{x}<br>Year-Month=2021-06<br>Total Sales=%{y}<extra></extra>",
                      "legendgroup": "Baltimore",
                      "marker": {
                        "color": "#ab63fa",
                        "pattern": {
                          "shape": ""
                        }
                      },
                      "name": "Baltimore",
                      "orientation": "v",
                      "showlegend": true,
                      "textposition": "auto",
                      "type": "bar",
                      "x": [
                        "Baltimore"
                      ],
                      "xaxis": "x",
                      "y": {
                        "bdata": "AAAAAL7tJkE=",
                        "dtype": "f8"
                      },
                      "yaxis": "y"
                    },
                    {
                      "hovertemplate": "City=%{x}<br>Year-Month=2021-06<br>Total Sales=%{y}<extra></extra>",
                      "legendgroup": "Boise",
                      "marker": {
                        "color": "#19d3f3",
                        "pattern": {
                          "shape": ""
                        }
                      },
                      "name": "Boise",
                      "orientation": "v",
                      "showlegend": true,
                      "textposition": "auto",
                      "type": "bar",
                      "x": [
                        "Boise"
                      ],
                      "xaxis": "x",
                      "y": {
                        "bdata": "AAAAAHU4QEE=",
                        "dtype": "f8"
                      },
                      "yaxis": "y"
                    },
                    {
                      "hovertemplate": "City=%{x}<br>Year-Month=2021-06<br>Total Sales=%{y}<extra></extra>",
                      "legendgroup": "Boston",
                      "marker": {
                        "color": "#FF6692",
                        "pattern": {
                          "shape": ""
                        }
                      },
                      "name": "Boston",
                      "orientation": "v",
                      "showlegend": true,
                      "textposition": "auto",
                      "type": "bar",
                      "x": [
                        "Boston"
                      ],
                      "xaxis": "x",
                      "y": {
                        "bdata": "AAAAAHOtMEE=",
                        "dtype": "f8"
                      },
                      "yaxis": "y"
                    },
                    {
                      "hovertemplate": "City=%{x}<br>Year-Month=2021-06<br>Total Sales=%{y}<extra></extra>",
                      "legendgroup": "Burlington",
                      "marker": {
                        "color": "#B6E880",
                        "pattern": {
                          "shape": ""
                        }
                      },
                      "name": "Burlington",
                      "orientation": "v",
                      "showlegend": true,
                      "textposition": "auto",
                      "type": "bar",
                      "x": [
                        "Burlington"
                      ],
                      "xaxis": "x",
                      "y": {
                        "bdata": "AAAAALBZNkE=",
                        "dtype": "f8"
                      },
                      "yaxis": "y"
                    },
                    {
                      "hovertemplate": "City=%{x}<br>Year-Month=2021-06<br>Total Sales=%{y}<extra></extra>",
                      "legendgroup": "Charleston",
                      "marker": {
                        "color": "#FF97FF",
                        "pattern": {
                          "shape": ""
                        }
                      },
                      "name": "Charleston",
                      "orientation": "v",
                      "showlegend": true,
                      "textposition": "auto",
                      "type": "bar",
                      "x": [
                        "Charleston"
                      ],
                      "xaxis": "x",
                      "y": {
                        "bdata": "AAAAANqfTkE=",
                        "dtype": "f8"
                      },
                      "yaxis": "y"
                    },
                    {
                      "hovertemplate": "City=%{x}<br>Year-Month=2021-06<br>Total Sales=%{y}<extra></extra>",
                      "legendgroup": "Charlotte",
                      "marker": {
                        "color": "#FECB52",
                        "pattern": {
                          "shape": ""
                        }
                      },
                      "name": "Charlotte",
                      "orientation": "v",
                      "showlegend": true,
                      "textposition": "auto",
                      "type": "bar",
                      "x": [
                        "Charlotte"
                      ],
                      "xaxis": "x",
                      "y": {
                        "bdata": "AAAAALArQ0E=",
                        "dtype": "f8"
                      },
                      "yaxis": "y"
                    },
                    {
                      "hovertemplate": "City=%{x}<br>Year-Month=2021-06<br>Total Sales=%{y}<extra></extra>",
                      "legendgroup": "Cheyenne",
                      "marker": {
                        "color": "#636efa",
                        "pattern": {
                          "shape": ""
                        }
                      },
                      "name": "Cheyenne",
                      "orientation": "v",
                      "showlegend": true,
                      "textposition": "auto",
                      "type": "bar",
                      "x": [
                        "Cheyenne"
                      ],
                      "xaxis": "x",
                      "y": {
                        "bdata": "AAAAAE3LOkE=",
                        "dtype": "f8"
                      },
                      "yaxis": "y"
                    },
                    {
                      "hovertemplate": "City=%{x}<br>Year-Month=2021-06<br>Total Sales=%{y}<extra></extra>",
                      "legendgroup": "Columbus",
                      "marker": {
                        "color": "#EF553B",
                        "pattern": {
                          "shape": ""
                        }
                      },
                      "name": "Columbus",
                      "orientation": "v",
                      "showlegend": true,
                      "textposition": "auto",
                      "type": "bar",
                      "x": [
                        "Columbus"
                      ],
                      "xaxis": "x",
                      "y": {
                        "bdata": "AAAAAEysPkE=",
                        "dtype": "f8"
                      },
                      "yaxis": "y"
                    },
                    {
                      "hovertemplate": "City=%{x}<br>Year-Month=2021-06<br>Total Sales=%{y}<extra></extra>",
                      "legendgroup": "Des Moines",
                      "marker": {
                        "color": "#00cc96",
                        "pattern": {
                          "shape": ""
                        }
                      },
                      "name": "Des Moines",
                      "orientation": "v",
                      "showlegend": true,
                      "textposition": "auto",
                      "type": "bar",
                      "x": [
                        "Des Moines"
                      ],
                      "xaxis": "x",
                      "y": {
                        "bdata": "AQAAAGLBIkE=",
                        "dtype": "f8"
                      },
                      "yaxis": "y"
                    },
                    {
                      "hovertemplate": "City=%{x}<br>Year-Month=2021-06<br>Total Sales=%{y}<extra></extra>",
                      "legendgroup": "Detroit",
                      "marker": {
                        "color": "#ab63fa",
                        "pattern": {
                          "shape": ""
                        }
                      },
                      "name": "Detroit",
                      "orientation": "v",
                      "showlegend": true,
                      "textposition": "auto",
                      "type": "bar",
                      "x": [
                        "Detroit"
                      ],
                      "xaxis": "x",
                      "y": {
                        "bdata": "AAAAAHDzPkE=",
                        "dtype": "f8"
                      },
                      "yaxis": "y"
                    },
                    {
                      "hovertemplate": "City=%{x}<br>Year-Month=2021-06<br>Total Sales=%{y}<extra></extra>",
                      "legendgroup": "Fargo",
                      "marker": {
                        "color": "#FFA15A",
                        "pattern": {
                          "shape": ""
                        }
                      },
                      "name": "Fargo",
                      "orientation": "v",
                      "showlegend": true,
                      "textposition": "auto",
                      "type": "bar",
                      "x": [
                        "Fargo"
                      ],
                      "xaxis": "x",
                      "y": {
                        "bdata": "AAAAADBKJEE=",
                        "dtype": "f8"
                      },
                      "yaxis": "y"
                    },
                    {
                      "hovertemplate": "City=%{x}<br>Year-Month=2021-06<br>Total Sales=%{y}<extra></extra>",
                      "legendgroup": "Hartford",
                      "marker": {
                        "color": "#19d3f3",
                        "pattern": {
                          "shape": ""
                        }
                      },
                      "name": "Hartford",
                      "orientation": "v",
                      "showlegend": true,
                      "textposition": "auto",
                      "type": "bar",
                      "x": [
                        "Hartford"
                      ],
                      "xaxis": "x",
                      "y": {
                        "bdata": "AAAAAOslM0E=",
                        "dtype": "f8"
                      },
                      "yaxis": "y"
                    },
                    {
                      "hovertemplate": "City=%{x}<br>Year-Month=2021-06<br>Total Sales=%{y}<extra></extra>",
                      "legendgroup": "Honolulu",
                      "marker": {
                        "color": "#FF6692",
                        "pattern": {
                          "shape": ""
                        }
                      },
                      "name": "Honolulu",
                      "orientation": "v",
                      "showlegend": true,
                      "textposition": "auto",
                      "type": "bar",
                      "x": [
                        "Honolulu"
                      ],
                      "xaxis": "x",
                      "y": {
                        "bdata": "AAAAgEs7RUE=",
                        "dtype": "f8"
                      },
                      "yaxis": "y"
                    },
                    {
                      "hovertemplate": "City=%{x}<br>Year-Month=2021-06<br>Total Sales=%{y}<extra></extra>",
                      "legendgroup": "Indianapolis",
                      "marker": {
                        "color": "#B6E880",
                        "pattern": {
                          "shape": ""
                        }
                      },
                      "name": "Indianapolis",
                      "orientation": "v",
                      "showlegend": true,
                      "textposition": "auto",
                      "type": "bar",
                      "x": [
                        "Indianapolis"
                      ],
                      "xaxis": "x",
                      "y": {
                        "bdata": "AAAAAIyRJkE=",
                        "dtype": "f8"
                      },
                      "yaxis": "y"
                    },
                    {
                      "hovertemplate": "City=%{x}<br>Year-Month=2021-06<br>Total Sales=%{y}<extra></extra>",
                      "legendgroup": "Jackson",
                      "marker": {
                        "color": "#FF97FF",
                        "pattern": {
                          "shape": ""
                        }
                      },
                      "name": "Jackson",
                      "orientation": "v",
                      "showlegend": true,
                      "textposition": "auto",
                      "type": "bar",
                      "x": [
                        "Jackson"
                      ],
                      "xaxis": "x",
                      "y": {
                        "bdata": "AAAAAE4nOkE=",
                        "dtype": "f8"
                      },
                      "yaxis": "y"
                    },
                    {
                      "hovertemplate": "City=%{x}<br>Year-Month=2021-06<br>Total Sales=%{y}<extra></extra>",
                      "legendgroup": "Little Rock",
                      "marker": {
                        "color": "#FECB52",
                        "pattern": {
                          "shape": ""
                        }
                      },
                      "name": "Little Rock",
                      "orientation": "v",
                      "showlegend": true,
                      "textposition": "auto",
                      "type": "bar",
                      "x": [
                        "Little Rock"
                      ],
                      "xaxis": "x",
                      "y": {
                        "bdata": "AAAAAOc+NEE=",
                        "dtype": "f8"
                      },
                      "yaxis": "y"
                    },
                    {
                      "hovertemplate": "City=%{x}<br>Year-Month=2021-06<br>Total Sales=%{y}<extra></extra>",
                      "legendgroup": "Louisville",
                      "marker": {
                        "color": "#636efa",
                        "pattern": {
                          "shape": ""
                        }
                      },
                      "name": "Louisville",
                      "orientation": "v",
                      "showlegend": true,
                      "textposition": "auto",
                      "type": "bar",
                      "x": [
                        "Louisville"
                      ],
                      "xaxis": "x",
                      "y": {
                        "bdata": "AAAAAMYmJ0E=",
                        "dtype": "f8"
                      },
                      "yaxis": "y"
                    },
                    {
                      "hovertemplate": "City=%{x}<br>Year-Month=2021-06<br>Total Sales=%{y}<extra></extra>",
                      "legendgroup": "Manchester",
                      "marker": {
                        "color": "#EF553B",
                        "pattern": {
                          "shape": ""
                        }
                      },
                      "name": "Manchester",
                      "orientation": "v",
                      "showlegend": true,
                      "textposition": "auto",
                      "type": "bar",
                      "x": [
                        "Manchester"
                      ],
                      "xaxis": "x",
                      "y": {
                        "bdata": "AAAAAEK9OUE=",
                        "dtype": "f8"
                      },
                      "yaxis": "y"
                    },
                    {
                      "hovertemplate": "City=%{x}<br>Year-Month=2021-06<br>Total Sales=%{y}<extra></extra>",
                      "legendgroup": "Milwaukee",
                      "marker": {
                        "color": "#00cc96",
                        "pattern": {
                          "shape": ""
                        }
                      },
                      "name": "Milwaukee",
                      "orientation": "v",
                      "showlegend": true,
                      "textposition": "auto",
                      "type": "bar",
                      "x": [
                        "Milwaukee"
                      ],
                      "xaxis": "x",
                      "y": {
                        "bdata": "AQAAAERPI0E=",
                        "dtype": "f8"
                      },
                      "yaxis": "y"
                    },
                    {
                      "hovertemplate": "City=%{x}<br>Year-Month=2021-06<br>Total Sales=%{y}<extra></extra>",
                      "legendgroup": "New Orleans",
                      "marker": {
                        "color": "#ab63fa",
                        "pattern": {
                          "shape": ""
                        }
                      },
                      "name": "New Orleans",
                      "orientation": "v",
                      "showlegend": true,
                      "textposition": "auto",
                      "type": "bar",
                      "x": [
                        "New Orleans"
                      ],
                      "xaxis": "x",
                      "y": {
                        "bdata": "AAAAgF2aSkE=",
                        "dtype": "f8"
                      },
                      "yaxis": "y"
                    },
                    {
                      "hovertemplate": "City=%{x}<br>Year-Month=2021-06<br>Total Sales=%{y}<extra></extra>",
                      "legendgroup": "Newark",
                      "marker": {
                        "color": "#FFA15A",
                        "pattern": {
                          "shape": ""
                        }
                      },
                      "name": "Newark",
                      "orientation": "v",
                      "showlegend": true,
                      "textposition": "auto",
                      "type": "bar",
                      "x": [
                        "Newark"
                      ],
                      "xaxis": "x",
                      "y": {
                        "bdata": "/////52vL0E=",
                        "dtype": "f8"
                      },
                      "yaxis": "y"
                    },
                    {
                      "hovertemplate": "City=%{x}<br>Year-Month=2021-06<br>Total Sales=%{y}<extra></extra>",
                      "legendgroup": "Oklahoma City",
                      "marker": {
                        "color": "#19d3f3",
                        "pattern": {
                          "shape": ""
                        }
                      },
                      "name": "Oklahoma City",
                      "orientation": "v",
                      "showlegend": true,
                      "textposition": "auto",
                      "type": "bar",
                      "x": [
                        "Oklahoma City"
                      ],
                      "xaxis": "x",
                      "y": {
                        "bdata": "AAAAACoAMUE=",
                        "dtype": "f8"
                      },
                      "yaxis": "y"
                    },
                    {
                      "hovertemplate": "City=%{x}<br>Year-Month=2021-06<br>Total Sales=%{y}<extra></extra>",
                      "legendgroup": "Orlando",
                      "marker": {
                        "color": "#FF6692",
                        "pattern": {
                          "shape": ""
                        }
                      },
                      "name": "Orlando",
                      "orientation": "v",
                      "showlegend": true,
                      "textposition": "auto",
                      "type": "bar",
                      "x": [
                        "Orlando"
                      ],
                      "xaxis": "x",
                      "y": {
                        "bdata": "AAAAgCz1SkE=",
                        "dtype": "f8"
                      },
                      "yaxis": "y"
                    },
                    {
                      "hovertemplate": "City=%{x}<br>Year-Month=2021-06<br>Total Sales=%{y}<extra></extra>",
                      "legendgroup": "Phoenix",
                      "marker": {
                        "color": "#B6E880",
                        "pattern": {
                          "shape": ""
                        }
                      },
                      "name": "Phoenix",
                      "orientation": "v",
                      "showlegend": true,
                      "textposition": "auto",
                      "type": "bar",
                      "x": [
                        "Phoenix"
                      ],
                      "xaxis": "x",
                      "y": {
                        "bdata": "AAAAAC7+N0E=",
                        "dtype": "f8"
                      },
                      "yaxis": "y"
                    },
                    {
                      "hovertemplate": "City=%{x}<br>Year-Month=2021-06<br>Total Sales=%{y}<extra></extra>",
                      "legendgroup": "Portland",
                      "marker": {
                        "color": "#FF97FF",
                        "pattern": {
                          "shape": ""
                        }
                      },
                      "name": "Portland",
                      "orientation": "v",
                      "showlegend": true,
                      "textposition": "auto",
                      "type": "bar",
                      "x": [
                        "Portland"
                      ],
                      "xaxis": "x",
                      "y": {
                        "bdata": "AAAAAKcZR0E=",
                        "dtype": "f8"
                      },
                      "yaxis": "y"
                    },
                    {
                      "hovertemplate": "City=%{x}<br>Year-Month=2021-06<br>Total Sales=%{y}<extra></extra>",
                      "legendgroup": "Providence",
                      "marker": {
                        "color": "#FECB52",
                        "pattern": {
                          "shape": ""
                        }
                      },
                      "name": "Providence",
                      "orientation": "v",
                      "showlegend": true,
                      "textposition": "auto",
                      "type": "bar",
                      "x": [
                        "Providence"
                      ],
                      "xaxis": "x",
                      "y": {
                        "bdata": "/////9H5K0E=",
                        "dtype": "f8"
                      },
                      "yaxis": "y"
                    },
                    {
                      "hovertemplate": "City=%{x}<br>Year-Month=2021-06<br>Total Sales=%{y}<extra></extra>",
                      "legendgroup": "Richmond",
                      "marker": {
                        "color": "#636efa",
                        "pattern": {
                          "shape": ""
                        }
                      },
                      "name": "Richmond",
                      "orientation": "v",
                      "showlegend": true,
                      "textposition": "auto",
                      "type": "bar",
                      "x": [
                        "Richmond"
                      ],
                      "xaxis": "x",
                      "y": {
                        "bdata": "AAAAANkXR0E=",
                        "dtype": "f8"
                      },
                      "yaxis": "y"
                    },
                    {
                      "hovertemplate": "City=%{x}<br>Year-Month=2021-06<br>Total Sales=%{y}<extra></extra>",
                      "legendgroup": "Salt Lake City",
                      "marker": {
                        "color": "#EF553B",
                        "pattern": {
                          "shape": ""
                        }
                      },
                      "name": "Salt Lake City",
                      "orientation": "v",
                      "showlegend": true,
                      "textposition": "auto",
                      "type": "bar",
                      "x": [
                        "Salt Lake City"
                      ],
                      "xaxis": "x",
                      "y": {
                        "bdata": "AQAAANqSKkE=",
                        "dtype": "f8"
                      },
                      "yaxis": "y"
                    },
                    {
                      "hovertemplate": "City=%{x}<br>Year-Month=2021-06<br>Total Sales=%{y}<extra></extra>",
                      "legendgroup": "Sioux Falls",
                      "marker": {
                        "color": "#00cc96",
                        "pattern": {
                          "shape": ""
                        }
                      },
                      "name": "Sioux Falls",
                      "orientation": "v",
                      "showlegend": true,
                      "textposition": "auto",
                      "type": "bar",
                      "x": [
                        "Sioux Falls"
                      ],
                      "xaxis": "x",
                      "y": {
                        "bdata": "AAAAAIxXJkE=",
                        "dtype": "f8"
                      },
                      "yaxis": "y"
                    },
                    {
                      "hovertemplate": "City=%{x}<br>Year-Month=2021-06<br>Total Sales=%{y}<extra></extra>",
                      "legendgroup": "St. Louis",
                      "marker": {
                        "color": "#ab63fa",
                        "pattern": {
                          "shape": ""
                        }
                      },
                      "name": "St. Louis",
                      "orientation": "v",
                      "showlegend": true,
                      "textposition": "auto",
                      "type": "bar",
                      "x": [
                        "St. Louis"
                      ],
                      "xaxis": "x",
                      "y": {
                        "bdata": "AQAAACJPK0E=",
                        "dtype": "f8"
                      },
                      "yaxis": "y"
                    },
                    {
                      "hovertemplate": "City=%{x}<br>Year-Month=2021-06<br>Total Sales=%{y}<extra></extra>",
                      "legendgroup": "Wichita",
                      "marker": {
                        "color": "#FFA15A",
                        "pattern": {
                          "shape": ""
                        }
                      },
                      "name": "Wichita",
                      "orientation": "v",
                      "showlegend": true,
                      "textposition": "auto",
                      "type": "bar",
                      "x": [
                        "Wichita"
                      ],
                      "xaxis": "x",
                      "y": {
                        "bdata": "AAAAAMIlL0E=",
                        "dtype": "f8"
                      },
                      "yaxis": "y"
                    },
                    {
                      "hovertemplate": "City=%{x}<br>Year-Month=2021-06<br>Total Sales=%{y}<extra></extra>",
                      "legendgroup": "Wilmington",
                      "marker": {
                        "color": "#19d3f3",
                        "pattern": {
                          "shape": ""
                        }
                      },
                      "name": "Wilmington",
                      "orientation": "v",
                      "showlegend": true,
                      "textposition": "auto",
                      "type": "bar",
                      "x": [
                        "Wilmington"
                      ],
                      "xaxis": "x",
                      "y": {
                        "bdata": "AAAAADXyM0E=",
                        "dtype": "f8"
                      },
                      "yaxis": "y"
                    },
                    {
                      "hovertemplate": "City=%{x}<br>Year-Month=2021-06<br>Total Sales=%{y}<extra></extra>",
                      "legendgroup": "Los Angeles",
                      "marker": {
                        "color": "#B6E880",
                        "pattern": {
                          "shape": ""
                        }
                      },
                      "name": "Los Angeles",
                      "orientation": "v",
                      "showlegend": true,
                      "textposition": "auto",
                      "type": "bar",
                      "x": [
                        "Los Angeles"
                      ],
                      "xaxis": "x",
                      "y": {
                        "bdata": "AAAAANxJEUE=",
                        "dtype": "f8"
                      },
                      "yaxis": "y"
                    },
                    {
                      "hovertemplate": "City=%{x}<br>Year-Month=2021-06<br>Total Sales=%{y}<extra></extra>",
                      "legendgroup": "Omaha",
                      "marker": {
                        "color": "#FF97FF",
                        "pattern": {
                          "shape": ""
                        }
                      },
                      "name": "Omaha",
                      "orientation": "v",
                      "showlegend": true,
                      "textposition": "auto",
                      "type": "bar",
                      "x": [
                        "Omaha"
                      ],
                      "xaxis": "x",
                      "y": {
                        "bdata": "AAAAAC0YQUE=",
                        "dtype": "f8"
                      },
                      "yaxis": "y"
                    },
                    {
                      "hovertemplate": "City=%{x}<br>Year-Month=2021-06<br>Total Sales=%{y}<extra></extra>",
                      "legendgroup": "Chicago",
                      "marker": {
                        "color": "#FECB52",
                        "pattern": {
                          "shape": ""
                        }
                      },
                      "name": "Chicago",
                      "orientation": "v",
                      "showlegend": true,
                      "textposition": "auto",
                      "type": "bar",
                      "x": [
                        "Chicago"
                      ],
                      "xaxis": "x",
                      "y": {
                        "bdata": "AAAAAH+DSEE=",
                        "dtype": "f8"
                      },
                      "yaxis": "y"
                    }
                  ],
                  "name": "2021-06"
                },
                {
                  "data": [
                    {
                      "hovertemplate": "City=%{x}<br>Year-Month=2021-07<br>Total Sales=%{y}<extra></extra>",
                      "legendgroup": "Albany",
                      "marker": {
                        "color": "#FECB52",
                        "pattern": {
                          "shape": ""
                        }
                      },
                      "name": "Albany",
                      "orientation": "v",
                      "showlegend": true,
                      "textposition": "auto",
                      "type": "bar",
                      "x": [
                        "Albany"
                      ],
                      "xaxis": "x",
                      "y": {
                        "bdata": "AAAAAFWQREE=",
                        "dtype": "f8"
                      },
                      "yaxis": "y"
                    },
                    {
                      "hovertemplate": "City=%{x}<br>Year-Month=2021-07<br>Total Sales=%{y}<extra></extra>",
                      "legendgroup": "Albuquerque",
                      "marker": {
                        "color": "#636efa",
                        "pattern": {
                          "shape": ""
                        }
                      },
                      "name": "Albuquerque",
                      "orientation": "v",
                      "showlegend": true,
                      "textposition": "auto",
                      "type": "bar",
                      "x": [
                        "Albuquerque"
                      ],
                      "xaxis": "x",
                      "y": {
                        "bdata": "AQAAgA06QEE=",
                        "dtype": "f8"
                      },
                      "yaxis": "y"
                    },
                    {
                      "hovertemplate": "City=%{x}<br>Year-Month=2021-07<br>Total Sales=%{y}<extra></extra>",
                      "legendgroup": "Anchorage",
                      "marker": {
                        "color": "#EF553B",
                        "pattern": {
                          "shape": ""
                        }
                      },
                      "name": "Anchorage",
                      "orientation": "v",
                      "showlegend": true,
                      "textposition": "auto",
                      "type": "bar",
                      "x": [
                        "Anchorage"
                      ],
                      "xaxis": "x",
                      "y": {
                        "bdata": "AAAAAPc8OUE=",
                        "dtype": "f8"
                      },
                      "yaxis": "y"
                    },
                    {
                      "hovertemplate": "City=%{x}<br>Year-Month=2021-07<br>Total Sales=%{y}<extra></extra>",
                      "legendgroup": "Atlanta",
                      "marker": {
                        "color": "#00cc96",
                        "pattern": {
                          "shape": ""
                        }
                      },
                      "name": "Atlanta",
                      "orientation": "v",
                      "showlegend": true,
                      "textposition": "auto",
                      "type": "bar",
                      "x": [
                        "Atlanta"
                      ],
                      "xaxis": "x",
                      "y": {
                        "bdata": "AAAAAORsPEE=",
                        "dtype": "f8"
                      },
                      "yaxis": "y"
                    },
                    {
                      "hovertemplate": "City=%{x}<br>Year-Month=2021-07<br>Total Sales=%{y}<extra></extra>",
                      "legendgroup": "Baltimore",
                      "marker": {
                        "color": "#ab63fa",
                        "pattern": {
                          "shape": ""
                        }
                      },
                      "name": "Baltimore",
                      "orientation": "v",
                      "showlegend": true,
                      "textposition": "auto",
                      "type": "bar",
                      "x": [
                        "Baltimore"
                      ],
                      "xaxis": "x",
                      "y": {
                        "bdata": "//////U/KUE=",
                        "dtype": "f8"
                      },
                      "yaxis": "y"
                    },
                    {
                      "hovertemplate": "City=%{x}<br>Year-Month=2021-07<br>Total Sales=%{y}<extra></extra>",
                      "legendgroup": "Boise",
                      "marker": {
                        "color": "#19d3f3",
                        "pattern": {
                          "shape": ""
                        }
                      },
                      "name": "Boise",
                      "orientation": "v",
                      "showlegend": true,
                      "textposition": "auto",
                      "type": "bar",
                      "x": [
                        "Boise"
                      ],
                      "xaxis": "x",
                      "y": {
                        "bdata": "AAAAgNfJQkE=",
                        "dtype": "f8"
                      },
                      "yaxis": "y"
                    },
                    {
                      "hovertemplate": "City=%{x}<br>Year-Month=2021-07<br>Total Sales=%{y}<extra></extra>",
                      "legendgroup": "Boston",
                      "marker": {
                        "color": "#FF6692",
                        "pattern": {
                          "shape": ""
                        }
                      },
                      "name": "Boston",
                      "orientation": "v",
                      "showlegend": true,
                      "textposition": "auto",
                      "type": "bar",
                      "x": [
                        "Boston"
                      ],
                      "xaxis": "x",
                      "y": {
                        "bdata": "AAAAANTyMUE=",
                        "dtype": "f8"
                      },
                      "yaxis": "y"
                    },
                    {
                      "hovertemplate": "City=%{x}<br>Year-Month=2021-07<br>Total Sales=%{y}<extra></extra>",
                      "legendgroup": "Burlington",
                      "marker": {
                        "color": "#B6E880",
                        "pattern": {
                          "shape": ""
                        }
                      },
                      "name": "Burlington",
                      "orientation": "v",
                      "showlegend": true,
                      "textposition": "auto",
                      "type": "bar",
                      "x": [
                        "Burlington"
                      ],
                      "xaxis": "x",
                      "y": {
                        "bdata": "AAAAAIm/N0E=",
                        "dtype": "f8"
                      },
                      "yaxis": "y"
                    },
                    {
                      "hovertemplate": "City=%{x}<br>Year-Month=2021-07<br>Total Sales=%{y}<extra></extra>",
                      "legendgroup": "Charleston",
                      "marker": {
                        "color": "#FF97FF",
                        "pattern": {
                          "shape": ""
                        }
                      },
                      "name": "Charleston",
                      "orientation": "v",
                      "showlegend": true,
                      "textposition": "auto",
                      "type": "bar",
                      "x": [
                        "Charleston"
                      ],
                      "xaxis": "x",
                      "y": {
                        "bdata": "AAAAAEGtUkE=",
                        "dtype": "f8"
                      },
                      "yaxis": "y"
                    },
                    {
                      "hovertemplate": "City=%{x}<br>Year-Month=2021-07<br>Total Sales=%{y}<extra></extra>",
                      "legendgroup": "Charlotte",
                      "marker": {
                        "color": "#FECB52",
                        "pattern": {
                          "shape": ""
                        }
                      },
                      "name": "Charlotte",
                      "orientation": "v",
                      "showlegend": true,
                      "textposition": "auto",
                      "type": "bar",
                      "x": [
                        "Charlotte"
                      ],
                      "xaxis": "x",
                      "y": {
                        "bdata": "AAAAAPV9R0E=",
                        "dtype": "f8"
                      },
                      "yaxis": "y"
                    },
                    {
                      "hovertemplate": "City=%{x}<br>Year-Month=2021-07<br>Total Sales=%{y}<extra></extra>",
                      "legendgroup": "Cheyenne",
                      "marker": {
                        "color": "#636efa",
                        "pattern": {
                          "shape": ""
                        }
                      },
                      "name": "Cheyenne",
                      "orientation": "v",
                      "showlegend": true,
                      "textposition": "auto",
                      "type": "bar",
                      "x": [
                        "Cheyenne"
                      ],
                      "xaxis": "x",
                      "y": {
                        "bdata": "AAAAAAL2O0E=",
                        "dtype": "f8"
                      },
                      "yaxis": "y"
                    },
                    {
                      "hovertemplate": "City=%{x}<br>Year-Month=2021-07<br>Total Sales=%{y}<extra></extra>",
                      "legendgroup": "Columbus",
                      "marker": {
                        "color": "#EF553B",
                        "pattern": {
                          "shape": ""
                        }
                      },
                      "name": "Columbus",
                      "orientation": "v",
                      "showlegend": true,
                      "textposition": "auto",
                      "type": "bar",
                      "x": [
                        "Columbus"
                      ],
                      "xaxis": "x",
                      "y": {
                        "bdata": "AAAAANUmQ0E=",
                        "dtype": "f8"
                      },
                      "yaxis": "y"
                    },
                    {
                      "hovertemplate": "City=%{x}<br>Year-Month=2021-07<br>Total Sales=%{y}<extra></extra>",
                      "legendgroup": "Des Moines",
                      "marker": {
                        "color": "#00cc96",
                        "pattern": {
                          "shape": ""
                        }
                      },
                      "name": "Des Moines",
                      "orientation": "v",
                      "showlegend": true,
                      "textposition": "auto",
                      "type": "bar",
                      "x": [
                        "Des Moines"
                      ],
                      "xaxis": "x",
                      "y": {
                        "bdata": "AAAAACpsK0E=",
                        "dtype": "f8"
                      },
                      "yaxis": "y"
                    },
                    {
                      "hovertemplate": "City=%{x}<br>Year-Month=2021-07<br>Total Sales=%{y}<extra></extra>",
                      "legendgroup": "Detroit",
                      "marker": {
                        "color": "#ab63fa",
                        "pattern": {
                          "shape": ""
                        }
                      },
                      "name": "Detroit",
                      "orientation": "v",
                      "showlegend": true,
                      "textposition": "auto",
                      "type": "bar",
                      "x": [
                        "Detroit"
                      ],
                      "xaxis": "x",
                      "y": {
                        "bdata": "AAAAAEObQUE=",
                        "dtype": "f8"
                      },
                      "yaxis": "y"
                    },
                    {
                      "hovertemplate": "City=%{x}<br>Year-Month=2021-07<br>Total Sales=%{y}<extra></extra>",
                      "legendgroup": "Fargo",
                      "marker": {
                        "color": "#FFA15A",
                        "pattern": {
                          "shape": ""
                        }
                      },
                      "name": "Fargo",
                      "orientation": "v",
                      "showlegend": true,
                      "textposition": "auto",
                      "type": "bar",
                      "x": [
                        "Fargo"
                      ],
                      "xaxis": "x",
                      "y": {
                        "bdata": "AAAAAK53K0E=",
                        "dtype": "f8"
                      },
                      "yaxis": "y"
                    },
                    {
                      "hovertemplate": "City=%{x}<br>Year-Month=2021-07<br>Total Sales=%{y}<extra></extra>",
                      "legendgroup": "Hartford",
                      "marker": {
                        "color": "#19d3f3",
                        "pattern": {
                          "shape": ""
                        }
                      },
                      "name": "Hartford",
                      "orientation": "v",
                      "showlegend": true,
                      "textposition": "auto",
                      "type": "bar",
                      "x": [
                        "Hartford"
                      ],
                      "xaxis": "x",
                      "y": {
                        "bdata": "AAAAAG94NEE=",
                        "dtype": "f8"
                      },
                      "yaxis": "y"
                    },
                    {
                      "hovertemplate": "City=%{x}<br>Year-Month=2021-07<br>Total Sales=%{y}<extra></extra>",
                      "legendgroup": "Honolulu",
                      "marker": {
                        "color": "#FF6692",
                        "pattern": {
                          "shape": ""
                        }
                      },
                      "name": "Honolulu",
                      "orientation": "v",
                      "showlegend": true,
                      "textposition": "auto",
                      "type": "bar",
                      "x": [
                        "Honolulu"
                      ],
                      "xaxis": "x",
                      "y": {
                        "bdata": "AAAAAHFmSEE=",
                        "dtype": "f8"
                      },
                      "yaxis": "y"
                    },
                    {
                      "hovertemplate": "City=%{x}<br>Year-Month=2021-07<br>Total Sales=%{y}<extra></extra>",
                      "legendgroup": "Indianapolis",
                      "marker": {
                        "color": "#B6E880",
                        "pattern": {
                          "shape": ""
                        }
                      },
                      "name": "Indianapolis",
                      "orientation": "v",
                      "showlegend": true,
                      "textposition": "auto",
                      "type": "bar",
                      "x": [
                        "Indianapolis"
                      ],
                      "xaxis": "x",
                      "y": {
                        "bdata": "AQAAAApHLkE=",
                        "dtype": "f8"
                      },
                      "yaxis": "y"
                    },
                    {
                      "hovertemplate": "City=%{x}<br>Year-Month=2021-07<br>Total Sales=%{y}<extra></extra>",
                      "legendgroup": "Jackson",
                      "marker": {
                        "color": "#FF97FF",
                        "pattern": {
                          "shape": ""
                        }
                      },
                      "name": "Jackson",
                      "orientation": "v",
                      "showlegend": true,
                      "textposition": "auto",
                      "type": "bar",
                      "x": [
                        "Jackson"
                      ],
                      "xaxis": "x",
                      "y": {
                        "bdata": "AAAAgIylQEE=",
                        "dtype": "f8"
                      },
                      "yaxis": "y"
                    },
                    {
                      "hovertemplate": "City=%{x}<br>Year-Month=2021-07<br>Total Sales=%{y}<extra></extra>",
                      "legendgroup": "Little Rock",
                      "marker": {
                        "color": "#FECB52",
                        "pattern": {
                          "shape": ""
                        }
                      },
                      "name": "Little Rock",
                      "orientation": "v",
                      "showlegend": true,
                      "textposition": "auto",
                      "type": "bar",
                      "x": [
                        "Little Rock"
                      ],
                      "xaxis": "x",
                      "y": {
                        "bdata": "AAAAAON+O0E=",
                        "dtype": "f8"
                      },
                      "yaxis": "y"
                    },
                    {
                      "hovertemplate": "City=%{x}<br>Year-Month=2021-07<br>Total Sales=%{y}<extra></extra>",
                      "legendgroup": "Louisville",
                      "marker": {
                        "color": "#636efa",
                        "pattern": {
                          "shape": ""
                        }
                      },
                      "name": "Louisville",
                      "orientation": "v",
                      "showlegend": true,
                      "textposition": "auto",
                      "type": "bar",
                      "x": [
                        "Louisville"
                      ],
                      "xaxis": "x",
                      "y": {
                        "bdata": "AAAAAF7QL0E=",
                        "dtype": "f8"
                      },
                      "yaxis": "y"
                    },
                    {
                      "hovertemplate": "City=%{x}<br>Year-Month=2021-07<br>Total Sales=%{y}<extra></extra>",
                      "legendgroup": "Manchester",
                      "marker": {
                        "color": "#EF553B",
                        "pattern": {
                          "shape": ""
                        }
                      },
                      "name": "Manchester",
                      "orientation": "v",
                      "showlegend": true,
                      "textposition": "auto",
                      "type": "bar",
                      "x": [
                        "Manchester"
                      ],
                      "xaxis": "x",
                      "y": {
                        "bdata": "AAAAANpQO0E=",
                        "dtype": "f8"
                      },
                      "yaxis": "y"
                    },
                    {
                      "hovertemplate": "City=%{x}<br>Year-Month=2021-07<br>Total Sales=%{y}<extra></extra>",
                      "legendgroup": "Milwaukee",
                      "marker": {
                        "color": "#00cc96",
                        "pattern": {
                          "shape": ""
                        }
                      },
                      "name": "Milwaukee",
                      "orientation": "v",
                      "showlegend": true,
                      "textposition": "auto",
                      "type": "bar",
                      "x": [
                        "Milwaukee"
                      ],
                      "xaxis": "x",
                      "y": {
                        "bdata": "AAAAANJoK0E=",
                        "dtype": "f8"
                      },
                      "yaxis": "y"
                    },
                    {
                      "hovertemplate": "City=%{x}<br>Year-Month=2021-07<br>Total Sales=%{y}<extra></extra>",
                      "legendgroup": "New Orleans",
                      "marker": {
                        "color": "#ab63fa",
                        "pattern": {
                          "shape": ""
                        }
                      },
                      "name": "New Orleans",
                      "orientation": "v",
                      "showlegend": true,
                      "textposition": "auto",
                      "type": "bar",
                      "x": [
                        "New Orleans"
                      ],
                      "xaxis": "x",
                      "y": {
                        "bdata": "AAAAgHZCUEE=",
                        "dtype": "f8"
                      },
                      "yaxis": "y"
                    },
                    {
                      "hovertemplate": "City=%{x}<br>Year-Month=2021-07<br>Total Sales=%{y}<extra></extra>",
                      "legendgroup": "Newark",
                      "marker": {
                        "color": "#FFA15A",
                        "pattern": {
                          "shape": ""
                        }
                      },
                      "name": "Newark",
                      "orientation": "v",
                      "showlegend": true,
                      "textposition": "auto",
                      "type": "bar",
                      "x": [
                        "Newark"
                      ],
                      "xaxis": "x",
                      "y": {
                        "bdata": "AAAAANUDMUE=",
                        "dtype": "f8"
                      },
                      "yaxis": "y"
                    },
                    {
                      "hovertemplate": "City=%{x}<br>Year-Month=2021-07<br>Total Sales=%{y}<extra></extra>",
                      "legendgroup": "Oklahoma City",
                      "marker": {
                        "color": "#19d3f3",
                        "pattern": {
                          "shape": ""
                        }
                      },
                      "name": "Oklahoma City",
                      "orientation": "v",
                      "showlegend": true,
                      "textposition": "auto",
                      "type": "bar",
                      "x": [
                        "Oklahoma City"
                      ],
                      "xaxis": "x",
                      "y": {
                        "bdata": "AAAAAGmfN0E=",
                        "dtype": "f8"
                      },
                      "yaxis": "y"
                    },
                    {
                      "hovertemplate": "City=%{x}<br>Year-Month=2021-07<br>Total Sales=%{y}<extra></extra>",
                      "legendgroup": "Orlando",
                      "marker": {
                        "color": "#FF6692",
                        "pattern": {
                          "shape": ""
                        }
                      },
                      "name": "Orlando",
                      "orientation": "v",
                      "showlegend": true,
                      "textposition": "auto",
                      "type": "bar",
                      "x": [
                        "Orlando"
                      ],
                      "xaxis": "x",
                      "y": {
                        "bdata": "AAAAAOxCUEE=",
                        "dtype": "f8"
                      },
                      "yaxis": "y"
                    },
                    {
                      "hovertemplate": "City=%{x}<br>Year-Month=2021-07<br>Total Sales=%{y}<extra></extra>",
                      "legendgroup": "Phoenix",
                      "marker": {
                        "color": "#B6E880",
                        "pattern": {
                          "shape": ""
                        }
                      },
                      "name": "Phoenix",
                      "orientation": "v",
                      "showlegend": true,
                      "textposition": "auto",
                      "type": "bar",
                      "x": [
                        "Phoenix"
                      ],
                      "xaxis": "x",
                      "y": {
                        "bdata": "AAAAAAe/OUE=",
                        "dtype": "f8"
                      },
                      "yaxis": "y"
                    },
                    {
                      "hovertemplate": "City=%{x}<br>Year-Month=2021-07<br>Total Sales=%{y}<extra></extra>",
                      "legendgroup": "Portland",
                      "marker": {
                        "color": "#FF97FF",
                        "pattern": {
                          "shape": ""
                        }
                      },
                      "name": "Portland",
                      "orientation": "v",
                      "showlegend": true,
                      "textposition": "auto",
                      "type": "bar",
                      "x": [
                        "Portland"
                      ],
                      "xaxis": "x",
                      "y": {
                        "bdata": "AAAAAEGjTEE=",
                        "dtype": "f8"
                      },
                      "yaxis": "y"
                    },
                    {
                      "hovertemplate": "City=%{x}<br>Year-Month=2021-07<br>Total Sales=%{y}<extra></extra>",
                      "legendgroup": "Providence",
                      "marker": {
                        "color": "#FECB52",
                        "pattern": {
                          "shape": ""
                        }
                      },
                      "name": "Providence",
                      "orientation": "v",
                      "showlegend": true,
                      "textposition": "auto",
                      "type": "bar",
                      "x": [
                        "Providence"
                      ],
                      "xaxis": "x",
                      "y": {
                        "bdata": "/////0lHLkE=",
                        "dtype": "f8"
                      },
                      "yaxis": "y"
                    },
                    {
                      "hovertemplate": "City=%{x}<br>Year-Month=2021-07<br>Total Sales=%{y}<extra></extra>",
                      "legendgroup": "Richmond",
                      "marker": {
                        "color": "#636efa",
                        "pattern": {
                          "shape": ""
                        }
                      },
                      "name": "Richmond",
                      "orientation": "v",
                      "showlegend": true,
                      "textposition": "auto",
                      "type": "bar",
                      "x": [
                        "Richmond"
                      ],
                      "xaxis": "x",
                      "y": {
                        "bdata": "AAAAgFWnTEE=",
                        "dtype": "f8"
                      },
                      "yaxis": "y"
                    },
                    {
                      "hovertemplate": "City=%{x}<br>Year-Month=2021-07<br>Total Sales=%{y}<extra></extra>",
                      "legendgroup": "Salt Lake City",
                      "marker": {
                        "color": "#EF553B",
                        "pattern": {
                          "shape": ""
                        }
                      },
                      "name": "Salt Lake City",
                      "orientation": "v",
                      "showlegend": true,
                      "textposition": "auto",
                      "type": "bar",
                      "x": [
                        "Salt Lake City"
                      ],
                      "xaxis": "x",
                      "y": {
                        "bdata": "AAAAAPb6MEE=",
                        "dtype": "f8"
                      },
                      "yaxis": "y"
                    },
                    {
                      "hovertemplate": "City=%{x}<br>Year-Month=2021-07<br>Total Sales=%{y}<extra></extra>",
                      "legendgroup": "Sioux Falls",
                      "marker": {
                        "color": "#00cc96",
                        "pattern": {
                          "shape": ""
                        }
                      },
                      "name": "Sioux Falls",
                      "orientation": "v",
                      "showlegend": true,
                      "textposition": "auto",
                      "type": "bar",
                      "x": [
                        "Sioux Falls"
                      ],
                      "xaxis": "x",
                      "y": {
                        "bdata": "AAAAAJ5rK0E=",
                        "dtype": "f8"
                      },
                      "yaxis": "y"
                    },
                    {
                      "hovertemplate": "City=%{x}<br>Year-Month=2021-07<br>Total Sales=%{y}<extra></extra>",
                      "legendgroup": "St. Louis",
                      "marker": {
                        "color": "#ab63fa",
                        "pattern": {
                          "shape": ""
                        }
                      },
                      "name": "St. Louis",
                      "orientation": "v",
                      "showlegend": true,
                      "textposition": "auto",
                      "type": "bar",
                      "x": [
                        "St. Louis"
                      ],
                      "xaxis": "x",
                      "y": {
                        "bdata": "AAAAACloMUE=",
                        "dtype": "f8"
                      },
                      "yaxis": "y"
                    },
                    {
                      "hovertemplate": "City=%{x}<br>Year-Month=2021-07<br>Total Sales=%{y}<extra></extra>",
                      "legendgroup": "Wichita",
                      "marker": {
                        "color": "#FFA15A",
                        "pattern": {
                          "shape": ""
                        }
                      },
                      "name": "Wichita",
                      "orientation": "v",
                      "showlegend": true,
                      "textposition": "auto",
                      "type": "bar",
                      "x": [
                        "Wichita"
                      ],
                      "xaxis": "x",
                      "y": {
                        "bdata": "AAAAADDbNUE=",
                        "dtype": "f8"
                      },
                      "yaxis": "y"
                    },
                    {
                      "hovertemplate": "City=%{x}<br>Year-Month=2021-07<br>Total Sales=%{y}<extra></extra>",
                      "legendgroup": "Wilmington",
                      "marker": {
                        "color": "#19d3f3",
                        "pattern": {
                          "shape": ""
                        }
                      },
                      "name": "Wilmington",
                      "orientation": "v",
                      "showlegend": true,
                      "textposition": "auto",
                      "type": "bar",
                      "x": [
                        "Wilmington"
                      ],
                      "xaxis": "x",
                      "y": {
                        "bdata": "AAAAANQ5NUE=",
                        "dtype": "f8"
                      },
                      "yaxis": "y"
                    },
                    {
                      "hovertemplate": "City=%{x}<br>Year-Month=2021-07<br>Total Sales=%{y}<extra></extra>",
                      "legendgroup": "Omaha",
                      "marker": {
                        "color": "#FF97FF",
                        "pattern": {
                          "shape": ""
                        }
                      },
                      "name": "Omaha",
                      "orientation": "v",
                      "showlegend": true,
                      "textposition": "auto",
                      "type": "bar",
                      "x": [
                        "Omaha"
                      ],
                      "xaxis": "x",
                      "y": {
                        "bdata": "AAAAAMt5Q0E=",
                        "dtype": "f8"
                      },
                      "yaxis": "y"
                    },
                    {
                      "hovertemplate": "City=%{x}<br>Year-Month=2021-07<br>Total Sales=%{y}<extra></extra>",
                      "legendgroup": "Chicago",
                      "marker": {
                        "color": "#FECB52",
                        "pattern": {
                          "shape": ""
                        }
                      },
                      "name": "Chicago",
                      "orientation": "v",
                      "showlegend": true,
                      "textposition": "auto",
                      "type": "bar",
                      "x": [
                        "Chicago"
                      ],
                      "xaxis": "x",
                      "y": {
                        "bdata": "AAAAQK7FUEE=",
                        "dtype": "f8"
                      },
                      "yaxis": "y"
                    }
                  ],
                  "name": "2021-07"
                },
                {
                  "data": [
                    {
                      "hovertemplate": "City=%{x}<br>Year-Month=2021-08<br>Total Sales=%{y}<extra></extra>",
                      "legendgroup": "Albany",
                      "marker": {
                        "color": "#FECB52",
                        "pattern": {
                          "shape": ""
                        }
                      },
                      "name": "Albany",
                      "orientation": "v",
                      "showlegend": true,
                      "textposition": "auto",
                      "type": "bar",
                      "x": [
                        "Albany"
                      ],
                      "xaxis": "x",
                      "y": {
                        "bdata": "AAAAAPB9QkE=",
                        "dtype": "f8"
                      },
                      "yaxis": "y"
                    },
                    {
                      "hovertemplate": "City=%{x}<br>Year-Month=2021-08<br>Total Sales=%{y}<extra></extra>",
                      "legendgroup": "Albuquerque",
                      "marker": {
                        "color": "#636efa",
                        "pattern": {
                          "shape": ""
                        }
                      },
                      "name": "Albuquerque",
                      "orientation": "v",
                      "showlegend": true,
                      "textposition": "auto",
                      "type": "bar",
                      "x": [
                        "Albuquerque"
                      ],
                      "xaxis": "x",
                      "y": {
                        "bdata": "AQAAgHLkQEE=",
                        "dtype": "f8"
                      },
                      "yaxis": "y"
                    },
                    {
                      "hovertemplate": "City=%{x}<br>Year-Month=2021-08<br>Total Sales=%{y}<extra></extra>",
                      "legendgroup": "Anchorage",
                      "marker": {
                        "color": "#EF553B",
                        "pattern": {
                          "shape": ""
                        }
                      },
                      "name": "Anchorage",
                      "orientation": "v",
                      "showlegend": true,
                      "textposition": "auto",
                      "type": "bar",
                      "x": [
                        "Anchorage"
                      ],
                      "xaxis": "x",
                      "y": {
                        "bdata": "AAAAAOVrNkE=",
                        "dtype": "f8"
                      },
                      "yaxis": "y"
                    },
                    {
                      "hovertemplate": "City=%{x}<br>Year-Month=2021-08<br>Total Sales=%{y}<extra></extra>",
                      "legendgroup": "Atlanta",
                      "marker": {
                        "color": "#00cc96",
                        "pattern": {
                          "shape": ""
                        }
                      },
                      "name": "Atlanta",
                      "orientation": "v",
                      "showlegend": true,
                      "textposition": "auto",
                      "type": "bar",
                      "x": [
                        "Atlanta"
                      ],
                      "xaxis": "x",
                      "y": {
                        "bdata": "AQAAAGjGPUE=",
                        "dtype": "f8"
                      },
                      "yaxis": "y"
                    },
                    {
                      "hovertemplate": "City=%{x}<br>Year-Month=2021-08<br>Total Sales=%{y}<extra></extra>",
                      "legendgroup": "Baltimore",
                      "marker": {
                        "color": "#ab63fa",
                        "pattern": {
                          "shape": ""
                        }
                      },
                      "name": "Baltimore",
                      "orientation": "v",
                      "showlegend": true,
                      "textposition": "auto",
                      "type": "bar",
                      "x": [
                        "Baltimore"
                      ],
                      "xaxis": "x",
                      "y": {
                        "bdata": "AAAAALg6J0E=",
                        "dtype": "f8"
                      },
                      "yaxis": "y"
                    },
                    {
                      "hovertemplate": "City=%{x}<br>Year-Month=2021-08<br>Total Sales=%{y}<extra></extra>",
                      "legendgroup": "Boise",
                      "marker": {
                        "color": "#19d3f3",
                        "pattern": {
                          "shape": ""
                        }
                      },
                      "name": "Boise",
                      "orientation": "v",
                      "showlegend": true,
                      "textposition": "auto",
                      "type": "bar",
                      "x": [
                        "Boise"
                      ],
                      "xaxis": "x",
                      "y": {
                        "bdata": "AAAAgAh7QUE=",
                        "dtype": "f8"
                      },
                      "yaxis": "y"
                    },
                    {
                      "hovertemplate": "City=%{x}<br>Year-Month=2021-08<br>Total Sales=%{y}<extra></extra>",
                      "legendgroup": "Boston",
                      "marker": {
                        "color": "#FF6692",
                        "pattern": {
                          "shape": ""
                        }
                      },
                      "name": "Boston",
                      "orientation": "v",
                      "showlegend": true,
                      "textposition": "auto",
                      "type": "bar",
                      "x": [
                        "Boston"
                      ],
                      "xaxis": "x",
                      "y": {
                        "bdata": "AAAAAHoTL0E=",
                        "dtype": "f8"
                      },
                      "yaxis": "y"
                    },
                    {
                      "hovertemplate": "City=%{x}<br>Year-Month=2021-08<br>Total Sales=%{y}<extra></extra>",
                      "legendgroup": "Burlington",
                      "marker": {
                        "color": "#B6E880",
                        "pattern": {
                          "shape": ""
                        }
                      },
                      "name": "Burlington",
                      "orientation": "v",
                      "showlegend": true,
                      "textposition": "auto",
                      "type": "bar",
                      "x": [
                        "Burlington"
                      ],
                      "xaxis": "x",
                      "y": {
                        "bdata": "AAAAAJohNUE=",
                        "dtype": "f8"
                      },
                      "yaxis": "y"
                    },
                    {
                      "hovertemplate": "City=%{x}<br>Year-Month=2021-08<br>Total Sales=%{y}<extra></extra>",
                      "legendgroup": "Charleston",
                      "marker": {
                        "color": "#FF97FF",
                        "pattern": {
                          "shape": ""
                        }
                      },
                      "name": "Charleston",
                      "orientation": "v",
                      "showlegend": true,
                      "textposition": "auto",
                      "type": "bar",
                      "x": [
                        "Charleston"
                      ],
                      "xaxis": "x",
                      "y": {
                        "bdata": "AQAAgByNT0E=",
                        "dtype": "f8"
                      },
                      "yaxis": "y"
                    },
                    {
                      "hovertemplate": "City=%{x}<br>Year-Month=2021-08<br>Total Sales=%{y}<extra></extra>",
                      "legendgroup": "Charlotte",
                      "marker": {
                        "color": "#FECB52",
                        "pattern": {
                          "shape": ""
                        }
                      },
                      "name": "Charlotte",
                      "orientation": "v",
                      "showlegend": true,
                      "textposition": "auto",
                      "type": "bar",
                      "x": [
                        "Charlotte"
                      ],
                      "xaxis": "x",
                      "y": {
                        "bdata": "AAAAAJonRUE=",
                        "dtype": "f8"
                      },
                      "yaxis": "y"
                    },
                    {
                      "hovertemplate": "City=%{x}<br>Year-Month=2021-08<br>Total Sales=%{y}<extra></extra>",
                      "legendgroup": "Cheyenne",
                      "marker": {
                        "color": "#636efa",
                        "pattern": {
                          "shape": ""
                        }
                      },
                      "name": "Cheyenne",
                      "orientation": "v",
                      "showlegend": true,
                      "textposition": "auto",
                      "type": "bar",
                      "x": [
                        "Cheyenne"
                      ],
                      "xaxis": "x",
                      "y": {
                        "bdata": "AAAAAP6HO0E=",
                        "dtype": "f8"
                      },
                      "yaxis": "y"
                    },
                    {
                      "hovertemplate": "City=%{x}<br>Year-Month=2021-08<br>Total Sales=%{y}<extra></extra>",
                      "legendgroup": "Columbus",
                      "marker": {
                        "color": "#EF553B",
                        "pattern": {
                          "shape": ""
                        }
                      },
                      "name": "Columbus",
                      "orientation": "v",
                      "showlegend": true,
                      "textposition": "auto",
                      "type": "bar",
                      "x": [
                        "Columbus"
                      ],
                      "xaxis": "x",
                      "y": {
                        "bdata": "AAAAADokQUE=",
                        "dtype": "f8"
                      },
                      "yaxis": "y"
                    },
                    {
                      "hovertemplate": "City=%{x}<br>Year-Month=2021-08<br>Total Sales=%{y}<extra></extra>",
                      "legendgroup": "Des Moines",
                      "marker": {
                        "color": "#00cc96",
                        "pattern": {
                          "shape": ""
                        }
                      },
                      "name": "Des Moines",
                      "orientation": "v",
                      "showlegend": true,
                      "textposition": "auto",
                      "type": "bar",
                      "x": [
                        "Des Moines"
                      ],
                      "xaxis": "x",
                      "y": {
                        "bdata": "AAAAALyGKkE=",
                        "dtype": "f8"
                      },
                      "yaxis": "y"
                    },
                    {
                      "hovertemplate": "City=%{x}<br>Year-Month=2021-08<br>Total Sales=%{y}<extra></extra>",
                      "legendgroup": "Detroit",
                      "marker": {
                        "color": "#ab63fa",
                        "pattern": {
                          "shape": ""
                        }
                      },
                      "name": "Detroit",
                      "orientation": "v",
                      "showlegend": true,
                      "textposition": "auto",
                      "type": "bar",
                      "x": [
                        "Detroit"
                      ],
                      "xaxis": "x",
                      "y": {
                        "bdata": "AQAAADWLPUE=",
                        "dtype": "f8"
                      },
                      "yaxis": "y"
                    },
                    {
                      "hovertemplate": "City=%{x}<br>Year-Month=2021-08<br>Total Sales=%{y}<extra></extra>",
                      "legendgroup": "Fargo",
                      "marker": {
                        "color": "#FFA15A",
                        "pattern": {
                          "shape": ""
                        }
                      },
                      "name": "Fargo",
                      "orientation": "v",
                      "showlegend": true,
                      "textposition": "auto",
                      "type": "bar",
                      "x": [
                        "Fargo"
                      ],
                      "xaxis": "x",
                      "y": {
                        "bdata": "AAAAAP6IKkE=",
                        "dtype": "f8"
                      },
                      "yaxis": "y"
                    },
                    {
                      "hovertemplate": "City=%{x}<br>Year-Month=2021-08<br>Total Sales=%{y}<extra></extra>",
                      "legendgroup": "Hartford",
                      "marker": {
                        "color": "#19d3f3",
                        "pattern": {
                          "shape": ""
                        }
                      },
                      "name": "Hartford",
                      "orientation": "v",
                      "showlegend": true,
                      "textposition": "auto",
                      "type": "bar",
                      "x": [
                        "Hartford"
                      ],
                      "xaxis": "x",
                      "y": {
                        "bdata": "AAAAAKUEMkE=",
                        "dtype": "f8"
                      },
                      "yaxis": "y"
                    },
                    {
                      "hovertemplate": "City=%{x}<br>Year-Month=2021-08<br>Total Sales=%{y}<extra></extra>",
                      "legendgroup": "Honolulu",
                      "marker": {
                        "color": "#FF6692",
                        "pattern": {
                          "shape": ""
                        }
                      },
                      "name": "Honolulu",
                      "orientation": "v",
                      "showlegend": true,
                      "textposition": "auto",
                      "type": "bar",
                      "x": [
                        "Honolulu"
                      ],
                      "xaxis": "x",
                      "y": {
                        "bdata": "AAAAgFVZREE=",
                        "dtype": "f8"
                      },
                      "yaxis": "y"
                    },
                    {
                      "hovertemplate": "City=%{x}<br>Year-Month=2021-08<br>Total Sales=%{y}<extra></extra>",
                      "legendgroup": "Indianapolis",
                      "marker": {
                        "color": "#B6E880",
                        "pattern": {
                          "shape": ""
                        }
                      },
                      "name": "Indianapolis",
                      "orientation": "v",
                      "showlegend": true,
                      "textposition": "auto",
                      "type": "bar",
                      "x": [
                        "Indianapolis"
                      ],
                      "xaxis": "x",
                      "y": {
                        "bdata": "AAAAAKCMKkE=",
                        "dtype": "f8"
                      },
                      "yaxis": "y"
                    },
                    {
                      "hovertemplate": "City=%{x}<br>Year-Month=2021-08<br>Total Sales=%{y}<extra></extra>",
                      "legendgroup": "Jackson",
                      "marker": {
                        "color": "#FF97FF",
                        "pattern": {
                          "shape": ""
                        }
                      },
                      "name": "Jackson",
                      "orientation": "v",
                      "showlegend": true,
                      "textposition": "auto",
                      "type": "bar",
                      "x": [
                        "Jackson"
                      ],
                      "xaxis": "x",
                      "y": {
                        "bdata": "AAAAAGiSPUE=",
                        "dtype": "f8"
                      },
                      "yaxis": "y"
                    },
                    {
                      "hovertemplate": "City=%{x}<br>Year-Month=2021-08<br>Total Sales=%{y}<extra></extra>",
                      "legendgroup": "Little Rock",
                      "marker": {
                        "color": "#FECB52",
                        "pattern": {
                          "shape": ""
                        }
                      },
                      "name": "Little Rock",
                      "orientation": "v",
                      "showlegend": true,
                      "textposition": "auto",
                      "type": "bar",
                      "x": [
                        "Little Rock"
                      ],
                      "xaxis": "x",
                      "y": {
                        "bdata": "AAAAAFnYOUE=",
                        "dtype": "f8"
                      },
                      "yaxis": "y"
                    },
                    {
                      "hovertemplate": "City=%{x}<br>Year-Month=2021-08<br>Total Sales=%{y}<extra></extra>",
                      "legendgroup": "Louisville",
                      "marker": {
                        "color": "#636efa",
                        "pattern": {
                          "shape": ""
                        }
                      },
                      "name": "Louisville",
                      "orientation": "v",
                      "showlegend": true,
                      "textposition": "auto",
                      "type": "bar",
                      "x": [
                        "Louisville"
                      ],
                      "xaxis": "x",
                      "y": {
                        "bdata": "AAAAAHjxLkE=",
                        "dtype": "f8"
                      },
                      "yaxis": "y"
                    },
                    {
                      "hovertemplate": "City=%{x}<br>Year-Month=2021-08<br>Total Sales=%{y}<extra></extra>",
                      "legendgroup": "Manchester",
                      "marker": {
                        "color": "#EF553B",
                        "pattern": {
                          "shape": ""
                        }
                      },
                      "name": "Manchester",
                      "orientation": "v",
                      "showlegend": true,
                      "textposition": "auto",
                      "type": "bar",
                      "x": [
                        "Manchester"
                      ],
                      "xaxis": "x",
                      "y": {
                        "bdata": "AAAAANVnOEE=",
                        "dtype": "f8"
                      },
                      "yaxis": "y"
                    },
                    {
                      "hovertemplate": "City=%{x}<br>Year-Month=2021-08<br>Total Sales=%{y}<extra></extra>",
                      "legendgroup": "Milwaukee",
                      "marker": {
                        "color": "#00cc96",
                        "pattern": {
                          "shape": ""
                        }
                      },
                      "name": "Milwaukee",
                      "orientation": "v",
                      "showlegend": true,
                      "textposition": "auto",
                      "type": "bar",
                      "x": [
                        "Milwaukee"
                      ],
                      "xaxis": "x",
                      "y": {
                        "bdata": "AAAAABSNKkE=",
                        "dtype": "f8"
                      },
                      "yaxis": "y"
                    },
                    {
                      "hovertemplate": "City=%{x}<br>Year-Month=2021-08<br>Total Sales=%{y}<extra></extra>",
                      "legendgroup": "New Orleans",
                      "marker": {
                        "color": "#ab63fa",
                        "pattern": {
                          "shape": ""
                        }
                      },
                      "name": "New Orleans",
                      "orientation": "v",
                      "showlegend": true,
                      "textposition": "auto",
                      "type": "bar",
                      "x": [
                        "New Orleans"
                      ],
                      "xaxis": "x",
                      "y": {
                        "bdata": "AAAAgB5FR0E=",
                        "dtype": "f8"
                      },
                      "yaxis": "y"
                    },
                    {
                      "hovertemplate": "City=%{x}<br>Year-Month=2021-08<br>Total Sales=%{y}<extra></extra>",
                      "legendgroup": "Newark",
                      "marker": {
                        "color": "#FFA15A",
                        "pattern": {
                          "shape": ""
                        }
                      },
                      "name": "Newark",
                      "orientation": "v",
                      "showlegend": true,
                      "textposition": "auto",
                      "type": "bar",
                      "x": [
                        "Newark"
                      ],
                      "xaxis": "x",
                      "y": {
                        "bdata": "/////9W2LUE=",
                        "dtype": "f8"
                      },
                      "yaxis": "y"
                    },
                    {
                      "hovertemplate": "City=%{x}<br>Year-Month=2021-08<br>Total Sales=%{y}<extra></extra>",
                      "legendgroup": "Oklahoma City",
                      "marker": {
                        "color": "#19d3f3",
                        "pattern": {
                          "shape": ""
                        }
                      },
                      "name": "Oklahoma City",
                      "orientation": "v",
                      "showlegend": true,
                      "textposition": "auto",
                      "type": "bar",
                      "x": [
                        "Oklahoma City"
                      ],
                      "xaxis": "x",
                      "y": {
                        "bdata": "AAAAAPsdNkE=",
                        "dtype": "f8"
                      },
                      "yaxis": "y"
                    },
                    {
                      "hovertemplate": "City=%{x}<br>Year-Month=2021-08<br>Total Sales=%{y}<extra></extra>",
                      "legendgroup": "Orlando",
                      "marker": {
                        "color": "#FF6692",
                        "pattern": {
                          "shape": ""
                        }
                      },
                      "name": "Orlando",
                      "orientation": "v",
                      "showlegend": true,
                      "textposition": "auto",
                      "type": "bar",
                      "x": [
                        "Orlando"
                      ],
                      "xaxis": "x",
                      "y": {
                        "bdata": "AAAAgJ6uSEE=",
                        "dtype": "f8"
                      },
                      "yaxis": "y"
                    },
                    {
                      "hovertemplate": "City=%{x}<br>Year-Month=2021-08<br>Total Sales=%{y}<extra></extra>",
                      "legendgroup": "Phoenix",
                      "marker": {
                        "color": "#B6E880",
                        "pattern": {
                          "shape": ""
                        }
                      },
                      "name": "Phoenix",
                      "orientation": "v",
                      "showlegend": true,
                      "textposition": "auto",
                      "type": "bar",
                      "x": [
                        "Phoenix"
                      ],
                      "xaxis": "x",
                      "y": {
                        "bdata": "AQAAAHDeOkE=",
                        "dtype": "f8"
                      },
                      "yaxis": "y"
                    },
                    {
                      "hovertemplate": "City=%{x}<br>Year-Month=2021-08<br>Total Sales=%{y}<extra></extra>",
                      "legendgroup": "Portland",
                      "marker": {
                        "color": "#FF97FF",
                        "pattern": {
                          "shape": ""
                        }
                      },
                      "name": "Portland",
                      "orientation": "v",
                      "showlegend": true,
                      "textposition": "auto",
                      "type": "bar",
                      "x": [
                        "Portland"
                      ],
                      "xaxis": "x",
                      "y": {
                        "bdata": "AAAAgGGqREE=",
                        "dtype": "f8"
                      },
                      "yaxis": "y"
                    },
                    {
                      "hovertemplate": "City=%{x}<br>Year-Month=2021-08<br>Total Sales=%{y}<extra></extra>",
                      "legendgroup": "Providence",
                      "marker": {
                        "color": "#FECB52",
                        "pattern": {
                          "shape": ""
                        }
                      },
                      "name": "Providence",
                      "orientation": "v",
                      "showlegend": true,
                      "textposition": "auto",
                      "type": "bar",
                      "x": [
                        "Providence"
                      ],
                      "xaxis": "x",
                      "y": {
                        "bdata": "/////+/mKUE=",
                        "dtype": "f8"
                      },
                      "yaxis": "y"
                    },
                    {
                      "hovertemplate": "City=%{x}<br>Year-Month=2021-08<br>Total Sales=%{y}<extra></extra>",
                      "legendgroup": "Richmond",
                      "marker": {
                        "color": "#636efa",
                        "pattern": {
                          "shape": ""
                        }
                      },
                      "name": "Richmond",
                      "orientation": "v",
                      "showlegend": true,
                      "textposition": "auto",
                      "type": "bar",
                      "x": [
                        "Richmond"
                      ],
                      "xaxis": "x",
                      "y": {
                        "bdata": "AAAAgAqlREE=",
                        "dtype": "f8"
                      },
                      "yaxis": "y"
                    },
                    {
                      "hovertemplate": "City=%{x}<br>Year-Month=2021-08<br>Total Sales=%{y}<extra></extra>",
                      "legendgroup": "Salt Lake City",
                      "marker": {
                        "color": "#EF553B",
                        "pattern": {
                          "shape": ""
                        }
                      },
                      "name": "Salt Lake City",
                      "orientation": "v",
                      "showlegend": true,
                      "textposition": "auto",
                      "type": "bar",
                      "x": [
                        "Salt Lake City"
                      ],
                      "xaxis": "x",
                      "y": {
                        "bdata": "AQAAACZULkE=",
                        "dtype": "f8"
                      },
                      "yaxis": "y"
                    },
                    {
                      "hovertemplate": "City=%{x}<br>Year-Month=2021-08<br>Total Sales=%{y}<extra></extra>",
                      "legendgroup": "Sioux Falls",
                      "marker": {
                        "color": "#00cc96",
                        "pattern": {
                          "shape": ""
                        }
                      },
                      "name": "Sioux Falls",
                      "orientation": "v",
                      "showlegend": true,
                      "textposition": "auto",
                      "type": "bar",
                      "x": [
                        "Sioux Falls"
                      ],
                      "xaxis": "x",
                      "y": {
                        "bdata": "AAAAAKqBKkE=",
                        "dtype": "f8"
                      },
                      "yaxis": "y"
                    },
                    {
                      "hovertemplate": "City=%{x}<br>Year-Month=2021-08<br>Total Sales=%{y}<extra></extra>",
                      "legendgroup": "St. Louis",
                      "marker": {
                        "color": "#ab63fa",
                        "pattern": {
                          "shape": ""
                        }
                      },
                      "name": "St. Louis",
                      "orientation": "v",
                      "showlegend": true,
                      "textposition": "auto",
                      "type": "bar",
                      "x": [
                        "St. Louis"
                      ],
                      "xaxis": "x",
                      "y": {
                        "bdata": "AAAAAGDoLkE=",
                        "dtype": "f8"
                      },
                      "yaxis": "y"
                    },
                    {
                      "hovertemplate": "City=%{x}<br>Year-Month=2021-08<br>Total Sales=%{y}<extra></extra>",
                      "legendgroup": "Wichita",
                      "marker": {
                        "color": "#FFA15A",
                        "pattern": {
                          "shape": ""
                        }
                      },
                      "name": "Wichita",
                      "orientation": "v",
                      "showlegend": true,
                      "textposition": "auto",
                      "type": "bar",
                      "x": [
                        "Wichita"
                      ],
                      "xaxis": "x",
                      "y": {
                        "bdata": "AAAAAJZnNEE=",
                        "dtype": "f8"
                      },
                      "yaxis": "y"
                    },
                    {
                      "hovertemplate": "City=%{x}<br>Year-Month=2021-08<br>Total Sales=%{y}<extra></extra>",
                      "legendgroup": "Wilmington",
                      "marker": {
                        "color": "#19d3f3",
                        "pattern": {
                          "shape": ""
                        }
                      },
                      "name": "Wilmington",
                      "orientation": "v",
                      "showlegend": true,
                      "textposition": "auto",
                      "type": "bar",
                      "x": [
                        "Wilmington"
                      ],
                      "xaxis": "x",
                      "y": {
                        "bdata": "AAAAAMPYMkE=",
                        "dtype": "f8"
                      },
                      "yaxis": "y"
                    },
                    {
                      "hovertemplate": "City=%{x}<br>Year-Month=2021-08<br>Total Sales=%{y}<extra></extra>",
                      "legendgroup": "Omaha",
                      "marker": {
                        "color": "#FF97FF",
                        "pattern": {
                          "shape": ""
                        }
                      },
                      "name": "Omaha",
                      "orientation": "v",
                      "showlegend": true,
                      "textposition": "auto",
                      "type": "bar",
                      "x": [
                        "Omaha"
                      ],
                      "xaxis": "x",
                      "y": {
                        "bdata": "AAAAACJFJEE=",
                        "dtype": "f8"
                      },
                      "yaxis": "y"
                    },
                    {
                      "hovertemplate": "City=%{x}<br>Year-Month=2021-08<br>Total Sales=%{y}<extra></extra>",
                      "legendgroup": "Chicago",
                      "marker": {
                        "color": "#FECB52",
                        "pattern": {
                          "shape": ""
                        }
                      },
                      "name": "Chicago",
                      "orientation": "v",
                      "showlegend": true,
                      "textposition": "auto",
                      "type": "bar",
                      "x": [
                        "Chicago"
                      ],
                      "xaxis": "x",
                      "y": {
                        "bdata": "AAAAgNywQEE=",
                        "dtype": "f8"
                      },
                      "yaxis": "y"
                    },
                    {
                      "hovertemplate": "City=%{x}<br>Year-Month=2021-08<br>Total Sales=%{y}<extra></extra>",
                      "legendgroup": "Birmingham",
                      "marker": {
                        "color": "#636efa",
                        "pattern": {
                          "shape": ""
                        }
                      },
                      "name": "Birmingham",
                      "orientation": "v",
                      "showlegend": true,
                      "textposition": "auto",
                      "type": "bar",
                      "x": [
                        "Birmingham"
                      ],
                      "xaxis": "x",
                      "y": {
                        "bdata": "AAAAAIhOUEE=",
                        "dtype": "f8"
                      },
                      "yaxis": "y"
                    },
                    {
                      "hovertemplate": "City=%{x}<br>Year-Month=2021-08<br>Total Sales=%{y}<extra></extra>",
                      "legendgroup": "Dallas",
                      "marker": {
                        "color": "#EF553B",
                        "pattern": {
                          "shape": ""
                        }
                      },
                      "name": "Dallas",
                      "orientation": "v",
                      "showlegend": true,
                      "textposition": "auto",
                      "type": "bar",
                      "x": [
                        "Dallas"
                      ],
                      "xaxis": "x",
                      "y": {
                        "bdata": "AAAAgA/jRkE=",
                        "dtype": "f8"
                      },
                      "yaxis": "y"
                    }
                  ],
                  "name": "2021-08"
                },
                {
                  "data": [
                    {
                      "hovertemplate": "City=%{x}<br>Year-Month=2021-09<br>Total Sales=%{y}<extra></extra>",
                      "legendgroup": "Albany",
                      "marker": {
                        "color": "#FECB52",
                        "pattern": {
                          "shape": ""
                        }
                      },
                      "name": "Albany",
                      "orientation": "v",
                      "showlegend": true,
                      "textposition": "auto",
                      "type": "bar",
                      "x": [
                        "Albany"
                      ],
                      "xaxis": "x",
                      "y": {
                        "bdata": "AQAAAN9SPkE=",
                        "dtype": "f8"
                      },
                      "yaxis": "y"
                    },
                    {
                      "hovertemplate": "City=%{x}<br>Year-Month=2021-09<br>Total Sales=%{y}<extra></extra>",
                      "legendgroup": "Albuquerque",
                      "marker": {
                        "color": "#636efa",
                        "pattern": {
                          "shape": ""
                        }
                      },
                      "name": "Albuquerque",
                      "orientation": "v",
                      "showlegend": true,
                      "textposition": "auto",
                      "type": "bar",
                      "x": [
                        "Albuquerque"
                      ],
                      "xaxis": "x",
                      "y": {
                        "bdata": "AgAAAOG6OkE=",
                        "dtype": "f8"
                      },
                      "yaxis": "y"
                    },
                    {
                      "hovertemplate": "City=%{x}<br>Year-Month=2021-09<br>Total Sales=%{y}<extra></extra>",
                      "legendgroup": "Anchorage",
                      "marker": {
                        "color": "#EF553B",
                        "pattern": {
                          "shape": ""
                        }
                      },
                      "name": "Anchorage",
                      "orientation": "v",
                      "showlegend": true,
                      "textposition": "auto",
                      "type": "bar",
                      "x": [
                        "Anchorage"
                      ],
                      "xaxis": "x",
                      "y": {
                        "bdata": "AAAAADteMUE=",
                        "dtype": "f8"
                      },
                      "yaxis": "y"
                    },
                    {
                      "hovertemplate": "City=%{x}<br>Year-Month=2021-09<br>Total Sales=%{y}<extra></extra>",
                      "legendgroup": "Atlanta",
                      "marker": {
                        "color": "#00cc96",
                        "pattern": {
                          "shape": ""
                        }
                      },
                      "name": "Atlanta",
                      "orientation": "v",
                      "showlegend": true,
                      "textposition": "auto",
                      "type": "bar",
                      "x": [
                        "Atlanta"
                      ],
                      "xaxis": "x",
                      "y": {
                        "bdata": "AgAAAG0dN0E=",
                        "dtype": "f8"
                      },
                      "yaxis": "y"
                    },
                    {
                      "hovertemplate": "City=%{x}<br>Year-Month=2021-09<br>Total Sales=%{y}<extra></extra>",
                      "legendgroup": "Baltimore",
                      "marker": {
                        "color": "#ab63fa",
                        "pattern": {
                          "shape": ""
                        }
                      },
                      "name": "Baltimore",
                      "orientation": "v",
                      "showlegend": true,
                      "textposition": "auto",
                      "type": "bar",
                      "x": [
                        "Baltimore"
                      ],
                      "xaxis": "x",
                      "y": {
                        "bdata": "AAAAAAStIUE=",
                        "dtype": "f8"
                      },
                      "yaxis": "y"
                    },
                    {
                      "hovertemplate": "City=%{x}<br>Year-Month=2021-09<br>Total Sales=%{y}<extra></extra>",
                      "legendgroup": "Boise",
                      "marker": {
                        "color": "#19d3f3",
                        "pattern": {
                          "shape": ""
                        }
                      },
                      "name": "Boise",
                      "orientation": "v",
                      "showlegend": true,
                      "textposition": "auto",
                      "type": "bar",
                      "x": [
                        "Boise"
                      ],
                      "xaxis": "x",
                      "y": {
                        "bdata": "AAAAACZPPkE=",
                        "dtype": "f8"
                      },
                      "yaxis": "y"
                    },
                    {
                      "hovertemplate": "City=%{x}<br>Year-Month=2021-09<br>Total Sales=%{y}<extra></extra>",
                      "legendgroup": "Boston",
                      "marker": {
                        "color": "#FF6692",
                        "pattern": {
                          "shape": ""
                        }
                      },
                      "name": "Boston",
                      "orientation": "v",
                      "showlegend": true,
                      "textposition": "auto",
                      "type": "bar",
                      "x": [
                        "Boston"
                      ],
                      "xaxis": "x",
                      "y": {
                        "bdata": "AAAAAJBsJkE=",
                        "dtype": "f8"
                      },
                      "yaxis": "y"
                    },
                    {
                      "hovertemplate": "City=%{x}<br>Year-Month=2021-09<br>Total Sales=%{y}<extra></extra>",
                      "legendgroup": "Burlington",
                      "marker": {
                        "color": "#B6E880",
                        "pattern": {
                          "shape": ""
                        }
                      },
                      "name": "Burlington",
                      "orientation": "v",
                      "showlegend": true,
                      "textposition": "auto",
                      "type": "bar",
                      "x": [
                        "Burlington"
                      ],
                      "xaxis": "x",
                      "y": {
                        "bdata": "AAAAAK9WMEE=",
                        "dtype": "f8"
                      },
                      "yaxis": "y"
                    },
                    {
                      "hovertemplate": "City=%{x}<br>Year-Month=2021-09<br>Total Sales=%{y}<extra></extra>",
                      "legendgroup": "Charleston",
                      "marker": {
                        "color": "#FF97FF",
                        "pattern": {
                          "shape": ""
                        }
                      },
                      "name": "Charleston",
                      "orientation": "v",
                      "showlegend": true,
                      "textposition": "auto",
                      "type": "bar",
                      "x": [
                        "Charleston"
                      ],
                      "xaxis": "x",
                      "y": {
                        "bdata": "AQAAgHgaR0E=",
                        "dtype": "f8"
                      },
                      "yaxis": "y"
                    },
                    {
                      "hovertemplate": "City=%{x}<br>Year-Month=2021-09<br>Total Sales=%{y}<extra></extra>",
                      "legendgroup": "Charlotte",
                      "marker": {
                        "color": "#FECB52",
                        "pattern": {
                          "shape": ""
                        }
                      },
                      "name": "Charlotte",
                      "orientation": "v",
                      "showlegend": true,
                      "textposition": "auto",
                      "type": "bar",
                      "x": [
                        "Charlotte"
                      ],
                      "xaxis": "x",
                      "y": {
                        "bdata": "AQAAAHQQPEE=",
                        "dtype": "f8"
                      },
                      "yaxis": "y"
                    },
                    {
                      "hovertemplate": "City=%{x}<br>Year-Month=2021-09<br>Total Sales=%{y}<extra></extra>",
                      "legendgroup": "Cheyenne",
                      "marker": {
                        "color": "#636efa",
                        "pattern": {
                          "shape": ""
                        }
                      },
                      "name": "Cheyenne",
                      "orientation": "v",
                      "showlegend": true,
                      "textposition": "auto",
                      "type": "bar",
                      "x": [
                        "Cheyenne"
                      ],
                      "xaxis": "x",
                      "y": {
                        "bdata": "AAAAAFD4OUE=",
                        "dtype": "f8"
                      },
                      "yaxis": "y"
                    },
                    {
                      "hovertemplate": "City=%{x}<br>Year-Month=2021-09<br>Total Sales=%{y}<extra></extra>",
                      "legendgroup": "Columbus",
                      "marker": {
                        "color": "#EF553B",
                        "pattern": {
                          "shape": ""
                        }
                      },
                      "name": "Columbus",
                      "orientation": "v",
                      "showlegend": true,
                      "textposition": "auto",
                      "type": "bar",
                      "x": [
                        "Columbus"
                      ],
                      "xaxis": "x",
                      "y": {
                        "bdata": "AQAAAOmzNEE=",
                        "dtype": "f8"
                      },
                      "yaxis": "y"
                    },
                    {
                      "hovertemplate": "City=%{x}<br>Year-Month=2021-09<br>Total Sales=%{y}<extra></extra>",
                      "legendgroup": "Des Moines",
                      "marker": {
                        "color": "#00cc96",
                        "pattern": {
                          "shape": ""
                        }
                      },
                      "name": "Des Moines",
                      "orientation": "v",
                      "showlegend": true,
                      "textposition": "auto",
                      "type": "bar",
                      "x": [
                        "Des Moines"
                      ],
                      "xaxis": "x",
                      "y": {
                        "bdata": "AQAAADSYHUE=",
                        "dtype": "f8"
                      },
                      "yaxis": "y"
                    },
                    {
                      "hovertemplate": "City=%{x}<br>Year-Month=2021-09<br>Total Sales=%{y}<extra></extra>",
                      "legendgroup": "Detroit",
                      "marker": {
                        "color": "#ab63fa",
                        "pattern": {
                          "shape": ""
                        }
                      },
                      "name": "Detroit",
                      "orientation": "v",
                      "showlegend": true,
                      "textposition": "auto",
                      "type": "bar",
                      "x": [
                        "Detroit"
                      ],
                      "xaxis": "x",
                      "y": {
                        "bdata": "AQAAAPqZNkE=",
                        "dtype": "f8"
                      },
                      "yaxis": "y"
                    },
                    {
                      "hovertemplate": "City=%{x}<br>Year-Month=2021-09<br>Total Sales=%{y}<extra></extra>",
                      "legendgroup": "Fargo",
                      "marker": {
                        "color": "#FFA15A",
                        "pattern": {
                          "shape": ""
                        }
                      },
                      "name": "Fargo",
                      "orientation": "v",
                      "showlegend": true,
                      "textposition": "auto",
                      "type": "bar",
                      "x": [
                        "Fargo"
                      ],
                      "xaxis": "x",
                      "y": {
                        "bdata": "AAAAADIQIUE=",
                        "dtype": "f8"
                      },
                      "yaxis": "y"
                    },
                    {
                      "hovertemplate": "City=%{x}<br>Year-Month=2021-09<br>Total Sales=%{y}<extra></extra>",
                      "legendgroup": "Hartford",
                      "marker": {
                        "color": "#19d3f3",
                        "pattern": {
                          "shape": ""
                        }
                      },
                      "name": "Hartford",
                      "orientation": "v",
                      "showlegend": true,
                      "textposition": "auto",
                      "type": "bar",
                      "x": [
                        "Hartford"
                      ],
                      "xaxis": "x",
                      "y": {
                        "bdata": "AAAAAOxiK0E=",
                        "dtype": "f8"
                      },
                      "yaxis": "y"
                    },
                    {
                      "hovertemplate": "City=%{x}<br>Year-Month=2021-09<br>Total Sales=%{y}<extra></extra>",
                      "legendgroup": "Honolulu",
                      "marker": {
                        "color": "#FF6692",
                        "pattern": {
                          "shape": ""
                        }
                      },
                      "name": "Honolulu",
                      "orientation": "v",
                      "showlegend": true,
                      "textposition": "auto",
                      "type": "bar",
                      "x": [
                        "Honolulu"
                      ],
                      "xaxis": "x",
                      "y": {
                        "bdata": "AQAAAFJhOkE=",
                        "dtype": "f8"
                      },
                      "yaxis": "y"
                    },
                    {
                      "hovertemplate": "City=%{x}<br>Year-Month=2021-09<br>Total Sales=%{y}<extra></extra>",
                      "legendgroup": "Indianapolis",
                      "marker": {
                        "color": "#B6E880",
                        "pattern": {
                          "shape": ""
                        }
                      },
                      "name": "Indianapolis",
                      "orientation": "v",
                      "showlegend": true,
                      "textposition": "auto",
                      "type": "bar",
                      "x": [
                        "Indianapolis"
                      ],
                      "xaxis": "x",
                      "y": {
                        "bdata": "AQAAANCZHUE=",
                        "dtype": "f8"
                      },
                      "yaxis": "y"
                    },
                    {
                      "hovertemplate": "City=%{x}<br>Year-Month=2021-09<br>Total Sales=%{y}<extra></extra>",
                      "legendgroup": "Jackson",
                      "marker": {
                        "color": "#FF97FF",
                        "pattern": {
                          "shape": ""
                        }
                      },
                      "name": "Jackson",
                      "orientation": "v",
                      "showlegend": true,
                      "textposition": "auto",
                      "type": "bar",
                      "x": [
                        "Jackson"
                      ],
                      "xaxis": "x",
                      "y": {
                        "bdata": "AQAAAF/2MEE=",
                        "dtype": "f8"
                      },
                      "yaxis": "y"
                    },
                    {
                      "hovertemplate": "City=%{x}<br>Year-Month=2021-09<br>Total Sales=%{y}<extra></extra>",
                      "legendgroup": "Little Rock",
                      "marker": {
                        "color": "#FECB52",
                        "pattern": {
                          "shape": ""
                        }
                      },
                      "name": "Little Rock",
                      "orientation": "v",
                      "showlegend": true,
                      "textposition": "auto",
                      "type": "bar",
                      "x": [
                        "Little Rock"
                      ],
                      "xaxis": "x",
                      "y": {
                        "bdata": "AgAAAMYcKkE=",
                        "dtype": "f8"
                      },
                      "yaxis": "y"
                    },
                    {
                      "hovertemplate": "City=%{x}<br>Year-Month=2021-09<br>Total Sales=%{y}<extra></extra>",
                      "legendgroup": "Louisville",
                      "marker": {
                        "color": "#636efa",
                        "pattern": {
                          "shape": ""
                        }
                      },
                      "name": "Louisville",
                      "orientation": "v",
                      "showlegend": true,
                      "textposition": "auto",
                      "type": "bar",
                      "x": [
                        "Louisville"
                      ],
                      "xaxis": "x",
                      "y": {
                        "bdata": "AAAAAJKWKEE=",
                        "dtype": "f8"
                      },
                      "yaxis": "y"
                    },
                    {
                      "hovertemplate": "City=%{x}<br>Year-Month=2021-09<br>Total Sales=%{y}<extra></extra>",
                      "legendgroup": "Manchester",
                      "marker": {
                        "color": "#EF553B",
                        "pattern": {
                          "shape": ""
                        }
                      },
                      "name": "Manchester",
                      "orientation": "v",
                      "showlegend": true,
                      "textposition": "auto",
                      "type": "bar",
                      "x": [
                        "Manchester"
                      ],
                      "xaxis": "x",
                      "y": {
                        "bdata": "AAAAAPNKM0E=",
                        "dtype": "f8"
                      },
                      "yaxis": "y"
                    },
                    {
                      "hovertemplate": "City=%{x}<br>Year-Month=2021-09<br>Total Sales=%{y}<extra></extra>",
                      "legendgroup": "Milwaukee",
                      "marker": {
                        "color": "#00cc96",
                        "pattern": {
                          "shape": ""
                        }
                      },
                      "name": "Milwaukee",
                      "orientation": "v",
                      "showlegend": true,
                      "textposition": "auto",
                      "type": "bar",
                      "x": [
                        "Milwaukee"
                      ],
                      "xaxis": "x",
                      "y": {
                        "bdata": "AQAAACQtG0E=",
                        "dtype": "f8"
                      },
                      "yaxis": "y"
                    },
                    {
                      "hovertemplate": "City=%{x}<br>Year-Month=2021-09<br>Total Sales=%{y}<extra></extra>",
                      "legendgroup": "New Orleans",
                      "marker": {
                        "color": "#ab63fa",
                        "pattern": {
                          "shape": ""
                        }
                      },
                      "name": "New Orleans",
                      "orientation": "v",
                      "showlegend": true,
                      "textposition": "auto",
                      "type": "bar",
                      "x": [
                        "New Orleans"
                      ],
                      "xaxis": "x",
                      "y": {
                        "bdata": "AgAAAHTUL0E=",
                        "dtype": "f8"
                      },
                      "yaxis": "y"
                    },
                    {
                      "hovertemplate": "City=%{x}<br>Year-Month=2021-09<br>Total Sales=%{y}<extra></extra>",
                      "legendgroup": "Newark",
                      "marker": {
                        "color": "#FFA15A",
                        "pattern": {
                          "shape": ""
                        }
                      },
                      "name": "Newark",
                      "orientation": "v",
                      "showlegend": true,
                      "textposition": "auto",
                      "type": "bar",
                      "x": [
                        "Newark"
                      ],
                      "xaxis": "x",
                      "y": {
                        "bdata": "AAAAAMQDJkE=",
                        "dtype": "f8"
                      },
                      "yaxis": "y"
                    },
                    {
                      "hovertemplate": "City=%{x}<br>Year-Month=2021-09<br>Total Sales=%{y}<extra></extra>",
                      "legendgroup": "Oklahoma City",
                      "marker": {
                        "color": "#19d3f3",
                        "pattern": {
                          "shape": ""
                        }
                      },
                      "name": "Oklahoma City",
                      "orientation": "v",
                      "showlegend": true,
                      "textposition": "auto",
                      "type": "bar",
                      "x": [
                        "Oklahoma City"
                      ],
                      "xaxis": "x",
                      "y": {
                        "bdata": "AQAAAFrmJUE=",
                        "dtype": "f8"
                      },
                      "yaxis": "y"
                    },
                    {
                      "hovertemplate": "City=%{x}<br>Year-Month=2021-09<br>Total Sales=%{y}<extra></extra>",
                      "legendgroup": "Orlando",
                      "marker": {
                        "color": "#FF6692",
                        "pattern": {
                          "shape": ""
                        }
                      },
                      "name": "Orlando",
                      "orientation": "v",
                      "showlegend": true,
                      "textposition": "auto",
                      "type": "bar",
                      "x": [
                        "Orlando"
                      ],
                      "xaxis": "x",
                      "y": {
                        "bdata": "AQAAAGX6NEE=",
                        "dtype": "f8"
                      },
                      "yaxis": "y"
                    },
                    {
                      "hovertemplate": "City=%{x}<br>Year-Month=2021-09<br>Total Sales=%{y}<extra></extra>",
                      "legendgroup": "Phoenix",
                      "marker": {
                        "color": "#B6E880",
                        "pattern": {
                          "shape": ""
                        }
                      },
                      "name": "Phoenix",
                      "orientation": "v",
                      "showlegend": true,
                      "textposition": "auto",
                      "type": "bar",
                      "x": [
                        "Phoenix"
                      ],
                      "xaxis": "x",
                      "y": {
                        "bdata": "AQAAAGPuNUE=",
                        "dtype": "f8"
                      },
                      "yaxis": "y"
                    },
                    {
                      "hovertemplate": "City=%{x}<br>Year-Month=2021-09<br>Total Sales=%{y}<extra></extra>",
                      "legendgroup": "Portland",
                      "marker": {
                        "color": "#FF97FF",
                        "pattern": {
                          "shape": ""
                        }
                      },
                      "name": "Portland",
                      "orientation": "v",
                      "showlegend": true,
                      "textposition": "auto",
                      "type": "bar",
                      "x": [
                        "Portland"
                      ],
                      "xaxis": "x",
                      "y": {
                        "bdata": "AQAAAAxGMUE=",
                        "dtype": "f8"
                      },
                      "yaxis": "y"
                    },
                    {
                      "hovertemplate": "City=%{x}<br>Year-Month=2021-09<br>Total Sales=%{y}<extra></extra>",
                      "legendgroup": "Providence",
                      "marker": {
                        "color": "#FECB52",
                        "pattern": {
                          "shape": ""
                        }
                      },
                      "name": "Providence",
                      "orientation": "v",
                      "showlegend": true,
                      "textposition": "auto",
                      "type": "bar",
                      "x": [
                        "Providence"
                      ],
                      "xaxis": "x",
                      "y": {
                        "bdata": "AAAAAKQJIkE=",
                        "dtype": "f8"
                      },
                      "yaxis": "y"
                    },
                    {
                      "hovertemplate": "City=%{x}<br>Year-Month=2021-09<br>Total Sales=%{y}<extra></extra>",
                      "legendgroup": "Richmond",
                      "marker": {
                        "color": "#636efa",
                        "pattern": {
                          "shape": ""
                        }
                      },
                      "name": "Richmond",
                      "orientation": "v",
                      "showlegend": true,
                      "textposition": "auto",
                      "type": "bar",
                      "x": [
                        "Richmond"
                      ],
                      "xaxis": "x",
                      "y": {
                        "bdata": "AgAAAJA5LkE=",
                        "dtype": "f8"
                      },
                      "yaxis": "y"
                    },
                    {
                      "hovertemplate": "City=%{x}<br>Year-Month=2021-09<br>Total Sales=%{y}<extra></extra>",
                      "legendgroup": "Salt Lake City",
                      "marker": {
                        "color": "#EF553B",
                        "pattern": {
                          "shape": ""
                        }
                      },
                      "name": "Salt Lake City",
                      "orientation": "v",
                      "showlegend": true,
                      "textposition": "auto",
                      "type": "bar",
                      "x": [
                        "Salt Lake City"
                      ],
                      "xaxis": "x",
                      "y": {
                        "bdata": "AQAAANhUIUE=",
                        "dtype": "f8"
                      },
                      "yaxis": "y"
                    },
                    {
                      "hovertemplate": "City=%{x}<br>Year-Month=2021-09<br>Total Sales=%{y}<extra></extra>",
                      "legendgroup": "Sioux Falls",
                      "marker": {
                        "color": "#00cc96",
                        "pattern": {
                          "shape": ""
                        }
                      },
                      "name": "Sioux Falls",
                      "orientation": "v",
                      "showlegend": true,
                      "textposition": "auto",
                      "type": "bar",
                      "x": [
                        "Sioux Falls"
                      ],
                      "xaxis": "x",
                      "y": {
                        "bdata": "AAAAAExaI0E=",
                        "dtype": "f8"
                      },
                      "yaxis": "y"
                    },
                    {
                      "hovertemplate": "City=%{x}<br>Year-Month=2021-09<br>Total Sales=%{y}<extra></extra>",
                      "legendgroup": "St. Louis",
                      "marker": {
                        "color": "#ab63fa",
                        "pattern": {
                          "shape": ""
                        }
                      },
                      "name": "St. Louis",
                      "orientation": "v",
                      "showlegend": true,
                      "textposition": "auto",
                      "type": "bar",
                      "x": [
                        "St. Louis"
                      ],
                      "xaxis": "x",
                      "y": {
                        "bdata": "AQAAAKZ2IkE=",
                        "dtype": "f8"
                      },
                      "yaxis": "y"
                    },
                    {
                      "hovertemplate": "City=%{x}<br>Year-Month=2021-09<br>Total Sales=%{y}<extra></extra>",
                      "legendgroup": "Wichita",
                      "marker": {
                        "color": "#FFA15A",
                        "pattern": {
                          "shape": ""
                        }
                      },
                      "name": "Wichita",
                      "orientation": "v",
                      "showlegend": true,
                      "textposition": "auto",
                      "type": "bar",
                      "x": [
                        "Wichita"
                      ],
                      "xaxis": "x",
                      "y": {
                        "bdata": "AQAAADwQJEE=",
                        "dtype": "f8"
                      },
                      "yaxis": "y"
                    },
                    {
                      "hovertemplate": "City=%{x}<br>Year-Month=2021-09<br>Total Sales=%{y}<extra></extra>",
                      "legendgroup": "Wilmington",
                      "marker": {
                        "color": "#19d3f3",
                        "pattern": {
                          "shape": ""
                        }
                      },
                      "name": "Wilmington",
                      "orientation": "v",
                      "showlegend": true,
                      "textposition": "auto",
                      "type": "bar",
                      "x": [
                        "Wilmington"
                      ],
                      "xaxis": "x",
                      "y": {
                        "bdata": "AAAAAAwxLUE=",
                        "dtype": "f8"
                      },
                      "yaxis": "y"
                    },
                    {
                      "hovertemplate": "City=%{x}<br>Year-Month=2021-09<br>Total Sales=%{y}<extra></extra>",
                      "legendgroup": "Birmingham",
                      "marker": {
                        "color": "#636efa",
                        "pattern": {
                          "shape": ""
                        }
                      },
                      "name": "Birmingham",
                      "orientation": "v",
                      "showlegend": true,
                      "textposition": "auto",
                      "type": "bar",
                      "x": [
                        "Birmingham"
                      ],
                      "xaxis": "x",
                      "y": {
                        "bdata": "AAAAYKY0YUE=",
                        "dtype": "f8"
                      },
                      "yaxis": "y"
                    },
                    {
                      "hovertemplate": "City=%{x}<br>Year-Month=2021-09<br>Total Sales=%{y}<extra></extra>",
                      "legendgroup": "Dallas",
                      "marker": {
                        "color": "#EF553B",
                        "pattern": {
                          "shape": ""
                        }
                      },
                      "name": "Dallas",
                      "orientation": "v",
                      "showlegend": true,
                      "textposition": "auto",
                      "type": "bar",
                      "x": [
                        "Dallas"
                      ],
                      "xaxis": "x",
                      "y": {
                        "bdata": "AAAAgDRDY0E=",
                        "dtype": "f8"
                      },
                      "yaxis": "y"
                    }
                  ],
                  "name": "2021-09"
                },
                {
                  "data": [
                    {
                      "hovertemplate": "City=%{x}<br>Year-Month=2021-10<br>Total Sales=%{y}<extra></extra>",
                      "legendgroup": "Philadelphia",
                      "marker": {
                        "color": "#00cc96",
                        "pattern": {
                          "shape": ""
                        }
                      },
                      "name": "Philadelphia",
                      "orientation": "v",
                      "showlegend": true,
                      "textposition": "auto",
                      "type": "bar",
                      "x": [
                        "Philadelphia"
                      ],
                      "xaxis": "x",
                      "y": {
                        "bdata": "AAAAAOywIEE=",
                        "dtype": "f8"
                      },
                      "yaxis": "y"
                    },
                    {
                      "hovertemplate": "City=%{x}<br>Year-Month=2021-10<br>Total Sales=%{y}<extra></extra>",
                      "legendgroup": "Albany",
                      "marker": {
                        "color": "#FECB52",
                        "pattern": {
                          "shape": ""
                        }
                      },
                      "name": "Albany",
                      "orientation": "v",
                      "showlegend": true,
                      "textposition": "auto",
                      "type": "bar",
                      "x": [
                        "Albany"
                      ],
                      "xaxis": "x",
                      "y": {
                        "bdata": "AgAAALV0P0E=",
                        "dtype": "f8"
                      },
                      "yaxis": "y"
                    },
                    {
                      "hovertemplate": "City=%{x}<br>Year-Month=2021-10<br>Total Sales=%{y}<extra></extra>",
                      "legendgroup": "Albuquerque",
                      "marker": {
                        "color": "#636efa",
                        "pattern": {
                          "shape": ""
                        }
                      },
                      "name": "Albuquerque",
                      "orientation": "v",
                      "showlegend": true,
                      "textposition": "auto",
                      "type": "bar",
                      "x": [
                        "Albuquerque"
                      ],
                      "xaxis": "x",
                      "y": {
                        "bdata": "AgAAAOStNkE=",
                        "dtype": "f8"
                      },
                      "yaxis": "y"
                    },
                    {
                      "hovertemplate": "City=%{x}<br>Year-Month=2021-10<br>Total Sales=%{y}<extra></extra>",
                      "legendgroup": "Anchorage",
                      "marker": {
                        "color": "#EF553B",
                        "pattern": {
                          "shape": ""
                        }
                      },
                      "name": "Anchorage",
                      "orientation": "v",
                      "showlegend": true,
                      "textposition": "auto",
                      "type": "bar",
                      "x": [
                        "Anchorage"
                      ],
                      "xaxis": "x",
                      "y": {
                        "bdata": "AAAAAPM8MEE=",
                        "dtype": "f8"
                      },
                      "yaxis": "y"
                    },
                    {
                      "hovertemplate": "City=%{x}<br>Year-Month=2021-10<br>Total Sales=%{y}<extra></extra>",
                      "legendgroup": "Atlanta",
                      "marker": {
                        "color": "#00cc96",
                        "pattern": {
                          "shape": ""
                        }
                      },
                      "name": "Atlanta",
                      "orientation": "v",
                      "showlegend": true,
                      "textposition": "auto",
                      "type": "bar",
                      "x": [
                        "Atlanta"
                      ],
                      "xaxis": "x",
                      "y": {
                        "bdata": "AQAAANJqM0E=",
                        "dtype": "f8"
                      },
                      "yaxis": "y"
                    },
                    {
                      "hovertemplate": "City=%{x}<br>Year-Month=2021-10<br>Total Sales=%{y}<extra></extra>",
                      "legendgroup": "Baltimore",
                      "marker": {
                        "color": "#ab63fa",
                        "pattern": {
                          "shape": ""
                        }
                      },
                      "name": "Baltimore",
                      "orientation": "v",
                      "showlegend": true,
                      "textposition": "auto",
                      "type": "bar",
                      "x": [
                        "Baltimore"
                      ],
                      "xaxis": "x",
                      "y": {
                        "bdata": "AAAAAMDRIUE=",
                        "dtype": "f8"
                      },
                      "yaxis": "y"
                    },
                    {
                      "hovertemplate": "City=%{x}<br>Year-Month=2021-10<br>Total Sales=%{y}<extra></extra>",
                      "legendgroup": "Boise",
                      "marker": {
                        "color": "#19d3f3",
                        "pattern": {
                          "shape": ""
                        }
                      },
                      "name": "Boise",
                      "orientation": "v",
                      "showlegend": true,
                      "textposition": "auto",
                      "type": "bar",
                      "x": [
                        "Boise"
                      ],
                      "xaxis": "x",
                      "y": {
                        "bdata": "AAAAALCaM0E=",
                        "dtype": "f8"
                      },
                      "yaxis": "y"
                    },
                    {
                      "hovertemplate": "City=%{x}<br>Year-Month=2021-10<br>Total Sales=%{y}<extra></extra>",
                      "legendgroup": "Boston",
                      "marker": {
                        "color": "#FF6692",
                        "pattern": {
                          "shape": ""
                        }
                      },
                      "name": "Boston",
                      "orientation": "v",
                      "showlegend": true,
                      "textposition": "auto",
                      "type": "bar",
                      "x": [
                        "Boston"
                      ],
                      "xaxis": "x",
                      "y": {
                        "bdata": "AAAAAMi6JkE=",
                        "dtype": "f8"
                      },
                      "yaxis": "y"
                    },
                    {
                      "hovertemplate": "City=%{x}<br>Year-Month=2021-10<br>Total Sales=%{y}<extra></extra>",
                      "legendgroup": "Burlington",
                      "marker": {
                        "color": "#B6E880",
                        "pattern": {
                          "shape": ""
                        }
                      },
                      "name": "Burlington",
                      "orientation": "v",
                      "showlegend": true,
                      "textposition": "auto",
                      "type": "bar",
                      "x": [
                        "Burlington"
                      ],
                      "xaxis": "x",
                      "y": {
                        "bdata": "AAAAADP8MEE=",
                        "dtype": "f8"
                      },
                      "yaxis": "y"
                    },
                    {
                      "hovertemplate": "City=%{x}<br>Year-Month=2021-10<br>Total Sales=%{y}<extra></extra>",
                      "legendgroup": "Charleston",
                      "marker": {
                        "color": "#FF97FF",
                        "pattern": {
                          "shape": ""
                        }
                      },
                      "name": "Charleston",
                      "orientation": "v",
                      "showlegend": true,
                      "textposition": "auto",
                      "type": "bar",
                      "x": [
                        "Charleston"
                      ],
                      "xaxis": "x",
                      "y": {
                        "bdata": "AQAAAN0ZR0E=",
                        "dtype": "f8"
                      },
                      "yaxis": "y"
                    },
                    {
                      "hovertemplate": "City=%{x}<br>Year-Month=2021-10<br>Total Sales=%{y}<extra></extra>",
                      "legendgroup": "Charlotte",
                      "marker": {
                        "color": "#FECB52",
                        "pattern": {
                          "shape": ""
                        }
                      },
                      "name": "Charlotte",
                      "orientation": "v",
                      "showlegend": true,
                      "textposition": "auto",
                      "type": "bar",
                      "x": [
                        "Charlotte"
                      ],
                      "xaxis": "x",
                      "y": {
                        "bdata": "AQAAAHBSOUE=",
                        "dtype": "f8"
                      },
                      "yaxis": "y"
                    },
                    {
                      "hovertemplate": "City=%{x}<br>Year-Month=2021-10<br>Total Sales=%{y}<extra></extra>",
                      "legendgroup": "Cheyenne",
                      "marker": {
                        "color": "#636efa",
                        "pattern": {
                          "shape": ""
                        }
                      },
                      "name": "Cheyenne",
                      "orientation": "v",
                      "showlegend": true,
                      "textposition": "auto",
                      "type": "bar",
                      "x": [
                        "Cheyenne"
                      ],
                      "xaxis": "x",
                      "y": {
                        "bdata": "AQAAAIF0O0E=",
                        "dtype": "f8"
                      },
                      "yaxis": "y"
                    },
                    {
                      "hovertemplate": "City=%{x}<br>Year-Month=2021-10<br>Total Sales=%{y}<extra></extra>",
                      "legendgroup": "Columbus",
                      "marker": {
                        "color": "#EF553B",
                        "pattern": {
                          "shape": ""
                        }
                      },
                      "name": "Columbus",
                      "orientation": "v",
                      "showlegend": true,
                      "textposition": "auto",
                      "type": "bar",
                      "x": [
                        "Columbus"
                      ],
                      "xaxis": "x",
                      "y": {
                        "bdata": "AQAAABLJMEE=",
                        "dtype": "f8"
                      },
                      "yaxis": "y"
                    },
                    {
                      "hovertemplate": "City=%{x}<br>Year-Month=2021-10<br>Total Sales=%{y}<extra></extra>",
                      "legendgroup": "Des Moines",
                      "marker": {
                        "color": "#00cc96",
                        "pattern": {
                          "shape": ""
                        }
                      },
                      "name": "Des Moines",
                      "orientation": "v",
                      "showlegend": true,
                      "textposition": "auto",
                      "type": "bar",
                      "x": [
                        "Des Moines"
                      ],
                      "xaxis": "x",
                      "y": {
                        "bdata": "AAAAADIVIUE=",
                        "dtype": "f8"
                      },
                      "yaxis": "y"
                    },
                    {
                      "hovertemplate": "City=%{x}<br>Year-Month=2021-10<br>Total Sales=%{y}<extra></extra>",
                      "legendgroup": "Detroit",
                      "marker": {
                        "color": "#ab63fa",
                        "pattern": {
                          "shape": ""
                        }
                      },
                      "name": "Detroit",
                      "orientation": "v",
                      "showlegend": true,
                      "textposition": "auto",
                      "type": "bar",
                      "x": [
                        "Detroit"
                      ],
                      "xaxis": "x",
                      "y": {
                        "bdata": "AgAAAI1QNkE=",
                        "dtype": "f8"
                      },
                      "yaxis": "y"
                    },
                    {
                      "hovertemplate": "City=%{x}<br>Year-Month=2021-10<br>Total Sales=%{y}<extra></extra>",
                      "legendgroup": "Fargo",
                      "marker": {
                        "color": "#FFA15A",
                        "pattern": {
                          "shape": ""
                        }
                      },
                      "name": "Fargo",
                      "orientation": "v",
                      "showlegend": true,
                      "textposition": "auto",
                      "type": "bar",
                      "x": [
                        "Fargo"
                      ],
                      "xaxis": "x",
                      "y": {
                        "bdata": "AAAAAGweI0E=",
                        "dtype": "f8"
                      },
                      "yaxis": "y"
                    },
                    {
                      "hovertemplate": "City=%{x}<br>Year-Month=2021-10<br>Total Sales=%{y}<extra></extra>",
                      "legendgroup": "Hartford",
                      "marker": {
                        "color": "#19d3f3",
                        "pattern": {
                          "shape": ""
                        }
                      },
                      "name": "Hartford",
                      "orientation": "v",
                      "showlegend": true,
                      "textposition": "auto",
                      "type": "bar",
                      "x": [
                        "Hartford"
                      ],
                      "xaxis": "x",
                      "y": {
                        "bdata": "AAAAAEZ+LEE=",
                        "dtype": "f8"
                      },
                      "yaxis": "y"
                    },
                    {
                      "hovertemplate": "City=%{x}<br>Year-Month=2021-10<br>Total Sales=%{y}<extra></extra>",
                      "legendgroup": "Honolulu",
                      "marker": {
                        "color": "#FF6692",
                        "pattern": {
                          "shape": ""
                        }
                      },
                      "name": "Honolulu",
                      "orientation": "v",
                      "showlegend": true,
                      "textposition": "auto",
                      "type": "bar",
                      "x": [
                        "Honolulu"
                      ],
                      "xaxis": "x",
                      "y": {
                        "bdata": "AAAAAODwM0E=",
                        "dtype": "f8"
                      },
                      "yaxis": "y"
                    },
                    {
                      "hovertemplate": "City=%{x}<br>Year-Month=2021-10<br>Total Sales=%{y}<extra></extra>",
                      "legendgroup": "Indianapolis",
                      "marker": {
                        "color": "#B6E880",
                        "pattern": {
                          "shape": ""
                        }
                      },
                      "name": "Indianapolis",
                      "orientation": "v",
                      "showlegend": true,
                      "textposition": "auto",
                      "type": "bar",
                      "x": [
                        "Indianapolis"
                      ],
                      "xaxis": "x",
                      "y": {
                        "bdata": "AAAAAEQVIkE=",
                        "dtype": "f8"
                      },
                      "yaxis": "y"
                    },
                    {
                      "hovertemplate": "City=%{x}<br>Year-Month=2021-10<br>Total Sales=%{y}<extra></extra>",
                      "legendgroup": "Jackson",
                      "marker": {
                        "color": "#FF97FF",
                        "pattern": {
                          "shape": ""
                        }
                      },
                      "name": "Jackson",
                      "orientation": "v",
                      "showlegend": true,
                      "textposition": "auto",
                      "type": "bar",
                      "x": [
                        "Jackson"
                      ],
                      "xaxis": "x",
                      "y": {
                        "bdata": "AgAAABycKkE=",
                        "dtype": "f8"
                      },
                      "yaxis": "y"
                    },
                    {
                      "hovertemplate": "City=%{x}<br>Year-Month=2021-10<br>Total Sales=%{y}<extra></extra>",
                      "legendgroup": "Little Rock",
                      "marker": {
                        "color": "#FECB52",
                        "pattern": {
                          "shape": ""
                        }
                      },
                      "name": "Little Rock",
                      "orientation": "v",
                      "showlegend": true,
                      "textposition": "auto",
                      "type": "bar",
                      "x": [
                        "Little Rock"
                      ],
                      "xaxis": "x",
                      "y": {
                        "bdata": "AgAAAGicIkE=",
                        "dtype": "f8"
                      },
                      "yaxis": "y"
                    },
                    {
                      "hovertemplate": "City=%{x}<br>Year-Month=2021-10<br>Total Sales=%{y}<extra></extra>",
                      "legendgroup": "Louisville",
                      "marker": {
                        "color": "#636efa",
                        "pattern": {
                          "shape": ""
                        }
                      },
                      "name": "Louisville",
                      "orientation": "v",
                      "showlegend": true,
                      "textposition": "auto",
                      "type": "bar",
                      "x": [
                        "Louisville"
                      ],
                      "xaxis": "x",
                      "y": {
                        "bdata": "AAAAAHyMJ0E=",
                        "dtype": "f8"
                      },
                      "yaxis": "y"
                    },
                    {
                      "hovertemplate": "City=%{x}<br>Year-Month=2021-10<br>Total Sales=%{y}<extra></extra>",
                      "legendgroup": "Manchester",
                      "marker": {
                        "color": "#EF553B",
                        "pattern": {
                          "shape": ""
                        }
                      },
                      "name": "Manchester",
                      "orientation": "v",
                      "showlegend": true,
                      "textposition": "auto",
                      "type": "bar",
                      "x": [
                        "Manchester"
                      ],
                      "xaxis": "x",
                      "y": {
                        "bdata": "AAAAAMZGMkE=",
                        "dtype": "f8"
                      },
                      "yaxis": "y"
                    },
                    {
                      "hovertemplate": "City=%{x}<br>Year-Month=2021-10<br>Total Sales=%{y}<extra></extra>",
                      "legendgroup": "Milwaukee",
                      "marker": {
                        "color": "#00cc96",
                        "pattern": {
                          "shape": ""
                        }
                      },
                      "name": "Milwaukee",
                      "orientation": "v",
                      "showlegend": true,
                      "textposition": "auto",
                      "type": "bar",
                      "x": [
                        "Milwaukee"
                      ],
                      "xaxis": "x",
                      "y": {
                        "bdata": "AAAAAGosIEE=",
                        "dtype": "f8"
                      },
                      "yaxis": "y"
                    },
                    {
                      "hovertemplate": "City=%{x}<br>Year-Month=2021-10<br>Total Sales=%{y}<extra></extra>",
                      "legendgroup": "New Orleans",
                      "marker": {
                        "color": "#ab63fa",
                        "pattern": {
                          "shape": ""
                        }
                      },
                      "name": "New Orleans",
                      "orientation": "v",
                      "showlegend": true,
                      "textposition": "auto",
                      "type": "bar",
                      "x": [
                        "New Orleans"
                      ],
                      "xaxis": "x",
                      "y": {
                        "bdata": "AQAAAHxyMkE=",
                        "dtype": "f8"
                      },
                      "yaxis": "y"
                    },
                    {
                      "hovertemplate": "City=%{x}<br>Year-Month=2021-10<br>Total Sales=%{y}<extra></extra>",
                      "legendgroup": "Newark",
                      "marker": {
                        "color": "#FFA15A",
                        "pattern": {
                          "shape": ""
                        }
                      },
                      "name": "Newark",
                      "orientation": "v",
                      "showlegend": true,
                      "textposition": "auto",
                      "type": "bar",
                      "x": [
                        "Newark"
                      ],
                      "xaxis": "x",
                      "y": {
                        "bdata": "AAAAADL6JkE=",
                        "dtype": "f8"
                      },
                      "yaxis": "y"
                    },
                    {
                      "hovertemplate": "City=%{x}<br>Year-Month=2021-10<br>Total Sales=%{y}<extra></extra>",
                      "legendgroup": "Oklahoma City",
                      "marker": {
                        "color": "#19d3f3",
                        "pattern": {
                          "shape": ""
                        }
                      },
                      "name": "Oklahoma City",
                      "orientation": "v",
                      "showlegend": true,
                      "textposition": "auto",
                      "type": "bar",
                      "x": [
                        "Oklahoma City"
                      ],
                      "xaxis": "x",
                      "y": {
                        "bdata": "AwAAAFgPHkE=",
                        "dtype": "f8"
                      },
                      "yaxis": "y"
                    },
                    {
                      "hovertemplate": "City=%{x}<br>Year-Month=2021-10<br>Total Sales=%{y}<extra></extra>",
                      "legendgroup": "Orlando",
                      "marker": {
                        "color": "#FF6692",
                        "pattern": {
                          "shape": ""
                        }
                      },
                      "name": "Orlando",
                      "orientation": "v",
                      "showlegend": true,
                      "textposition": "auto",
                      "type": "bar",
                      "x": [
                        "Orlando"
                      ],
                      "xaxis": "x",
                      "y": {
                        "bdata": "AAAAAK9xOEE=",
                        "dtype": "f8"
                      },
                      "yaxis": "y"
                    },
                    {
                      "hovertemplate": "City=%{x}<br>Year-Month=2021-10<br>Total Sales=%{y}<extra></extra>",
                      "legendgroup": "Phoenix",
                      "marker": {
                        "color": "#B6E880",
                        "pattern": {
                          "shape": ""
                        }
                      },
                      "name": "Phoenix",
                      "orientation": "v",
                      "showlegend": true,
                      "textposition": "auto",
                      "type": "bar",
                      "x": [
                        "Phoenix"
                      ],
                      "xaxis": "x",
                      "y": {
                        "bdata": "AQAAAPKtMUE=",
                        "dtype": "f8"
                      },
                      "yaxis": "y"
                    },
                    {
                      "hovertemplate": "City=%{x}<br>Year-Month=2021-10<br>Total Sales=%{y}<extra></extra>",
                      "legendgroup": "Portland",
                      "marker": {
                        "color": "#FF97FF",
                        "pattern": {
                          "shape": ""
                        }
                      },
                      "name": "Portland",
                      "orientation": "v",
                      "showlegend": true,
                      "textposition": "auto",
                      "type": "bar",
                      "x": [
                        "Portland"
                      ],
                      "xaxis": "x",
                      "y": {
                        "bdata": "AQAAgFGISUE=",
                        "dtype": "f8"
                      },
                      "yaxis": "y"
                    },
                    {
                      "hovertemplate": "City=%{x}<br>Year-Month=2021-10<br>Total Sales=%{y}<extra></extra>",
                      "legendgroup": "Providence",
                      "marker": {
                        "color": "#FECB52",
                        "pattern": {
                          "shape": ""
                        }
                      },
                      "name": "Providence",
                      "orientation": "v",
                      "showlegend": true,
                      "textposition": "auto",
                      "type": "bar",
                      "x": [
                        "Providence"
                      ],
                      "xaxis": "x",
                      "y": {
                        "bdata": "AAAAAN4yIkE=",
                        "dtype": "f8"
                      },
                      "yaxis": "y"
                    },
                    {
                      "hovertemplate": "City=%{x}<br>Year-Month=2021-10<br>Total Sales=%{y}<extra></extra>",
                      "legendgroup": "Richmond",
                      "marker": {
                        "color": "#636efa",
                        "pattern": {
                          "shape": ""
                        }
                      },
                      "name": "Richmond",
                      "orientation": "v",
                      "showlegend": true,
                      "textposition": "auto",
                      "type": "bar",
                      "x": [
                        "Richmond"
                      ],
                      "xaxis": "x",
                      "y": {
                        "bdata": "AQAAADwIMkE=",
                        "dtype": "f8"
                      },
                      "yaxis": "y"
                    },
                    {
                      "hovertemplate": "City=%{x}<br>Year-Month=2021-10<br>Total Sales=%{y}<extra></extra>",
                      "legendgroup": "Salt Lake City",
                      "marker": {
                        "color": "#EF553B",
                        "pattern": {
                          "shape": ""
                        }
                      },
                      "name": "Salt Lake City",
                      "orientation": "v",
                      "showlegend": true,
                      "textposition": "auto",
                      "type": "bar",
                      "x": [
                        "Salt Lake City"
                      ],
                      "xaxis": "x",
                      "y": {
                        "bdata": "AAAAAOjpIkE=",
                        "dtype": "f8"
                      },
                      "yaxis": "y"
                    },
                    {
                      "hovertemplate": "City=%{x}<br>Year-Month=2021-10<br>Total Sales=%{y}<extra></extra>",
                      "legendgroup": "Sioux Falls",
                      "marker": {
                        "color": "#00cc96",
                        "pattern": {
                          "shape": ""
                        }
                      },
                      "name": "Sioux Falls",
                      "orientation": "v",
                      "showlegend": true,
                      "textposition": "auto",
                      "type": "bar",
                      "x": [
                        "Sioux Falls"
                      ],
                      "xaxis": "x",
                      "y": {
                        "bdata": "AAAAAKYlJUE=",
                        "dtype": "f8"
                      },
                      "yaxis": "y"
                    },
                    {
                      "hovertemplate": "City=%{x}<br>Year-Month=2021-10<br>Total Sales=%{y}<extra></extra>",
                      "legendgroup": "St. Louis",
                      "marker": {
                        "color": "#ab63fa",
                        "pattern": {
                          "shape": ""
                        }
                      },
                      "name": "St. Louis",
                      "orientation": "v",
                      "showlegend": true,
                      "textposition": "auto",
                      "type": "bar",
                      "x": [
                        "St. Louis"
                      ],
                      "xaxis": "x",
                      "y": {
                        "bdata": "AAAAAJAKI0E=",
                        "dtype": "f8"
                      },
                      "yaxis": "y"
                    },
                    {
                      "hovertemplate": "City=%{x}<br>Year-Month=2021-10<br>Total Sales=%{y}<extra></extra>",
                      "legendgroup": "Wichita",
                      "marker": {
                        "color": "#FFA15A",
                        "pattern": {
                          "shape": ""
                        }
                      },
                      "name": "Wichita",
                      "orientation": "v",
                      "showlegend": true,
                      "textposition": "auto",
                      "type": "bar",
                      "x": [
                        "Wichita"
                      ],
                      "xaxis": "x",
                      "y": {
                        "bdata": "AwAAALwcG0E=",
                        "dtype": "f8"
                      },
                      "yaxis": "y"
                    },
                    {
                      "hovertemplate": "City=%{x}<br>Year-Month=2021-10<br>Total Sales=%{y}<extra></extra>",
                      "legendgroup": "Wilmington",
                      "marker": {
                        "color": "#19d3f3",
                        "pattern": {
                          "shape": ""
                        }
                      },
                      "name": "Wilmington",
                      "orientation": "v",
                      "showlegend": true,
                      "textposition": "auto",
                      "type": "bar",
                      "x": [
                        "Wilmington"
                      ],
                      "xaxis": "x",
                      "y": {
                        "bdata": "AAAAAGyoLkE=",
                        "dtype": "f8"
                      },
                      "yaxis": "y"
                    },
                    {
                      "hovertemplate": "City=%{x}<br>Year-Month=2021-10<br>Total Sales=%{y}<extra></extra>",
                      "legendgroup": "Birmingham",
                      "marker": {
                        "color": "#636efa",
                        "pattern": {
                          "shape": ""
                        }
                      },
                      "name": "Birmingham",
                      "orientation": "v",
                      "showlegend": true,
                      "textposition": "auto",
                      "type": "bar",
                      "x": [
                        "Birmingham"
                      ],
                      "xaxis": "x",
                      "y": {
                        "bdata": "AAAAQE+MUEE=",
                        "dtype": "f8"
                      },
                      "yaxis": "y"
                    },
                    {
                      "hovertemplate": "City=%{x}<br>Year-Month=2021-10<br>Total Sales=%{y}<extra></extra>",
                      "legendgroup": "Dallas",
                      "marker": {
                        "color": "#EF553B",
                        "pattern": {
                          "shape": ""
                        }
                      },
                      "name": "Dallas",
                      "orientation": "v",
                      "showlegend": true,
                      "textposition": "auto",
                      "type": "bar",
                      "x": [
                        "Dallas"
                      ],
                      "xaxis": "x",
                      "y": {
                        "bdata": "AAAAQAPFXUE=",
                        "dtype": "f8"
                      },
                      "yaxis": "y"
                    }
                  ],
                  "name": "2021-10"
                },
                {
                  "data": [
                    {
                      "hovertemplate": "City=%{x}<br>Year-Month=2021-11<br>Total Sales=%{y}<extra></extra>",
                      "legendgroup": "Philadelphia",
                      "marker": {
                        "color": "#00cc96",
                        "pattern": {
                          "shape": ""
                        }
                      },
                      "name": "Philadelphia",
                      "orientation": "v",
                      "showlegend": true,
                      "textposition": "auto",
                      "type": "bar",
                      "x": [
                        "Philadelphia"
                      ],
                      "xaxis": "x",
                      "y": {
                        "bdata": "AAAAgP6LTUE=",
                        "dtype": "f8"
                      },
                      "yaxis": "y"
                    },
                    {
                      "hovertemplate": "City=%{x}<br>Year-Month=2021-11<br>Total Sales=%{y}<extra></extra>",
                      "legendgroup": "Albany",
                      "marker": {
                        "color": "#FECB52",
                        "pattern": {
                          "shape": ""
                        }
                      },
                      "name": "Albany",
                      "orientation": "v",
                      "showlegend": true,
                      "textposition": "auto",
                      "type": "bar",
                      "x": [
                        "Albany"
                      ],
                      "xaxis": "x",
                      "y": {
                        "bdata": "AAAAgDS6QEE=",
                        "dtype": "f8"
                      },
                      "yaxis": "y"
                    },
                    {
                      "hovertemplate": "City=%{x}<br>Year-Month=2021-11<br>Total Sales=%{y}<extra></extra>",
                      "legendgroup": "Albuquerque",
                      "marker": {
                        "color": "#636efa",
                        "pattern": {
                          "shape": ""
                        }
                      },
                      "name": "Albuquerque",
                      "orientation": "v",
                      "showlegend": true,
                      "textposition": "auto",
                      "type": "bar",
                      "x": [
                        "Albuquerque"
                      ],
                      "xaxis": "x",
                      "y": {
                        "bdata": "AQAAAOIlPkE=",
                        "dtype": "f8"
                      },
                      "yaxis": "y"
                    },
                    {
                      "hovertemplate": "City=%{x}<br>Year-Month=2021-11<br>Total Sales=%{y}<extra></extra>",
                      "legendgroup": "Anchorage",
                      "marker": {
                        "color": "#EF553B",
                        "pattern": {
                          "shape": ""
                        }
                      },
                      "name": "Anchorage",
                      "orientation": "v",
                      "showlegend": true,
                      "textposition": "auto",
                      "type": "bar",
                      "x": [
                        "Anchorage"
                      ],
                      "xaxis": "x",
                      "y": {
                        "bdata": "AQAAALtINkE=",
                        "dtype": "f8"
                      },
                      "yaxis": "y"
                    },
                    {
                      "hovertemplate": "City=%{x}<br>Year-Month=2021-11<br>Total Sales=%{y}<extra></extra>",
                      "legendgroup": "Atlanta",
                      "marker": {
                        "color": "#00cc96",
                        "pattern": {
                          "shape": ""
                        }
                      },
                      "name": "Atlanta",
                      "orientation": "v",
                      "showlegend": true,
                      "textposition": "auto",
                      "type": "bar",
                      "x": [
                        "Atlanta"
                      ],
                      "xaxis": "x",
                      "y": {
                        "bdata": "AQAAAEFeOkE=",
                        "dtype": "f8"
                      },
                      "yaxis": "y"
                    },
                    {
                      "hovertemplate": "City=%{x}<br>Year-Month=2021-11<br>Total Sales=%{y}<extra></extra>",
                      "legendgroup": "Baltimore",
                      "marker": {
                        "color": "#ab63fa",
                        "pattern": {
                          "shape": ""
                        }
                      },
                      "name": "Baltimore",
                      "orientation": "v",
                      "showlegend": true,
                      "textposition": "auto",
                      "type": "bar",
                      "x": [
                        "Baltimore"
                      ],
                      "xaxis": "x",
                      "y": {
                        "bdata": "AAAAAF4+JUE=",
                        "dtype": "f8"
                      },
                      "yaxis": "y"
                    },
                    {
                      "hovertemplate": "City=%{x}<br>Year-Month=2021-11<br>Total Sales=%{y}<extra></extra>",
                      "legendgroup": "Boise",
                      "marker": {
                        "color": "#19d3f3",
                        "pattern": {
                          "shape": ""
                        }
                      },
                      "name": "Boise",
                      "orientation": "v",
                      "showlegend": true,
                      "textposition": "auto",
                      "type": "bar",
                      "x": [
                        "Boise"
                      ],
                      "xaxis": "x",
                      "y": {
                        "bdata": "AAAAADnpO0E=",
                        "dtype": "f8"
                      },
                      "yaxis": "y"
                    },
                    {
                      "hovertemplate": "City=%{x}<br>Year-Month=2021-11<br>Total Sales=%{y}<extra></extra>",
                      "legendgroup": "Boston",
                      "marker": {
                        "color": "#FF6692",
                        "pattern": {
                          "shape": ""
                        }
                      },
                      "name": "Boston",
                      "orientation": "v",
                      "showlegend": true,
                      "textposition": "auto",
                      "type": "bar",
                      "x": [
                        "Boston"
                      ],
                      "xaxis": "x",
                      "y": {
                        "bdata": "AAAAABIfMkE=",
                        "dtype": "f8"
                      },
                      "yaxis": "y"
                    },
                    {
                      "hovertemplate": "City=%{x}<br>Year-Month=2021-11<br>Total Sales=%{y}<extra></extra>",
                      "legendgroup": "Burlington",
                      "marker": {
                        "color": "#B6E880",
                        "pattern": {
                          "shape": ""
                        }
                      },
                      "name": "Burlington",
                      "orientation": "v",
                      "showlegend": true,
                      "textposition": "auto",
                      "type": "bar",
                      "x": [
                        "Burlington"
                      ],
                      "xaxis": "x",
                      "y": {
                        "bdata": "AAAAAM60NUE=",
                        "dtype": "f8"
                      },
                      "yaxis": "y"
                    },
                    {
                      "hovertemplate": "City=%{x}<br>Year-Month=2021-11<br>Total Sales=%{y}<extra></extra>",
                      "legendgroup": "Charleston",
                      "marker": {
                        "color": "#FF97FF",
                        "pattern": {
                          "shape": ""
                        }
                      },
                      "name": "Charleston",
                      "orientation": "v",
                      "showlegend": true,
                      "textposition": "auto",
                      "type": "bar",
                      "x": [
                        "Charleston"
                      ],
                      "xaxis": "x",
                      "y": {
                        "bdata": "AQAAAGYzTUE=",
                        "dtype": "f8"
                      },
                      "yaxis": "y"
                    },
                    {
                      "hovertemplate": "City=%{x}<br>Year-Month=2021-11<br>Total Sales=%{y}<extra></extra>",
                      "legendgroup": "Charlotte",
                      "marker": {
                        "color": "#FECB52",
                        "pattern": {
                          "shape": ""
                        }
                      },
                      "name": "Charlotte",
                      "orientation": "v",
                      "showlegend": true,
                      "textposition": "auto",
                      "type": "bar",
                      "x": [
                        "Charlotte"
                      ],
                      "xaxis": "x",
                      "y": {
                        "bdata": "AQAAgI6GQUE=",
                        "dtype": "f8"
                      },
                      "yaxis": "y"
                    },
                    {
                      "hovertemplate": "City=%{x}<br>Year-Month=2021-11<br>Total Sales=%{y}<extra></extra>",
                      "legendgroup": "Cheyenne",
                      "marker": {
                        "color": "#636efa",
                        "pattern": {
                          "shape": ""
                        }
                      },
                      "name": "Cheyenne",
                      "orientation": "v",
                      "showlegend": true,
                      "textposition": "auto",
                      "type": "bar",
                      "x": [
                        "Cheyenne"
                      ],
                      "xaxis": "x",
                      "y": {
                        "bdata": "AQAAAOo0O0E=",
                        "dtype": "f8"
                      },
                      "yaxis": "y"
                    },
                    {
                      "hovertemplate": "City=%{x}<br>Year-Month=2021-11<br>Total Sales=%{y}<extra></extra>",
                      "legendgroup": "Columbus",
                      "marker": {
                        "color": "#EF553B",
                        "pattern": {
                          "shape": ""
                        }
                      },
                      "name": "Columbus",
                      "orientation": "v",
                      "showlegend": true,
                      "textposition": "auto",
                      "type": "bar",
                      "x": [
                        "Columbus"
                      ],
                      "xaxis": "x",
                      "y": {
                        "bdata": "AgAAAL1UOkE=",
                        "dtype": "f8"
                      },
                      "yaxis": "y"
                    },
                    {
                      "hovertemplate": "City=%{x}<br>Year-Month=2021-11<br>Total Sales=%{y}<extra></extra>",
                      "legendgroup": "Des Moines",
                      "marker": {
                        "color": "#00cc96",
                        "pattern": {
                          "shape": ""
                        }
                      },
                      "name": "Des Moines",
                      "orientation": "v",
                      "showlegend": true,
                      "textposition": "auto",
                      "type": "bar",
                      "x": [
                        "Des Moines"
                      ],
                      "xaxis": "x",
                      "y": {
                        "bdata": "AAAAAJ4bJkE=",
                        "dtype": "f8"
                      },
                      "yaxis": "y"
                    },
                    {
                      "hovertemplate": "City=%{x}<br>Year-Month=2021-11<br>Total Sales=%{y}<extra></extra>",
                      "legendgroup": "Detroit",
                      "marker": {
                        "color": "#ab63fa",
                        "pattern": {
                          "shape": ""
                        }
                      },
                      "name": "Detroit",
                      "orientation": "v",
                      "showlegend": true,
                      "textposition": "auto",
                      "type": "bar",
                      "x": [
                        "Detroit"
                      ],
                      "xaxis": "x",
                      "y": {
                        "bdata": "AQAAAJvjOUE=",
                        "dtype": "f8"
                      },
                      "yaxis": "y"
                    },
                    {
                      "hovertemplate": "City=%{x}<br>Year-Month=2021-11<br>Total Sales=%{y}<extra></extra>",
                      "legendgroup": "Fargo",
                      "marker": {
                        "color": "#FFA15A",
                        "pattern": {
                          "shape": ""
                        }
                      },
                      "name": "Fargo",
                      "orientation": "v",
                      "showlegend": true,
                      "textposition": "auto",
                      "type": "bar",
                      "x": [
                        "Fargo"
                      ],
                      "xaxis": "x",
                      "y": {
                        "bdata": "AAAAAPjyJUE=",
                        "dtype": "f8"
                      },
                      "yaxis": "y"
                    },
                    {
                      "hovertemplate": "City=%{x}<br>Year-Month=2021-11<br>Total Sales=%{y}<extra></extra>",
                      "legendgroup": "Hartford",
                      "marker": {
                        "color": "#19d3f3",
                        "pattern": {
                          "shape": ""
                        }
                      },
                      "name": "Hartford",
                      "orientation": "v",
                      "showlegend": true,
                      "textposition": "auto",
                      "type": "bar",
                      "x": [
                        "Hartford"
                      ],
                      "xaxis": "x",
                      "y": {
                        "bdata": "AAAAANSdMkE=",
                        "dtype": "f8"
                      },
                      "yaxis": "y"
                    },
                    {
                      "hovertemplate": "City=%{x}<br>Year-Month=2021-11<br>Total Sales=%{y}<extra></extra>",
                      "legendgroup": "Honolulu",
                      "marker": {
                        "color": "#FF6692",
                        "pattern": {
                          "shape": ""
                        }
                      },
                      "name": "Honolulu",
                      "orientation": "v",
                      "showlegend": true,
                      "textposition": "auto",
                      "type": "bar",
                      "x": [
                        "Honolulu"
                      ],
                      "xaxis": "x",
                      "y": {
                        "bdata": "AQAAAO3vPUE=",
                        "dtype": "f8"
                      },
                      "yaxis": "y"
                    },
                    {
                      "hovertemplate": "City=%{x}<br>Year-Month=2021-11<br>Total Sales=%{y}<extra></extra>",
                      "legendgroup": "Indianapolis",
                      "marker": {
                        "color": "#B6E880",
                        "pattern": {
                          "shape": ""
                        }
                      },
                      "name": "Indianapolis",
                      "orientation": "v",
                      "showlegend": true,
                      "textposition": "auto",
                      "type": "bar",
                      "x": [
                        "Indianapolis"
                      ],
                      "xaxis": "x",
                      "y": {
                        "bdata": "/////9FcK0E=",
                        "dtype": "f8"
                      },
                      "yaxis": "y"
                    },
                    {
                      "hovertemplate": "City=%{x}<br>Year-Month=2021-11<br>Total Sales=%{y}<extra></extra>",
                      "legendgroup": "Jackson",
                      "marker": {
                        "color": "#FF97FF",
                        "pattern": {
                          "shape": ""
                        }
                      },
                      "name": "Jackson",
                      "orientation": "v",
                      "showlegend": true,
                      "textposition": "auto",
                      "type": "bar",
                      "x": [
                        "Jackson"
                      ],
                      "xaxis": "x",
                      "y": {
                        "bdata": "AgAAADUSNkE=",
                        "dtype": "f8"
                      },
                      "yaxis": "y"
                    },
                    {
                      "hovertemplate": "City=%{x}<br>Year-Month=2021-11<br>Total Sales=%{y}<extra></extra>",
                      "legendgroup": "Little Rock",
                      "marker": {
                        "color": "#FECB52",
                        "pattern": {
                          "shape": ""
                        }
                      },
                      "name": "Little Rock",
                      "orientation": "v",
                      "showlegend": true,
                      "textposition": "auto",
                      "type": "bar",
                      "x": [
                        "Little Rock"
                      ],
                      "xaxis": "x",
                      "y": {
                        "bdata": "AQAAAFZFMUE=",
                        "dtype": "f8"
                      },
                      "yaxis": "y"
                    },
                    {
                      "hovertemplate": "City=%{x}<br>Year-Month=2021-11<br>Total Sales=%{y}<extra></extra>",
                      "legendgroup": "Louisville",
                      "marker": {
                        "color": "#636efa",
                        "pattern": {
                          "shape": ""
                        }
                      },
                      "name": "Louisville",
                      "orientation": "v",
                      "showlegend": true,
                      "textposition": "auto",
                      "type": "bar",
                      "x": [
                        "Louisville"
                      ],
                      "xaxis": "x",
                      "y": {
                        "bdata": "AAAAAAw+KkE=",
                        "dtype": "f8"
                      },
                      "yaxis": "y"
                    },
                    {
                      "hovertemplate": "City=%{x}<br>Year-Month=2021-11<br>Total Sales=%{y}<extra></extra>",
                      "legendgroup": "Manchester",
                      "marker": {
                        "color": "#EF553B",
                        "pattern": {
                          "shape": ""
                        }
                      },
                      "name": "Manchester",
                      "orientation": "v",
                      "showlegend": true,
                      "textposition": "auto",
                      "type": "bar",
                      "x": [
                        "Manchester"
                      ],
                      "xaxis": "x",
                      "y": {
                        "bdata": "AQAAALiGOEE=",
                        "dtype": "f8"
                      },
                      "yaxis": "y"
                    },
                    {
                      "hovertemplate": "City=%{x}<br>Year-Month=2021-11<br>Total Sales=%{y}<extra></extra>",
                      "legendgroup": "Milwaukee",
                      "marker": {
                        "color": "#00cc96",
                        "pattern": {
                          "shape": ""
                        }
                      },
                      "name": "Milwaukee",
                      "orientation": "v",
                      "showlegend": true,
                      "textposition": "auto",
                      "type": "bar",
                      "x": [
                        "Milwaukee"
                      ],
                      "xaxis": "x",
                      "y": {
                        "bdata": "AAAAACLpJ0E=",
                        "dtype": "f8"
                      },
                      "yaxis": "y"
                    },
                    {
                      "hovertemplate": "City=%{x}<br>Year-Month=2021-11<br>Total Sales=%{y}<extra></extra>",
                      "legendgroup": "New Orleans",
                      "marker": {
                        "color": "#ab63fa",
                        "pattern": {
                          "shape": ""
                        }
                      },
                      "name": "New Orleans",
                      "orientation": "v",
                      "showlegend": true,
                      "textposition": "auto",
                      "type": "bar",
                      "x": [
                        "New Orleans"
                      ],
                      "xaxis": "x",
                      "y": {
                        "bdata": "AQAAADPtPUE=",
                        "dtype": "f8"
                      },
                      "yaxis": "y"
                    },
                    {
                      "hovertemplate": "City=%{x}<br>Year-Month=2021-11<br>Total Sales=%{y}<extra></extra>",
                      "legendgroup": "Newark",
                      "marker": {
                        "color": "#FFA15A",
                        "pattern": {
                          "shape": ""
                        }
                      },
                      "name": "Newark",
                      "orientation": "v",
                      "showlegend": true,
                      "textposition": "auto",
                      "type": "bar",
                      "x": [
                        "Newark"
                      ],
                      "xaxis": "x",
                      "y": {
                        "bdata": "AAAAAMLJLkE=",
                        "dtype": "f8"
                      },
                      "yaxis": "y"
                    },
                    {
                      "hovertemplate": "City=%{x}<br>Year-Month=2021-11<br>Total Sales=%{y}<extra></extra>",
                      "legendgroup": "Oklahoma City",
                      "marker": {
                        "color": "#19d3f3",
                        "pattern": {
                          "shape": ""
                        }
                      },
                      "name": "Oklahoma City",
                      "orientation": "v",
                      "showlegend": true,
                      "textposition": "auto",
                      "type": "bar",
                      "x": [
                        "Oklahoma City"
                      ],
                      "xaxis": "x",
                      "y": {
                        "bdata": "AgAAAFIgLEE=",
                        "dtype": "f8"
                      },
                      "yaxis": "y"
                    },
                    {
                      "hovertemplate": "City=%{x}<br>Year-Month=2021-11<br>Total Sales=%{y}<extra></extra>",
                      "legendgroup": "Orlando",
                      "marker": {
                        "color": "#FF6692",
                        "pattern": {
                          "shape": ""
                        }
                      },
                      "name": "Orlando",
                      "orientation": "v",
                      "showlegend": true,
                      "textposition": "auto",
                      "type": "bar",
                      "x": [
                        "Orlando"
                      ],
                      "xaxis": "x",
                      "y": {
                        "bdata": "AQAAgJiVQkE=",
                        "dtype": "f8"
                      },
                      "yaxis": "y"
                    },
                    {
                      "hovertemplate": "City=%{x}<br>Year-Month=2021-11<br>Total Sales=%{y}<extra></extra>",
                      "legendgroup": "Phoenix",
                      "marker": {
                        "color": "#B6E880",
                        "pattern": {
                          "shape": ""
                        }
                      },
                      "name": "Phoenix",
                      "orientation": "v",
                      "showlegend": true,
                      "textposition": "auto",
                      "type": "bar",
                      "x": [
                        "Phoenix"
                      ],
                      "xaxis": "x",
                      "y": {
                        "bdata": "AQAAAIa/M0E=",
                        "dtype": "f8"
                      },
                      "yaxis": "y"
                    },
                    {
                      "hovertemplate": "City=%{x}<br>Year-Month=2021-11<br>Total Sales=%{y}<extra></extra>",
                      "legendgroup": "Portland",
                      "marker": {
                        "color": "#FF97FF",
                        "pattern": {
                          "shape": ""
                        }
                      },
                      "name": "Portland",
                      "orientation": "v",
                      "showlegend": true,
                      "textposition": "auto",
                      "type": "bar",
                      "x": [
                        "Portland"
                      ],
                      "xaxis": "x",
                      "y": {
                        "bdata": "AAAAwPGSVEE=",
                        "dtype": "f8"
                      },
                      "yaxis": "y"
                    },
                    {
                      "hovertemplate": "City=%{x}<br>Year-Month=2021-11<br>Total Sales=%{y}<extra></extra>",
                      "legendgroup": "Providence",
                      "marker": {
                        "color": "#FECB52",
                        "pattern": {
                          "shape": ""
                        }
                      },
                      "name": "Providence",
                      "orientation": "v",
                      "showlegend": true,
                      "textposition": "auto",
                      "type": "bar",
                      "x": [
                        "Providence"
                      ],
                      "xaxis": "x",
                      "y": {
                        "bdata": "AAAAADwfKkE=",
                        "dtype": "f8"
                      },
                      "yaxis": "y"
                    },
                    {
                      "hovertemplate": "City=%{x}<br>Year-Month=2021-11<br>Total Sales=%{y}<extra></extra>",
                      "legendgroup": "Richmond",
                      "marker": {
                        "color": "#636efa",
                        "pattern": {
                          "shape": ""
                        }
                      },
                      "name": "Richmond",
                      "orientation": "v",
                      "showlegend": true,
                      "textposition": "auto",
                      "type": "bar",
                      "x": [
                        "Richmond"
                      ],
                      "xaxis": "x",
                      "y": {
                        "bdata": "AQAAADnZPEE=",
                        "dtype": "f8"
                      },
                      "yaxis": "y"
                    },
                    {
                      "hovertemplate": "City=%{x}<br>Year-Month=2021-11<br>Total Sales=%{y}<extra></extra>",
                      "legendgroup": "Salt Lake City",
                      "marker": {
                        "color": "#EF553B",
                        "pattern": {
                          "shape": ""
                        }
                      },
                      "name": "Salt Lake City",
                      "orientation": "v",
                      "showlegend": true,
                      "textposition": "auto",
                      "type": "bar",
                      "x": [
                        "Salt Lake City"
                      ],
                      "xaxis": "x",
                      "y": {
                        "bdata": "AAAAAFJxJ0E=",
                        "dtype": "f8"
                      },
                      "yaxis": "y"
                    },
                    {
                      "hovertemplate": "City=%{x}<br>Year-Month=2021-11<br>Total Sales=%{y}<extra></extra>",
                      "legendgroup": "Sioux Falls",
                      "marker": {
                        "color": "#00cc96",
                        "pattern": {
                          "shape": ""
                        }
                      },
                      "name": "Sioux Falls",
                      "orientation": "v",
                      "showlegend": true,
                      "textposition": "auto",
                      "type": "bar",
                      "x": [
                        "Sioux Falls"
                      ],
                      "xaxis": "x",
                      "y": {
                        "bdata": "AAAAAPyDJ0E=",
                        "dtype": "f8"
                      },
                      "yaxis": "y"
                    },
                    {
                      "hovertemplate": "City=%{x}<br>Year-Month=2021-11<br>Total Sales=%{y}<extra></extra>",
                      "legendgroup": "St. Louis",
                      "marker": {
                        "color": "#ab63fa",
                        "pattern": {
                          "shape": ""
                        }
                      },
                      "name": "St. Louis",
                      "orientation": "v",
                      "showlegend": true,
                      "textposition": "auto",
                      "type": "bar",
                      "x": [
                        "St. Louis"
                      ],
                      "xaxis": "x",
                      "y": {
                        "bdata": "AAAAAHaQJ0E=",
                        "dtype": "f8"
                      },
                      "yaxis": "y"
                    },
                    {
                      "hovertemplate": "City=%{x}<br>Year-Month=2021-11<br>Total Sales=%{y}<extra></extra>",
                      "legendgroup": "Wichita",
                      "marker": {
                        "color": "#FFA15A",
                        "pattern": {
                          "shape": ""
                        }
                      },
                      "name": "Wichita",
                      "orientation": "v",
                      "showlegend": true,
                      "textposition": "auto",
                      "type": "bar",
                      "x": [
                        "Wichita"
                      ],
                      "xaxis": "x",
                      "y": {
                        "bdata": "AgAAADJaKUE=",
                        "dtype": "f8"
                      },
                      "yaxis": "y"
                    },
                    {
                      "hovertemplate": "City=%{x}<br>Year-Month=2021-11<br>Total Sales=%{y}<extra></extra>",
                      "legendgroup": "Wilmington",
                      "marker": {
                        "color": "#19d3f3",
                        "pattern": {
                          "shape": ""
                        }
                      },
                      "name": "Wilmington",
                      "orientation": "v",
                      "showlegend": true,
                      "textposition": "auto",
                      "type": "bar",
                      "x": [
                        "Wilmington"
                      ],
                      "xaxis": "x",
                      "y": {
                        "bdata": "AAAAAE2dM0E=",
                        "dtype": "f8"
                      },
                      "yaxis": "y"
                    }
                  ],
                  "name": "2021-11"
                },
                {
                  "data": [
                    {
                      "hovertemplate": "City=%{x}<br>Year-Month=2021-12<br>Total Sales=%{y}<extra></extra>",
                      "legendgroup": "Philadelphia",
                      "marker": {
                        "color": "#00cc96",
                        "pattern": {
                          "shape": ""
                        }
                      },
                      "name": "Philadelphia",
                      "orientation": "v",
                      "showlegend": true,
                      "textposition": "auto",
                      "type": "bar",
                      "x": [
                        "Philadelphia"
                      ],
                      "xaxis": "x",
                      "y": {
                        "bdata": "AAAAgGgIU0E=",
                        "dtype": "f8"
                      },
                      "yaxis": "y"
                    },
                    {
                      "hovertemplate": "City=%{x}<br>Year-Month=2021-12<br>Total Sales=%{y}<extra></extra>",
                      "legendgroup": "Albany",
                      "marker": {
                        "color": "#FECB52",
                        "pattern": {
                          "shape": ""
                        }
                      },
                      "name": "Albany",
                      "orientation": "v",
                      "showlegend": true,
                      "textposition": "auto",
                      "type": "bar",
                      "x": [
                        "Albany"
                      ],
                      "xaxis": "x",
                      "y": {
                        "bdata": "AAAAAH4iQ0E=",
                        "dtype": "f8"
                      },
                      "yaxis": "y"
                    },
                    {
                      "hovertemplate": "City=%{x}<br>Year-Month=2021-12<br>Total Sales=%{y}<extra></extra>",
                      "legendgroup": "Albuquerque",
                      "marker": {
                        "color": "#636efa",
                        "pattern": {
                          "shape": ""
                        }
                      },
                      "name": "Albuquerque",
                      "orientation": "v",
                      "showlegend": true,
                      "textposition": "auto",
                      "type": "bar",
                      "x": [
                        "Albuquerque"
                      ],
                      "xaxis": "x",
                      "y": {
                        "bdata": "AQAAAA1XQUE=",
                        "dtype": "f8"
                      },
                      "yaxis": "y"
                    },
                    {
                      "hovertemplate": "City=%{x}<br>Year-Month=2021-12<br>Total Sales=%{y}<extra></extra>",
                      "legendgroup": "Anchorage",
                      "marker": {
                        "color": "#EF553B",
                        "pattern": {
                          "shape": ""
                        }
                      },
                      "name": "Anchorage",
                      "orientation": "v",
                      "showlegend": true,
                      "textposition": "auto",
                      "type": "bar",
                      "x": [
                        "Anchorage"
                      ],
                      "xaxis": "x",
                      "y": {
                        "bdata": "AQAAACw9JkE=",
                        "dtype": "f8"
                      },
                      "yaxis": "y"
                    },
                    {
                      "hovertemplate": "City=%{x}<br>Year-Month=2021-12<br>Total Sales=%{y}<extra></extra>",
                      "legendgroup": "Atlanta",
                      "marker": {
                        "color": "#00cc96",
                        "pattern": {
                          "shape": ""
                        }
                      },
                      "name": "Atlanta",
                      "orientation": "v",
                      "showlegend": true,
                      "textposition": "auto",
                      "type": "bar",
                      "x": [
                        "Atlanta"
                      ],
                      "xaxis": "x",
                      "y": {
                        "bdata": "AQAAAJ+IPkE=",
                        "dtype": "f8"
                      },
                      "yaxis": "y"
                    },
                    {
                      "hovertemplate": "City=%{x}<br>Year-Month=2021-12<br>Total Sales=%{y}<extra></extra>",
                      "legendgroup": "Baltimore",
                      "marker": {
                        "color": "#ab63fa",
                        "pattern": {
                          "shape": ""
                        }
                      },
                      "name": "Baltimore",
                      "orientation": "v",
                      "showlegend": true,
                      "textposition": "auto",
                      "type": "bar",
                      "x": [
                        "Baltimore"
                      ],
                      "xaxis": "x",
                      "y": {
                        "bdata": "AAAAAHJ+K0E=",
                        "dtype": "f8"
                      },
                      "yaxis": "y"
                    },
                    {
                      "hovertemplate": "City=%{x}<br>Year-Month=2021-12<br>Total Sales=%{y}<extra></extra>",
                      "legendgroup": "Boise",
                      "marker": {
                        "color": "#19d3f3",
                        "pattern": {
                          "shape": ""
                        }
                      },
                      "name": "Boise",
                      "orientation": "v",
                      "showlegend": true,
                      "textposition": "auto",
                      "type": "bar",
                      "x": [
                        "Boise"
                      ],
                      "xaxis": "x",
                      "y": {
                        "bdata": "AAAAgM92QkE=",
                        "dtype": "f8"
                      },
                      "yaxis": "y"
                    },
                    {
                      "hovertemplate": "City=%{x}<br>Year-Month=2021-12<br>Total Sales=%{y}<extra></extra>",
                      "legendgroup": "Boston",
                      "marker": {
                        "color": "#FF6692",
                        "pattern": {
                          "shape": ""
                        }
                      },
                      "name": "Boston",
                      "orientation": "v",
                      "showlegend": true,
                      "textposition": "auto",
                      "type": "bar",
                      "x": [
                        "Boston"
                      ],
                      "xaxis": "x",
                      "y": {
                        "bdata": "AAAAAFGdNkE=",
                        "dtype": "f8"
                      },
                      "yaxis": "y"
                    },
                    {
                      "hovertemplate": "City=%{x}<br>Year-Month=2021-12<br>Total Sales=%{y}<extra></extra>",
                      "legendgroup": "Burlington",
                      "marker": {
                        "color": "#B6E880",
                        "pattern": {
                          "shape": ""
                        }
                      },
                      "name": "Burlington",
                      "orientation": "v",
                      "showlegend": true,
                      "textposition": "auto",
                      "type": "bar",
                      "x": [
                        "Burlington"
                      ],
                      "xaxis": "x",
                      "y": {
                        "bdata": "AAAAAMAAOkE=",
                        "dtype": "f8"
                      },
                      "yaxis": "y"
                    },
                    {
                      "hovertemplate": "City=%{x}<br>Year-Month=2021-12<br>Total Sales=%{y}<extra></extra>",
                      "legendgroup": "Charleston",
                      "marker": {
                        "color": "#FF97FF",
                        "pattern": {
                          "shape": ""
                        }
                      },
                      "name": "Charleston",
                      "orientation": "v",
                      "showlegend": true,
                      "textposition": "auto",
                      "type": "bar",
                      "x": [
                        "Charleston"
                      ],
                      "xaxis": "x",
                      "y": {
                        "bdata": "AAAAwELMU0E=",
                        "dtype": "f8"
                      },
                      "yaxis": "y"
                    },
                    {
                      "hovertemplate": "City=%{x}<br>Year-Month=2021-12<br>Total Sales=%{y}<extra></extra>",
                      "legendgroup": "Charlotte",
                      "marker": {
                        "color": "#FECB52",
                        "pattern": {
                          "shape": ""
                        }
                      },
                      "name": "Charlotte",
                      "orientation": "v",
                      "showlegend": true,
                      "textposition": "auto",
                      "type": "bar",
                      "x": [
                        "Charlotte"
                      ],
                      "xaxis": "x",
                      "y": {
                        "bdata": "AAAAAGTIR0E=",
                        "dtype": "f8"
                      },
                      "yaxis": "y"
                    },
                    {
                      "hovertemplate": "City=%{x}<br>Year-Month=2021-12<br>Total Sales=%{y}<extra></extra>",
                      "legendgroup": "Cheyenne",
                      "marker": {
                        "color": "#636efa",
                        "pattern": {
                          "shape": ""
                        }
                      },
                      "name": "Cheyenne",
                      "orientation": "v",
                      "showlegend": true,
                      "textposition": "auto",
                      "type": "bar",
                      "x": [
                        "Cheyenne"
                      ],
                      "xaxis": "x",
                      "y": {
                        "bdata": "AQAAADJ+PEE=",
                        "dtype": "f8"
                      },
                      "yaxis": "y"
                    },
                    {
                      "hovertemplate": "City=%{x}<br>Year-Month=2021-12<br>Total Sales=%{y}<extra></extra>",
                      "legendgroup": "Columbus",
                      "marker": {
                        "color": "#EF553B",
                        "pattern": {
                          "shape": ""
                        }
                      },
                      "name": "Columbus",
                      "orientation": "v",
                      "showlegend": true,
                      "textposition": "auto",
                      "type": "bar",
                      "x": [
                        "Columbus"
                      ],
                      "xaxis": "x",
                      "y": {
                        "bdata": "AQAAAOKaREE=",
                        "dtype": "f8"
                      },
                      "yaxis": "y"
                    },
                    {
                      "hovertemplate": "City=%{x}<br>Year-Month=2021-12<br>Total Sales=%{y}<extra></extra>",
                      "legendgroup": "Des Moines",
                      "marker": {
                        "color": "#00cc96",
                        "pattern": {
                          "shape": ""
                        }
                      },
                      "name": "Des Moines",
                      "orientation": "v",
                      "showlegend": true,
                      "textposition": "auto",
                      "type": "bar",
                      "x": [
                        "Des Moines"
                      ],
                      "xaxis": "x",
                      "y": {
                        "bdata": "AAAAANjOMEE=",
                        "dtype": "f8"
                      },
                      "yaxis": "y"
                    },
                    {
                      "hovertemplate": "City=%{x}<br>Year-Month=2021-12<br>Total Sales=%{y}<extra></extra>",
                      "legendgroup": "Detroit",
                      "marker": {
                        "color": "#ab63fa",
                        "pattern": {
                          "shape": ""
                        }
                      },
                      "name": "Detroit",
                      "orientation": "v",
                      "showlegend": true,
                      "textposition": "auto",
                      "type": "bar",
                      "x": [
                        "Detroit"
                      ],
                      "xaxis": "x",
                      "y": {
                        "bdata": "AAAAgKvpQEE=",
                        "dtype": "f8"
                      },
                      "yaxis": "y"
                    },
                    {
                      "hovertemplate": "City=%{x}<br>Year-Month=2021-12<br>Total Sales=%{y}<extra></extra>",
                      "legendgroup": "Fargo",
                      "marker": {
                        "color": "#FFA15A",
                        "pattern": {
                          "shape": ""
                        }
                      },
                      "name": "Fargo",
                      "orientation": "v",
                      "showlegend": true,
                      "textposition": "auto",
                      "type": "bar",
                      "x": [
                        "Fargo"
                      ],
                      "xaxis": "x",
                      "y": {
                        "bdata": "AAAAANj/LkE=",
                        "dtype": "f8"
                      },
                      "yaxis": "y"
                    },
                    {
                      "hovertemplate": "City=%{x}<br>Year-Month=2021-12<br>Total Sales=%{y}<extra></extra>",
                      "legendgroup": "Hartford",
                      "marker": {
                        "color": "#19d3f3",
                        "pattern": {
                          "shape": ""
                        }
                      },
                      "name": "Hartford",
                      "orientation": "v",
                      "showlegend": true,
                      "textposition": "auto",
                      "type": "bar",
                      "x": [
                        "Hartford"
                      ],
                      "xaxis": "x",
                      "y": {
                        "bdata": "AAAAAMKSNkE=",
                        "dtype": "f8"
                      },
                      "yaxis": "y"
                    },
                    {
                      "hovertemplate": "City=%{x}<br>Year-Month=2021-12<br>Total Sales=%{y}<extra></extra>",
                      "legendgroup": "Honolulu",
                      "marker": {
                        "color": "#FF6692",
                        "pattern": {
                          "shape": ""
                        }
                      },
                      "name": "Honolulu",
                      "orientation": "v",
                      "showlegend": true,
                      "textposition": "auto",
                      "type": "bar",
                      "x": [
                        "Honolulu"
                      ],
                      "xaxis": "x",
                      "y": {
                        "bdata": "AQAAgIjpRUE=",
                        "dtype": "f8"
                      },
                      "yaxis": "y"
                    },
                    {
                      "hovertemplate": "City=%{x}<br>Year-Month=2021-12<br>Total Sales=%{y}<extra></extra>",
                      "legendgroup": "Indianapolis",
                      "marker": {
                        "color": "#B6E880",
                        "pattern": {
                          "shape": ""
                        }
                      },
                      "name": "Indianapolis",
                      "orientation": "v",
                      "showlegend": true,
                      "textposition": "auto",
                      "type": "bar",
                      "x": [
                        "Indianapolis"
                      ],
                      "xaxis": "x",
                      "y": {
                        "bdata": "AAAAAJzANEE=",
                        "dtype": "f8"
                      },
                      "yaxis": "y"
                    },
                    {
                      "hovertemplate": "City=%{x}<br>Year-Month=2021-12<br>Total Sales=%{y}<extra></extra>",
                      "legendgroup": "Jackson",
                      "marker": {
                        "color": "#FF97FF",
                        "pattern": {
                          "shape": ""
                        }
                      },
                      "name": "Jackson",
                      "orientation": "v",
                      "showlegend": true,
                      "textposition": "auto",
                      "type": "bar",
                      "x": [
                        "Jackson"
                      ],
                      "xaxis": "x",
                      "y": {
                        "bdata": "AAAAAFL/QUE=",
                        "dtype": "f8"
                      },
                      "yaxis": "y"
                    },
                    {
                      "hovertemplate": "City=%{x}<br>Year-Month=2021-12<br>Total Sales=%{y}<extra></extra>",
                      "legendgroup": "Little Rock",
                      "marker": {
                        "color": "#FECB52",
                        "pattern": {
                          "shape": ""
                        }
                      },
                      "name": "Little Rock",
                      "orientation": "v",
                      "showlegend": true,
                      "textposition": "auto",
                      "type": "bar",
                      "x": [
                        "Little Rock"
                      ],
                      "xaxis": "x",
                      "y": {
                        "bdata": "AAAAAOBbP0E=",
                        "dtype": "f8"
                      },
                      "yaxis": "y"
                    },
                    {
                      "hovertemplate": "City=%{x}<br>Year-Month=2021-12<br>Total Sales=%{y}<extra></extra>",
                      "legendgroup": "Louisville",
                      "marker": {
                        "color": "#636efa",
                        "pattern": {
                          "shape": ""
                        }
                      },
                      "name": "Louisville",
                      "orientation": "v",
                      "showlegend": true,
                      "textposition": "auto",
                      "type": "bar",
                      "x": [
                        "Louisville"
                      ],
                      "xaxis": "x",
                      "y": {
                        "bdata": "AAAAAPy4MUE=",
                        "dtype": "f8"
                      },
                      "yaxis": "y"
                    },
                    {
                      "hovertemplate": "City=%{x}<br>Year-Month=2021-12<br>Total Sales=%{y}<extra></extra>",
                      "legendgroup": "Manchester",
                      "marker": {
                        "color": "#EF553B",
                        "pattern": {
                          "shape": ""
                        }
                      },
                      "name": "Manchester",
                      "orientation": "v",
                      "showlegend": true,
                      "textposition": "auto",
                      "type": "bar",
                      "x": [
                        "Manchester"
                      ],
                      "xaxis": "x",
                      "y": {
                        "bdata": "AgAAAO6tPUE=",
                        "dtype": "f8"
                      },
                      "yaxis": "y"
                    },
                    {
                      "hovertemplate": "City=%{x}<br>Year-Month=2021-12<br>Total Sales=%{y}<extra></extra>",
                      "legendgroup": "Milwaukee",
                      "marker": {
                        "color": "#00cc96",
                        "pattern": {
                          "shape": ""
                        }
                      },
                      "name": "Milwaukee",
                      "orientation": "v",
                      "showlegend": true,
                      "textposition": "auto",
                      "type": "bar",
                      "x": [
                        "Milwaukee"
                      ],
                      "xaxis": "x",
                      "y": {
                        "bdata": "AAAAAModMkE=",
                        "dtype": "f8"
                      },
                      "yaxis": "y"
                    },
                    {
                      "hovertemplate": "City=%{x}<br>Year-Month=2021-12<br>Total Sales=%{y}<extra></extra>",
                      "legendgroup": "New Orleans",
                      "marker": {
                        "color": "#ab63fa",
                        "pattern": {
                          "shape": ""
                        }
                      },
                      "name": "New Orleans",
                      "orientation": "v",
                      "showlegend": true,
                      "textposition": "auto",
                      "type": "bar",
                      "x": [
                        "New Orleans"
                      ],
                      "xaxis": "x",
                      "y": {
                        "bdata": "AgAAgMLWSEE=",
                        "dtype": "f8"
                      },
                      "yaxis": "y"
                    },
                    {
                      "hovertemplate": "City=%{x}<br>Year-Month=2021-12<br>Total Sales=%{y}<extra></extra>",
                      "legendgroup": "Newark",
                      "marker": {
                        "color": "#FFA15A",
                        "pattern": {
                          "shape": ""
                        }
                      },
                      "name": "Newark",
                      "orientation": "v",
                      "showlegend": true,
                      "textposition": "auto",
                      "type": "bar",
                      "x": [
                        "Newark"
                      ],
                      "xaxis": "x",
                      "y": {
                        "bdata": "AAAAABYDM0E=",
                        "dtype": "f8"
                      },
                      "yaxis": "y"
                    },
                    {
                      "hovertemplate": "City=%{x}<br>Year-Month=2021-12<br>Total Sales=%{y}<extra></extra>",
                      "legendgroup": "Oklahoma City",
                      "marker": {
                        "color": "#19d3f3",
                        "pattern": {
                          "shape": ""
                        }
                      },
                      "name": "Oklahoma City",
                      "orientation": "v",
                      "showlegend": true,
                      "textposition": "auto",
                      "type": "bar",
                      "x": [
                        "Oklahoma City"
                      ],
                      "xaxis": "x",
                      "y": {
                        "bdata": "AAAAACuUOkE=",
                        "dtype": "f8"
                      },
                      "yaxis": "y"
                    },
                    {
                      "hovertemplate": "City=%{x}<br>Year-Month=2021-12<br>Total Sales=%{y}<extra></extra>",
                      "legendgroup": "Orlando",
                      "marker": {
                        "color": "#FF6692",
                        "pattern": {
                          "shape": ""
                        }
                      },
                      "name": "Orlando",
                      "orientation": "v",
                      "showlegend": true,
                      "textposition": "auto",
                      "type": "bar",
                      "x": [
                        "Orlando"
                      ],
                      "xaxis": "x",
                      "y": {
                        "bdata": "AQAAAD17SkE=",
                        "dtype": "f8"
                      },
                      "yaxis": "y"
                    },
                    {
                      "hovertemplate": "City=%{x}<br>Year-Month=2021-12<br>Total Sales=%{y}<extra></extra>",
                      "legendgroup": "Phoenix",
                      "marker": {
                        "color": "#B6E880",
                        "pattern": {
                          "shape": ""
                        }
                      },
                      "name": "Phoenix",
                      "orientation": "v",
                      "showlegend": true,
                      "textposition": "auto",
                      "type": "bar",
                      "x": [
                        "Phoenix"
                      ],
                      "xaxis": "x",
                      "y": {
                        "bdata": "AgAAAL4ON0E=",
                        "dtype": "f8"
                      },
                      "yaxis": "y"
                    },
                    {
                      "hovertemplate": "City=%{x}<br>Year-Month=2021-12<br>Total Sales=%{y}<extra></extra>",
                      "legendgroup": "Portland",
                      "marker": {
                        "color": "#FF97FF",
                        "pattern": {
                          "shape": ""
                        }
                      },
                      "name": "Portland",
                      "orientation": "v",
                      "showlegend": true,
                      "textposition": "auto",
                      "type": "bar",
                      "x": [
                        "Portland"
                      ],
                      "xaxis": "x",
                      "y": {
                        "bdata": "AAAAAFp3VUE=",
                        "dtype": "f8"
                      },
                      "yaxis": "y"
                    },
                    {
                      "hovertemplate": "City=%{x}<br>Year-Month=2021-12<br>Total Sales=%{y}<extra></extra>",
                      "legendgroup": "Providence",
                      "marker": {
                        "color": "#FECB52",
                        "pattern": {
                          "shape": ""
                        }
                      },
                      "name": "Providence",
                      "orientation": "v",
                      "showlegend": true,
                      "textposition": "auto",
                      "type": "bar",
                      "x": [
                        "Providence"
                      ],
                      "xaxis": "x",
                      "y": {
                        "bdata": "AAAAAFvEMEE=",
                        "dtype": "f8"
                      },
                      "yaxis": "y"
                    },
                    {
                      "hovertemplate": "City=%{x}<br>Year-Month=2021-12<br>Total Sales=%{y}<extra></extra>",
                      "legendgroup": "Richmond",
                      "marker": {
                        "color": "#636efa",
                        "pattern": {
                          "shape": ""
                        }
                      },
                      "name": "Richmond",
                      "orientation": "v",
                      "showlegend": true,
                      "textposition": "auto",
                      "type": "bar",
                      "x": [
                        "Richmond"
                      ],
                      "xaxis": "x",
                      "y": {
                        "bdata": "AQAAAI6NRUE=",
                        "dtype": "f8"
                      },
                      "yaxis": "y"
                    },
                    {
                      "hovertemplate": "City=%{x}<br>Year-Month=2021-12<br>Total Sales=%{y}<extra></extra>",
                      "legendgroup": "Salt Lake City",
                      "marker": {
                        "color": "#EF553B",
                        "pattern": {
                          "shape": ""
                        }
                      },
                      "name": "Salt Lake City",
                      "orientation": "v",
                      "showlegend": true,
                      "textposition": "auto",
                      "type": "bar",
                      "x": [
                        "Salt Lake City"
                      ],
                      "xaxis": "x",
                      "y": {
                        "bdata": "AAAAAPkgMUE=",
                        "dtype": "f8"
                      },
                      "yaxis": "y"
                    },
                    {
                      "hovertemplate": "City=%{x}<br>Year-Month=2021-12<br>Total Sales=%{y}<extra></extra>",
                      "legendgroup": "Sioux Falls",
                      "marker": {
                        "color": "#00cc96",
                        "pattern": {
                          "shape": ""
                        }
                      },
                      "name": "Sioux Falls",
                      "orientation": "v",
                      "showlegend": true,
                      "textposition": "auto",
                      "type": "bar",
                      "x": [
                        "Sioux Falls"
                      ],
                      "xaxis": "x",
                      "y": {
                        "bdata": "AAAAAMz2LkE=",
                        "dtype": "f8"
                      },
                      "yaxis": "y"
                    },
                    {
                      "hovertemplate": "City=%{x}<br>Year-Month=2021-12<br>Total Sales=%{y}<extra></extra>",
                      "legendgroup": "St. Louis",
                      "marker": {
                        "color": "#ab63fa",
                        "pattern": {
                          "shape": ""
                        }
                      },
                      "name": "St. Louis",
                      "orientation": "v",
                      "showlegend": true,
                      "textposition": "auto",
                      "type": "bar",
                      "x": [
                        "St. Louis"
                      ],
                      "xaxis": "x",
                      "y": {
                        "bdata": "/////9QdMUE=",
                        "dtype": "f8"
                      },
                      "yaxis": "y"
                    },
                    {
                      "hovertemplate": "City=%{x}<br>Year-Month=2021-12<br>Total Sales=%{y}<extra></extra>",
                      "legendgroup": "Wichita",
                      "marker": {
                        "color": "#FFA15A",
                        "pattern": {
                          "shape": ""
                        }
                      },
                      "name": "Wichita",
                      "orientation": "v",
                      "showlegend": true,
                      "textposition": "auto",
                      "type": "bar",
                      "x": [
                        "Wichita"
                      ],
                      "xaxis": "x",
                      "y": {
                        "bdata": "AAAAAFhsOEE=",
                        "dtype": "f8"
                      },
                      "yaxis": "y"
                    },
                    {
                      "hovertemplate": "City=%{x}<br>Year-Month=2021-12<br>Total Sales=%{y}<extra></extra>",
                      "legendgroup": "Wilmington",
                      "marker": {
                        "color": "#19d3f3",
                        "pattern": {
                          "shape": ""
                        }
                      },
                      "name": "Wilmington",
                      "orientation": "v",
                      "showlegend": true,
                      "textposition": "auto",
                      "type": "bar",
                      "x": [
                        "Wilmington"
                      ],
                      "xaxis": "x",
                      "y": {
                        "bdata": "AAAAALyMN0E=",
                        "dtype": "f8"
                      },
                      "yaxis": "y"
                    }
                  ],
                  "name": "2021-12"
                }
              ],
              "layout": {
                "barmode": "relative",
                "legend": {
                  "title": {
                    "text": "City"
                  },
                  "tracegroupgap": 0
                },
                "sliders": [
                  {
                    "active": 0,
                    "currentvalue": {
                      "prefix": "Year-Month="
                    },
                    "len": 0.9,
                    "pad": {
                      "b": 10,
                      "t": 60
                    },
                    "steps": [
                      {
                        "args": [
                          [
                            "2020-01"
                          ],
                          {
                            "frame": {
                              "duration": 0,
                              "redraw": true
                            },
                            "fromcurrent": true,
                            "mode": "immediate",
                            "transition": {
                              "duration": 0,
                              "easing": "linear"
                            }
                          }
                        ],
                        "label": "2020-01",
                        "method": "animate"
                      },
                      {
                        "args": [
                          [
                            "2020-02"
                          ],
                          {
                            "frame": {
                              "duration": 0,
                              "redraw": true
                            },
                            "fromcurrent": true,
                            "mode": "immediate",
                            "transition": {
                              "duration": 0,
                              "easing": "linear"
                            }
                          }
                        ],
                        "label": "2020-02",
                        "method": "animate"
                      },
                      {
                        "args": [
                          [
                            "2020-03"
                          ],
                          {
                            "frame": {
                              "duration": 0,
                              "redraw": true
                            },
                            "fromcurrent": true,
                            "mode": "immediate",
                            "transition": {
                              "duration": 0,
                              "easing": "linear"
                            }
                          }
                        ],
                        "label": "2020-03",
                        "method": "animate"
                      },
                      {
                        "args": [
                          [
                            "2020-04"
                          ],
                          {
                            "frame": {
                              "duration": 0,
                              "redraw": true
                            },
                            "fromcurrent": true,
                            "mode": "immediate",
                            "transition": {
                              "duration": 0,
                              "easing": "linear"
                            }
                          }
                        ],
                        "label": "2020-04",
                        "method": "animate"
                      },
                      {
                        "args": [
                          [
                            "2020-05"
                          ],
                          {
                            "frame": {
                              "duration": 0,
                              "redraw": true
                            },
                            "fromcurrent": true,
                            "mode": "immediate",
                            "transition": {
                              "duration": 0,
                              "easing": "linear"
                            }
                          }
                        ],
                        "label": "2020-05",
                        "method": "animate"
                      },
                      {
                        "args": [
                          [
                            "2020-06"
                          ],
                          {
                            "frame": {
                              "duration": 0,
                              "redraw": true
                            },
                            "fromcurrent": true,
                            "mode": "immediate",
                            "transition": {
                              "duration": 0,
                              "easing": "linear"
                            }
                          }
                        ],
                        "label": "2020-06",
                        "method": "animate"
                      },
                      {
                        "args": [
                          [
                            "2020-07"
                          ],
                          {
                            "frame": {
                              "duration": 0,
                              "redraw": true
                            },
                            "fromcurrent": true,
                            "mode": "immediate",
                            "transition": {
                              "duration": 0,
                              "easing": "linear"
                            }
                          }
                        ],
                        "label": "2020-07",
                        "method": "animate"
                      },
                      {
                        "args": [
                          [
                            "2020-08"
                          ],
                          {
                            "frame": {
                              "duration": 0,
                              "redraw": true
                            },
                            "fromcurrent": true,
                            "mode": "immediate",
                            "transition": {
                              "duration": 0,
                              "easing": "linear"
                            }
                          }
                        ],
                        "label": "2020-08",
                        "method": "animate"
                      },
                      {
                        "args": [
                          [
                            "2020-09"
                          ],
                          {
                            "frame": {
                              "duration": 0,
                              "redraw": true
                            },
                            "fromcurrent": true,
                            "mode": "immediate",
                            "transition": {
                              "duration": 0,
                              "easing": "linear"
                            }
                          }
                        ],
                        "label": "2020-09",
                        "method": "animate"
                      },
                      {
                        "args": [
                          [
                            "2020-10"
                          ],
                          {
                            "frame": {
                              "duration": 0,
                              "redraw": true
                            },
                            "fromcurrent": true,
                            "mode": "immediate",
                            "transition": {
                              "duration": 0,
                              "easing": "linear"
                            }
                          }
                        ],
                        "label": "2020-10",
                        "method": "animate"
                      },
                      {
                        "args": [
                          [
                            "2020-11"
                          ],
                          {
                            "frame": {
                              "duration": 0,
                              "redraw": true
                            },
                            "fromcurrent": true,
                            "mode": "immediate",
                            "transition": {
                              "duration": 0,
                              "easing": "linear"
                            }
                          }
                        ],
                        "label": "2020-11",
                        "method": "animate"
                      },
                      {
                        "args": [
                          [
                            "2020-12"
                          ],
                          {
                            "frame": {
                              "duration": 0,
                              "redraw": true
                            },
                            "fromcurrent": true,
                            "mode": "immediate",
                            "transition": {
                              "duration": 0,
                              "easing": "linear"
                            }
                          }
                        ],
                        "label": "2020-12",
                        "method": "animate"
                      },
                      {
                        "args": [
                          [
                            "2021-01"
                          ],
                          {
                            "frame": {
                              "duration": 0,
                              "redraw": true
                            },
                            "fromcurrent": true,
                            "mode": "immediate",
                            "transition": {
                              "duration": 0,
                              "easing": "linear"
                            }
                          }
                        ],
                        "label": "2021-01",
                        "method": "animate"
                      },
                      {
                        "args": [
                          [
                            "2021-02"
                          ],
                          {
                            "frame": {
                              "duration": 0,
                              "redraw": true
                            },
                            "fromcurrent": true,
                            "mode": "immediate",
                            "transition": {
                              "duration": 0,
                              "easing": "linear"
                            }
                          }
                        ],
                        "label": "2021-02",
                        "method": "animate"
                      },
                      {
                        "args": [
                          [
                            "2021-03"
                          ],
                          {
                            "frame": {
                              "duration": 0,
                              "redraw": true
                            },
                            "fromcurrent": true,
                            "mode": "immediate",
                            "transition": {
                              "duration": 0,
                              "easing": "linear"
                            }
                          }
                        ],
                        "label": "2021-03",
                        "method": "animate"
                      },
                      {
                        "args": [
                          [
                            "2021-04"
                          ],
                          {
                            "frame": {
                              "duration": 0,
                              "redraw": true
                            },
                            "fromcurrent": true,
                            "mode": "immediate",
                            "transition": {
                              "duration": 0,
                              "easing": "linear"
                            }
                          }
                        ],
                        "label": "2021-04",
                        "method": "animate"
                      },
                      {
                        "args": [
                          [
                            "2021-05"
                          ],
                          {
                            "frame": {
                              "duration": 0,
                              "redraw": true
                            },
                            "fromcurrent": true,
                            "mode": "immediate",
                            "transition": {
                              "duration": 0,
                              "easing": "linear"
                            }
                          }
                        ],
                        "label": "2021-05",
                        "method": "animate"
                      },
                      {
                        "args": [
                          [
                            "2021-06"
                          ],
                          {
                            "frame": {
                              "duration": 0,
                              "redraw": true
                            },
                            "fromcurrent": true,
                            "mode": "immediate",
                            "transition": {
                              "duration": 0,
                              "easing": "linear"
                            }
                          }
                        ],
                        "label": "2021-06",
                        "method": "animate"
                      },
                      {
                        "args": [
                          [
                            "2021-07"
                          ],
                          {
                            "frame": {
                              "duration": 0,
                              "redraw": true
                            },
                            "fromcurrent": true,
                            "mode": "immediate",
                            "transition": {
                              "duration": 0,
                              "easing": "linear"
                            }
                          }
                        ],
                        "label": "2021-07",
                        "method": "animate"
                      },
                      {
                        "args": [
                          [
                            "2021-08"
                          ],
                          {
                            "frame": {
                              "duration": 0,
                              "redraw": true
                            },
                            "fromcurrent": true,
                            "mode": "immediate",
                            "transition": {
                              "duration": 0,
                              "easing": "linear"
                            }
                          }
                        ],
                        "label": "2021-08",
                        "method": "animate"
                      },
                      {
                        "args": [
                          [
                            "2021-09"
                          ],
                          {
                            "frame": {
                              "duration": 0,
                              "redraw": true
                            },
                            "fromcurrent": true,
                            "mode": "immediate",
                            "transition": {
                              "duration": 0,
                              "easing": "linear"
                            }
                          }
                        ],
                        "label": "2021-09",
                        "method": "animate"
                      },
                      {
                        "args": [
                          [
                            "2021-10"
                          ],
                          {
                            "frame": {
                              "duration": 0,
                              "redraw": true
                            },
                            "fromcurrent": true,
                            "mode": "immediate",
                            "transition": {
                              "duration": 0,
                              "easing": "linear"
                            }
                          }
                        ],
                        "label": "2021-10",
                        "method": "animate"
                      },
                      {
                        "args": [
                          [
                            "2021-11"
                          ],
                          {
                            "frame": {
                              "duration": 0,
                              "redraw": true
                            },
                            "fromcurrent": true,
                            "mode": "immediate",
                            "transition": {
                              "duration": 0,
                              "easing": "linear"
                            }
                          }
                        ],
                        "label": "2021-11",
                        "method": "animate"
                      },
                      {
                        "args": [
                          [
                            "2021-12"
                          ],
                          {
                            "frame": {
                              "duration": 0,
                              "redraw": true
                            },
                            "fromcurrent": true,
                            "mode": "immediate",
                            "transition": {
                              "duration": 0,
                              "easing": "linear"
                            }
                          }
                        ],
                        "label": "2021-12",
                        "method": "animate"
                      }
                    ],
                    "x": 0.1,
                    "xanchor": "left",
                    "y": 0,
                    "yanchor": "top"
                  }
                ],
                "template": {
                  "data": {
                    "bar": [
                      {
                        "error_x": {
                          "color": "#2a3f5f"
                        },
                        "error_y": {
                          "color": "#2a3f5f"
                        },
                        "marker": {
                          "line": {
                            "color": "#E5ECF6",
                            "width": 0.5
                          },
                          "pattern": {
                            "fillmode": "overlay",
                            "size": 10,
                            "solidity": 0.2
                          }
                        },
                        "type": "bar"
                      }
                    ],
                    "barpolar": [
                      {
                        "marker": {
                          "line": {
                            "color": "#E5ECF6",
                            "width": 0.5
                          },
                          "pattern": {
                            "fillmode": "overlay",
                            "size": 10,
                            "solidity": 0.2
                          }
                        },
                        "type": "barpolar"
                      }
                    ],
                    "carpet": [
                      {
                        "aaxis": {
                          "endlinecolor": "#2a3f5f",
                          "gridcolor": "white",
                          "linecolor": "white",
                          "minorgridcolor": "white",
                          "startlinecolor": "#2a3f5f"
                        },
                        "baxis": {
                          "endlinecolor": "#2a3f5f",
                          "gridcolor": "white",
                          "linecolor": "white",
                          "minorgridcolor": "white",
                          "startlinecolor": "#2a3f5f"
                        },
                        "type": "carpet"
                      }
                    ],
                    "choropleth": [
                      {
                        "colorbar": {
                          "outlinewidth": 0,
                          "ticks": ""
                        },
                        "type": "choropleth"
                      }
                    ],
                    "contour": [
                      {
                        "colorbar": {
                          "outlinewidth": 0,
                          "ticks": ""
                        },
                        "colorscale": [
                          [
                            0,
                            "#0d0887"
                          ],
                          [
                            0.1111111111111111,
                            "#46039f"
                          ],
                          [
                            0.2222222222222222,
                            "#7201a8"
                          ],
                          [
                            0.3333333333333333,
                            "#9c179e"
                          ],
                          [
                            0.4444444444444444,
                            "#bd3786"
                          ],
                          [
                            0.5555555555555556,
                            "#d8576b"
                          ],
                          [
                            0.6666666666666666,
                            "#ed7953"
                          ],
                          [
                            0.7777777777777778,
                            "#fb9f3a"
                          ],
                          [
                            0.8888888888888888,
                            "#fdca26"
                          ],
                          [
                            1,
                            "#f0f921"
                          ]
                        ],
                        "type": "contour"
                      }
                    ],
                    "contourcarpet": [
                      {
                        "colorbar": {
                          "outlinewidth": 0,
                          "ticks": ""
                        },
                        "type": "contourcarpet"
                      }
                    ],
                    "heatmap": [
                      {
                        "colorbar": {
                          "outlinewidth": 0,
                          "ticks": ""
                        },
                        "colorscale": [
                          [
                            0,
                            "#0d0887"
                          ],
                          [
                            0.1111111111111111,
                            "#46039f"
                          ],
                          [
                            0.2222222222222222,
                            "#7201a8"
                          ],
                          [
                            0.3333333333333333,
                            "#9c179e"
                          ],
                          [
                            0.4444444444444444,
                            "#bd3786"
                          ],
                          [
                            0.5555555555555556,
                            "#d8576b"
                          ],
                          [
                            0.6666666666666666,
                            "#ed7953"
                          ],
                          [
                            0.7777777777777778,
                            "#fb9f3a"
                          ],
                          [
                            0.8888888888888888,
                            "#fdca26"
                          ],
                          [
                            1,
                            "#f0f921"
                          ]
                        ],
                        "type": "heatmap"
                      }
                    ],
                    "histogram": [
                      {
                        "marker": {
                          "pattern": {
                            "fillmode": "overlay",
                            "size": 10,
                            "solidity": 0.2
                          }
                        },
                        "type": "histogram"
                      }
                    ],
                    "histogram2d": [
                      {
                        "colorbar": {
                          "outlinewidth": 0,
                          "ticks": ""
                        },
                        "colorscale": [
                          [
                            0,
                            "#0d0887"
                          ],
                          [
                            0.1111111111111111,
                            "#46039f"
                          ],
                          [
                            0.2222222222222222,
                            "#7201a8"
                          ],
                          [
                            0.3333333333333333,
                            "#9c179e"
                          ],
                          [
                            0.4444444444444444,
                            "#bd3786"
                          ],
                          [
                            0.5555555555555556,
                            "#d8576b"
                          ],
                          [
                            0.6666666666666666,
                            "#ed7953"
                          ],
                          [
                            0.7777777777777778,
                            "#fb9f3a"
                          ],
                          [
                            0.8888888888888888,
                            "#fdca26"
                          ],
                          [
                            1,
                            "#f0f921"
                          ]
                        ],
                        "type": "histogram2d"
                      }
                    ],
                    "histogram2dcontour": [
                      {
                        "colorbar": {
                          "outlinewidth": 0,
                          "ticks": ""
                        },
                        "colorscale": [
                          [
                            0,
                            "#0d0887"
                          ],
                          [
                            0.1111111111111111,
                            "#46039f"
                          ],
                          [
                            0.2222222222222222,
                            "#7201a8"
                          ],
                          [
                            0.3333333333333333,
                            "#9c179e"
                          ],
                          [
                            0.4444444444444444,
                            "#bd3786"
                          ],
                          [
                            0.5555555555555556,
                            "#d8576b"
                          ],
                          [
                            0.6666666666666666,
                            "#ed7953"
                          ],
                          [
                            0.7777777777777778,
                            "#fb9f3a"
                          ],
                          [
                            0.8888888888888888,
                            "#fdca26"
                          ],
                          [
                            1,
                            "#f0f921"
                          ]
                        ],
                        "type": "histogram2dcontour"
                      }
                    ],
                    "mesh3d": [
                      {
                        "colorbar": {
                          "outlinewidth": 0,
                          "ticks": ""
                        },
                        "type": "mesh3d"
                      }
                    ],
                    "parcoords": [
                      {
                        "line": {
                          "colorbar": {
                            "outlinewidth": 0,
                            "ticks": ""
                          }
                        },
                        "type": "parcoords"
                      }
                    ],
                    "pie": [
                      {
                        "automargin": true,
                        "type": "pie"
                      }
                    ],
                    "scatter": [
                      {
                        "fillpattern": {
                          "fillmode": "overlay",
                          "size": 10,
                          "solidity": 0.2
                        },
                        "type": "scatter"
                      }
                    ],
                    "scatter3d": [
                      {
                        "line": {
                          "colorbar": {
                            "outlinewidth": 0,
                            "ticks": ""
                          }
                        },
                        "marker": {
                          "colorbar": {
                            "outlinewidth": 0,
                            "ticks": ""
                          }
                        },
                        "type": "scatter3d"
                      }
                    ],
                    "scattercarpet": [
                      {
                        "marker": {
                          "colorbar": {
                            "outlinewidth": 0,
                            "ticks": ""
                          }
                        },
                        "type": "scattercarpet"
                      }
                    ],
                    "scattergeo": [
                      {
                        "marker": {
                          "colorbar": {
                            "outlinewidth": 0,
                            "ticks": ""
                          }
                        },
                        "type": "scattergeo"
                      }
                    ],
                    "scattergl": [
                      {
                        "marker": {
                          "colorbar": {
                            "outlinewidth": 0,
                            "ticks": ""
                          }
                        },
                        "type": "scattergl"
                      }
                    ],
                    "scattermap": [
                      {
                        "marker": {
                          "colorbar": {
                            "outlinewidth": 0,
                            "ticks": ""
                          }
                        },
                        "type": "scattermap"
                      }
                    ],
                    "scattermapbox": [
                      {
                        "marker": {
                          "colorbar": {
                            "outlinewidth": 0,
                            "ticks": ""
                          }
                        },
                        "type": "scattermapbox"
                      }
                    ],
                    "scatterpolar": [
                      {
                        "marker": {
                          "colorbar": {
                            "outlinewidth": 0,
                            "ticks": ""
                          }
                        },
                        "type": "scatterpolar"
                      }
                    ],
                    "scatterpolargl": [
                      {
                        "marker": {
                          "colorbar": {
                            "outlinewidth": 0,
                            "ticks": ""
                          }
                        },
                        "type": "scatterpolargl"
                      }
                    ],
                    "scatterternary": [
                      {
                        "marker": {
                          "colorbar": {
                            "outlinewidth": 0,
                            "ticks": ""
                          }
                        },
                        "type": "scatterternary"
                      }
                    ],
                    "surface": [
                      {
                        "colorbar": {
                          "outlinewidth": 0,
                          "ticks": ""
                        },
                        "colorscale": [
                          [
                            0,
                            "#0d0887"
                          ],
                          [
                            0.1111111111111111,
                            "#46039f"
                          ],
                          [
                            0.2222222222222222,
                            "#7201a8"
                          ],
                          [
                            0.3333333333333333,
                            "#9c179e"
                          ],
                          [
                            0.4444444444444444,
                            "#bd3786"
                          ],
                          [
                            0.5555555555555556,
                            "#d8576b"
                          ],
                          [
                            0.6666666666666666,
                            "#ed7953"
                          ],
                          [
                            0.7777777777777778,
                            "#fb9f3a"
                          ],
                          [
                            0.8888888888888888,
                            "#fdca26"
                          ],
                          [
                            1,
                            "#f0f921"
                          ]
                        ],
                        "type": "surface"
                      }
                    ],
                    "table": [
                      {
                        "cells": {
                          "fill": {
                            "color": "#EBF0F8"
                          },
                          "line": {
                            "color": "white"
                          }
                        },
                        "header": {
                          "fill": {
                            "color": "#C8D4E3"
                          },
                          "line": {
                            "color": "white"
                          }
                        },
                        "type": "table"
                      }
                    ]
                  },
                  "layout": {
                    "annotationdefaults": {
                      "arrowcolor": "#2a3f5f",
                      "arrowhead": 0,
                      "arrowwidth": 1
                    },
                    "autotypenumbers": "strict",
                    "coloraxis": {
                      "colorbar": {
                        "outlinewidth": 0,
                        "ticks": ""
                      }
                    },
                    "colorscale": {
                      "diverging": [
                        [
                          0,
                          "#8e0152"
                        ],
                        [
                          0.1,
                          "#c51b7d"
                        ],
                        [
                          0.2,
                          "#de77ae"
                        ],
                        [
                          0.3,
                          "#f1b6da"
                        ],
                        [
                          0.4,
                          "#fde0ef"
                        ],
                        [
                          0.5,
                          "#f7f7f7"
                        ],
                        [
                          0.6,
                          "#e6f5d0"
                        ],
                        [
                          0.7,
                          "#b8e186"
                        ],
                        [
                          0.8,
                          "#7fbc41"
                        ],
                        [
                          0.9,
                          "#4d9221"
                        ],
                        [
                          1,
                          "#276419"
                        ]
                      ],
                      "sequential": [
                        [
                          0,
                          "#0d0887"
                        ],
                        [
                          0.1111111111111111,
                          "#46039f"
                        ],
                        [
                          0.2222222222222222,
                          "#7201a8"
                        ],
                        [
                          0.3333333333333333,
                          "#9c179e"
                        ],
                        [
                          0.4444444444444444,
                          "#bd3786"
                        ],
                        [
                          0.5555555555555556,
                          "#d8576b"
                        ],
                        [
                          0.6666666666666666,
                          "#ed7953"
                        ],
                        [
                          0.7777777777777778,
                          "#fb9f3a"
                        ],
                        [
                          0.8888888888888888,
                          "#fdca26"
                        ],
                        [
                          1,
                          "#f0f921"
                        ]
                      ],
                      "sequentialminus": [
                        [
                          0,
                          "#0d0887"
                        ],
                        [
                          0.1111111111111111,
                          "#46039f"
                        ],
                        [
                          0.2222222222222222,
                          "#7201a8"
                        ],
                        [
                          0.3333333333333333,
                          "#9c179e"
                        ],
                        [
                          0.4444444444444444,
                          "#bd3786"
                        ],
                        [
                          0.5555555555555556,
                          "#d8576b"
                        ],
                        [
                          0.6666666666666666,
                          "#ed7953"
                        ],
                        [
                          0.7777777777777778,
                          "#fb9f3a"
                        ],
                        [
                          0.8888888888888888,
                          "#fdca26"
                        ],
                        [
                          1,
                          "#f0f921"
                        ]
                      ]
                    },
                    "colorway": [
                      "#636efa",
                      "#EF553B",
                      "#00cc96",
                      "#ab63fa",
                      "#FFA15A",
                      "#19d3f3",
                      "#FF6692",
                      "#B6E880",
                      "#FF97FF",
                      "#FECB52"
                    ],
                    "font": {
                      "color": "#2a3f5f"
                    },
                    "geo": {
                      "bgcolor": "white",
                      "lakecolor": "white",
                      "landcolor": "#E5ECF6",
                      "showlakes": true,
                      "showland": true,
                      "subunitcolor": "white"
                    },
                    "hoverlabel": {
                      "align": "left"
                    },
                    "hovermode": "closest",
                    "mapbox": {
                      "style": "light"
                    },
                    "paper_bgcolor": "white",
                    "plot_bgcolor": "#E5ECF6",
                    "polar": {
                      "angularaxis": {
                        "gridcolor": "white",
                        "linecolor": "white",
                        "ticks": ""
                      },
                      "bgcolor": "#E5ECF6",
                      "radialaxis": {
                        "gridcolor": "white",
                        "linecolor": "white",
                        "ticks": ""
                      }
                    },
                    "scene": {
                      "xaxis": {
                        "backgroundcolor": "#E5ECF6",
                        "gridcolor": "white",
                        "gridwidth": 2,
                        "linecolor": "white",
                        "showbackground": true,
                        "ticks": "",
                        "zerolinecolor": "white"
                      },
                      "yaxis": {
                        "backgroundcolor": "#E5ECF6",
                        "gridcolor": "white",
                        "gridwidth": 2,
                        "linecolor": "white",
                        "showbackground": true,
                        "ticks": "",
                        "zerolinecolor": "white"
                      },
                      "zaxis": {
                        "backgroundcolor": "#E5ECF6",
                        "gridcolor": "white",
                        "gridwidth": 2,
                        "linecolor": "white",
                        "showbackground": true,
                        "ticks": "",
                        "zerolinecolor": "white"
                      }
                    },
                    "shapedefaults": {
                      "line": {
                        "color": "#2a3f5f"
                      }
                    },
                    "ternary": {
                      "aaxis": {
                        "gridcolor": "white",
                        "linecolor": "white",
                        "ticks": ""
                      },
                      "baxis": {
                        "gridcolor": "white",
                        "linecolor": "white",
                        "ticks": ""
                      },
                      "bgcolor": "#E5ECF6",
                      "caxis": {
                        "gridcolor": "white",
                        "linecolor": "white",
                        "ticks": ""
                      }
                    },
                    "title": {
                      "x": 0.05
                    },
                    "xaxis": {
                      "automargin": true,
                      "gridcolor": "white",
                      "linecolor": "white",
                      "ticks": "",
                      "title": {
                        "standoff": 15
                      },
                      "zerolinecolor": "white",
                      "zerolinewidth": 2
                    },
                    "yaxis": {
                      "automargin": true,
                      "gridcolor": "white",
                      "linecolor": "white",
                      "ticks": "",
                      "title": {
                        "standoff": 15
                      },
                      "zerolinecolor": "white",
                      "zerolinewidth": 2
                    }
                  }
                },
                "title": {
                  "text": "Race Chart: Monthly Sales by City"
                },
                "updatemenus": [
                  {
                    "buttons": [
                      {
                        "args": [
                          null,
                          {
                            "frame": {
                              "duration": 500,
                              "redraw": true
                            },
                            "fromcurrent": true,
                            "mode": "immediate",
                            "transition": {
                              "duration": 500,
                              "easing": "linear"
                            }
                          }
                        ],
                        "label": "&#9654;",
                        "method": "animate"
                      },
                      {
                        "args": [
                          [
                            null
                          ],
                          {
                            "frame": {
                              "duration": 0,
                              "redraw": true
                            },
                            "fromcurrent": true,
                            "mode": "immediate",
                            "transition": {
                              "duration": 0,
                              "easing": "linear"
                            }
                          }
                        ],
                        "label": "&#9724;",
                        "method": "animate"
                      }
                    ],
                    "direction": "left",
                    "pad": {
                      "r": 10,
                      "t": 70
                    },
                    "showactive": false,
                    "type": "buttons",
                    "x": 0.1,
                    "xanchor": "right",
                    "y": 0,
                    "yanchor": "top"
                  }
                ],
                "xaxis": {
                  "anchor": "y",
                  "categoryarray": [
                    "Las Vegas",
                    "New York",
                    "Philadelphia",
                    "Denver",
                    "Miami",
                    "Seattle",
                    "Houston",
                    "Minneapolis",
                    "San Francisco",
                    "Albany",
                    "Albuquerque",
                    "Anchorage",
                    "Atlanta",
                    "Baltimore",
                    "Billings",
                    "Boise",
                    "Boston",
                    "Burlington",
                    "Charleston",
                    "Charlotte",
                    "Cheyenne",
                    "Columbus",
                    "Des Moines",
                    "Detroit",
                    "Fargo",
                    "Hartford",
                    "Honolulu",
                    "Indianapolis",
                    "Jackson",
                    "Little Rock",
                    "Louisville",
                    "Manchester",
                    "Milwaukee",
                    "New Orleans",
                    "Newark",
                    "Oklahoma City",
                    "Orlando",
                    "Phoenix",
                    "Portland",
                    "Providence",
                    "Richmond",
                    "Salt Lake City",
                    "Sioux Falls",
                    "St. Louis",
                    "Wichita",
                    "Wilmington",
                    "Knoxville",
                    "Los Angeles",
                    "Omaha",
                    "Chicago",
                    "Birmingham",
                    "Dallas"
                  ],
                  "categoryorder": "array",
                  "domain": [
                    0,
                    1
                  ],
                  "title": {
                    "text": "City"
                  }
                },
                "yaxis": {
                  "anchor": "x",
                  "domain": [
                    0,
                    1
                  ],
                  "range": [
                    0,
                    16865045
                  ],
                  "title": {
                    "text": "Total Sales"
                  }
                }
              }
            }
          },
          "metadata": {},
          "output_type": "display_data"
        }
      ],
      "source": [
        "#RACE CHART\n",
        "import plotly.express as px\n",
        "df[\"Year-Month\"] = df[\"Invoice Date\"].dt.to_period(\"M\").astype(str)\n",
        "monthly_city_sales = df.groupby([\"Year-Month\", \"City\"])[\"Total Sales\"].sum().reset_index()\n",
        "fig = px.bar(monthly_city_sales,\n",
        "x=\"City\", y=\"Total Sales\", color=\"City\",\n",
        "animation_frame=\"Year-Month\", range_y=[0, monthly_city_sales[\"Total Sales\"].max()],\n",
        "title=\"Race Chart: Monthly Sales by City\")\n",
        "fig.show()"
      ]
    },
    {
      "cell_type": "markdown",
      "metadata": {
        "id": "qeevXGH5RvZ7"
      },
      "source": [
        "# ***HEAT MAP***\n",
        "This code creates an interactive heatmap using Plotly Express to visualize total sales distribution across different states and products. First, the data is reshaped into a pivot table where rows represent states and columns represent products, with the cells containing the summed total sales. The pivoted data is then converted back into a long format suitable for plotting. The heatmap displays products along the x-axis and states along the y-axis, with color intensity representing the volume of total sales—the stronger the color (based on the \"Viridis\" scale), the higher the sales. Hovering over any cell reveals the exact total sales figure formatted without decimals, making it easy to compare sales performance across multiple state-product combinations. The product labels on the x-axis are tilted 45 degrees for better readability. This visualization offers a clear, at-a-glance understanding of which products perform best in which states.\n",
        "\n",
        "\n",
        "\n",
        "\n",
        "\n",
        "\n",
        "\n"
      ]
    },
    {
      "cell_type": "code",
      "execution_count": 14,
      "metadata": {
        "colab": {
          "base_uri": "https://localhost:8080/",
          "height": 542
        },
        "id": "KUZ9GUBIHRVt",
        "outputId": "b11aa385-822c-4d79-9bc4-667673133b01"
      },
      "outputs": [
        {
          "data": {
            "application/vnd.plotly.v1+json": {
              "config": {
                "plotlyServerURL": "https://plot.ly"
              },
              "data": [
                {
                  "coloraxis": "coloraxis",
                  "histfunc": "sum",
                  "hovertemplate": "Product=%{x}<br>State=%{y}<br>sum of Total Sales=%{z}<extra></extra>",
                  "name": "",
                  "type": "histogram2d",
                  "x": [
                    "Men's Apparel",
                    "Men's Apparel",
                    "Men's Apparel",
                    "Men's Apparel",
                    "Men's Apparel",
                    "Men's Apparel",
                    "Men's Apparel",
                    "Men's Apparel",
                    "Men's Apparel",
                    "Men's Apparel",
                    "Men's Apparel",
                    "Men's Apparel",
                    "Men's Apparel",
                    "Men's Apparel",
                    "Men's Apparel",
                    "Men's Apparel",
                    "Men's Apparel",
                    "Men's Apparel",
                    "Men's Apparel",
                    "Men's Apparel",
                    "Men's Apparel",
                    "Men's Apparel",
                    "Men's Apparel",
                    "Men's Apparel",
                    "Men's Apparel",
                    "Men's Apparel",
                    "Men's Apparel",
                    "Men's Apparel",
                    "Men's Apparel",
                    "Men's Apparel",
                    "Men's Apparel",
                    "Men's Apparel",
                    "Men's Apparel",
                    "Men's Apparel",
                    "Men's Apparel",
                    "Men's Apparel",
                    "Men's Apparel",
                    "Men's Apparel",
                    "Men's Apparel",
                    "Men's Apparel",
                    "Men's Apparel",
                    "Men's Apparel",
                    "Men's Apparel",
                    "Men's Apparel",
                    "Men's Apparel",
                    "Men's Apparel",
                    "Men's Apparel",
                    "Men's Apparel",
                    "Men's Apparel",
                    "Men's Apparel",
                    "Men's Athletic Footwear",
                    "Men's Athletic Footwear",
                    "Men's Athletic Footwear",
                    "Men's Athletic Footwear",
                    "Men's Athletic Footwear",
                    "Men's Athletic Footwear",
                    "Men's Athletic Footwear",
                    "Men's Athletic Footwear",
                    "Men's Athletic Footwear",
                    "Men's Athletic Footwear",
                    "Men's Athletic Footwear",
                    "Men's Athletic Footwear",
                    "Men's Athletic Footwear",
                    "Men's Athletic Footwear",
                    "Men's Athletic Footwear",
                    "Men's Athletic Footwear",
                    "Men's Athletic Footwear",
                    "Men's Athletic Footwear",
                    "Men's Athletic Footwear",
                    "Men's Athletic Footwear",
                    "Men's Athletic Footwear",
                    "Men's Athletic Footwear",
                    "Men's Athletic Footwear",
                    "Men's Athletic Footwear",
                    "Men's Athletic Footwear",
                    "Men's Athletic Footwear",
                    "Men's Athletic Footwear",
                    "Men's Athletic Footwear",
                    "Men's Athletic Footwear",
                    "Men's Athletic Footwear",
                    "Men's Athletic Footwear",
                    "Men's Athletic Footwear",
                    "Men's Athletic Footwear",
                    "Men's Athletic Footwear",
                    "Men's Athletic Footwear",
                    "Men's Athletic Footwear",
                    "Men's Athletic Footwear",
                    "Men's Athletic Footwear",
                    "Men's Athletic Footwear",
                    "Men's Athletic Footwear",
                    "Men's Athletic Footwear",
                    "Men's Athletic Footwear",
                    "Men's Athletic Footwear",
                    "Men's Athletic Footwear",
                    "Men's Athletic Footwear",
                    "Men's Athletic Footwear",
                    "Men's Athletic Footwear",
                    "Men's Athletic Footwear",
                    "Men's Athletic Footwear",
                    "Men's Athletic Footwear",
                    "Men's Street Footwear",
                    "Men's Street Footwear",
                    "Men's Street Footwear",
                    "Men's Street Footwear",
                    "Men's Street Footwear",
                    "Men's Street Footwear",
                    "Men's Street Footwear",
                    "Men's Street Footwear",
                    "Men's Street Footwear",
                    "Men's Street Footwear",
                    "Men's Street Footwear",
                    "Men's Street Footwear",
                    "Men's Street Footwear",
                    "Men's Street Footwear",
                    "Men's Street Footwear",
                    "Men's Street Footwear",
                    "Men's Street Footwear",
                    "Men's Street Footwear",
                    "Men's Street Footwear",
                    "Men's Street Footwear",
                    "Men's Street Footwear",
                    "Men's Street Footwear",
                    "Men's Street Footwear",
                    "Men's Street Footwear",
                    "Men's Street Footwear",
                    "Men's Street Footwear",
                    "Men's Street Footwear",
                    "Men's Street Footwear",
                    "Men's Street Footwear",
                    "Men's Street Footwear",
                    "Men's Street Footwear",
                    "Men's Street Footwear",
                    "Men's Street Footwear",
                    "Men's Street Footwear",
                    "Men's Street Footwear",
                    "Men's Street Footwear",
                    "Men's Street Footwear",
                    "Men's Street Footwear",
                    "Men's Street Footwear",
                    "Men's Street Footwear",
                    "Men's Street Footwear",
                    "Men's Street Footwear",
                    "Men's Street Footwear",
                    "Men's Street Footwear",
                    "Men's Street Footwear",
                    "Men's Street Footwear",
                    "Men's Street Footwear",
                    "Men's Street Footwear",
                    "Men's Street Footwear",
                    "Men's Street Footwear",
                    "Women's Apparel",
                    "Women's Apparel",
                    "Women's Apparel",
                    "Women's Apparel",
                    "Women's Apparel",
                    "Women's Apparel",
                    "Women's Apparel",
                    "Women's Apparel",
                    "Women's Apparel",
                    "Women's Apparel",
                    "Women's Apparel",
                    "Women's Apparel",
                    "Women's Apparel",
                    "Women's Apparel",
                    "Women's Apparel",
                    "Women's Apparel",
                    "Women's Apparel",
                    "Women's Apparel",
                    "Women's Apparel",
                    "Women's Apparel",
                    "Women's Apparel",
                    "Women's Apparel",
                    "Women's Apparel",
                    "Women's Apparel",
                    "Women's Apparel",
                    "Women's Apparel",
                    "Women's Apparel",
                    "Women's Apparel",
                    "Women's Apparel",
                    "Women's Apparel",
                    "Women's Apparel",
                    "Women's Apparel",
                    "Women's Apparel",
                    "Women's Apparel",
                    "Women's Apparel",
                    "Women's Apparel",
                    "Women's Apparel",
                    "Women's Apparel",
                    "Women's Apparel",
                    "Women's Apparel",
                    "Women's Apparel",
                    "Women's Apparel",
                    "Women's Apparel",
                    "Women's Apparel",
                    "Women's Apparel",
                    "Women's Apparel",
                    "Women's Apparel",
                    "Women's Apparel",
                    "Women's Apparel",
                    "Women's Apparel",
                    "Women's Athletic Footwear",
                    "Women's Athletic Footwear",
                    "Women's Athletic Footwear",
                    "Women's Athletic Footwear",
                    "Women's Athletic Footwear",
                    "Women's Athletic Footwear",
                    "Women's Athletic Footwear",
                    "Women's Athletic Footwear",
                    "Women's Athletic Footwear",
                    "Women's Athletic Footwear",
                    "Women's Athletic Footwear",
                    "Women's Athletic Footwear",
                    "Women's Athletic Footwear",
                    "Women's Athletic Footwear",
                    "Women's Athletic Footwear",
                    "Women's Athletic Footwear",
                    "Women's Athletic Footwear",
                    "Women's Athletic Footwear",
                    "Women's Athletic Footwear",
                    "Women's Athletic Footwear",
                    "Women's Athletic Footwear",
                    "Women's Athletic Footwear",
                    "Women's Athletic Footwear",
                    "Women's Athletic Footwear",
                    "Women's Athletic Footwear",
                    "Women's Athletic Footwear",
                    "Women's Athletic Footwear",
                    "Women's Athletic Footwear",
                    "Women's Athletic Footwear",
                    "Women's Athletic Footwear",
                    "Women's Athletic Footwear",
                    "Women's Athletic Footwear",
                    "Women's Athletic Footwear",
                    "Women's Athletic Footwear",
                    "Women's Athletic Footwear",
                    "Women's Athletic Footwear",
                    "Women's Athletic Footwear",
                    "Women's Athletic Footwear",
                    "Women's Athletic Footwear",
                    "Women's Athletic Footwear",
                    "Women's Athletic Footwear",
                    "Women's Athletic Footwear",
                    "Women's Athletic Footwear",
                    "Women's Athletic Footwear",
                    "Women's Athletic Footwear",
                    "Women's Athletic Footwear",
                    "Women's Athletic Footwear",
                    "Women's Athletic Footwear",
                    "Women's Athletic Footwear",
                    "Women's Athletic Footwear",
                    "Women's Street Footwear",
                    "Women's Street Footwear",
                    "Women's Street Footwear",
                    "Women's Street Footwear",
                    "Women's Street Footwear",
                    "Women's Street Footwear",
                    "Women's Street Footwear",
                    "Women's Street Footwear",
                    "Women's Street Footwear",
                    "Women's Street Footwear",
                    "Women's Street Footwear",
                    "Women's Street Footwear",
                    "Women's Street Footwear",
                    "Women's Street Footwear",
                    "Women's Street Footwear",
                    "Women's Street Footwear",
                    "Women's Street Footwear",
                    "Women's Street Footwear",
                    "Women's Street Footwear",
                    "Women's Street Footwear",
                    "Women's Street Footwear",
                    "Women's Street Footwear",
                    "Women's Street Footwear",
                    "Women's Street Footwear",
                    "Women's Street Footwear",
                    "Women's Street Footwear",
                    "Women's Street Footwear",
                    "Women's Street Footwear",
                    "Women's Street Footwear",
                    "Women's Street Footwear",
                    "Women's Street Footwear",
                    "Women's Street Footwear",
                    "Women's Street Footwear",
                    "Women's Street Footwear",
                    "Women's Street Footwear",
                    "Women's Street Footwear",
                    "Women's Street Footwear",
                    "Women's Street Footwear",
                    "Women's Street Footwear",
                    "Women's Street Footwear",
                    "Women's Street Footwear",
                    "Women's Street Footwear",
                    "Women's Street Footwear",
                    "Women's Street Footwear",
                    "Women's Street Footwear",
                    "Women's Street Footwear",
                    "Women's Street Footwear",
                    "Women's Street Footwear",
                    "Women's Street Footwear",
                    "Women's Street Footwear"
                  ],
                  "xaxis": "x",
                  "xbingroup": "x",
                  "y": [
                    "Alabama",
                    "Alaska",
                    "Arizona",
                    "Arkansas",
                    "California",
                    "Colorado",
                    "Connecticut",
                    "Delaware",
                    "Florida",
                    "Georgia",
                    "Hawaii",
                    "Idaho",
                    "Illinois",
                    "Indiana",
                    "Iowa",
                    "Kansas",
                    "Kentucky",
                    "Louisiana",
                    "Maine",
                    "Maryland",
                    "Massachusetts",
                    "Michigan",
                    "Minnesota",
                    "Mississippi",
                    "Missouri",
                    "Montana",
                    "Nebraska",
                    "Nevada",
                    "New Hampshire",
                    "New Jersey",
                    "New Mexico",
                    "New York",
                    "North Carolina",
                    "North Dakota",
                    "Ohio",
                    "Oklahoma",
                    "Oregon",
                    "Pennsylvania",
                    "Rhode Island",
                    "South Carolina",
                    "South Dakota",
                    "Tennessee",
                    "Texas",
                    "Utah",
                    "Vermont",
                    "Virginia",
                    "Washington",
                    "West Virginia",
                    "Wisconsin",
                    "Wyoming",
                    "Alabama",
                    "Alaska",
                    "Arizona",
                    "Arkansas",
                    "California",
                    "Colorado",
                    "Connecticut",
                    "Delaware",
                    "Florida",
                    "Georgia",
                    "Hawaii",
                    "Idaho",
                    "Illinois",
                    "Indiana",
                    "Iowa",
                    "Kansas",
                    "Kentucky",
                    "Louisiana",
                    "Maine",
                    "Maryland",
                    "Massachusetts",
                    "Michigan",
                    "Minnesota",
                    "Mississippi",
                    "Missouri",
                    "Montana",
                    "Nebraska",
                    "Nevada",
                    "New Hampshire",
                    "New Jersey",
                    "New Mexico",
                    "New York",
                    "North Carolina",
                    "North Dakota",
                    "Ohio",
                    "Oklahoma",
                    "Oregon",
                    "Pennsylvania",
                    "Rhode Island",
                    "South Carolina",
                    "South Dakota",
                    "Tennessee",
                    "Texas",
                    "Utah",
                    "Vermont",
                    "Virginia",
                    "Washington",
                    "West Virginia",
                    "Wisconsin",
                    "Wyoming",
                    "Alabama",
                    "Alaska",
                    "Arizona",
                    "Arkansas",
                    "California",
                    "Colorado",
                    "Connecticut",
                    "Delaware",
                    "Florida",
                    "Georgia",
                    "Hawaii",
                    "Idaho",
                    "Illinois",
                    "Indiana",
                    "Iowa",
                    "Kansas",
                    "Kentucky",
                    "Louisiana",
                    "Maine",
                    "Maryland",
                    "Massachusetts",
                    "Michigan",
                    "Minnesota",
                    "Mississippi",
                    "Missouri",
                    "Montana",
                    "Nebraska",
                    "Nevada",
                    "New Hampshire",
                    "New Jersey",
                    "New Mexico",
                    "New York",
                    "North Carolina",
                    "North Dakota",
                    "Ohio",
                    "Oklahoma",
                    "Oregon",
                    "Pennsylvania",
                    "Rhode Island",
                    "South Carolina",
                    "South Dakota",
                    "Tennessee",
                    "Texas",
                    "Utah",
                    "Vermont",
                    "Virginia",
                    "Washington",
                    "West Virginia",
                    "Wisconsin",
                    "Wyoming",
                    "Alabama",
                    "Alaska",
                    "Arizona",
                    "Arkansas",
                    "California",
                    "Colorado",
                    "Connecticut",
                    "Delaware",
                    "Florida",
                    "Georgia",
                    "Hawaii",
                    "Idaho",
                    "Illinois",
                    "Indiana",
                    "Iowa",
                    "Kansas",
                    "Kentucky",
                    "Louisiana",
                    "Maine",
                    "Maryland",
                    "Massachusetts",
                    "Michigan",
                    "Minnesota",
                    "Mississippi",
                    "Missouri",
                    "Montana",
                    "Nebraska",
                    "Nevada",
                    "New Hampshire",
                    "New Jersey",
                    "New Mexico",
                    "New York",
                    "North Carolina",
                    "North Dakota",
                    "Ohio",
                    "Oklahoma",
                    "Oregon",
                    "Pennsylvania",
                    "Rhode Island",
                    "South Carolina",
                    "South Dakota",
                    "Tennessee",
                    "Texas",
                    "Utah",
                    "Vermont",
                    "Virginia",
                    "Washington",
                    "West Virginia",
                    "Wisconsin",
                    "Wyoming",
                    "Alabama",
                    "Alaska",
                    "Arizona",
                    "Arkansas",
                    "California",
                    "Colorado",
                    "Connecticut",
                    "Delaware",
                    "Florida",
                    "Georgia",
                    "Hawaii",
                    "Idaho",
                    "Illinois",
                    "Indiana",
                    "Iowa",
                    "Kansas",
                    "Kentucky",
                    "Louisiana",
                    "Maine",
                    "Maryland",
                    "Massachusetts",
                    "Michigan",
                    "Minnesota",
                    "Mississippi",
                    "Missouri",
                    "Montana",
                    "Nebraska",
                    "Nevada",
                    "New Hampshire",
                    "New Jersey",
                    "New Mexico",
                    "New York",
                    "North Carolina",
                    "North Dakota",
                    "Ohio",
                    "Oklahoma",
                    "Oregon",
                    "Pennsylvania",
                    "Rhode Island",
                    "South Carolina",
                    "South Dakota",
                    "Tennessee",
                    "Texas",
                    "Utah",
                    "Vermont",
                    "Virginia",
                    "Washington",
                    "West Virginia",
                    "Wisconsin",
                    "Wyoming",
                    "Alabama",
                    "Alaska",
                    "Arizona",
                    "Arkansas",
                    "California",
                    "Colorado",
                    "Connecticut",
                    "Delaware",
                    "Florida",
                    "Georgia",
                    "Hawaii",
                    "Idaho",
                    "Illinois",
                    "Indiana",
                    "Iowa",
                    "Kansas",
                    "Kentucky",
                    "Louisiana",
                    "Maine",
                    "Maryland",
                    "Massachusetts",
                    "Michigan",
                    "Minnesota",
                    "Mississippi",
                    "Missouri",
                    "Montana",
                    "Nebraska",
                    "Nevada",
                    "New Hampshire",
                    "New Jersey",
                    "New Mexico",
                    "New York",
                    "North Carolina",
                    "North Dakota",
                    "Ohio",
                    "Oklahoma",
                    "Oregon",
                    "Pennsylvania",
                    "Rhode Island",
                    "South Carolina",
                    "South Dakota",
                    "Tennessee",
                    "Texas",
                    "Utah",
                    "Vermont",
                    "Virginia",
                    "Washington",
                    "West Virginia",
                    "Wisconsin",
                    "Wyoming"
                  ],
                  "yaxis": "y",
                  "ybingroup": "y",
                  "z": {
                    "bdata": "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",
                    "dtype": "f8"
                  }
                }
              ],
              "layout": {
                "coloraxis": {
                  "colorbar": {
                    "title": {
                      "text": "sum of Total Sales"
                    }
                  },
                  "colorscale": [
                    [
                      0,
                      "#440154"
                    ],
                    [
                      0.1111111111111111,
                      "#482878"
                    ],
                    [
                      0.2222222222222222,
                      "#3e4989"
                    ],
                    [
                      0.3333333333333333,
                      "#31688e"
                    ],
                    [
                      0.4444444444444444,
                      "#26828e"
                    ],
                    [
                      0.5555555555555556,
                      "#1f9e89"
                    ],
                    [
                      0.6666666666666666,
                      "#35b779"
                    ],
                    [
                      0.7777777777777778,
                      "#6ece58"
                    ],
                    [
                      0.8888888888888888,
                      "#b5de2b"
                    ],
                    [
                      1,
                      "#fde725"
                    ]
                  ]
                },
                "legend": {
                  "tracegroupgap": 0
                },
                "template": {
                  "data": {
                    "bar": [
                      {
                        "error_x": {
                          "color": "#2a3f5f"
                        },
                        "error_y": {
                          "color": "#2a3f5f"
                        },
                        "marker": {
                          "line": {
                            "color": "#E5ECF6",
                            "width": 0.5
                          },
                          "pattern": {
                            "fillmode": "overlay",
                            "size": 10,
                            "solidity": 0.2
                          }
                        },
                        "type": "bar"
                      }
                    ],
                    "barpolar": [
                      {
                        "marker": {
                          "line": {
                            "color": "#E5ECF6",
                            "width": 0.5
                          },
                          "pattern": {
                            "fillmode": "overlay",
                            "size": 10,
                            "solidity": 0.2
                          }
                        },
                        "type": "barpolar"
                      }
                    ],
                    "carpet": [
                      {
                        "aaxis": {
                          "endlinecolor": "#2a3f5f",
                          "gridcolor": "white",
                          "linecolor": "white",
                          "minorgridcolor": "white",
                          "startlinecolor": "#2a3f5f"
                        },
                        "baxis": {
                          "endlinecolor": "#2a3f5f",
                          "gridcolor": "white",
                          "linecolor": "white",
                          "minorgridcolor": "white",
                          "startlinecolor": "#2a3f5f"
                        },
                        "type": "carpet"
                      }
                    ],
                    "choropleth": [
                      {
                        "colorbar": {
                          "outlinewidth": 0,
                          "ticks": ""
                        },
                        "type": "choropleth"
                      }
                    ],
                    "contour": [
                      {
                        "colorbar": {
                          "outlinewidth": 0,
                          "ticks": ""
                        },
                        "colorscale": [
                          [
                            0,
                            "#0d0887"
                          ],
                          [
                            0.1111111111111111,
                            "#46039f"
                          ],
                          [
                            0.2222222222222222,
                            "#7201a8"
                          ],
                          [
                            0.3333333333333333,
                            "#9c179e"
                          ],
                          [
                            0.4444444444444444,
                            "#bd3786"
                          ],
                          [
                            0.5555555555555556,
                            "#d8576b"
                          ],
                          [
                            0.6666666666666666,
                            "#ed7953"
                          ],
                          [
                            0.7777777777777778,
                            "#fb9f3a"
                          ],
                          [
                            0.8888888888888888,
                            "#fdca26"
                          ],
                          [
                            1,
                            "#f0f921"
                          ]
                        ],
                        "type": "contour"
                      }
                    ],
                    "contourcarpet": [
                      {
                        "colorbar": {
                          "outlinewidth": 0,
                          "ticks": ""
                        },
                        "type": "contourcarpet"
                      }
                    ],
                    "heatmap": [
                      {
                        "colorbar": {
                          "outlinewidth": 0,
                          "ticks": ""
                        },
                        "colorscale": [
                          [
                            0,
                            "#0d0887"
                          ],
                          [
                            0.1111111111111111,
                            "#46039f"
                          ],
                          [
                            0.2222222222222222,
                            "#7201a8"
                          ],
                          [
                            0.3333333333333333,
                            "#9c179e"
                          ],
                          [
                            0.4444444444444444,
                            "#bd3786"
                          ],
                          [
                            0.5555555555555556,
                            "#d8576b"
                          ],
                          [
                            0.6666666666666666,
                            "#ed7953"
                          ],
                          [
                            0.7777777777777778,
                            "#fb9f3a"
                          ],
                          [
                            0.8888888888888888,
                            "#fdca26"
                          ],
                          [
                            1,
                            "#f0f921"
                          ]
                        ],
                        "type": "heatmap"
                      }
                    ],
                    "histogram": [
                      {
                        "marker": {
                          "pattern": {
                            "fillmode": "overlay",
                            "size": 10,
                            "solidity": 0.2
                          }
                        },
                        "type": "histogram"
                      }
                    ],
                    "histogram2d": [
                      {
                        "colorbar": {
                          "outlinewidth": 0,
                          "ticks": ""
                        },
                        "colorscale": [
                          [
                            0,
                            "#0d0887"
                          ],
                          [
                            0.1111111111111111,
                            "#46039f"
                          ],
                          [
                            0.2222222222222222,
                            "#7201a8"
                          ],
                          [
                            0.3333333333333333,
                            "#9c179e"
                          ],
                          [
                            0.4444444444444444,
                            "#bd3786"
                          ],
                          [
                            0.5555555555555556,
                            "#d8576b"
                          ],
                          [
                            0.6666666666666666,
                            "#ed7953"
                          ],
                          [
                            0.7777777777777778,
                            "#fb9f3a"
                          ],
                          [
                            0.8888888888888888,
                            "#fdca26"
                          ],
                          [
                            1,
                            "#f0f921"
                          ]
                        ],
                        "type": "histogram2d"
                      }
                    ],
                    "histogram2dcontour": [
                      {
                        "colorbar": {
                          "outlinewidth": 0,
                          "ticks": ""
                        },
                        "colorscale": [
                          [
                            0,
                            "#0d0887"
                          ],
                          [
                            0.1111111111111111,
                            "#46039f"
                          ],
                          [
                            0.2222222222222222,
                            "#7201a8"
                          ],
                          [
                            0.3333333333333333,
                            "#9c179e"
                          ],
                          [
                            0.4444444444444444,
                            "#bd3786"
                          ],
                          [
                            0.5555555555555556,
                            "#d8576b"
                          ],
                          [
                            0.6666666666666666,
                            "#ed7953"
                          ],
                          [
                            0.7777777777777778,
                            "#fb9f3a"
                          ],
                          [
                            0.8888888888888888,
                            "#fdca26"
                          ],
                          [
                            1,
                            "#f0f921"
                          ]
                        ],
                        "type": "histogram2dcontour"
                      }
                    ],
                    "mesh3d": [
                      {
                        "colorbar": {
                          "outlinewidth": 0,
                          "ticks": ""
                        },
                        "type": "mesh3d"
                      }
                    ],
                    "parcoords": [
                      {
                        "line": {
                          "colorbar": {
                            "outlinewidth": 0,
                            "ticks": ""
                          }
                        },
                        "type": "parcoords"
                      }
                    ],
                    "pie": [
                      {
                        "automargin": true,
                        "type": "pie"
                      }
                    ],
                    "scatter": [
                      {
                        "fillpattern": {
                          "fillmode": "overlay",
                          "size": 10,
                          "solidity": 0.2
                        },
                        "type": "scatter"
                      }
                    ],
                    "scatter3d": [
                      {
                        "line": {
                          "colorbar": {
                            "outlinewidth": 0,
                            "ticks": ""
                          }
                        },
                        "marker": {
                          "colorbar": {
                            "outlinewidth": 0,
                            "ticks": ""
                          }
                        },
                        "type": "scatter3d"
                      }
                    ],
                    "scattercarpet": [
                      {
                        "marker": {
                          "colorbar": {
                            "outlinewidth": 0,
                            "ticks": ""
                          }
                        },
                        "type": "scattercarpet"
                      }
                    ],
                    "scattergeo": [
                      {
                        "marker": {
                          "colorbar": {
                            "outlinewidth": 0,
                            "ticks": ""
                          }
                        },
                        "type": "scattergeo"
                      }
                    ],
                    "scattergl": [
                      {
                        "marker": {
                          "colorbar": {
                            "outlinewidth": 0,
                            "ticks": ""
                          }
                        },
                        "type": "scattergl"
                      }
                    ],
                    "scattermap": [
                      {
                        "marker": {
                          "colorbar": {
                            "outlinewidth": 0,
                            "ticks": ""
                          }
                        },
                        "type": "scattermap"
                      }
                    ],
                    "scattermapbox": [
                      {
                        "marker": {
                          "colorbar": {
                            "outlinewidth": 0,
                            "ticks": ""
                          }
                        },
                        "type": "scattermapbox"
                      }
                    ],
                    "scatterpolar": [
                      {
                        "marker": {
                          "colorbar": {
                            "outlinewidth": 0,
                            "ticks": ""
                          }
                        },
                        "type": "scatterpolar"
                      }
                    ],
                    "scatterpolargl": [
                      {
                        "marker": {
                          "colorbar": {
                            "outlinewidth": 0,
                            "ticks": ""
                          }
                        },
                        "type": "scatterpolargl"
                      }
                    ],
                    "scatterternary": [
                      {
                        "marker": {
                          "colorbar": {
                            "outlinewidth": 0,
                            "ticks": ""
                          }
                        },
                        "type": "scatterternary"
                      }
                    ],
                    "surface": [
                      {
                        "colorbar": {
                          "outlinewidth": 0,
                          "ticks": ""
                        },
                        "colorscale": [
                          [
                            0,
                            "#0d0887"
                          ],
                          [
                            0.1111111111111111,
                            "#46039f"
                          ],
                          [
                            0.2222222222222222,
                            "#7201a8"
                          ],
                          [
                            0.3333333333333333,
                            "#9c179e"
                          ],
                          [
                            0.4444444444444444,
                            "#bd3786"
                          ],
                          [
                            0.5555555555555556,
                            "#d8576b"
                          ],
                          [
                            0.6666666666666666,
                            "#ed7953"
                          ],
                          [
                            0.7777777777777778,
                            "#fb9f3a"
                          ],
                          [
                            0.8888888888888888,
                            "#fdca26"
                          ],
                          [
                            1,
                            "#f0f921"
                          ]
                        ],
                        "type": "surface"
                      }
                    ],
                    "table": [
                      {
                        "cells": {
                          "fill": {
                            "color": "#EBF0F8"
                          },
                          "line": {
                            "color": "white"
                          }
                        },
                        "header": {
                          "fill": {
                            "color": "#C8D4E3"
                          },
                          "line": {
                            "color": "white"
                          }
                        },
                        "type": "table"
                      }
                    ]
                  },
                  "layout": {
                    "annotationdefaults": {
                      "arrowcolor": "#2a3f5f",
                      "arrowhead": 0,
                      "arrowwidth": 1
                    },
                    "autotypenumbers": "strict",
                    "coloraxis": {
                      "colorbar": {
                        "outlinewidth": 0,
                        "ticks": ""
                      }
                    },
                    "colorscale": {
                      "diverging": [
                        [
                          0,
                          "#8e0152"
                        ],
                        [
                          0.1,
                          "#c51b7d"
                        ],
                        [
                          0.2,
                          "#de77ae"
                        ],
                        [
                          0.3,
                          "#f1b6da"
                        ],
                        [
                          0.4,
                          "#fde0ef"
                        ],
                        [
                          0.5,
                          "#f7f7f7"
                        ],
                        [
                          0.6,
                          "#e6f5d0"
                        ],
                        [
                          0.7,
                          "#b8e186"
                        ],
                        [
                          0.8,
                          "#7fbc41"
                        ],
                        [
                          0.9,
                          "#4d9221"
                        ],
                        [
                          1,
                          "#276419"
                        ]
                      ],
                      "sequential": [
                        [
                          0,
                          "#0d0887"
                        ],
                        [
                          0.1111111111111111,
                          "#46039f"
                        ],
                        [
                          0.2222222222222222,
                          "#7201a8"
                        ],
                        [
                          0.3333333333333333,
                          "#9c179e"
                        ],
                        [
                          0.4444444444444444,
                          "#bd3786"
                        ],
                        [
                          0.5555555555555556,
                          "#d8576b"
                        ],
                        [
                          0.6666666666666666,
                          "#ed7953"
                        ],
                        [
                          0.7777777777777778,
                          "#fb9f3a"
                        ],
                        [
                          0.8888888888888888,
                          "#fdca26"
                        ],
                        [
                          1,
                          "#f0f921"
                        ]
                      ],
                      "sequentialminus": [
                        [
                          0,
                          "#0d0887"
                        ],
                        [
                          0.1111111111111111,
                          "#46039f"
                        ],
                        [
                          0.2222222222222222,
                          "#7201a8"
                        ],
                        [
                          0.3333333333333333,
                          "#9c179e"
                        ],
                        [
                          0.4444444444444444,
                          "#bd3786"
                        ],
                        [
                          0.5555555555555556,
                          "#d8576b"
                        ],
                        [
                          0.6666666666666666,
                          "#ed7953"
                        ],
                        [
                          0.7777777777777778,
                          "#fb9f3a"
                        ],
                        [
                          0.8888888888888888,
                          "#fdca26"
                        ],
                        [
                          1,
                          "#f0f921"
                        ]
                      ]
                    },
                    "colorway": [
                      "#636efa",
                      "#EF553B",
                      "#00cc96",
                      "#ab63fa",
                      "#FFA15A",
                      "#19d3f3",
                      "#FF6692",
                      "#B6E880",
                      "#FF97FF",
                      "#FECB52"
                    ],
                    "font": {
                      "color": "#2a3f5f"
                    },
                    "geo": {
                      "bgcolor": "white",
                      "lakecolor": "white",
                      "landcolor": "#E5ECF6",
                      "showlakes": true,
                      "showland": true,
                      "subunitcolor": "white"
                    },
                    "hoverlabel": {
                      "align": "left"
                    },
                    "hovermode": "closest",
                    "mapbox": {
                      "style": "light"
                    },
                    "paper_bgcolor": "white",
                    "plot_bgcolor": "#E5ECF6",
                    "polar": {
                      "angularaxis": {
                        "gridcolor": "white",
                        "linecolor": "white",
                        "ticks": ""
                      },
                      "bgcolor": "#E5ECF6",
                      "radialaxis": {
                        "gridcolor": "white",
                        "linecolor": "white",
                        "ticks": ""
                      }
                    },
                    "scene": {
                      "xaxis": {
                        "backgroundcolor": "#E5ECF6",
                        "gridcolor": "white",
                        "gridwidth": 2,
                        "linecolor": "white",
                        "showbackground": true,
                        "ticks": "",
                        "zerolinecolor": "white"
                      },
                      "yaxis": {
                        "backgroundcolor": "#E5ECF6",
                        "gridcolor": "white",
                        "gridwidth": 2,
                        "linecolor": "white",
                        "showbackground": true,
                        "ticks": "",
                        "zerolinecolor": "white"
                      },
                      "zaxis": {
                        "backgroundcolor": "#E5ECF6",
                        "gridcolor": "white",
                        "gridwidth": 2,
                        "linecolor": "white",
                        "showbackground": true,
                        "ticks": "",
                        "zerolinecolor": "white"
                      }
                    },
                    "shapedefaults": {
                      "line": {
                        "color": "#2a3f5f"
                      }
                    },
                    "ternary": {
                      "aaxis": {
                        "gridcolor": "white",
                        "linecolor": "white",
                        "ticks": ""
                      },
                      "baxis": {
                        "gridcolor": "white",
                        "linecolor": "white",
                        "ticks": ""
                      },
                      "bgcolor": "#E5ECF6",
                      "caxis": {
                        "gridcolor": "white",
                        "linecolor": "white",
                        "ticks": ""
                      }
                    },
                    "title": {
                      "x": 0.05
                    },
                    "xaxis": {
                      "automargin": true,
                      "gridcolor": "white",
                      "linecolor": "white",
                      "ticks": "",
                      "title": {
                        "standoff": 15
                      },
                      "zerolinecolor": "white",
                      "zerolinewidth": 2
                    },
                    "yaxis": {
                      "automargin": true,
                      "gridcolor": "white",
                      "linecolor": "white",
                      "ticks": "",
                      "title": {
                        "standoff": 15
                      },
                      "zerolinecolor": "white",
                      "zerolinewidth": 2
                    }
                  }
                },
                "title": {
                  "text": "Interactive Heatmap of Sales by State and Product"
                },
                "xaxis": {
                  "anchor": "y",
                  "domain": [
                    0,
                    1
                  ],
                  "tickangle": 45,
                  "title": {
                    "text": "Product"
                  }
                },
                "yaxis": {
                  "anchor": "x",
                  "domain": [
                    0,
                    1
                  ],
                  "title": {
                    "text": "State"
                  }
                }
              }
            }
          },
          "metadata": {},
          "output_type": "display_data"
        }
      ],
      "source": [
        "#HEAT MAP\n",
        "import plotly.express as px\n",
        "heat_data = df.pivot_table(index=\"State\", columns=\"Product\", values=\"Total Sales\", aggfunc=\"sum\", fill_value=0)\n",
        "heat_data = heat_data.reset_index().melt(id_vars=\"State\", var_name=\"Product\", value_name=\"Total Sales\")\n",
        "fig = px.density_heatmap(\n",
        "    heat_data,\n",
        "    x=\"Product\", y=\"State\", z=\"Total Sales\",\n",
        "    color_continuous_scale=\"Viridis\",\n",
        "    hover_data={\"Total Sales\": \":,.0f\"},\n",
        "    title=\"Interactive Heatmap of Sales by State and Product\"\n",
        ")\n",
        "fig.update_layout(xaxis_tickangle=45)\n",
        "fig.show()"
      ]
    },
    {
      "cell_type": "markdown",
      "metadata": {
        "id": "-pQsZhk9nx1G"
      },
      "source": [
        "# ***TREE MAP***\n",
        "This code creates an interactive treemap visualization using Plotly Express to show the hierarchical distribution of total sales and operating profit across regions, states, and cities. The treemap is structured with three nested levels—Region at the top, then State, and finally City—allowing you to explore sales data at different geographic scales. The size of each rectangle corresponds to the total sales value, so larger blocks represent higher sales volumes. The color of each block reflects the operating profit, using a red-yellow-green (\"RdYlGn\") color scale where typically green indicates higher profit and red indicates lower or negative profit. Hovering over any block reveals detailed sales and profit figures formatted with commas for easier reading. This visualization provides an intuitive way to identify which locations contribute most to sales and profit, as well as how profit varies within the sales hierarchy.\n",
        "\n",
        "\n",
        "\n",
        "\n",
        "\n",
        "\n",
        "\n"
      ]
    },
    {
      "cell_type": "code",
      "execution_count": 15,
      "metadata": {
        "colab": {
          "base_uri": "https://localhost:8080/",
          "height": 542
        },
        "id": "Qf5plZjeT41M",
        "outputId": "c440459e-d073-4bcf-f2cd-fc78f3214042"
      },
      "outputs": [
        {
          "data": {
            "application/vnd.plotly.v1+json": {
              "config": {
                "plotlyServerURL": "https://plot.ly"
              },
              "data": [
                {
                  "branchvalues": "total",
                  "customdata": {
                    "bdata": "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",
                    "dtype": "f8",
                    "shape": "109, 2"
                  },
                  "domain": {
                    "x": [
                      0,
                      1
                    ],
                    "y": [
                      0,
                      1
                    ]
                  },
                  "hovertemplate": "labels=%{label}<br>Total Sales=%{customdata[0]:,.0f}<br>parent=%{parent}<br>id=%{id}<br>Operating Profit=%{color:,.0f}<extra></extra>",
                  "ids": [
                    "Northeast/New York/New York",
                    "South/Texas/Houston",
                    "West/California/San Francisco",
                    "West/California/Los Angeles",
                    "Midwest/Illinois/Chicago",
                    "South/Texas/Dallas",
                    "Northeast/Pennsylvania/Philadelphia",
                    "West/Nevada/Las Vegas",
                    "West/Colorado/Denver",
                    "West/Washington/Seattle",
                    "Southeast/Florida/Miami",
                    "Midwest/Minnesota/Minneapolis",
                    "Midwest/Montana/Billings",
                    "South/Tennessee/Knoxville",
                    "Midwest/Nebraska/Omaha",
                    "South/Alabama/Birmingham",
                    "Northeast/Maine/Portland",
                    "West/Alaska/Anchorage",
                    "West/Hawaii/Honolulu",
                    "Southeast/Florida/Orlando",
                    "Northeast/New York/Albany",
                    "West/Wyoming/Cheyenne",
                    "Southeast/Virginia/Richmond",
                    "Midwest/Michigan/Detroit",
                    "Midwest/Missouri/St. Louis",
                    "West/Utah/Salt Lake City",
                    "West/Oregon/Portland",
                    "South/Louisiana/New Orleans",
                    "West/Idaho/Boise",
                    "West/Arizona/Phoenix",
                    "West/New Mexico/Albuquerque",
                    "Southeast/Georgia/Atlanta",
                    "Southeast/South Carolina/Charleston",
                    "Southeast/North Carolina/Charlotte",
                    "Midwest/Ohio/Columbus",
                    "Southeast/Kentucky/Louisville",
                    "South/Mississippi/Jackson",
                    "South/Arkansas/Little Rock",
                    "South/Oklahoma/Oklahoma City",
                    "Midwest/Kansas/Wichita",
                    "Midwest/South Dakota/Sioux Falls",
                    "Midwest/North Dakota/Fargo",
                    "Midwest/Iowa/Des Moines",
                    "Midwest/Wisconsin/Milwaukee",
                    "Midwest/Indiana/Indianapolis",
                    "Northeast/West Virginia/Charleston",
                    "Northeast/Maryland/Baltimore",
                    "Northeast/Delaware/Wilmington",
                    "Northeast/New Jersey/Newark",
                    "Northeast/Connecticut/Hartford",
                    "Northeast/Rhode Island/Providence",
                    "Northeast/Massachusetts/Boston",
                    "Northeast/Vermont/Burlington",
                    "Northeast/New Hampshire/Manchester",
                    "Northeast/New York",
                    "South/Texas",
                    "West/California",
                    "Midwest/Illinois",
                    "Northeast/Pennsylvania",
                    "West/Nevada",
                    "West/Colorado",
                    "West/Washington",
                    "Southeast/Florida",
                    "Midwest/Minnesota",
                    "Midwest/Montana",
                    "South/Tennessee",
                    "Midwest/Nebraska",
                    "South/Alabama",
                    "Northeast/Maine",
                    "West/Alaska",
                    "West/Hawaii",
                    "West/Wyoming",
                    "Southeast/Virginia",
                    "Midwest/Michigan",
                    "Midwest/Missouri",
                    "West/Utah",
                    "West/Oregon",
                    "South/Louisiana",
                    "West/Idaho",
                    "West/Arizona",
                    "West/New Mexico",
                    "Southeast/Georgia",
                    "Southeast/South Carolina",
                    "Southeast/North Carolina",
                    "Midwest/Ohio",
                    "Southeast/Kentucky",
                    "South/Mississippi",
                    "South/Arkansas",
                    "South/Oklahoma",
                    "Midwest/Kansas",
                    "Midwest/South Dakota",
                    "Midwest/North Dakota",
                    "Midwest/Iowa",
                    "Midwest/Wisconsin",
                    "Midwest/Indiana",
                    "Northeast/West Virginia",
                    "Northeast/Maryland",
                    "Northeast/Delaware",
                    "Northeast/New Jersey",
                    "Northeast/Connecticut",
                    "Northeast/Rhode Island",
                    "Northeast/Massachusetts",
                    "Northeast/Vermont",
                    "Northeast/New Hampshire",
                    "Northeast",
                    "South",
                    "West",
                    "Midwest",
                    "Southeast"
                  ],
                  "labels": [
                    "New York",
                    "Houston",
                    "San Francisco",
                    "Los Angeles",
                    "Chicago",
                    "Dallas",
                    "Philadelphia",
                    "Las Vegas",
                    "Denver",
                    "Seattle",
                    "Miami",
                    "Minneapolis",
                    "Billings",
                    "Knoxville",
                    "Omaha",
                    "Birmingham",
                    "Portland",
                    "Anchorage",
                    "Honolulu",
                    "Orlando",
                    "Albany",
                    "Cheyenne",
                    "Richmond",
                    "Detroit",
                    "St. Louis",
                    "Salt Lake City",
                    "Portland",
                    "New Orleans",
                    "Boise",
                    "Phoenix",
                    "Albuquerque",
                    "Atlanta",
                    "Charleston",
                    "Charlotte",
                    "Columbus",
                    "Louisville",
                    "Jackson",
                    "Little Rock",
                    "Oklahoma City",
                    "Wichita",
                    "Sioux Falls",
                    "Fargo",
                    "Des Moines",
                    "Milwaukee",
                    "Indianapolis",
                    "Charleston",
                    "Baltimore",
                    "Wilmington",
                    "Newark",
                    "Hartford",
                    "Providence",
                    "Boston",
                    "Burlington",
                    "Manchester",
                    "New York",
                    "Texas",
                    "California",
                    "Illinois",
                    "Pennsylvania",
                    "Nevada",
                    "Colorado",
                    "Washington",
                    "Florida",
                    "Minnesota",
                    "Montana",
                    "Tennessee",
                    "Nebraska",
                    "Alabama",
                    "Maine",
                    "Alaska",
                    "Hawaii",
                    "Wyoming",
                    "Virginia",
                    "Michigan",
                    "Missouri",
                    "Utah",
                    "Oregon",
                    "Louisiana",
                    "Idaho",
                    "Arizona",
                    "New Mexico",
                    "Georgia",
                    "South Carolina",
                    "North Carolina",
                    "Ohio",
                    "Kentucky",
                    "Mississippi",
                    "Arkansas",
                    "Oklahoma",
                    "Kansas",
                    "South Dakota",
                    "North Dakota",
                    "Iowa",
                    "Wisconsin",
                    "Indiana",
                    "West Virginia",
                    "Maryland",
                    "Delaware",
                    "New Jersey",
                    "Connecticut",
                    "Rhode Island",
                    "Massachusetts",
                    "Vermont",
                    "New Hampshire",
                    "Northeast",
                    "South",
                    "West",
                    "Midwest",
                    "Southeast"
                  ],
                  "marker": {
                    "coloraxis": "coloraxis",
                    "colors": {
                      "bdata": "OjtW3yjGBkGBtxN/jAMAQTFZV9z3uv9A5O1XLh27/ED5fJ8kBhrwQCZwBamDqQBBF49MnC9q8kC0OHfa6nH3QBzIWbztkPxAa+/Rj1Hu+UBgk/253GsGQf3fF0a6DOlAAFl3V33X9ECIPIKd2lYAQSxk0gto6+hAzLPbiF+vAkGmfv52y2LrQMrlX4D2JvJAT3ZFSgJM90A7QJ2NEOEAQSR8jsEVZwFBCHRBTTFv+EA2xHpzNg8AQRPKOObbNABBw+kXcycv70CaeYGLwBPtQLGM+l/e1P9A++qfzHODBEGGJ5Pnf9L+QFuVUMdJ8PFAcsn7DND69kCJ7UfIOGn3QGMzHEjkXgVBfync2RD+AkFuclVWvK7/QJtg3/FhlO9AE2smNMZ7+kDBxJ2RCoj1QBGHLMjbufJA4ohCFo6M8EBz1QSxT2jpQCy623TSVOhAiiCLo8wU6EA+9yR11kzpQEn5zF+wUO5ALlnGm0Gy8kBYb3Y8PSjpQCnF4lNCIPJAuo9MJCcn7kDCVzFfcvHwQMpxJ9V71elAjkxV+kCK6kD8iJCIKhX2QOvMeybey/VAbWdkxy+7BEGozn5GYU4AQcn121vac/5A+XyfJAYa8EAXj0ycL2ryQLQ4d9rqcfdAHMhZvO2Q/EBr79GPUe75QPvcSdZY1QNB/d8XRroM6UAAWXdXfdf0QIg8gp3aVgBBLGTSC2jr6EDMs9uIX68CQaZ+/nbLYutAyuVfgPYm8kBPdkVKAkz3QAh0QU0xb/hANsR6czYPAEETyjjm2zQAQcPpF3MnL+9AmnmBi8AT7UCxjPpf3tT/QPvqn8xzgwRBhieT53/S/kBblVDHSfDxQHLJ+wzQ+vZAie1HyDhp90BjMxxI5F4FQX8p3NkQ/gJBbnJVVryu/0CbYN/xYZTvQBNrJjTGe/pAwcSdkQqI9UARhyzI27nyQOKIQhaOjPBAc9UEsU9o6UAsutt00lToQIogi6PMFOhAPvckddZM6UBJ+cxfsFDuQC5ZxptBsvJAWG92PD0o6UApxeJTQiDyQLqPTCQnJ+5AwlcxX3Lx8EDKcSfVe9XpQI5MVfpAiupA/IiQiCoV9kDrzHsm3sv1QKDffJL6ovlAtYlCGRHv/0Bt4Z1Gsu35QHa/+jEMvPNAFZjbx7TNAUE=",
                      "dtype": "f8"
                    }
                  },
                  "name": "",
                  "parents": [
                    "Northeast/New York",
                    "South/Texas",
                    "West/California",
                    "West/California",
                    "Midwest/Illinois",
                    "South/Texas",
                    "Northeast/Pennsylvania",
                    "West/Nevada",
                    "West/Colorado",
                    "West/Washington",
                    "Southeast/Florida",
                    "Midwest/Minnesota",
                    "Midwest/Montana",
                    "South/Tennessee",
                    "Midwest/Nebraska",
                    "South/Alabama",
                    "Northeast/Maine",
                    "West/Alaska",
                    "West/Hawaii",
                    "Southeast/Florida",
                    "Northeast/New York",
                    "West/Wyoming",
                    "Southeast/Virginia",
                    "Midwest/Michigan",
                    "Midwest/Missouri",
                    "West/Utah",
                    "West/Oregon",
                    "South/Louisiana",
                    "West/Idaho",
                    "West/Arizona",
                    "West/New Mexico",
                    "Southeast/Georgia",
                    "Southeast/South Carolina",
                    "Southeast/North Carolina",
                    "Midwest/Ohio",
                    "Southeast/Kentucky",
                    "South/Mississippi",
                    "South/Arkansas",
                    "South/Oklahoma",
                    "Midwest/Kansas",
                    "Midwest/South Dakota",
                    "Midwest/North Dakota",
                    "Midwest/Iowa",
                    "Midwest/Wisconsin",
                    "Midwest/Indiana",
                    "Northeast/West Virginia",
                    "Northeast/Maryland",
                    "Northeast/Delaware",
                    "Northeast/New Jersey",
                    "Northeast/Connecticut",
                    "Northeast/Rhode Island",
                    "Northeast/Massachusetts",
                    "Northeast/Vermont",
                    "Northeast/New Hampshire",
                    "Northeast",
                    "South",
                    "West",
                    "Midwest",
                    "Northeast",
                    "West",
                    "West",
                    "West",
                    "Southeast",
                    "Midwest",
                    "Midwest",
                    "South",
                    "Midwest",
                    "South",
                    "Northeast",
                    "West",
                    "West",
                    "West",
                    "Southeast",
                    "Midwest",
                    "Midwest",
                    "West",
                    "West",
                    "South",
                    "West",
                    "West",
                    "West",
                    "Southeast",
                    "Southeast",
                    "Southeast",
                    "Midwest",
                    "Southeast",
                    "South",
                    "South",
                    "South",
                    "Midwest",
                    "Midwest",
                    "Midwest",
                    "Midwest",
                    "Midwest",
                    "Midwest",
                    "Northeast",
                    "Northeast",
                    "Northeast",
                    "Northeast",
                    "Northeast",
                    "Northeast",
                    "Northeast",
                    "Northeast",
                    "Northeast",
                    "",
                    "",
                    "",
                    "",
                    ""
                  ],
                  "type": "treemap",
                  "values": {
                    "bdata": "AAAAmIz6gkEAAAAgD0d4QQAAAKA2eIBBAAAAEIZyeEEAAAAA7q9iQQAAAAA973NBAAAA4GHBY0EAAADQaORzQQAAAIAbBnRBAQAA4GUceUEBAADwDSN+QQAAAAAlJVxBAAAAwFT3bUEAAAAA/zpxQQAAAIATnlZBAAAAAAnRcEEAAABAOYphQQEAAOCpI2xBAAAAkA1AdUEAAAAwgmZ6QQEAAMDRS3dBAAAA0Ia3cUEAAAAAWJN0QQAAAJA5w3FBAAAAICh4YkEAAACAlH5iQQAAAKBSXHRBAQAA0IemdkEAAADgRGJyQQEAAKApGm5BAQAAgNvxckEAAACgDR5yQQAAAFDQ7XtBAAAAMMPYdkEAAABw1qBxQQAAAABiNmNBAQAAoCO9bUEAAABgjhtoQQAAAMDnQWRBAAAAAJAFY0EAAAAAOzRgQQAAAABHgl1BAAAAwAJSXEEAAABAW3pdQQAAAMCM2mBBAAAAAFFjZEEAAADAOphdQQAAAIAVdWdBAAAAwLTyYkEAAAAAGRNmQQAAAMBqHGBBAAAAQJkgZUEAAABgQ2BrQQEAAGCCTW9BAAAAeHWgjkEAAAAQJhuGQQAAAKh5sYxBAAAAAO6vYkEAAADgYcFjQQAAANBo5HNBAAAAgBsGdEEBAADgZRx5QQEAABDIRIxBAAAAACUlXEEAAADAVPdtQQAAAAD/OnFBAAAAgBOeVkEAAAAACdFwQQAAAEA5imFBAQAA4KkjbEEAAACQDUB1QQAAANCGt3FBAAAAAFiTdEEAAACQOcNxQQAAACAoeGJBAAAAgJR+YkEAAACgUlx0QQEAANCHpnZBAAAA4ERickEBAACgKRpuQQEAAIDb8XJBAAAAoA0eckEAAABQ0O17QQAAADDD2HZBAAAAcNagcUEAAAAAYjZjQQEAAKAjvW1BAAAAYI4baEEAAADA50FkQQAAAACQBWNBAAAAADs0YEEAAAAAR4JdQQAAAMACUlxBAAAAQFt6XUEAAADAjNpgQQAAAABRY2RBAAAAwDqYXUEAAACAFXVnQQAAAMC08mJBAAAAABkTZkEAAADAahxgQQAAAECZIGVBAAAAYENga0EBAABggk1vQQAAAMYoNqZBAAAAGsU+oUEAAACOARewQQAAABZNMKBBAAAASJdzo0E=",
                    "dtype": "f8"
                  }
                }
              ],
              "layout": {
                "coloraxis": {
                  "colorbar": {
                    "title": {
                      "text": "Operating Profit"
                    }
                  },
                  "colorscale": [
                    [
                      0,
                      "rgb(165,0,38)"
                    ],
                    [
                      0.1,
                      "rgb(215,48,39)"
                    ],
                    [
                      0.2,
                      "rgb(244,109,67)"
                    ],
                    [
                      0.3,
                      "rgb(253,174,97)"
                    ],
                    [
                      0.4,
                      "rgb(254,224,139)"
                    ],
                    [
                      0.5,
                      "rgb(255,255,191)"
                    ],
                    [
                      0.6,
                      "rgb(217,239,139)"
                    ],
                    [
                      0.7,
                      "rgb(166,217,106)"
                    ],
                    [
                      0.8,
                      "rgb(102,189,99)"
                    ],
                    [
                      0.9,
                      "rgb(26,152,80)"
                    ],
                    [
                      1,
                      "rgb(0,104,55)"
                    ]
                  ]
                },
                "legend": {
                  "tracegroupgap": 0
                },
                "template": {
                  "data": {
                    "bar": [
                      {
                        "error_x": {
                          "color": "#2a3f5f"
                        },
                        "error_y": {
                          "color": "#2a3f5f"
                        },
                        "marker": {
                          "line": {
                            "color": "#E5ECF6",
                            "width": 0.5
                          },
                          "pattern": {
                            "fillmode": "overlay",
                            "size": 10,
                            "solidity": 0.2
                          }
                        },
                        "type": "bar"
                      }
                    ],
                    "barpolar": [
                      {
                        "marker": {
                          "line": {
                            "color": "#E5ECF6",
                            "width": 0.5
                          },
                          "pattern": {
                            "fillmode": "overlay",
                            "size": 10,
                            "solidity": 0.2
                          }
                        },
                        "type": "barpolar"
                      }
                    ],
                    "carpet": [
                      {
                        "aaxis": {
                          "endlinecolor": "#2a3f5f",
                          "gridcolor": "white",
                          "linecolor": "white",
                          "minorgridcolor": "white",
                          "startlinecolor": "#2a3f5f"
                        },
                        "baxis": {
                          "endlinecolor": "#2a3f5f",
                          "gridcolor": "white",
                          "linecolor": "white",
                          "minorgridcolor": "white",
                          "startlinecolor": "#2a3f5f"
                        },
                        "type": "carpet"
                      }
                    ],
                    "choropleth": [
                      {
                        "colorbar": {
                          "outlinewidth": 0,
                          "ticks": ""
                        },
                        "type": "choropleth"
                      }
                    ],
                    "contour": [
                      {
                        "colorbar": {
                          "outlinewidth": 0,
                          "ticks": ""
                        },
                        "colorscale": [
                          [
                            0,
                            "#0d0887"
                          ],
                          [
                            0.1111111111111111,
                            "#46039f"
                          ],
                          [
                            0.2222222222222222,
                            "#7201a8"
                          ],
                          [
                            0.3333333333333333,
                            "#9c179e"
                          ],
                          [
                            0.4444444444444444,
                            "#bd3786"
                          ],
                          [
                            0.5555555555555556,
                            "#d8576b"
                          ],
                          [
                            0.6666666666666666,
                            "#ed7953"
                          ],
                          [
                            0.7777777777777778,
                            "#fb9f3a"
                          ],
                          [
                            0.8888888888888888,
                            "#fdca26"
                          ],
                          [
                            1,
                            "#f0f921"
                          ]
                        ],
                        "type": "contour"
                      }
                    ],
                    "contourcarpet": [
                      {
                        "colorbar": {
                          "outlinewidth": 0,
                          "ticks": ""
                        },
                        "type": "contourcarpet"
                      }
                    ],
                    "heatmap": [
                      {
                        "colorbar": {
                          "outlinewidth": 0,
                          "ticks": ""
                        },
                        "colorscale": [
                          [
                            0,
                            "#0d0887"
                          ],
                          [
                            0.1111111111111111,
                            "#46039f"
                          ],
                          [
                            0.2222222222222222,
                            "#7201a8"
                          ],
                          [
                            0.3333333333333333,
                            "#9c179e"
                          ],
                          [
                            0.4444444444444444,
                            "#bd3786"
                          ],
                          [
                            0.5555555555555556,
                            "#d8576b"
                          ],
                          [
                            0.6666666666666666,
                            "#ed7953"
                          ],
                          [
                            0.7777777777777778,
                            "#fb9f3a"
                          ],
                          [
                            0.8888888888888888,
                            "#fdca26"
                          ],
                          [
                            1,
                            "#f0f921"
                          ]
                        ],
                        "type": "heatmap"
                      }
                    ],
                    "histogram": [
                      {
                        "marker": {
                          "pattern": {
                            "fillmode": "overlay",
                            "size": 10,
                            "solidity": 0.2
                          }
                        },
                        "type": "histogram"
                      }
                    ],
                    "histogram2d": [
                      {
                        "colorbar": {
                          "outlinewidth": 0,
                          "ticks": ""
                        },
                        "colorscale": [
                          [
                            0,
                            "#0d0887"
                          ],
                          [
                            0.1111111111111111,
                            "#46039f"
                          ],
                          [
                            0.2222222222222222,
                            "#7201a8"
                          ],
                          [
                            0.3333333333333333,
                            "#9c179e"
                          ],
                          [
                            0.4444444444444444,
                            "#bd3786"
                          ],
                          [
                            0.5555555555555556,
                            "#d8576b"
                          ],
                          [
                            0.6666666666666666,
                            "#ed7953"
                          ],
                          [
                            0.7777777777777778,
                            "#fb9f3a"
                          ],
                          [
                            0.8888888888888888,
                            "#fdca26"
                          ],
                          [
                            1,
                            "#f0f921"
                          ]
                        ],
                        "type": "histogram2d"
                      }
                    ],
                    "histogram2dcontour": [
                      {
                        "colorbar": {
                          "outlinewidth": 0,
                          "ticks": ""
                        },
                        "colorscale": [
                          [
                            0,
                            "#0d0887"
                          ],
                          [
                            0.1111111111111111,
                            "#46039f"
                          ],
                          [
                            0.2222222222222222,
                            "#7201a8"
                          ],
                          [
                            0.3333333333333333,
                            "#9c179e"
                          ],
                          [
                            0.4444444444444444,
                            "#bd3786"
                          ],
                          [
                            0.5555555555555556,
                            "#d8576b"
                          ],
                          [
                            0.6666666666666666,
                            "#ed7953"
                          ],
                          [
                            0.7777777777777778,
                            "#fb9f3a"
                          ],
                          [
                            0.8888888888888888,
                            "#fdca26"
                          ],
                          [
                            1,
                            "#f0f921"
                          ]
                        ],
                        "type": "histogram2dcontour"
                      }
                    ],
                    "mesh3d": [
                      {
                        "colorbar": {
                          "outlinewidth": 0,
                          "ticks": ""
                        },
                        "type": "mesh3d"
                      }
                    ],
                    "parcoords": [
                      {
                        "line": {
                          "colorbar": {
                            "outlinewidth": 0,
                            "ticks": ""
                          }
                        },
                        "type": "parcoords"
                      }
                    ],
                    "pie": [
                      {
                        "automargin": true,
                        "type": "pie"
                      }
                    ],
                    "scatter": [
                      {
                        "fillpattern": {
                          "fillmode": "overlay",
                          "size": 10,
                          "solidity": 0.2
                        },
                        "type": "scatter"
                      }
                    ],
                    "scatter3d": [
                      {
                        "line": {
                          "colorbar": {
                            "outlinewidth": 0,
                            "ticks": ""
                          }
                        },
                        "marker": {
                          "colorbar": {
                            "outlinewidth": 0,
                            "ticks": ""
                          }
                        },
                        "type": "scatter3d"
                      }
                    ],
                    "scattercarpet": [
                      {
                        "marker": {
                          "colorbar": {
                            "outlinewidth": 0,
                            "ticks": ""
                          }
                        },
                        "type": "scattercarpet"
                      }
                    ],
                    "scattergeo": [
                      {
                        "marker": {
                          "colorbar": {
                            "outlinewidth": 0,
                            "ticks": ""
                          }
                        },
                        "type": "scattergeo"
                      }
                    ],
                    "scattergl": [
                      {
                        "marker": {
                          "colorbar": {
                            "outlinewidth": 0,
                            "ticks": ""
                          }
                        },
                        "type": "scattergl"
                      }
                    ],
                    "scattermap": [
                      {
                        "marker": {
                          "colorbar": {
                            "outlinewidth": 0,
                            "ticks": ""
                          }
                        },
                        "type": "scattermap"
                      }
                    ],
                    "scattermapbox": [
                      {
                        "marker": {
                          "colorbar": {
                            "outlinewidth": 0,
                            "ticks": ""
                          }
                        },
                        "type": "scattermapbox"
                      }
                    ],
                    "scatterpolar": [
                      {
                        "marker": {
                          "colorbar": {
                            "outlinewidth": 0,
                            "ticks": ""
                          }
                        },
                        "type": "scatterpolar"
                      }
                    ],
                    "scatterpolargl": [
                      {
                        "marker": {
                          "colorbar": {
                            "outlinewidth": 0,
                            "ticks": ""
                          }
                        },
                        "type": "scatterpolargl"
                      }
                    ],
                    "scatterternary": [
                      {
                        "marker": {
                          "colorbar": {
                            "outlinewidth": 0,
                            "ticks": ""
                          }
                        },
                        "type": "scatterternary"
                      }
                    ],
                    "surface": [
                      {
                        "colorbar": {
                          "outlinewidth": 0,
                          "ticks": ""
                        },
                        "colorscale": [
                          [
                            0,
                            "#0d0887"
                          ],
                          [
                            0.1111111111111111,
                            "#46039f"
                          ],
                          [
                            0.2222222222222222,
                            "#7201a8"
                          ],
                          [
                            0.3333333333333333,
                            "#9c179e"
                          ],
                          [
                            0.4444444444444444,
                            "#bd3786"
                          ],
                          [
                            0.5555555555555556,
                            "#d8576b"
                          ],
                          [
                            0.6666666666666666,
                            "#ed7953"
                          ],
                          [
                            0.7777777777777778,
                            "#fb9f3a"
                          ],
                          [
                            0.8888888888888888,
                            "#fdca26"
                          ],
                          [
                            1,
                            "#f0f921"
                          ]
                        ],
                        "type": "surface"
                      }
                    ],
                    "table": [
                      {
                        "cells": {
                          "fill": {
                            "color": "#EBF0F8"
                          },
                          "line": {
                            "color": "white"
                          }
                        },
                        "header": {
                          "fill": {
                            "color": "#C8D4E3"
                          },
                          "line": {
                            "color": "white"
                          }
                        },
                        "type": "table"
                      }
                    ]
                  },
                  "layout": {
                    "annotationdefaults": {
                      "arrowcolor": "#2a3f5f",
                      "arrowhead": 0,
                      "arrowwidth": 1
                    },
                    "autotypenumbers": "strict",
                    "coloraxis": {
                      "colorbar": {
                        "outlinewidth": 0,
                        "ticks": ""
                      }
                    },
                    "colorscale": {
                      "diverging": [
                        [
                          0,
                          "#8e0152"
                        ],
                        [
                          0.1,
                          "#c51b7d"
                        ],
                        [
                          0.2,
                          "#de77ae"
                        ],
                        [
                          0.3,
                          "#f1b6da"
                        ],
                        [
                          0.4,
                          "#fde0ef"
                        ],
                        [
                          0.5,
                          "#f7f7f7"
                        ],
                        [
                          0.6,
                          "#e6f5d0"
                        ],
                        [
                          0.7,
                          "#b8e186"
                        ],
                        [
                          0.8,
                          "#7fbc41"
                        ],
                        [
                          0.9,
                          "#4d9221"
                        ],
                        [
                          1,
                          "#276419"
                        ]
                      ],
                      "sequential": [
                        [
                          0,
                          "#0d0887"
                        ],
                        [
                          0.1111111111111111,
                          "#46039f"
                        ],
                        [
                          0.2222222222222222,
                          "#7201a8"
                        ],
                        [
                          0.3333333333333333,
                          "#9c179e"
                        ],
                        [
                          0.4444444444444444,
                          "#bd3786"
                        ],
                        [
                          0.5555555555555556,
                          "#d8576b"
                        ],
                        [
                          0.6666666666666666,
                          "#ed7953"
                        ],
                        [
                          0.7777777777777778,
                          "#fb9f3a"
                        ],
                        [
                          0.8888888888888888,
                          "#fdca26"
                        ],
                        [
                          1,
                          "#f0f921"
                        ]
                      ],
                      "sequentialminus": [
                        [
                          0,
                          "#0d0887"
                        ],
                        [
                          0.1111111111111111,
                          "#46039f"
                        ],
                        [
                          0.2222222222222222,
                          "#7201a8"
                        ],
                        [
                          0.3333333333333333,
                          "#9c179e"
                        ],
                        [
                          0.4444444444444444,
                          "#bd3786"
                        ],
                        [
                          0.5555555555555556,
                          "#d8576b"
                        ],
                        [
                          0.6666666666666666,
                          "#ed7953"
                        ],
                        [
                          0.7777777777777778,
                          "#fb9f3a"
                        ],
                        [
                          0.8888888888888888,
                          "#fdca26"
                        ],
                        [
                          1,
                          "#f0f921"
                        ]
                      ]
                    },
                    "colorway": [
                      "#636efa",
                      "#EF553B",
                      "#00cc96",
                      "#ab63fa",
                      "#FFA15A",
                      "#19d3f3",
                      "#FF6692",
                      "#B6E880",
                      "#FF97FF",
                      "#FECB52"
                    ],
                    "font": {
                      "color": "#2a3f5f"
                    },
                    "geo": {
                      "bgcolor": "white",
                      "lakecolor": "white",
                      "landcolor": "#E5ECF6",
                      "showlakes": true,
                      "showland": true,
                      "subunitcolor": "white"
                    },
                    "hoverlabel": {
                      "align": "left"
                    },
                    "hovermode": "closest",
                    "mapbox": {
                      "style": "light"
                    },
                    "paper_bgcolor": "white",
                    "plot_bgcolor": "#E5ECF6",
                    "polar": {
                      "angularaxis": {
                        "gridcolor": "white",
                        "linecolor": "white",
                        "ticks": ""
                      },
                      "bgcolor": "#E5ECF6",
                      "radialaxis": {
                        "gridcolor": "white",
                        "linecolor": "white",
                        "ticks": ""
                      }
                    },
                    "scene": {
                      "xaxis": {
                        "backgroundcolor": "#E5ECF6",
                        "gridcolor": "white",
                        "gridwidth": 2,
                        "linecolor": "white",
                        "showbackground": true,
                        "ticks": "",
                        "zerolinecolor": "white"
                      },
                      "yaxis": {
                        "backgroundcolor": "#E5ECF6",
                        "gridcolor": "white",
                        "gridwidth": 2,
                        "linecolor": "white",
                        "showbackground": true,
                        "ticks": "",
                        "zerolinecolor": "white"
                      },
                      "zaxis": {
                        "backgroundcolor": "#E5ECF6",
                        "gridcolor": "white",
                        "gridwidth": 2,
                        "linecolor": "white",
                        "showbackground": true,
                        "ticks": "",
                        "zerolinecolor": "white"
                      }
                    },
                    "shapedefaults": {
                      "line": {
                        "color": "#2a3f5f"
                      }
                    },
                    "ternary": {
                      "aaxis": {
                        "gridcolor": "white",
                        "linecolor": "white",
                        "ticks": ""
                      },
                      "baxis": {
                        "gridcolor": "white",
                        "linecolor": "white",
                        "ticks": ""
                      },
                      "bgcolor": "#E5ECF6",
                      "caxis": {
                        "gridcolor": "white",
                        "linecolor": "white",
                        "ticks": ""
                      }
                    },
                    "title": {
                      "x": 0.05
                    },
                    "xaxis": {
                      "automargin": true,
                      "gridcolor": "white",
                      "linecolor": "white",
                      "ticks": "",
                      "title": {
                        "standoff": 15
                      },
                      "zerolinecolor": "white",
                      "zerolinewidth": 2
                    },
                    "yaxis": {
                      "automargin": true,
                      "gridcolor": "white",
                      "linecolor": "white",
                      "ticks": "",
                      "title": {
                        "standoff": 15
                      },
                      "zerolinecolor": "white",
                      "zerolinewidth": 2
                    }
                  }
                },
                "title": {
                  "text": "Sales and Profit Distribution by Region, State, City"
                }
              }
            }
          },
          "metadata": {},
          "output_type": "display_data"
        }
      ],
      "source": [
        "#TREE MAP\n",
        "fig = px.treemap(df,\n",
        "                 path=['Region', 'State', 'City'],\n",
        "                 values='Total Sales',\n",
        "                 color='Operating Profit',\n",
        "                 color_continuous_scale='RdYlGn',\n",
        "                 title='Sales and Profit Distribution by Region, State, City',\n",
        "                 hover_data={'Total Sales':':,.0f', 'Operating Profit':':,.0f'})\n",
        "\n",
        "fig.show()\n"
      ]
    },
    {
      "cell_type": "markdown",
      "metadata": {
        "id": "ot3ndaHyoCCH"
      },
      "source": [
        "# ***PIE CHART***\n",
        "This code creates an interactive pie chart using Plotly Express to visualize the distribution of total sales across different products. The data is first aggregated by product, summing total sales for each. Each slice of the pie represents a product, sized proportionally to its total sales contribution. Inside the slices, the chart displays both the product names and their percentage share of total sales, providing a clear and immediate understanding of each product’s sales importance. Hovering over a slice reveals the exact sales amount, formatted for easy reading. This pie chart offers a simple yet effective way to compare product sales shares within the overall dataset.\n",
        "\n",
        "\n",
        "\n",
        "\n",
        "\n",
        "\n",
        "\n"
      ]
    },
    {
      "cell_type": "code",
      "execution_count": 16,
      "metadata": {
        "colab": {
          "base_uri": "https://localhost:8080/",
          "height": 542
        },
        "id": "rfWA-fhDUKGx",
        "outputId": "33845962-35f1-497e-c88e-3536695f519a"
      },
      "outputs": [
        {
          "data": {
            "application/vnd.plotly.v1+json": {
              "config": {
                "plotlyServerURL": "https://plot.ly"
              },
              "data": [
                {
                  "customdata": {
                    "bdata": "AAAA4Mt/nUEBAACgv1GiQQAAAAjf5KhBAAAAGNVXpUEAAABgS2yZQQEAAPSrhJ5B",
                    "dtype": "f8",
                    "shape": "6, 1"
                  },
                  "domain": {
                    "x": [
                      0,
                      1
                    ],
                    "y": [
                      0,
                      1
                    ]
                  },
                  "hovertemplate": "Product=%{label}<br>Sales Amount=%{customdata[0]}<extra></extra>",
                  "labels": [
                    "Men's Apparel",
                    "Men's Athletic Footwear",
                    "Men's Street Footwear",
                    "Women's Apparel",
                    "Women's Athletic Footwear",
                    "Women's Street Footwear"
                  ],
                  "legendgroup": "",
                  "name": "",
                  "showlegend": true,
                  "textinfo": "percent+label",
                  "textposition": "inside",
                  "type": "pie",
                  "values": {
                    "bdata": "AAAA4Mt/nUEBAACgv1GiQQAAAAjf5KhBAAAAGNVXpUEAAABgS2yZQQEAAPSrhJ5B",
                    "dtype": "f8"
                  }
                }
              ],
              "layout": {
                "legend": {
                  "tracegroupgap": 0
                },
                "template": {
                  "data": {
                    "bar": [
                      {
                        "error_x": {
                          "color": "#2a3f5f"
                        },
                        "error_y": {
                          "color": "#2a3f5f"
                        },
                        "marker": {
                          "line": {
                            "color": "#E5ECF6",
                            "width": 0.5
                          },
                          "pattern": {
                            "fillmode": "overlay",
                            "size": 10,
                            "solidity": 0.2
                          }
                        },
                        "type": "bar"
                      }
                    ],
                    "barpolar": [
                      {
                        "marker": {
                          "line": {
                            "color": "#E5ECF6",
                            "width": 0.5
                          },
                          "pattern": {
                            "fillmode": "overlay",
                            "size": 10,
                            "solidity": 0.2
                          }
                        },
                        "type": "barpolar"
                      }
                    ],
                    "carpet": [
                      {
                        "aaxis": {
                          "endlinecolor": "#2a3f5f",
                          "gridcolor": "white",
                          "linecolor": "white",
                          "minorgridcolor": "white",
                          "startlinecolor": "#2a3f5f"
                        },
                        "baxis": {
                          "endlinecolor": "#2a3f5f",
                          "gridcolor": "white",
                          "linecolor": "white",
                          "minorgridcolor": "white",
                          "startlinecolor": "#2a3f5f"
                        },
                        "type": "carpet"
                      }
                    ],
                    "choropleth": [
                      {
                        "colorbar": {
                          "outlinewidth": 0,
                          "ticks": ""
                        },
                        "type": "choropleth"
                      }
                    ],
                    "contour": [
                      {
                        "colorbar": {
                          "outlinewidth": 0,
                          "ticks": ""
                        },
                        "colorscale": [
                          [
                            0,
                            "#0d0887"
                          ],
                          [
                            0.1111111111111111,
                            "#46039f"
                          ],
                          [
                            0.2222222222222222,
                            "#7201a8"
                          ],
                          [
                            0.3333333333333333,
                            "#9c179e"
                          ],
                          [
                            0.4444444444444444,
                            "#bd3786"
                          ],
                          [
                            0.5555555555555556,
                            "#d8576b"
                          ],
                          [
                            0.6666666666666666,
                            "#ed7953"
                          ],
                          [
                            0.7777777777777778,
                            "#fb9f3a"
                          ],
                          [
                            0.8888888888888888,
                            "#fdca26"
                          ],
                          [
                            1,
                            "#f0f921"
                          ]
                        ],
                        "type": "contour"
                      }
                    ],
                    "contourcarpet": [
                      {
                        "colorbar": {
                          "outlinewidth": 0,
                          "ticks": ""
                        },
                        "type": "contourcarpet"
                      }
                    ],
                    "heatmap": [
                      {
                        "colorbar": {
                          "outlinewidth": 0,
                          "ticks": ""
                        },
                        "colorscale": [
                          [
                            0,
                            "#0d0887"
                          ],
                          [
                            0.1111111111111111,
                            "#46039f"
                          ],
                          [
                            0.2222222222222222,
                            "#7201a8"
                          ],
                          [
                            0.3333333333333333,
                            "#9c179e"
                          ],
                          [
                            0.4444444444444444,
                            "#bd3786"
                          ],
                          [
                            0.5555555555555556,
                            "#d8576b"
                          ],
                          [
                            0.6666666666666666,
                            "#ed7953"
                          ],
                          [
                            0.7777777777777778,
                            "#fb9f3a"
                          ],
                          [
                            0.8888888888888888,
                            "#fdca26"
                          ],
                          [
                            1,
                            "#f0f921"
                          ]
                        ],
                        "type": "heatmap"
                      }
                    ],
                    "histogram": [
                      {
                        "marker": {
                          "pattern": {
                            "fillmode": "overlay",
                            "size": 10,
                            "solidity": 0.2
                          }
                        },
                        "type": "histogram"
                      }
                    ],
                    "histogram2d": [
                      {
                        "colorbar": {
                          "outlinewidth": 0,
                          "ticks": ""
                        },
                        "colorscale": [
                          [
                            0,
                            "#0d0887"
                          ],
                          [
                            0.1111111111111111,
                            "#46039f"
                          ],
                          [
                            0.2222222222222222,
                            "#7201a8"
                          ],
                          [
                            0.3333333333333333,
                            "#9c179e"
                          ],
                          [
                            0.4444444444444444,
                            "#bd3786"
                          ],
                          [
                            0.5555555555555556,
                            "#d8576b"
                          ],
                          [
                            0.6666666666666666,
                            "#ed7953"
                          ],
                          [
                            0.7777777777777778,
                            "#fb9f3a"
                          ],
                          [
                            0.8888888888888888,
                            "#fdca26"
                          ],
                          [
                            1,
                            "#f0f921"
                          ]
                        ],
                        "type": "histogram2d"
                      }
                    ],
                    "histogram2dcontour": [
                      {
                        "colorbar": {
                          "outlinewidth": 0,
                          "ticks": ""
                        },
                        "colorscale": [
                          [
                            0,
                            "#0d0887"
                          ],
                          [
                            0.1111111111111111,
                            "#46039f"
                          ],
                          [
                            0.2222222222222222,
                            "#7201a8"
                          ],
                          [
                            0.3333333333333333,
                            "#9c179e"
                          ],
                          [
                            0.4444444444444444,
                            "#bd3786"
                          ],
                          [
                            0.5555555555555556,
                            "#d8576b"
                          ],
                          [
                            0.6666666666666666,
                            "#ed7953"
                          ],
                          [
                            0.7777777777777778,
                            "#fb9f3a"
                          ],
                          [
                            0.8888888888888888,
                            "#fdca26"
                          ],
                          [
                            1,
                            "#f0f921"
                          ]
                        ],
                        "type": "histogram2dcontour"
                      }
                    ],
                    "mesh3d": [
                      {
                        "colorbar": {
                          "outlinewidth": 0,
                          "ticks": ""
                        },
                        "type": "mesh3d"
                      }
                    ],
                    "parcoords": [
                      {
                        "line": {
                          "colorbar": {
                            "outlinewidth": 0,
                            "ticks": ""
                          }
                        },
                        "type": "parcoords"
                      }
                    ],
                    "pie": [
                      {
                        "automargin": true,
                        "type": "pie"
                      }
                    ],
                    "scatter": [
                      {
                        "fillpattern": {
                          "fillmode": "overlay",
                          "size": 10,
                          "solidity": 0.2
                        },
                        "type": "scatter"
                      }
                    ],
                    "scatter3d": [
                      {
                        "line": {
                          "colorbar": {
                            "outlinewidth": 0,
                            "ticks": ""
                          }
                        },
                        "marker": {
                          "colorbar": {
                            "outlinewidth": 0,
                            "ticks": ""
                          }
                        },
                        "type": "scatter3d"
                      }
                    ],
                    "scattercarpet": [
                      {
                        "marker": {
                          "colorbar": {
                            "outlinewidth": 0,
                            "ticks": ""
                          }
                        },
                        "type": "scattercarpet"
                      }
                    ],
                    "scattergeo": [
                      {
                        "marker": {
                          "colorbar": {
                            "outlinewidth": 0,
                            "ticks": ""
                          }
                        },
                        "type": "scattergeo"
                      }
                    ],
                    "scattergl": [
                      {
                        "marker": {
                          "colorbar": {
                            "outlinewidth": 0,
                            "ticks": ""
                          }
                        },
                        "type": "scattergl"
                      }
                    ],
                    "scattermap": [
                      {
                        "marker": {
                          "colorbar": {
                            "outlinewidth": 0,
                            "ticks": ""
                          }
                        },
                        "type": "scattermap"
                      }
                    ],
                    "scattermapbox": [
                      {
                        "marker": {
                          "colorbar": {
                            "outlinewidth": 0,
                            "ticks": ""
                          }
                        },
                        "type": "scattermapbox"
                      }
                    ],
                    "scatterpolar": [
                      {
                        "marker": {
                          "colorbar": {
                            "outlinewidth": 0,
                            "ticks": ""
                          }
                        },
                        "type": "scatterpolar"
                      }
                    ],
                    "scatterpolargl": [
                      {
                        "marker": {
                          "colorbar": {
                            "outlinewidth": 0,
                            "ticks": ""
                          }
                        },
                        "type": "scatterpolargl"
                      }
                    ],
                    "scatterternary": [
                      {
                        "marker": {
                          "colorbar": {
                            "outlinewidth": 0,
                            "ticks": ""
                          }
                        },
                        "type": "scatterternary"
                      }
                    ],
                    "surface": [
                      {
                        "colorbar": {
                          "outlinewidth": 0,
                          "ticks": ""
                        },
                        "colorscale": [
                          [
                            0,
                            "#0d0887"
                          ],
                          [
                            0.1111111111111111,
                            "#46039f"
                          ],
                          [
                            0.2222222222222222,
                            "#7201a8"
                          ],
                          [
                            0.3333333333333333,
                            "#9c179e"
                          ],
                          [
                            0.4444444444444444,
                            "#bd3786"
                          ],
                          [
                            0.5555555555555556,
                            "#d8576b"
                          ],
                          [
                            0.6666666666666666,
                            "#ed7953"
                          ],
                          [
                            0.7777777777777778,
                            "#fb9f3a"
                          ],
                          [
                            0.8888888888888888,
                            "#fdca26"
                          ],
                          [
                            1,
                            "#f0f921"
                          ]
                        ],
                        "type": "surface"
                      }
                    ],
                    "table": [
                      {
                        "cells": {
                          "fill": {
                            "color": "#EBF0F8"
                          },
                          "line": {
                            "color": "white"
                          }
                        },
                        "header": {
                          "fill": {
                            "color": "#C8D4E3"
                          },
                          "line": {
                            "color": "white"
                          }
                        },
                        "type": "table"
                      }
                    ]
                  },
                  "layout": {
                    "annotationdefaults": {
                      "arrowcolor": "#2a3f5f",
                      "arrowhead": 0,
                      "arrowwidth": 1
                    },
                    "autotypenumbers": "strict",
                    "coloraxis": {
                      "colorbar": {
                        "outlinewidth": 0,
                        "ticks": ""
                      }
                    },
                    "colorscale": {
                      "diverging": [
                        [
                          0,
                          "#8e0152"
                        ],
                        [
                          0.1,
                          "#c51b7d"
                        ],
                        [
                          0.2,
                          "#de77ae"
                        ],
                        [
                          0.3,
                          "#f1b6da"
                        ],
                        [
                          0.4,
                          "#fde0ef"
                        ],
                        [
                          0.5,
                          "#f7f7f7"
                        ],
                        [
                          0.6,
                          "#e6f5d0"
                        ],
                        [
                          0.7,
                          "#b8e186"
                        ],
                        [
                          0.8,
                          "#7fbc41"
                        ],
                        [
                          0.9,
                          "#4d9221"
                        ],
                        [
                          1,
                          "#276419"
                        ]
                      ],
                      "sequential": [
                        [
                          0,
                          "#0d0887"
                        ],
                        [
                          0.1111111111111111,
                          "#46039f"
                        ],
                        [
                          0.2222222222222222,
                          "#7201a8"
                        ],
                        [
                          0.3333333333333333,
                          "#9c179e"
                        ],
                        [
                          0.4444444444444444,
                          "#bd3786"
                        ],
                        [
                          0.5555555555555556,
                          "#d8576b"
                        ],
                        [
                          0.6666666666666666,
                          "#ed7953"
                        ],
                        [
                          0.7777777777777778,
                          "#fb9f3a"
                        ],
                        [
                          0.8888888888888888,
                          "#fdca26"
                        ],
                        [
                          1,
                          "#f0f921"
                        ]
                      ],
                      "sequentialminus": [
                        [
                          0,
                          "#0d0887"
                        ],
                        [
                          0.1111111111111111,
                          "#46039f"
                        ],
                        [
                          0.2222222222222222,
                          "#7201a8"
                        ],
                        [
                          0.3333333333333333,
                          "#9c179e"
                        ],
                        [
                          0.4444444444444444,
                          "#bd3786"
                        ],
                        [
                          0.5555555555555556,
                          "#d8576b"
                        ],
                        [
                          0.6666666666666666,
                          "#ed7953"
                        ],
                        [
                          0.7777777777777778,
                          "#fb9f3a"
                        ],
                        [
                          0.8888888888888888,
                          "#fdca26"
                        ],
                        [
                          1,
                          "#f0f921"
                        ]
                      ]
                    },
                    "colorway": [
                      "#636efa",
                      "#EF553B",
                      "#00cc96",
                      "#ab63fa",
                      "#FFA15A",
                      "#19d3f3",
                      "#FF6692",
                      "#B6E880",
                      "#FF97FF",
                      "#FECB52"
                    ],
                    "font": {
                      "color": "#2a3f5f"
                    },
                    "geo": {
                      "bgcolor": "white",
                      "lakecolor": "white",
                      "landcolor": "#E5ECF6",
                      "showlakes": true,
                      "showland": true,
                      "subunitcolor": "white"
                    },
                    "hoverlabel": {
                      "align": "left"
                    },
                    "hovermode": "closest",
                    "mapbox": {
                      "style": "light"
                    },
                    "paper_bgcolor": "white",
                    "plot_bgcolor": "#E5ECF6",
                    "polar": {
                      "angularaxis": {
                        "gridcolor": "white",
                        "linecolor": "white",
                        "ticks": ""
                      },
                      "bgcolor": "#E5ECF6",
                      "radialaxis": {
                        "gridcolor": "white",
                        "linecolor": "white",
                        "ticks": ""
                      }
                    },
                    "scene": {
                      "xaxis": {
                        "backgroundcolor": "#E5ECF6",
                        "gridcolor": "white",
                        "gridwidth": 2,
                        "linecolor": "white",
                        "showbackground": true,
                        "ticks": "",
                        "zerolinecolor": "white"
                      },
                      "yaxis": {
                        "backgroundcolor": "#E5ECF6",
                        "gridcolor": "white",
                        "gridwidth": 2,
                        "linecolor": "white",
                        "showbackground": true,
                        "ticks": "",
                        "zerolinecolor": "white"
                      },
                      "zaxis": {
                        "backgroundcolor": "#E5ECF6",
                        "gridcolor": "white",
                        "gridwidth": 2,
                        "linecolor": "white",
                        "showbackground": true,
                        "ticks": "",
                        "zerolinecolor": "white"
                      }
                    },
                    "shapedefaults": {
                      "line": {
                        "color": "#2a3f5f"
                      }
                    },
                    "ternary": {
                      "aaxis": {
                        "gridcolor": "white",
                        "linecolor": "white",
                        "ticks": ""
                      },
                      "baxis": {
                        "gridcolor": "white",
                        "linecolor": "white",
                        "ticks": ""
                      },
                      "bgcolor": "#E5ECF6",
                      "caxis": {
                        "gridcolor": "white",
                        "linecolor": "white",
                        "ticks": ""
                      }
                    },
                    "title": {
                      "x": 0.05
                    },
                    "xaxis": {
                      "automargin": true,
                      "gridcolor": "white",
                      "linecolor": "white",
                      "ticks": "",
                      "title": {
                        "standoff": 15
                      },
                      "zerolinecolor": "white",
                      "zerolinewidth": 2
                    },
                    "yaxis": {
                      "automargin": true,
                      "gridcolor": "white",
                      "linecolor": "white",
                      "ticks": "",
                      "title": {
                        "standoff": 15
                      },
                      "zerolinecolor": "white",
                      "zerolinewidth": 2
                    }
                  }
                },
                "title": {
                  "text": "Sales Distribution by Product"
                }
              }
            }
          },
          "metadata": {},
          "output_type": "display_data"
        }
      ],
      "source": [
        "#PIE CHART\n",
        "import plotly.express as px\n",
        "# Aggregate total sales by Product\n",
        "product_sales = df.groupby('Product')['Total Sales'].sum().reset_index()\n",
        "\n",
        "fig = px.pie(product_sales,\n",
        "             names='Product',\n",
        "             values='Total Sales',\n",
        "             title='Sales Distribution by Product',\n",
        "             hover_data=['Total Sales'],\n",
        "             labels={'Total Sales':'Sales Amount'})\n",
        "\n",
        "fig.update_traces(textposition='inside', textinfo='percent+label')\n",
        "fig.show()"
      ]
    }
  ],
  "metadata": {
    "colab": {
      "provenance": []
    },
    "kernelspec": {
      "display_name": "Python 3",
      "name": "python3"
    },
    "language_info": {
      "codemirror_mode": {
        "name": "ipython",
        "version": 3
      },
      "file_extension": ".py",
      "mimetype": "text/x-python",
      "name": "python",
      "nbconvert_exporter": "python",
      "pygments_lexer": "ipython3",
      "version": "3.12.2"
    }
  },
  "nbformat": 4,
  "nbformat_minor": 0
}
